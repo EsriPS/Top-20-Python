{
 "cells": [
  {
   "cell_type": "markdown",
   "id": "d90606fd",
   "metadata": {},
   "source": [
    "# Tutorial 02-01 - Script Flow Basics"
   ]
  },
  {
   "cell_type": "markdown",
   "id": "500fcf36",
   "metadata": {},
   "source": [
    "Our colleagues at GeoNinjas PythonAnalytics have been receiving some data that they're struggling with.  The data they're getting is in a complex JSON structure and they're hoping we can help them navigate that structure and sort through the results.\n",
    "\n",
    "We'll get to the actual JSON parsing in the next tutorial, but let's cover some basics of script flow here.  These foundational ideas will help us when we get into more complex data structures."
   ]
  },
  {
   "cell_type": "markdown",
   "id": "285503af",
   "metadata": {
    "heading_collapsed": true
   },
   "source": [
    "#### 1. Explore if/else logic"
   ]
  },
  {
   "cell_type": "markdown",
   "id": "8507ba74",
   "metadata": {
    "hidden": true
   },
   "source": [
    "When we're writing Python scripts, we'll often need to use some conditional logic.  The most commonly used flow operator in Python for this use-case is the if/else block.  \n",
    "\n",
    "Let's pick a logical test we can use to explore if/else logic.  The modulus (%) operator in Python gives us the remainder of a divison operation.  For example, the modulus remainder of 4 divided by 2 would be 0, so `4 % 2` would give us a result of `0`.  The remainder of 3 divided by 2, however, would be 1, so `3 % 2` would give us a result of `1`.  We can use this as a simple test of whether a number is even.  This is a good simple example we can use to explore script flow."
   ]
  },
  {
   "cell_type": "code",
   "execution_count": 3,
   "id": "71f778ca",
   "metadata": {
    "hidden": true
   },
   "outputs": [
    {
     "data": {
      "text/plain": [
       "True"
      ]
     },
     "execution_count": 3,
     "metadata": {},
     "output_type": "execute_result"
    }
   ],
   "source": [
    "# set a number\n",
    "number = 8\n",
    "\n",
    "# use the modulus operator\n",
    "number % 2 == 0"
   ]
  },
  {
   "cell_type": "markdown",
   "id": "1f872b9c",
   "metadata": {
    "hidden": true
   },
   "source": [
    "Now, let's use if/else logic to execute different code based on the result of our logical test.  Note that the indented code blocks only execute if the logical test in their clause is true."
   ]
  },
  {
   "cell_type": "code",
   "execution_count": null,
   "id": "dc68a138",
   "metadata": {
    "hidden": true
   },
   "outputs": [],
   "source": [
    "\n",
    "# set a number\n",
    "number = 8\n",
    "\n",
    "# check if the number is even\n",
    "if number % 2 == 0:\n",
    "\n",
    "    # print a message only if the number is even\n",
    "    print('this is even')\n",
    "\n",
    "# print a message only if the number is odd\n",
    "else:\n",
    "    print('this is odd')"
   ]
  },
  {
   "cell_type": "markdown",
   "id": "898217dc",
   "metadata": {
    "hidden": true
   },
   "source": [
    "This is great for script logic control, but we can make it even more nuanced.  Our even/odd logic holds true for almost all numbers, but what about *0*?  We can add another logical test clause to cover this condition as well.  This is where we'll introduce **elif**.  We can have multiple conditions that will be evaluated in order.  In our case, if a number doesn't meet the first condition, we can check another in sequential order.  We move on that way through our script until we get to the *else* condition."
   ]
  },
  {
   "cell_type": "code",
   "execution_count": 9,
   "id": "9aad04ae",
   "metadata": {
    "hidden": true
   },
   "outputs": [
    {
     "name": "stdout",
     "output_type": "stream",
     "text": [
      "this is odd\n"
     ]
    }
   ],
   "source": [
    "\n",
    "# set a number\n",
    "number = 7\n",
    "\n",
    "# first condition to check for zeroes\n",
    "if number == 0:\n",
    "    \n",
    "    print('this is zero')\n",
    "    \n",
    "# check if the number is even\n",
    "elif number % 2 == 0:\n",
    "\n",
    "    # print a message only if the number is even\n",
    "    print('this is even')\n",
    "\n",
    "# print a message only if the number is odd\n",
    "else:\n",
    "    print('this is odd')"
   ]
  },
  {
   "cell_type": "markdown",
   "id": "2c449abd",
   "metadata": {},
   "source": [
    "#### 2. Create a function"
   ]
  },
  {
   "cell_type": "markdown",
   "id": "f1ffbdf2",
   "metadata": {},
   "source": [
    "Now that we've defined some useful logic, let's assume we might want to reuse that logic later.  Creating a **function** is a great way to compartmentalize that logic and make it reusable.  It also becomes a self-contained chunk of code that you can copy and use elsewhere."
   ]
  },
  {
   "cell_type": "markdown",
   "id": "eae64005",
   "metadata": {},
   "source": []
  },
  {
   "cell_type": "code",
   "execution_count": 10,
   "id": "4f648b41",
   "metadata": {},
   "outputs": [],
   "source": [
    "def even_odd(number):\n",
    "\n",
    "    if number == 0:\n",
    "        return('this is zero')\n",
    "        \n",
    "    elif number % 2 == 0:\n",
    "        return('this is even')\n",
    "\n",
    "    else:\n",
    "        return('this is odd')"
   ]
  },
  {
   "cell_type": "markdown",
   "id": "3a6262a5",
   "metadata": {
    "heading_collapsed": true
   },
   "source": [
    "#### 2. Use a for loop."
   ]
  },
  {
   "cell_type": "markdown",
   "id": "7e68dad2",
   "metadata": {
    "hidden": true
   },
   "source": [
    "Now let's take that simplified logic and apply it to multiple inputs.  We'll use a Python **list** and iterate through each item in that list.  To do this, we'll use a **for** loop.  When we do this, we're creating a new variable that represents each item in the loop as we iterate.  In our case, the new variable is called *number*. "
   ]
  },
  {
   "cell_type": "code",
   "execution_count": 5,
   "id": "31b20f56",
   "metadata": {
    "hidden": true
   },
   "outputs": [
    {
     "name": "stdout",
     "output_type": "stream",
     "text": [
      "0\n",
      "1\n",
      "2\n",
      "3\n",
      "4\n",
      "5\n",
      "6\n",
      "7\n",
      "8\n",
      "9\n",
      "10\n"
     ]
    }
   ],
   "source": [
    "# create a list\n",
    "list_of_numbers = [0,1,2,3,4,5,6,7,8,9,10]\n",
    "\n",
    "# iterate through each item in that list\n",
    "for number in list_of_numbers:\n",
    "    print(number)\n"
   ]
  },
  {
   "cell_type": "markdown",
   "id": "d5223953",
   "metadata": {
    "hidden": true
   },
   "source": [
    "Iterating through a list is useful, but we may not want to do the same thing with each item in the list.  We can combine the for loop with our if/else logic and make our script execute different logic based on criteria of the input."
   ]
  },
  {
   "cell_type": "code",
   "execution_count": 6,
   "id": "26bd5ba1",
   "metadata": {
    "hidden": true
   },
   "outputs": [
    {
     "name": "stdout",
     "output_type": "stream",
     "text": [
      "0 is even\n",
      "1 is odd\n",
      "2 is even\n",
      "3 is odd\n",
      "4 is even\n",
      "5 is odd\n",
      "6 is even\n",
      "7 is odd\n",
      "8 is even\n",
      "9 is odd\n",
      "10 is even\n"
     ]
    }
   ],
   "source": [
    "# iterate through the list of numbers\n",
    "for number in list_of_numbers:\n",
    "    \n",
    "    # logical test to see if the number is even\n",
    "    if number % 2 == 0:\n",
    "        \n",
    "        # this code block only executes if the number is even\n",
    "        print(number, 'is even')\n",
    "        \n",
    "    # this executes if the number is not even\n",
    "    else:\n",
    "        \n",
    "        print(number, 'is odd')\n"
   ]
  },
  {
   "cell_type": "code",
   "execution_count": null,
   "id": "cb5df266",
   "metadata": {
    "hidden": true
   },
   "outputs": [],
   "source": []
  }
 ],
 "metadata": {
  "kernelspec": {
   "display_name": "Python 3 (ipykernel)",
   "language": "python",
   "name": "python3"
  },
  "language_info": {
   "codemirror_mode": {
    "name": "ipython",
    "version": 3
   },
   "file_extension": ".py",
   "mimetype": "text/x-python",
   "name": "python",
   "nbconvert_exporter": "python",
   "pygments_lexer": "ipython3",
   "version": "3.9.18"
  }
 },
 "nbformat": 4,
 "nbformat_minor": 5
}
