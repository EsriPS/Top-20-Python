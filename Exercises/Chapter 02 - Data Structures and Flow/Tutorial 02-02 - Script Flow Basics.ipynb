{
 "cells": [
  {
   "cell_type": "markdown",
   "id": "d90606fd",
   "metadata": {},
   "source": [
    "# Tutorial 02-02 - Script Flow Basics"
   ]
  },
  {
   "cell_type": "markdown",
   "id": "500fcf36",
   "metadata": {},
   "source": [
    "Our colleagues at GeoNinjas PythonAnalytics have been receiving some data that they're struggling with.  The data they're getting is in a complex JSON structure and they're hoping we can help them navigate that structure and sort through the results.\n",
    "\n",
    "We'll get to the actual JSON parsing in the next tutorial, but let's cover some basics of script flow here.  These foundational ideas will help us when we get into more complex data structures."
   ]
  },
  {
   "cell_type": "markdown",
   "id": "385c1f67",
   "metadata": {
    "heading_collapsed": true
   },
   "source": [
    "## Explore if/else Logic"
   ]
  },
  {
   "cell_type": "markdown",
   "id": "285503af",
   "metadata": {
    "heading_collapsed": true,
    "hidden": true
   },
   "source": [
    "#### 1. Use the modulus operator."
   ]
  },
  {
   "cell_type": "markdown",
   "id": "8507ba74",
   "metadata": {
    "hidden": true
   },
   "source": [
    "When you're writing Python scripts, you'll often need to use some conditional logic.  The most commonly used flow operator in Python for this use-case is the if/else block.  \n",
    "\n",
    "Let's pick a logical test we can use to explore if/else logic.  The modulus (%) operator in Python gives us the remainder of a divison operation.  For example, the modulus remainder of 4 divided by 2 would be 0, so `4 % 2` would give us a result of `0`.  The remainder of 3 divided by 2, however, would be 1, so `3 % 2` would give us a result of `1`.  We can use this as a simple test of whether a number is even.  This is a good simple example we can use to explore script flow.\n",
    "\n",
    "Execute the following code to use the modulus operator to test if a number is even or not."
   ]
  },
  {
   "cell_type": "code",
   "execution_count": 3,
   "id": "71f778ca",
   "metadata": {
    "hidden": true,
    "scrolled": true
   },
   "outputs": [
    {
     "data": {
      "text/plain": [
       "True"
      ]
     },
     "execution_count": 3,
     "metadata": {},
     "output_type": "execute_result"
    }
   ],
   "source": [
    "# set a number\n",
    "number = 8\n",
    "\n",
    "# use the modulus operator\n",
    "number % 2 == 0"
   ]
  },
  {
   "cell_type": "markdown",
   "id": "07177277",
   "metadata": {
    "heading_collapsed": true,
    "hidden": true
   },
   "source": [
    "#### 2.  Set up a code block using if/else logic"
   ]
  },
  {
   "cell_type": "markdown",
   "id": "1f872b9c",
   "metadata": {
    "hidden": true
   },
   "source": [
    "Now, you use if/else logic to execute different code based on the result of your logical test.  Note that the indented code blocks only execute if the logical test in their clause is true."
   ]
  },
  {
   "cell_type": "code",
   "execution_count": null,
   "id": "dc68a138",
   "metadata": {
    "hidden": true
   },
   "outputs": [],
   "source": [
    "\n",
    "# set a number\n",
    "number = 8\n",
    "\n",
    "# check if the number is even\n",
    "if number % 2 == 0:\n",
    "\n",
    "    # print a message only if the number is even\n",
    "    print('this is even')\n",
    "\n",
    "else:\n",
    "    # execute this code block if the number is NOT even\n",
    "    print('this is odd')"
   ]
  },
  {
   "cell_type": "markdown",
   "id": "96b1ff65",
   "metadata": {
    "heading_collapsed": true,
    "hidden": true
   },
   "source": [
    "#### 3.  Add an elif clause"
   ]
  },
  {
   "cell_type": "markdown",
   "id": "898217dc",
   "metadata": {
    "hidden": true
   },
   "source": [
    "This is great for script logic control, but we can make it even more nuanced.  Our even/odd logic holds true for almost all numbers, but what about *0*?  We can add another logical test clause to cover this condition as well.  This is where we'll introduce **elif**.  We can have multiple conditions that will be evaluated in order.  In our case, if a number doesn't meet the first condition, we can check another in sequential order.  We move on that way through our script until we get to the *else* condition.\n",
    "\n",
    "Use the following code to test whether a number is zero, then test if it's even, then finally execute code if it's odd."
   ]
  },
  {
   "cell_type": "code",
   "execution_count": 9,
   "id": "9aad04ae",
   "metadata": {
    "hidden": true
   },
   "outputs": [
    {
     "name": "stdout",
     "output_type": "stream",
     "text": [
      "this is odd\n"
     ]
    }
   ],
   "source": [
    "\n",
    "# set a number\n",
    "number = 7\n",
    "\n",
    "# first condition to check for zeroes\n",
    "if number == 0:\n",
    "    \n",
    "    print('this is zero')\n",
    "    \n",
    "# check if the number is even\n",
    "elif number % 2 == 0:\n",
    "\n",
    "    # print a message only if the number is even\n",
    "    print('this is even')\n",
    "\n",
    "# print a message only if the number is odd\n",
    "else:\n",
    "    print('this is odd')"
   ]
  },
  {
   "cell_type": "markdown",
   "id": "2c449abd",
   "metadata": {
    "heading_collapsed": true
   },
   "source": [
    "## Create a Function"
   ]
  },
  {
   "cell_type": "markdown",
   "id": "f1ffbdf2",
   "metadata": {
    "hidden": true
   },
   "source": [
    "Now that we've defined some useful logic, let's assume we might want to reuse that logic later.  Creating a **function** is a great way to compartmentalize that logic and make it reusable.  It also becomes a self-contained chunk of code that you can copy and use elsewhere."
   ]
  },
  {
   "cell_type": "markdown",
   "id": "93ea698f",
   "metadata": {
    "heading_collapsed": true,
    "hidden": true
   },
   "source": [
    "#### 1.  Write a function reusing the previous logic"
   ]
  },
  {
   "cell_type": "markdown",
   "id": "95d9af66",
   "metadata": {
    "hidden": true
   },
   "source": [
    "When you write the following code, you're defining a local function that you can use elsewhere.  The `number` variable is a local variable to that function.  Its scope is limited to that function, so if you try to use it outside you'd get an error."
   ]
  },
  {
   "cell_type": "code",
   "execution_count": 3,
   "id": "4f648b41",
   "metadata": {
    "hidden": true
   },
   "outputs": [],
   "source": [
    "def even_odd(number):\n",
    "\n",
    "    if number == 0:\n",
    "        return('this is zero')\n",
    "        \n",
    "    elif number % 2 == 0:\n",
    "        return('this is even')\n",
    "\n",
    "    else:\n",
    "        return('this is odd')"
   ]
  },
  {
   "cell_type": "markdown",
   "id": "3a6262a5",
   "metadata": {
    "heading_collapsed": true
   },
   "source": [
    "## Use a for loop."
   ]
  },
  {
   "cell_type": "markdown",
   "id": "7e68dad2",
   "metadata": {
    "hidden": true
   },
   "source": [
    "Now let's take that simplified logic and apply it to multiple inputs.  We'll use a Python **list** and iterate through each item in that list.  To do this, we'll use a **for** loop.  "
   ]
  },
  {
   "cell_type": "markdown",
   "id": "cea042ef",
   "metadata": {
    "heading_collapsed": true,
    "hidden": true
   },
   "source": [
    "#### 1.  Create a list"
   ]
  },
  {
   "cell_type": "markdown",
   "id": "44745a47",
   "metadata": {
    "hidden": true
   },
   "source": [
    "To use a **for** loop, you'll need an *iterable* data object.  One of the most common iterable data types you'll see in Python is a **list**.  A list is denoted by square brackets.  The items in the list are separated by commas.  In this case, you can define a list of numbers that you can run a logical test on."
   ]
  },
  {
   "cell_type": "code",
   "execution_count": 5,
   "id": "31b20f56",
   "metadata": {
    "hidden": true
   },
   "outputs": [],
   "source": [
    "# create a list\n",
    "list_of_numbers = [0,1,2,3,4,5,6,7,8,9,10]"
   ]
  },
  {
   "cell_type": "markdown",
   "id": "410c1a58",
   "metadata": {
    "heading_collapsed": true,
    "hidden": true
   },
   "source": [
    "#### 2.  Use a **for** loop to iterate through a list"
   ]
  },
  {
   "cell_type": "markdown",
   "id": "18635330",
   "metadata": {
    "hidden": true
   },
   "source": [
    "Now that you've got a list of numbers, you can use a for loop to perform a set of logic on each of the items in that list.  When you use a for loop, you create a temporary variable that represents each item in the list during the loop.  On the first loop, the variable (**n** in this case) represents the first item in the list (**0** in this case).  Then on the second loop, it gets reassigned to represent the second item (**1**).  It continues in this manner.\n",
    "\n",
    "You can execute a block of code on each of the items in a list.  In this case, you're just printing the item."
   ]
  },
  {
   "cell_type": "code",
   "execution_count": 6,
   "id": "86b38708",
   "metadata": {
    "hidden": true
   },
   "outputs": [
    {
     "name": "stdout",
     "output_type": "stream",
     "text": [
      "0\n",
      "1\n",
      "2\n",
      "3\n",
      "4\n",
      "5\n",
      "6\n",
      "7\n",
      "8\n",
      "9\n",
      "10\n"
     ]
    }
   ],
   "source": [
    "# iterate through each item in that list\n",
    "for n in list_of_numbers:\n",
    "    print(n)"
   ]
  },
  {
   "cell_type": "markdown",
   "id": "46505692",
   "metadata": {
    "heading_collapsed": true,
    "hidden": true
   },
   "source": [
    "#### 3.  Combine a for loop with if/else logic"
   ]
  },
  {
   "cell_type": "markdown",
   "id": "d5223953",
   "metadata": {
    "hidden": true
   },
   "source": [
    "Iterating through a list is useful, but we may not want to do the same thing with each item in the list.  We can combine the for loop with our if/else logic and make our script execute different logic based on criteria of the input."
   ]
  },
  {
   "cell_type": "code",
   "execution_count": 8,
   "id": "26bd5ba1",
   "metadata": {
    "hidden": true
   },
   "outputs": [
    {
     "name": "stdout",
     "output_type": "stream",
     "text": [
      "0\n",
      "this is zero\n",
      "1\n",
      "this is odd\n",
      "2\n",
      "this is even\n",
      "3\n",
      "this is odd\n",
      "4\n",
      "this is even\n",
      "5\n",
      "this is odd\n",
      "6\n",
      "this is even\n",
      "7\n",
      "this is odd\n",
      "8\n",
      "this is even\n",
      "9\n",
      "this is odd\n",
      "10\n",
      "this is even\n"
     ]
    }
   ],
   "source": [
    "# iterate through the list of numbers\n",
    "for n in list_of_numbers:\n",
    "    \n",
    "    # this will execute each time\n",
    "    print(n)\n",
    "\n",
    "    # first condition to check for zeroes\n",
    "    if n == 0:\n",
    "\n",
    "        # this will only execute if n is 0\n",
    "        print('this is zero')\n",
    "\n",
    "    # check if the number is even\n",
    "    elif n % 2 == 0:\n",
    "\n",
    "        # this will execute only if n is even\n",
    "        print('this is even')\n",
    "\n",
    "    else:\n",
    "        \n",
    "        # this will execute only if n is not 0 and is not even\n",
    "        print('this is odd')\n"
   ]
  },
  {
   "cell_type": "markdown",
   "id": "c49b84d2",
   "metadata": {
    "heading_collapsed": true,
    "hidden": true
   },
   "source": [
    "#### 4.  Use the function you created"
   ]
  },
  {
   "cell_type": "markdown",
   "id": "2eca286d",
   "metadata": {
    "hidden": true
   },
   "source": [
    "For-loops and if/else logic are very powerful flow controllers.  If you recall from the previous step, you wrote a function that executes the logic above.  Using that function can produce cleaner, more readable code that does the same thing."
   ]
  },
  {
   "cell_type": "code",
   "execution_count": 9,
   "id": "80773781",
   "metadata": {
    "hidden": true
   },
   "outputs": [
    {
     "name": "stdout",
     "output_type": "stream",
     "text": [
      "0 this is zero\n",
      "1 this is odd\n",
      "2 this is even\n",
      "3 this is odd\n",
      "4 this is even\n",
      "5 this is odd\n",
      "6 this is even\n",
      "7 this is odd\n",
      "8 this is even\n",
      "9 this is odd\n",
      "10 this is even\n"
     ]
    }
   ],
   "source": [
    "for n in list_of_numbers:\n",
    "    \n",
    "    # use the function\n",
    "    is_even = even_odd(n)\n",
    "    \n",
    "    # print the number and the result of the function\n",
    "    print(n, is_even)"
   ]
  },
  {
   "cell_type": "markdown",
   "id": "cca4adb2",
   "metadata": {
    "heading_collapsed": true
   },
   "source": [
    "## Use a while loop"
   ]
  },
  {
   "cell_type": "markdown",
   "id": "63c2c87b",
   "metadata": {
    "hidden": true
   },
   "source": [
    "Sometimes, the nature of your script logic doesn't lend itself well to using a for loop.  You might need to iterate on something without a finite end.  This is where the **while** loop comes into play.  The while loop will iterate until it meets a condition."
   ]
  },
  {
   "cell_type": "markdown",
   "id": "d540faf4",
   "metadata": {
    "hidden": true
   },
   "source": [
    "#### 1.  Set up a while loop"
   ]
  },
  {
   "cell_type": "markdown",
   "id": "bcedc215",
   "metadata": {
    "hidden": true
   },
   "source": [
    "To effectively use a while loop in Python, you'll want to set up a variable and give the loop an exit condition.  To do something similar to what we've been doing, you can set up a number to start at and a while loop with an exit condition.  The big difference here is that you need to make sure that the conditions of the loop change each time on your own.  It's easier to understand looking at the following code"
   ]
  },
  {
   "cell_type": "code",
   "execution_count": 10,
   "id": "ddc7dd59",
   "metadata": {
    "hidden": true
   },
   "outputs": [
    {
     "name": "stdout",
     "output_type": "stream",
     "text": [
      "10 this is even\n",
      "11 this is odd\n",
      "12 this is even\n",
      "13 this is odd\n",
      "14 this is even\n",
      "15 this is odd\n",
      "16 this is even\n",
      "17 this is odd\n",
      "18 this is even\n",
      "19 this is odd\n"
     ]
    }
   ],
   "source": [
    "# initial condition\n",
    "n = 10\n",
    "\n",
    "# while loop and exit condition\n",
    "while n < 20:\n",
    "    \n",
    "    # execute this code each time\n",
    "    print(n, even_odd(n))\n",
    "    \n",
    "    # change the value for n so that it can reach the exit condition eventually\n",
    "    n += 1"
   ]
  },
  {
   "cell_type": "code",
   "execution_count": null,
   "id": "4675c2ad",
   "metadata": {
    "hidden": true
   },
   "outputs": [],
   "source": []
  }
 ],
 "metadata": {
  "kernelspec": {
   "display_name": "Python 3 (ipykernel)",
   "language": "python",
   "name": "python3"
  },
  "language_info": {
   "codemirror_mode": {
    "name": "ipython",
    "version": 3
   },
   "file_extension": ".py",
   "mimetype": "text/x-python",
   "name": "python",
   "nbconvert_exporter": "python",
   "pygments_lexer": "ipython3",
   "version": "3.9.18"
  }
 },
 "nbformat": 4,
 "nbformat_minor": 5
}
