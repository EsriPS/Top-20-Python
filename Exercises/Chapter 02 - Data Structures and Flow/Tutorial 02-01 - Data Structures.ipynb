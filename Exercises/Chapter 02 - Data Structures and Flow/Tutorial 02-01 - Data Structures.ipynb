{
 "cells": [
  {
   "cell_type": "markdown",
   "id": "5878d398",
   "metadata": {},
   "source": [
    "# Tutorial 02-01 - Data Structures"
   ]
  },
  {
   "cell_type": "markdown",
   "id": "63a80a49",
   "metadata": {},
   "source": [
    "Sometimes we're given data that we're unsure about the structure or quality of.  It may be given to us by a colleague, or we might get the data from an API.  In many cases (especially when we're working with web services and APIs), the data we're given is JSON.\n",
    "\n",
    "In this tutorial, we'll go over some basics of working with lists and dictionaries in Python and see how that enables us to explore an unknown JSON file Pythonically."
   ]
  },
  {
   "cell_type": "markdown",
   "id": "988db2ff",
   "metadata": {
    "heading_collapsed": true
   },
   "source": [
    "## List Basics"
   ]
  },
  {
   "cell_type": "markdown",
   "id": "cee0350e",
   "metadata": {
    "hidden": true
   },
   "source": [
    "Let's walk through some basics of lists and how we can work with them. It's worth having these concepts at hand when you're trying to figure out the structure of some new unknown data."
   ]
  },
  {
   "cell_type": "markdown",
   "id": "d60f9532",
   "metadata": {
    "heading_collapsed": true,
    "hidden": true
   },
   "source": [
    "#### 1.  Create a list."
   ]
  },
  {
   "cell_type": "markdown",
   "id": "a05e8777",
   "metadata": {
    "hidden": true
   },
   "source": [
    "First, you'll create a list.  The easiest way to create your own list in Python is to write it yourself.  This also gives you a great idea of how lists are structured.  Start by assigning a variable name to your new list.  Then all you need to do is put some values in between square brackets with commas to separate them."
   ]
  },
  {
   "cell_type": "code",
   "execution_count": 28,
   "id": "a4c74513",
   "metadata": {
    "hidden": true
   },
   "outputs": [],
   "source": [
    "# create a list\n",
    "list_1 = [1, 2, 3, 5, 7, 8]"
   ]
  },
  {
   "cell_type": "markdown",
   "id": "e274ce1b",
   "metadata": {
    "hidden": true
   },
   "source": [
    "Now that you've made a list, you can print that list or use functions on that list."
   ]
  },
  {
   "cell_type": "code",
   "execution_count": 29,
   "id": "2f1692d9",
   "metadata": {
    "hidden": true,
    "scrolled": true
   },
   "outputs": [
    {
     "name": "stdout",
     "output_type": "stream",
     "text": [
      "[1, 2, 3, 5, 7, 8]\n"
     ]
    }
   ],
   "source": [
    "print(list_1)"
   ]
  },
  {
   "cell_type": "code",
   "execution_count": 30,
   "id": "3f2dd9ae",
   "metadata": {
    "hidden": true,
    "scrolled": true
   },
   "outputs": [
    {
     "data": {
      "text/plain": [
       "6"
      ]
     },
     "execution_count": 30,
     "metadata": {},
     "output_type": "execute_result"
    }
   ],
   "source": [
    "len(list_1)"
   ]
  },
  {
   "cell_type": "markdown",
   "id": "a1bf68a1",
   "metadata": {
    "hidden": true
   },
   "source": [
    "NOTE - The function `len()` is a built-in Python function that will tell you the length of something.  It works with lists, tuples, strings, and many other data types."
   ]
  },
  {
   "cell_type": "markdown",
   "id": "33261e5b",
   "metadata": {
    "heading_collapsed": true,
    "hidden": true
   },
   "source": [
    "#### 2.  Use an index to access values in the list."
   ]
  },
  {
   "cell_type": "markdown",
   "id": "1bd0770c",
   "metadata": {
    "hidden": true
   },
   "source": [
    "Now that you've created a list, you can access the items in that list using a special property of lists.  The *index* values of the list items represent each item in order.  The index starts at 0 which represents the first item in the list.  The list index increases by 1 for each subsequent value, so the second item in the list has an index of 1.\n",
    "\n",
    "You can access an item in a certain position in the list by using square brackets with your list variable like in this example below."
   ]
  },
  {
   "cell_type": "code",
   "execution_count": 31,
   "id": "20f77171",
   "metadata": {
    "hidden": true
   },
   "outputs": [
    {
     "data": {
      "text/plain": [
       "1"
      ]
     },
     "execution_count": 31,
     "metadata": {},
     "output_type": "execute_result"
    }
   ],
   "source": [
    "list_1[0]"
   ]
  },
  {
   "cell_type": "code",
   "execution_count": 32,
   "id": "2be9e663",
   "metadata": {
    "hidden": true
   },
   "outputs": [
    {
     "data": {
      "text/plain": [
       "2"
      ]
     },
     "execution_count": 32,
     "metadata": {},
     "output_type": "execute_result"
    }
   ],
   "source": [
    "list_1[1]"
   ]
  },
  {
   "cell_type": "markdown",
   "id": "493d3561",
   "metadata": {
    "hidden": true
   },
   "source": [
    "Try this with other indexes up until the end of the list."
   ]
  },
  {
   "cell_type": "markdown",
   "id": "de321454",
   "metadata": {
    "heading_collapsed": true,
    "hidden": true
   },
   "source": [
    "#### 3.  Use an index to access the last value in the list."
   ]
  },
  {
   "cell_type": "markdown",
   "id": "427bc230",
   "metadata": {
    "hidden": true
   },
   "source": [
    "The index starts at the beginning of a list, so counting up from 0 is always an option.  Sometimes you'd be more interested in the last item in the list.  In that case, you can use -1 to start at the end."
   ]
  },
  {
   "cell_type": "code",
   "execution_count": 33,
   "id": "d4bb2c05",
   "metadata": {
    "hidden": true
   },
   "outputs": [
    {
     "data": {
      "text/plain": [
       "8"
      ]
     },
     "execution_count": 33,
     "metadata": {},
     "output_type": "execute_result"
    }
   ],
   "source": [
    "list_1[-1]"
   ]
  },
  {
   "cell_type": "markdown",
   "id": "a648a467",
   "metadata": {
    "hidden": true
   },
   "source": [
    "You can also count backwards by increasing the negative index.  Using -2 gives you the second to last item in the list."
   ]
  },
  {
   "cell_type": "code",
   "execution_count": 34,
   "id": "319ef130",
   "metadata": {
    "hidden": true
   },
   "outputs": [
    {
     "data": {
      "text/plain": [
       "7"
      ]
     },
     "execution_count": 34,
     "metadata": {},
     "output_type": "execute_result"
    }
   ],
   "source": [
    "list_1[-2]"
   ]
  },
  {
   "cell_type": "markdown",
   "id": "eb1838b5",
   "metadata": {
    "heading_collapsed": true,
    "hidden": true
   },
   "source": [
    "#### 4.  Use indexes to slice a list."
   ]
  },
  {
   "cell_type": "markdown",
   "id": "968c8b34",
   "metadata": {
    "hidden": true
   },
   "source": [
    "In the same way you access a single value in a list, you can also pull out multiple values.  This is often called slicing the list.  Using square brackets, you can provide two index numbers with a colon.  This will retrieve all the list items including the first index and up to (but not including) the second index."
   ]
  },
  {
   "cell_type": "code",
   "execution_count": 35,
   "id": "8da0083c",
   "metadata": {
    "hidden": true
   },
   "outputs": [
    {
     "data": {
      "text/plain": [
       "[2, 3, 5]"
      ]
     },
     "execution_count": 35,
     "metadata": {},
     "output_type": "execute_result"
    }
   ],
   "source": [
    "list_1[1:-2]"
   ]
  },
  {
   "cell_type": "markdown",
   "id": "5847b72e",
   "metadata": {
    "heading_collapsed": true,
    "hidden": true
   },
   "source": [
    "#### 5. Save the slice as a new list."
   ]
  },
  {
   "cell_type": "markdown",
   "id": "518cd828",
   "metadata": {
    "hidden": true
   },
   "source": [
    "You can always save the values returned by indexing or slicing into the list as new variables."
   ]
  },
  {
   "cell_type": "code",
   "execution_count": 36,
   "id": "c6077075",
   "metadata": {
    "hidden": true
   },
   "outputs": [],
   "source": [
    "list_2 = list_1[1:-2]"
   ]
  },
  {
   "cell_type": "markdown",
   "id": "f9816674",
   "metadata": {
    "heading_collapsed": true,
    "hidden": true
   },
   "source": [
    "#### 6.  Add a new item to a list."
   ]
  },
  {
   "cell_type": "markdown",
   "id": "459a8131",
   "metadata": {
    "hidden": true
   },
   "source": [
    "One of the great things about lists is that they are mutable, meaning that they can be changed.  You can use the `.append()` method to add items to the end of a list."
   ]
  },
  {
   "cell_type": "code",
   "execution_count": 37,
   "id": "dae45dc8",
   "metadata": {
    "hidden": true
   },
   "outputs": [],
   "source": [
    "list_2.append(\"a new value\")"
   ]
  },
  {
   "cell_type": "markdown",
   "id": "c02c96b0",
   "metadata": {
    "hidden": true
   },
   "source": [
    "Note that we previously had a list of all numbers, but now we've added a string.  Python is very permissive in allowing us to put whatever we want in a list.  This can be a really handy or really problematic concept.  Imagine trying to do the sum or max of a list of numbers but finding out that there's a string included."
   ]
  },
  {
   "cell_type": "code",
   "execution_count": 38,
   "id": "b7d1b68e",
   "metadata": {
    "hidden": true
   },
   "outputs": [
    {
     "data": {
      "text/plain": [
       "[2, 3, 5, 'a new value']"
      ]
     },
     "execution_count": 38,
     "metadata": {},
     "output_type": "execute_result"
    }
   ],
   "source": [
    "list_2"
   ]
  },
  {
   "cell_type": "markdown",
   "id": "d4d04ee8",
   "metadata": {},
   "source": [
    "#### 7. Sum the values in a list."
   ]
  },
  {
   "cell_type": "markdown",
   "id": "a8151c89",
   "metadata": {},
   "source": [
    "Because we have a list of numbers, we can use the `sum()` function to add them all up.  It's worth noting that this function only works on lists of numbers.  If you try to use it on a list with strings or other data types, you'll get an error."
   ]
  },
  {
   "cell_type": "code",
   "execution_count": 39,
   "id": "e3eadd23",
   "metadata": {
    "hidden": true
   },
   "outputs": [
    {
     "data": {
      "text/plain": [
       "26"
      ]
     },
     "execution_count": 39,
     "metadata": {},
     "output_type": "execute_result"
    }
   ],
   "source": [
    "sum(list_1)"
   ]
  },
  {
   "cell_type": "code",
   "execution_count": 40,
   "id": "c6a06596",
   "metadata": {
    "hidden": true
   },
   "outputs": [
    {
     "ename": "TypeError",
     "evalue": "unsupported operand type(s) for +: 'int' and 'str'",
     "output_type": "error",
     "traceback": [
      "\u001b[1;31m---------------------------------------------------------------------------\u001b[0m",
      "\u001b[1;31mTypeError\u001b[0m                                 Traceback (most recent call last)",
      "\u001b[1;32m~\\AppData\\Local\\Temp\\1\\ipykernel_20984\\3152765143.py\u001b[0m in \u001b[0;36m<cell line: 0>\u001b[1;34m()\u001b[0m\n\u001b[1;32m----> 1\u001b[1;33m \u001b[0msum\u001b[0m\u001b[1;33m(\u001b[0m\u001b[0mlist_2\u001b[0m\u001b[1;33m)\u001b[0m\u001b[1;33m\u001b[0m\u001b[1;33m\u001b[0m\u001b[0m\n\u001b[0m",
      "\u001b[1;31mTypeError\u001b[0m: unsupported operand type(s) for +: 'int' and 'str'"
     ]
    }
   ],
   "source": [
    "sum(list_2)"
   ]
  },
  {
   "cell_type": "markdown",
   "id": "af9e7bfe",
   "metadata": {
    "heading_collapsed": true,
    "hidden": true
   },
   "source": [
    "#### 8.  Remove an item from a list."
   ]
  },
  {
   "cell_type": "markdown",
   "id": "bd8278a7",
   "metadata": {
    "hidden": true
   },
   "source": [
    "Similarly to how we can add items to a list, we can also take them out.  Let's use a function called `pop()` to remove an item.  You'll provide the index of the item you'd like to remove, and pop will return that item."
   ]
  },
  {
   "cell_type": "code",
   "execution_count": null,
   "id": "6ed1c2fa",
   "metadata": {
    "hidden": true
   },
   "outputs": [
    {
     "data": {
      "text/plain": [
       "'a new value'"
      ]
     },
     "execution_count": 15,
     "metadata": {},
     "output_type": "execute_result"
    }
   ],
   "source": [
    "list_2.pop(-1)"
   ]
  },
  {
   "cell_type": "code",
   "execution_count": null,
   "id": "ec34bf7d",
   "metadata": {
    "hidden": true
   },
   "outputs": [
    {
     "data": {
      "text/plain": [
       "[2, 3, 5]"
      ]
     },
     "execution_count": 16,
     "metadata": {},
     "output_type": "execute_result"
    }
   ],
   "source": [
    "list_2"
   ]
  },
  {
   "cell_type": "markdown",
   "id": "7d377fb8",
   "metadata": {
    "hidden": true
   },
   "source": [
    "Note that now `list_2` does not contain a string."
   ]
  },
  {
   "cell_type": "code",
   "execution_count": null,
   "id": "36ef15ac",
   "metadata": {
    "hidden": true
   },
   "outputs": [
    {
     "data": {
      "text/plain": [
       "10"
      ]
     },
     "execution_count": 17,
     "metadata": {},
     "output_type": "execute_result"
    }
   ],
   "source": [
    "sum(list_2)"
   ]
  },
  {
   "cell_type": "markdown",
   "id": "b7d1424b",
   "metadata": {
    "heading_collapsed": true
   },
   "source": [
    "## Dictionary Basics"
   ]
  },
  {
   "cell_type": "markdown",
   "id": "6cc2a796",
   "metadata": {
    "hidden": true
   },
   "source": [
    "Lists are great, but sometimes you need a little more structure in your data.  Dictionaries can be very helpful in these situations."
   ]
  },
  {
   "cell_type": "markdown",
   "id": "df64f174",
   "metadata": {
    "heading_collapsed": true,
    "hidden": true
   },
   "source": [
    "#### 1.  Create a dictionary."
   ]
  },
  {
   "cell_type": "markdown",
   "id": "29b2390c",
   "metadata": {
    "hidden": true
   },
   "source": [
    "You can create your own dictionary by using curly brackets.  If you just provide an open and closed curly bracket (`{}`), you'll end up with an empty dictionary.  You can also create a dictionary populated with values by providing comma separated key-value pairs."
   ]
  },
  {
   "cell_type": "code",
   "execution_count": null,
   "id": "8e88af23",
   "metadata": {
    "hidden": true
   },
   "outputs": [],
   "source": [
    "dict_1 = {\n",
    "    'key1': 'value1',\n",
    "    'key2': 'value2',\n",
    "    'key3': 'value3'\n",
    "}"
   ]
  },
  {
   "cell_type": "markdown",
   "id": "53debc6e",
   "metadata": {
    "hidden": true
   },
   "source": [
    "Each key and its corresponding value are separated by a colon.  Each pair is separated by a comma."
   ]
  },
  {
   "cell_type": "markdown",
   "id": "af4c4edf",
   "metadata": {
    "heading_collapsed": true,
    "hidden": true
   },
   "source": [
    "#### 2.  Print the keys and values."
   ]
  },
  {
   "cell_type": "markdown",
   "id": "88136dfa",
   "metadata": {
    "hidden": true
   },
   "source": [
    "One of the ways you can get a good idea of what's in a dictionary is by looking at the keys.  You can do this by calling the `.keys()` method on the dictionary."
   ]
  },
  {
   "cell_type": "code",
   "execution_count": null,
   "id": "90fa2a8b",
   "metadata": {
    "hidden": true
   },
   "outputs": [
    {
     "data": {
      "text/plain": [
       "dict_keys(['key1', 'key2', 'key3'])"
      ]
     },
     "execution_count": 20,
     "metadata": {},
     "output_type": "execute_result"
    }
   ],
   "source": [
    "dict_1.keys()"
   ]
  },
  {
   "cell_type": "markdown",
   "id": "905ea2e3",
   "metadata": {
    "hidden": true
   },
   "source": [
    "You can also do this with the values using the `.values()` method."
   ]
  },
  {
   "cell_type": "code",
   "execution_count": null,
   "id": "dad8be44",
   "metadata": {
    "hidden": true
   },
   "outputs": [
    {
     "data": {
      "text/plain": [
       "dict_values(['value1', 'value2', 'value3'])"
      ]
     },
     "execution_count": 21,
     "metadata": {},
     "output_type": "execute_result"
    }
   ],
   "source": [
    "dict_1.values()"
   ]
  },
  {
   "cell_type": "markdown",
   "id": "023009dc",
   "metadata": {
    "heading_collapsed": true,
    "hidden": true
   },
   "source": [
    "#### 3.  Access a specific key/value pair."
   ]
  },
  {
   "cell_type": "markdown",
   "id": "e206bbf2",
   "metadata": {
    "hidden": true
   },
   "source": [
    "Once you understand what the keys in a dictionary are, you can use a key to retreive its corresponding value from the dictionary.  You can do this by providing the key to the dictionary with square brackets."
   ]
  },
  {
   "cell_type": "code",
   "execution_count": null,
   "id": "8890d27f",
   "metadata": {
    "hidden": true
   },
   "outputs": [
    {
     "data": {
      "text/plain": [
       "'value1'"
      ]
     },
     "execution_count": 22,
     "metadata": {},
     "output_type": "execute_result"
    }
   ],
   "source": [
    "dict_1['key1']"
   ]
  },
  {
   "cell_type": "markdown",
   "id": "b34ae80b",
   "metadata": {
    "heading_collapsed": true,
    "hidden": true
   },
   "source": [
    "#### 4.  Update the value for a key."
   ]
  },
  {
   "cell_type": "markdown",
   "id": "5517e913",
   "metadata": {
    "hidden": true
   },
   "source": [
    "In addition to using a key to access a value, you can also use that key to replace the corresponding value."
   ]
  },
  {
   "cell_type": "code",
   "execution_count": null,
   "id": "6e98323b",
   "metadata": {
    "hidden": true
   },
   "outputs": [
    {
     "data": {
      "text/plain": [
       "'updates!'"
      ]
     },
     "execution_count": 23,
     "metadata": {},
     "output_type": "execute_result"
    }
   ],
   "source": [
    "dict_1['key1'] = 'updates!'\n",
    "dict_1['key1']"
   ]
  },
  {
   "cell_type": "markdown",
   "id": "b68c0f4a",
   "metadata": {
    "heading_collapsed": true,
    "hidden": true
   },
   "source": [
    "#### 5.  Add a new key/value pair."
   ]
  },
  {
   "cell_type": "markdown",
   "id": "f0eed8b4",
   "metadata": {
    "hidden": true
   },
   "source": [
    "You can use the same syntax to add new key/value pairs to a dictionary."
   ]
  },
  {
   "cell_type": "code",
   "execution_count": null,
   "id": "a4050a00",
   "metadata": {
    "hidden": true
   },
   "outputs": [],
   "source": [
    "dict_1['a new key'] = 'a new value'"
   ]
  },
  {
   "cell_type": "markdown",
   "id": "b8101624",
   "metadata": {
    "hidden": true
   },
   "source": [
    "At this point, we've worked with all string values for keys and values, but you can use whatever data types you'd like.  In the following example, we'll add a list as a value to the dictionary."
   ]
  },
  {
   "cell_type": "code",
   "execution_count": null,
   "id": "d8104c3f",
   "metadata": {
    "hidden": true
   },
   "outputs": [],
   "source": [
    "dict_1['a list'] = list_2"
   ]
  },
  {
   "cell_type": "markdown",
   "id": "28190b52",
   "metadata": {
    "heading_collapsed": true,
    "hidden": true
   },
   "source": [
    "#### 6.  Combine two dictionaries."
   ]
  },
  {
   "cell_type": "markdown",
   "id": "0ac461ab",
   "metadata": {
    "hidden": true
   },
   "source": [
    "Occasionally, you'll need to combine two dictionaries.  You could iterate through each key from one dictionary and add it to another, but there's a handy built-in method on the dictionary class called `.update()` that does all that for you."
   ]
  },
  {
   "cell_type": "code",
   "execution_count": null,
   "id": "afae96b9",
   "metadata": {
    "hidden": true
   },
   "outputs": [],
   "source": [
    "# create a second dictionary\n",
    "dict_2 = {\n",
    "    'key3': 'new value3',\n",
    "    'key4': 'value4',\n",
    "    'key5': 'value5'\n",
    "}\n"
   ]
  },
  {
   "cell_type": "code",
   "execution_count": null,
   "id": "35544a45",
   "metadata": {
    "hidden": true
   },
   "outputs": [],
   "source": [
    "# combine two dictionaries\n",
    "dict_1.update(dict_2)"
   ]
  },
  {
   "cell_type": "code",
   "execution_count": null,
   "id": "a6969bd5",
   "metadata": {
    "hidden": true
   },
   "outputs": [
    {
     "data": {
      "text/plain": [
       "{'key1': 'updates!',\n",
       " 'key2': 'value2',\n",
       " 'key3': 'new value3',\n",
       " 'a new key': 'a new value',\n",
       " 'key4': 'value4',\n",
       " 'key5': 'value5'}"
      ]
     },
     "execution_count": 27,
     "metadata": {},
     "output_type": "execute_result"
    }
   ],
   "source": [
    "dict_1"
   ]
  },
  {
   "cell_type": "markdown",
   "id": "9f377e76",
   "metadata": {
    "hidden": true
   },
   "source": [
    "Note that the keys from dict_2 that didn't exist in dict_1 were added.  The one key that existed in both dictionaries was updated with the value from dict_2."
   ]
  },
  {
   "cell_type": "markdown",
   "id": "925a331b",
   "metadata": {
    "heading_collapsed": true
   },
   "source": [
    "## Parse an Unknown GeoJSON Structure"
   ]
  },
  {
   "cell_type": "markdown",
   "id": "210cad39",
   "metadata": {
    "hidden": true
   },
   "source": [
    "It's great practice to understand the fundamentals of lists and dictionaries.  They're super handy for gathering and organizing your own data as you write a script.  \n",
    "\n",
    "These same tools are super useful for exploring JSON datasets.  The arrays and objects that make up JSON are represented in Python as lists and dictionaries.  It's super common in the working world to be given JSON data without context.  Being able to do some quick exploration of the data can give you a really good idea of what the data looks like without having to open the whole file (which could be quite large)."
   ]
  },
  {
   "cell_type": "markdown",
   "id": "fde193fc",
   "metadata": {
    "heading_collapsed": true,
    "hidden": true
   },
   "source": [
    "#### 1.  Load JSON data."
   ]
  },
  {
   "cell_type": "markdown",
   "id": "1a0bc802",
   "metadata": {
    "hidden": true
   },
   "source": [
    "First, we'll load some data.  We'll need to import the **json** package to handle our conversion between JSON and Python data types.  "
   ]
  },
  {
   "cell_type": "code",
   "execution_count": null,
   "id": "bf971a8b",
   "metadata": {
    "hidden": true
   },
   "outputs": [],
   "source": [
    "import json"
   ]
  },
  {
   "cell_type": "markdown",
   "id": "352719cc",
   "metadata": {
    "hidden": true
   },
   "source": [
    "We'll use a context manager to open the file.  There's a longer discussion about context managers in the chapter on ArcPy and cursors.  In short, though, the context manager is represented by the `with` statement in the code below.  It saves us from having to open and close the file reader.\n",
    "\n",
    "Once we have a file reader created using the context manager, we can use the `json.load()` function to convert the file into Python data types."
   ]
  },
  {
   "cell_type": "code",
   "execution_count": null,
   "id": "edc14d4e",
   "metadata": {
    "hidden": true
   },
   "outputs": [],
   "source": [
    "with open('data.geojson') as f:\n",
    "    data = json.load(f)"
   ]
  },
  {
   "cell_type": "markdown",
   "id": "0f427c5e",
   "metadata": {
    "heading_collapsed": true,
    "hidden": true
   },
   "source": [
    "#### 2.  Check the type of the loaded data."
   ]
  },
  {
   "cell_type": "markdown",
   "id": "4a269dcf",
   "metadata": {
    "hidden": true
   },
   "source": [
    "The JSON data you get could end up being an array of objects, which would be represented as a list in Python.  It could also be one large object, which would be represented as a dictionary.  Before you go exploring the data, you'll have to know how to access it.  Checking the type of the data is a great place to start."
   ]
  },
  {
   "cell_type": "code",
   "execution_count": null,
   "id": "651bf182",
   "metadata": {
    "hidden": true
   },
   "outputs": [
    {
     "data": {
      "text/plain": [
       "dict"
      ]
     },
     "execution_count": 30,
     "metadata": {},
     "output_type": "execute_result"
    }
   ],
   "source": [
    "type(data)"
   ]
  },
  {
   "cell_type": "markdown",
   "id": "6f664d75",
   "metadata": {
    "heading_collapsed": true,
    "hidden": true
   },
   "source": [
    "#### 3.  Check the keys of the data."
   ]
  },
  {
   "cell_type": "markdown",
   "id": "dc55b482",
   "metadata": {
    "hidden": true
   },
   "source": [
    "Now that you know the data is one large dictionary, you can check the keys to get an idea of what the data looks like."
   ]
  },
  {
   "cell_type": "code",
   "execution_count": null,
   "id": "fbf8f9b2",
   "metadata": {
    "hidden": true
   },
   "outputs": [
    {
     "data": {
      "text/plain": [
       "dict_keys(['type', 'features', 'crs'])"
      ]
     },
     "execution_count": 31,
     "metadata": {},
     "output_type": "execute_result"
    }
   ],
   "source": [
    "data.keys()"
   ]
  },
  {
   "cell_type": "markdown",
   "id": "35073d61",
   "metadata": {
    "hidden": true
   },
   "source": [
    "There are three keys shown in this data.  Given that we know it's probably GeoJSON, we can guess that the *features* key will probably contain the features and data we're interested in.  We can check the other two keys at this level though and get some descriptive information about our data."
   ]
  },
  {
   "cell_type": "code",
   "execution_count": null,
   "id": "6c6a685f",
   "metadata": {
    "hidden": true
   },
   "outputs": [
    {
     "data": {
      "text/plain": [
       "'FeatureCollection'"
      ]
     },
     "execution_count": 32,
     "metadata": {},
     "output_type": "execute_result"
    }
   ],
   "source": [
    "data['type']"
   ]
  },
  {
   "cell_type": "code",
   "execution_count": null,
   "id": "08711f4a",
   "metadata": {
    "hidden": true
   },
   "outputs": [
    {
     "data": {
      "text/plain": [
       "{'type': 'name', 'properties': {'name': 'urn:ogc:def:crs:OGC:1.3:CRS84'}}"
      ]
     },
     "execution_count": 33,
     "metadata": {},
     "output_type": "execute_result"
    }
   ],
   "source": [
    "data['crs']"
   ]
  },
  {
   "cell_type": "markdown",
   "id": "a9c7f27c",
   "metadata": {
    "hidden": true
   },
   "source": [
    "Now we know this data represents a FeatureCollection.  We also know that the spatial reference of the data is WGS1984."
   ]
  },
  {
   "cell_type": "markdown",
   "id": "3f9e12f2",
   "metadata": {
    "heading_collapsed": true,
    "hidden": true
   },
   "source": [
    "#### 4.  Check the type of the features key."
   ]
  },
  {
   "cell_type": "markdown",
   "id": "23e710b0",
   "metadata": {
    "hidden": true
   },
   "source": [
    "Based on context so far, we can make a guess at what's in the *features* key, but we should confirm."
   ]
  },
  {
   "cell_type": "code",
   "execution_count": null,
   "id": "870adc4e",
   "metadata": {
    "hidden": true
   },
   "outputs": [
    {
     "data": {
      "text/plain": [
       "list"
      ]
     },
     "execution_count": 34,
     "metadata": {},
     "output_type": "execute_result"
    }
   ],
   "source": [
    "type(data['features'])"
   ]
  },
  {
   "cell_type": "markdown",
   "id": "1d7ed605",
   "metadata": {
    "hidden": true
   },
   "source": [
    "We know now that the *features* key is a list.  Now we can treat it as such and try to find some more information about the dataset.  We can start by finding out how many features there are."
   ]
  },
  {
   "cell_type": "code",
   "execution_count": null,
   "id": "34b2465e",
   "metadata": {
    "hidden": true
   },
   "outputs": [
    {
     "data": {
      "text/plain": [
       "10000"
      ]
     },
     "execution_count": 35,
     "metadata": {},
     "output_type": "execute_result"
    }
   ],
   "source": [
    "len(data['features'])"
   ]
  },
  {
   "cell_type": "markdown",
   "id": "feb54e71",
   "metadata": {
    "heading_collapsed": true,
    "hidden": true
   },
   "source": [
    "#### 5.  Explore the first feature."
   ]
  },
  {
   "cell_type": "markdown",
   "id": "6dc4ca1c",
   "metadata": {
    "hidden": true
   },
   "source": [
    "Now that we know this is a list of features, we can explore the first feature. "
   ]
  },
  {
   "cell_type": "code",
   "execution_count": null,
   "id": "0e9666db",
   "metadata": {
    "hidden": true
   },
   "outputs": [
    {
     "data": {
      "text/plain": [
       "dict"
      ]
     },
     "execution_count": 36,
     "metadata": {},
     "output_type": "execute_result"
    }
   ],
   "source": [
    "type(data['features'][0])"
   ]
  },
  {
   "cell_type": "markdown",
   "id": "6e038398",
   "metadata": {
    "hidden": true
   },
   "source": [
    "It looks like the first feature is a dictionary.  We can look at the keys if we'd like.  At this point, it might be good to just represent that feature as its own variable for readability."
   ]
  },
  {
   "cell_type": "code",
   "execution_count": null,
   "id": "a768a6f3",
   "metadata": {
    "hidden": true
   },
   "outputs": [],
   "source": [
    "first_feature = data['features'][0]"
   ]
  },
  {
   "cell_type": "code",
   "execution_count": null,
   "id": "362e6559",
   "metadata": {
    "hidden": true
   },
   "outputs": [
    {
     "data": {
      "text/plain": [
       "dict_keys(['type', 'geometry', 'properties'])"
      ]
     },
     "execution_count": 38,
     "metadata": {},
     "output_type": "execute_result"
    }
   ],
   "source": [
    "first_feature.keys()"
   ]
  },
  {
   "cell_type": "markdown",
   "id": "ee10088e",
   "metadata": {
    "hidden": true
   },
   "source": [
    "Similarly to how we explored the entire dataset, we can start looking at these keys."
   ]
  },
  {
   "cell_type": "code",
   "execution_count": null,
   "id": "753f6fc0",
   "metadata": {
    "hidden": true
   },
   "outputs": [
    {
     "data": {
      "text/plain": [
       "'Feature'"
      ]
     },
     "execution_count": 39,
     "metadata": {},
     "output_type": "execute_result"
    }
   ],
   "source": [
    "first_feature['type']"
   ]
  },
  {
   "cell_type": "code",
   "execution_count": null,
   "id": "d82287a7",
   "metadata": {
    "hidden": true
   },
   "outputs": [
    {
     "data": {
      "text/plain": [
       "{'type': 'Point', 'coordinates': [-122.42710769, 37.75976521]}"
      ]
     },
     "execution_count": 40,
     "metadata": {},
     "output_type": "execute_result"
    }
   ],
   "source": [
    "first_feature['geometry']"
   ]
  },
  {
   "cell_type": "markdown",
   "id": "3c2612bd",
   "metadata": {},
   "source": [
    "These two keys show that this dictionary represents a feature and the feature has a \"Point\" geometry type. We can also see that the feature has a properties key that contains more information."
   ]
  },
  {
   "cell_type": "code",
   "execution_count": null,
   "id": "88f3b9ed",
   "metadata": {
    "hidden": true
   },
   "outputs": [
    {
     "data": {
      "text/plain": [
       "{'status_description': 'Closed',\n",
       " 'bos_2012': '8.00000',\n",
       " 'source': 'Mobile/Open311',\n",
       " 'updated_datetime': '2023-01-01T01:58:00.000',\n",
       " 'police_district': 'MISSION',\n",
       " 'agency_responsible': 'RPD NSA Queue',\n",
       " 'media_url': None,\n",
       " 'neighborhoods_sffind_boundaries': 'Mission Dolores',\n",
       " 'requested_datetime': '2023-01-01T00:11:54.000',\n",
       " 'service_request_id': '16240855',\n",
       " 'service_name': 'Noise Report',\n",
       " 'data_loaded_at': '2024-02-20T15:21:23.000',\n",
       " 'long': '-122.427107691765',\n",
       " 'status_notes': 'Comment Noted',\n",
       " 'point_geom': {'type': 'Point',\n",
       "  'coordinates': [-122.427107692, 37.759765211]},\n",
       " 'address': 'Mission Dolores Park, , SAN FRANCISCO, CA, 94114',\n",
       " 'street': 'Mission Dolores Park',\n",
       " 'supervisor_district': '8.00000',\n",
       " 'service_details': 'Other',\n",
       " 'service_subtype': 'Noise Issue',\n",
       " 'data_as_of': '2024-02-20T10:35:55.000',\n",
       " 'closed_date': '2023-01-01T01:58:00.000',\n",
       " 'lat': '37.759765210592'}"
      ]
     },
     "execution_count": 41,
     "metadata": {},
     "output_type": "execute_result"
    }
   ],
   "source": [
    "first_feature['properties']"
   ]
  },
  {
   "cell_type": "code",
   "execution_count": null,
   "id": "8f221b13",
   "metadata": {
    "hidden": true
   },
   "outputs": [],
   "source": []
  }
 ],
 "metadata": {
  "kernelspec": {
   "display_name": "Python 3 (ipykernel)",
   "language": "python",
   "name": "python3"
  },
  "language_info": {
   "codemirror_mode": {
    "name": "ipython",
    "version": 3
   },
   "file_extension": ".py",
   "mimetype": "text/x-python",
   "name": "python",
   "nbconvert_exporter": "python",
   "pygments_lexer": "ipython3",
   "version": "3.11.8"
  }
 },
 "nbformat": 4,
 "nbformat_minor": 5
}
