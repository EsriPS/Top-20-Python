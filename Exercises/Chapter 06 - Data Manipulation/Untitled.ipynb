{
 "cells": [
  {
   "cell_type": "markdown",
   "id": "3c6227f4",
   "metadata": {},
   "source": [
    "# Tutorial 11-02 - Exploring Python Mapping Packages"
   ]
  },
  {
   "cell_type": "markdown",
   "id": "5f4385ba",
   "metadata": {},
   "source": [
    "In our first exercise, we used the built-in plotting that *pandas* and *matplotlib* have to offer.  We outputted some maps that met our colleagues' needs functionally, but left some room for aesthetic improvements.  In this tutorial, we'll explore some of the other charting packages commonly used in Python and see how they work compared with *matplotlib*.  \n",
    "\n",
    "This will be a slightly different tutorial than most.  After our first step of gathering data, we'll "
   ]
  },
  {
   "cell_type": "markdown",
   "id": "b98f32b7",
   "metadata": {},
   "source": [
    "#### 1.  Seaborn"
   ]
  },
  {
   "cell_type": "code",
   "execution_count": null,
   "id": "1d692fd4",
   "metadata": {},
   "outputs": [],
   "source": []
  }
 ],
 "metadata": {
  "kernelspec": {
   "display_name": "Python 3 (ipykernel)",
   "language": "python",
   "name": "python3"
  },
  "language_info": {
   "codemirror_mode": {
    "name": "ipython",
    "version": 3
   },
   "file_extension": ".py",
   "mimetype": "text/x-python",
   "name": "python",
   "nbconvert_exporter": "python",
   "pygments_lexer": "ipython3",
   "version": "3.9.18"
  }
 },
 "nbformat": 4,
 "nbformat_minor": 5
}
