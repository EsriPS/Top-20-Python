{
 "cells": [
  {
   "cell_type": "markdown",
   "id": "e096f0f9",
   "metadata": {},
   "source": [
    "# Tutorial 07-01 Extracting Data from an API"
   ]
  },
  {
   "cell_type": "markdown",
   "id": "099bb08a",
   "metadata": {},
   "source": [
    "In our work at GeoNinjas PythonAnalytics in the past three chapters, we've been working with 311 case data from San Francisco's Open Data site.  Up to this point, we've been working with a data export as a starting point for our analysis.  Let's imagine our colleagues are still interested in 311 case count.  They'd like to see it summarized by neighborhood.  Now, though, they're interested seeing very current data.  They want to only see open 311 cases from the previous day.  Luckily we can pull data directly from San Francisco's Open Data website.\n",
    "\n",
    "For this tutorial, we're going to begin the first stage of a data pipeline.  We're going to be working with the same data source that we used for our previous two chapters' tutorials, but this time we're going straight to the source.  We will pull data directly from San Francisco's Open Data API."
   ]
  },
  {
   "cell_type": "markdown",
   "id": "dd442e07",
   "metadata": {
    "heading_collapsed": true
   },
   "source": [
    "#### 1. Import Packages"
   ]
  },
  {
   "cell_type": "markdown",
   "id": "545226c4",
   "metadata": {
    "hidden": true
   },
   "source": [
    "Let's start by importing the python packages that we'll need to extract our data.  We should be pretty familiar with pandas at this point (but if you need a refresher, check out Chapter 6 - Data Manipulation).  There are a couple new packages we're working with here though.  Let's go through them one by one.\n",
    "- **requests** - This is a package designed to interact with web APIs.  We're going to use it to retrieve data from an open data portal\n",
    "- **json** - This package is super helpful for converting long JSON strings to Python data types like strings, numbers, dictionaries, and lists.\n",
    "- **datetime** - This package is going to help us work with (surprise) dates and times.  We're going to use it help choose which data we extract from our API."
   ]
  },
  {
   "cell_type": "code",
   "execution_count": null,
   "id": "86df4823",
   "metadata": {
    "hidden": true
   },
   "outputs": [],
   "source": [
    "import pandas\n",
    "import requests\n",
    "import json\n",
    "import datetime"
   ]
  },
  {
   "cell_type": "markdown",
   "id": "59cdd7f8",
   "metadata": {
    "heading_collapsed": true
   },
   "source": [
    "#### 2. Get a Date for Seven Days Ago"
   ]
  },
  {
   "cell_type": "markdown",
   "id": "15a6c4fe",
   "metadata": {
    "hidden": true
   },
   "source": [
    "Now let's use our Python skills and a new package to get yesterday's date.  This is a really common pattern in Python automation workflows.  Rather than hard-code or input a date, we can use the **datetime** package to find out what the current date and time are when our process is being executed.  Then we can use the current date to find relative dates (in our case, seven days ago).\n",
    "\n",
    "Let's start by finding today's date."
   ]
  },
  {
   "cell_type": "code",
   "execution_count": null,
   "id": "a5674ae5",
   "metadata": {
    "hidden": true,
    "scrolled": true
   },
   "outputs": [],
   "source": [
    "now = datetime.datetime.now()\n",
    "now"
   ]
  },
  {
   "cell_type": "markdown",
   "id": "5171c06a",
   "metadata": {
    "hidden": true
   },
   "source": [
    "The resulting datetime object we get is comprised of all the components of the date and time that the object was created.  In order, it lists the year, month, day, hour, minute, second, and millisecond\n",
    "\n",
    "Now let's use a **timedelta** object to some math and subtract seven days.  That will give us the datetime for this time but seven days ago."
   ]
  },
  {
   "cell_type": "code",
   "execution_count": null,
   "id": "782a8a28",
   "metadata": {
    "hidden": true
   },
   "outputs": [],
   "source": [
    "start_date = now - datetime.timedelta(days=7)\n",
    "start_date"
   ]
  },
  {
   "cell_type": "markdown",
   "id": "0d463b97",
   "metadata": {
    "hidden": true
   },
   "source": [
    "You might notice that in the resulting datetime object, the day has changed, but the hour, minute, second, and millisecond are still the same.  That might be fine for some use-cases, but for our use-case we'd like to get data for the entire previous day.  Let's set the time to midnight instead.\n",
    "\n",
    "We'll start by creating a **time** object with the default time (which happens to be midnight).  Then we'll combine the date and time to get an object that represents midnight seven days ago."
   ]
  },
  {
   "cell_type": "code",
   "execution_count": null,
   "id": "fa7ba3c6",
   "metadata": {
    "hidden": true
   },
   "outputs": [],
   "source": [
    "# Set the time to midnight\n",
    "midnight = datetime.time()\n",
    "\n",
    "# Combine the date and time\n",
    "start_day_midnight = datetime.datetime.combine(start_date, midnight)\n",
    "\n",
    "start_day_midnight"
   ]
  },
  {
   "cell_type": "markdown",
   "id": "7c07857c",
   "metadata": {
    "hidden": true
   },
   "source": [
    "Note that now, the hour and minute are set to 0 and there are no seconds or microseconds"
   ]
  },
  {
   "cell_type": "markdown",
   "id": "f0156a02",
   "metadata": {
    "heading_collapsed": true
   },
   "source": [
    "#### 3. Format Our Request"
   ]
  },
  {
   "cell_type": "markdown",
   "id": "c9bc96b5",
   "metadata": {
    "hidden": true
   },
   "source": [
    "One of the wonderful things about working with an API is that we can control some of the aspects of our data as we're ingesting it.  Every API is different, so it's worth reviewing API documentation (which is readily available in this case at [this link](https://dev.socrata.com/foundry/data.sfgov.org/vw6y-z8j6).  The parameters we'll use for our query are documented at [this page](https://dev.socrata.com/docs/queries/).\n",
    "\n",
    "Let's think about this in terms of the anatomy of a SQL statement.\n",
    "```\n",
    "SELECT\n",
    "    service_request_id,\n",
    "    requested_datetime,\n",
    "    status_notes,\n",
    "    lat,\n",
    "    long,\n",
    "    neighborhoods_sffind_boundaries,\n",
    "    source,\n",
    "    supervisor_district,\n",
    "    media_url,\n",
    "    point\n",
    "FROM\n",
    "    DATA_SOURCE\n",
    "WHERE\n",
    "    status_description = 'Open' AND requested_datetime > CURRENT_DAY - 1\n",
    "\n",
    "```\n",
    "\n"
   ]
  },
  {
   "cell_type": "markdown",
   "id": "7f0d7cac",
   "metadata": {
    "hidden": true
   },
   "source": [
    "If we start from the top there, the first thing we see is a list of fields.  According to the documentation, we can format that as a comma separated list and pass it along with the URL we're going to."
   ]
  },
  {
   "cell_type": "code",
   "execution_count": null,
   "id": "b6a9c2a7",
   "metadata": {
    "hidden": true
   },
   "outputs": [],
   "source": [
    "field_list = [\n",
    "    'service_request_id',\n",
    "    'requested_datetime',\n",
    "    'status_notes',\n",
    "    'lat',\n",
    "    'long',\n",
    "    'neighborhoods_sffind_boundaries',\n",
    "    'source',\n",
    "    'supervisor_district',\n",
    "    'media_url',\n",
    "    'point'\n",
    "]\n",
    "\n",
    "fields = \"$select=\" + \",\".join(field_list)\n",
    "fields"
   ]
  },
  {
   "cell_type": "markdown",
   "id": "fdcce92c",
   "metadata": {
    "hidden": true
   },
   "source": [
    "TIP - the `.join` method is a method of a string object in Python.  When you pass a list into that method, it will use the string to concatenate all the items in that list and turn them into a string."
   ]
  },
  {
   "cell_type": "markdown",
   "id": "d9a2c574",
   "metadata": {
    "hidden": true
   },
   "source": [
    "Moving down through the SQL query, the next component we see is the `FROM` clause.  That's pretty straightforward in our API.  It's just going to be the root URL of our dataset."
   ]
  },
  {
   "cell_type": "code",
   "execution_count": null,
   "id": "300724c2",
   "metadata": {
    "hidden": true
   },
   "outputs": [],
   "source": [
    "url = \"https://data.sfgov.org/resource/vw6y-z8j6.json\""
   ]
  },
  {
   "cell_type": "markdown",
   "id": "8f45cc84",
   "metadata": {
    "hidden": true
   },
   "source": [
    "The next thing we notice moving down the SQL statement is the `WHERE` clause.  The API documentation shows a where clause that we can format similarly.  The first portion, where we restrict the records returned to only records where `status_description = 'Open'` is pretty straightforward, but the latter portion involving the `CURRENT_DAY` isn't.  That's where our datetime work from Step 2 comes into play.\n",
    "\n",
    "We can format our datetime object into a string format that this API can use.  In this case, the API can read datetimes formatted like *YYYY-MM-DD T H:M:S*.  We'll use a method called **strftime** to return a string in this format."
   ]
  },
  {
   "cell_type": "code",
   "execution_count": null,
   "id": "53b97af0",
   "metadata": {
    "hidden": true
   },
   "outputs": [],
   "source": [
    "formatted_start_day = start_day_midnight.strftime('%Y-%m-%dT%H:%M:%S.%f') \n",
    "formatted_start_day"
   ]
  },
  {
   "cell_type": "markdown",
   "id": "d7b00294",
   "metadata": {
    "hidden": true
   },
   "source": [
    "Now let's put that together with the rest of our `WHERE` clause."
   ]
  },
  {
   "cell_type": "code",
   "execution_count": null,
   "id": "34400870",
   "metadata": {
    "hidden": true
   },
   "outputs": [],
   "source": [
    "where = f\"$where=status_description='Open' and requested_datetime > '{formatted_start_day}'\"\n",
    "where"
   ]
  },
  {
   "cell_type": "markdown",
   "id": "e1b93cd4",
   "metadata": {
    "hidden": true
   },
   "source": [
    "Now we can put the components of our request all together in one URL."
   ]
  },
  {
   "cell_type": "code",
   "execution_count": null,
   "id": "b7c18f5b",
   "metadata": {
    "hidden": true
   },
   "outputs": [],
   "source": [
    "full_url = url+\"?\"+fields+\"&\"+where\n",
    "full_url"
   ]
  },
  {
   "cell_type": "markdown",
   "id": "2bb001c5",
   "metadata": {
    "heading_collapsed": true
   },
   "source": [
    "#### 4. Make a request to the API"
   ]
  },
  {
   "cell_type": "markdown",
   "id": "175ee16a",
   "metadata": {
    "hidden": true
   },
   "source": [
    "Now that we've got our URL formatted, we can actually make our request to the API.  Note that if you were to take that URL represented by the `full_url` variable and put it into a browser, you'd get a response from the API.  We're going to use the **requests** package to do the same thing with Python."
   ]
  },
  {
   "cell_type": "code",
   "execution_count": null,
   "id": "f1dcb343",
   "metadata": {
    "hidden": true
   },
   "outputs": [],
   "source": [
    "response = requests.get(full_url)\n",
    "response"
   ]
  },
  {
   "cell_type": "markdown",
   "id": "36ebf050",
   "metadata": {
    "hidden": true
   },
   "source": [
    "Note that we get a **response** object as a result showing its `status_code` property.  These codes tell us whether our request was successful.  Two of the most common responses include 200 (successful) and 404 (not found).  [This Link](https://en.wikipedia.org/wiki/List_of_HTTP_status_codes) contains a fairly comprehensive list of codes.\n",
    "\n",
    "As long as the response code is in the 200s, we're good to go.  In this case, we're expecting a response that containing JSON information.  We'll call the `text` property to retrieve that data."
   ]
  },
  {
   "cell_type": "code",
   "execution_count": null,
   "id": "948081a9",
   "metadata": {
    "hidden": true
   },
   "outputs": [],
   "source": [
    "response_text = response.text"
   ]
  },
  {
   "cell_type": "markdown",
   "id": "afbbc4fb",
   "metadata": {
    "hidden": true
   },
   "source": [
    "Let's take a look at our results.  Before printing the entire response, we should probably see what the type of the response is and how long it is.  Then we can take a look at the first 1000 characters of the data to get an idea of what it looks like."
   ]
  },
  {
   "cell_type": "code",
   "execution_count": null,
   "id": "07214650",
   "metadata": {
    "hidden": true
   },
   "outputs": [],
   "source": [
    "print(type(response_text))\n",
    "print(len(response_text))\n",
    "response_text[0:1000]"
   ]
  },
  {
   "cell_type": "markdown",
   "id": "aa0e1b6d",
   "metadata": {
    "hidden": true
   },
   "source": [
    "This looks like we would expect for JSON data.  We can see it starts with a square bracket and then a curly bracket.  This tells me it's likely an array of objects.  The problem is that all that information is organized as a single string.  We'll need to change that into Python data types like lists and dictionaries to effectively work with it further."
   ]
  },
  {
   "cell_type": "markdown",
   "id": "1befe58c",
   "metadata": {
    "heading_collapsed": true
   },
   "source": [
    "#### 5. Format the Results of the Request"
   ]
  },
  {
   "cell_type": "markdown",
   "id": "50a26702",
   "metadata": {
    "hidden": true
   },
   "source": [
    "This is where our **json** package comes into play.  The json package can parse strings (or byte streams) and load our data into useful Python data types.  In this case, since our input is a string, we'll call the **loads** method."
   ]
  },
  {
   "cell_type": "code",
   "execution_count": null,
   "id": "250ca9ee",
   "metadata": {
    "hidden": true
   },
   "outputs": [],
   "source": [
    "results_list = json.loads(response_text)\n",
    "results_list[0:2]"
   ]
  },
  {
   "cell_type": "markdown",
   "id": "7359ded1",
   "metadata": {
    "hidden": true
   },
   "source": [
    "Now our data is formatted nicely into recognizable and accessible Python data structures.  The array of features is represented as a list.  Each feature in that array is represented by a dictionary.  Now we can index into the list and access key/value pairs for each field in a feature.\n",
    "\n",
    "That's useful, but it'd be way easier to manipulate that data if it was in a table.  So let's create a DataFrame out of the data."
   ]
  },
  {
   "cell_type": "code",
   "execution_count": null,
   "id": "cd83a50b",
   "metadata": {
    "hidden": true,
    "scrolled": true
   },
   "outputs": [],
   "source": [
    "df = pandas.DataFrame(results_list)\n",
    "df.head()"
   ]
  },
  {
   "cell_type": "code",
   "execution_count": null,
   "id": "917cebe3",
   "metadata": {
    "hidden": true
   },
   "outputs": [],
   "source": []
  }
 ],
 "metadata": {
  "kernelspec": {
   "display_name": "Python 3 (ipykernel)",
   "language": "python",
   "name": "python3"
  },
  "language_info": {
   "codemirror_mode": {
    "name": "ipython",
    "version": 3
   },
   "file_extension": ".py",
   "mimetype": "text/x-python",
   "name": "python",
   "nbconvert_exporter": "python",
   "pygments_lexer": "ipython3",
   "version": "3.9.18"
  }
 },
 "nbformat": 4,
 "nbformat_minor": 5
}
