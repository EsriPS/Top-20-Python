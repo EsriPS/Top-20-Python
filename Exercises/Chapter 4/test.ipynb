{
 "cells": [
  {
   "cell_type": "code",
   "execution_count": 14,
   "metadata": {},
   "outputs": [],
   "source": [
    "def mylist(the_list = []):\n",
    "        the_list.append(\"hi\")\n",
    "        print(the_list)"
   ]
  },
  {
   "cell_type": "code",
   "execution_count": 17,
   "metadata": {},
   "outputs": [
    {
     "name": "stdout",
     "output_type": "stream",
     "text": [
      "['hi', 'hi', 'hi']\n",
      "['hi', 'hi', 'hi', 'hi']\n"
     ]
    }
   ],
   "source": [
    "mylist()\n",
    "\n",
    "mylist() # This is a new object, somehow the_list is persisting between objects"
   ]
  },
  {
   "cell_type": "code",
   "execution_count": 20,
   "metadata": {},
   "outputs": [
    {
     "data": {
      "text/plain": [
       "{'__name__': '__main__',\n",
       " '__doc__': 'Automatically created module for IPython interactive environment',\n",
       " '__package__': None,\n",
       " '__loader__': None,\n",
       " '__spec__': None,\n",
       " '__builtin__': <module 'builtins' (built-in)>,\n",
       " '__builtins__': <module 'builtins' (built-in)>,\n",
       " '_ih': ['',\n",
       "  'class test:\\n    def mylist(self, old_list = []):\\n        old_list.append(\"hi\")\\n        print(old_list)',\n",
       "  'test().mylist()\\n\\ntest().mylist()',\n",
       "  'test().mylist()\\n\\ntest().mylist()',\n",
       "  'def mylist(self, old_list = []):\\n        old_list.append(\"hi\")\\n        print(old_list)',\n",
       "  'mylist()\\n\\nmylist()',\n",
       "  'mylist()\\n\\nmylist()',\n",
       "  'def mylist(old_list = []):\\n        old_list.append(\"hi\")\\n        print(old_list)',\n",
       "  'mylist()\\n\\nmylist()',\n",
       "  'mylist()\\n\\nmylist()',\n",
       "  'def mylist(the_list = []):\\n        the_list.append(\"hi\")\\n        print(the_list)',\n",
       "  'mylist()\\n\\nmylist()',\n",
       "  'mylist()\\n\\nmylist()',\n",
       "  'the_list',\n",
       "  'def mylist(the_list = []):\\n        the_list.append(\"hi\")\\n        print(the_list)',\n",
       "  'mylist()\\n\\nmylist()',\n",
       "  'the_list',\n",
       "  'mylist()\\n\\nmylist()',\n",
       "  'the_list',\n",
       "  'globals()',\n",
       "  'locals()'],\n",
       " '_oh': {19: {...}},\n",
       " '_dh': ['c:\\\\Users\\\\dan11332\\\\Development\\\\Top-20-Python\\\\Exercises\\\\Chapter 4'],\n",
       " 'In': ['',\n",
       "  'class test:\\n    def mylist(self, old_list = []):\\n        old_list.append(\"hi\")\\n        print(old_list)',\n",
       "  'test().mylist()\\n\\ntest().mylist()',\n",
       "  'test().mylist()\\n\\ntest().mylist()',\n",
       "  'def mylist(self, old_list = []):\\n        old_list.append(\"hi\")\\n        print(old_list)',\n",
       "  'mylist()\\n\\nmylist()',\n",
       "  'mylist()\\n\\nmylist()',\n",
       "  'def mylist(old_list = []):\\n        old_list.append(\"hi\")\\n        print(old_list)',\n",
       "  'mylist()\\n\\nmylist()',\n",
       "  'mylist()\\n\\nmylist()',\n",
       "  'def mylist(the_list = []):\\n        the_list.append(\"hi\")\\n        print(the_list)',\n",
       "  'mylist()\\n\\nmylist()',\n",
       "  'mylist()\\n\\nmylist()',\n",
       "  'the_list',\n",
       "  'def mylist(the_list = []):\\n        the_list.append(\"hi\")\\n        print(the_list)',\n",
       "  'mylist()\\n\\nmylist()',\n",
       "  'the_list',\n",
       "  'mylist()\\n\\nmylist()',\n",
       "  'the_list',\n",
       "  'globals()',\n",
       "  'locals()'],\n",
       " 'Out': {19: {...}},\n",
       " 'get_ipython': <bound method InteractiveShell.get_ipython of <ipykernel.zmqshell.ZMQInteractiveShell object at 0x000001CE14D87550>>,\n",
       " 'exit': <IPython.core.autocall.ZMQExitAutocall at 0x1ce155cf220>,\n",
       " 'quit': <IPython.core.autocall.ZMQExitAutocall at 0x1ce155cf220>,\n",
       " '_': {...},\n",
       " '__': '',\n",
       " '___': '',\n",
       " '__vsc_ipynb_file__': 'c:\\\\Users\\\\dan11332\\\\Development\\\\Top-20-Python\\\\Exercises\\\\Chapter 4\\\\test.ipynb',\n",
       " '_i': 'globals()',\n",
       " '_ii': 'the_list',\n",
       " '_iii': 'mylist()\\n\\nmylist()',\n",
       " '_i1': 'class test:\\n    def mylist(self, old_list = []):\\n        old_list.append(\"hi\")\\n        print(old_list)',\n",
       " 'test': __main__.test,\n",
       " '_i2': 'test().mylist()\\n\\ntest().mylist()',\n",
       " '_i3': 'test().mylist()\\n\\ntest().mylist()',\n",
       " '_i4': 'def mylist(self, old_list = []):\\n        old_list.append(\"hi\")\\n        print(old_list)',\n",
       " 'mylist': <function __main__.mylist(the_list=['hi', 'hi', 'hi', 'hi'])>,\n",
       " '_i5': 'mylist()\\n\\nmylist()',\n",
       " '_i6': 'mylist()\\n\\nmylist()',\n",
       " '_i7': 'def mylist(old_list = []):\\n        old_list.append(\"hi\")\\n        print(old_list)',\n",
       " '_i8': 'mylist()\\n\\nmylist()',\n",
       " '_i9': 'mylist()\\n\\nmylist()',\n",
       " '_i10': 'def mylist(the_list = []):\\n        the_list.append(\"hi\")\\n        print(the_list)',\n",
       " '_i11': 'mylist()\\n\\nmylist()',\n",
       " '_i12': 'mylist()\\n\\nmylist()',\n",
       " '_i13': 'the_list',\n",
       " '_i14': 'def mylist(the_list = []):\\n        the_list.append(\"hi\")\\n        print(the_list)',\n",
       " '_i15': 'mylist()\\n\\nmylist()',\n",
       " '_i16': 'the_list',\n",
       " '_i17': 'mylist()\\n\\nmylist()',\n",
       " '_i18': 'the_list',\n",
       " '_i19': 'globals()',\n",
       " '_19': {...},\n",
       " '_i20': 'locals()'}"
      ]
     },
     "execution_count": 20,
     "metadata": {},
     "output_type": "execute_result"
    }
   ],
   "source": [
    "locals()"
   ]
  }
 ],
 "metadata": {
  "kernelspec": {
   "display_name": "Python 3",
   "language": "python",
   "name": "python3"
  },
  "language_info": {
   "codemirror_mode": {
    "name": "ipython",
    "version": 3
   },
   "file_extension": ".py",
   "mimetype": "text/x-python",
   "name": "python",
   "nbconvert_exporter": "python",
   "pygments_lexer": "ipython3",
   "version": "3.9.16"
  }
 },
 "nbformat": 4,
 "nbformat_minor": 2
}
