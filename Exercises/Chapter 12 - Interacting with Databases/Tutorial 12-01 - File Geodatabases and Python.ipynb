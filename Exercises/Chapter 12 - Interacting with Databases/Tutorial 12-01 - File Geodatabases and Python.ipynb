{
 "cells": [
  {
   "cell_type": "markdown",
   "id": "0fc63faf",
   "metadata": {},
   "source": [
    "# Tutorial 12-01: File Geodatabases and Python"
   ]
  },
  {
   "cell_type": "markdown",
   "id": "fd716ff5",
   "metadata": {},
   "source": [
    "In this tutorial, we'll explore a file geodatabase using ArcPy.  In this case, in our work with GeoNinjas PythonAnalytics, we've been given a file geodatabase with a schema that we're not familiar with.  We'll use Python to find all the feature classes and tables in the file geodatabase and gather some descriptive information about each."
   ]
  },
  {
   "cell_type": "markdown",
   "id": "4f1ea94b",
   "metadata": {
    "heading_collapsed": true
   },
   "source": [
    "## Opening a File Geodatabase and Listing the Contents"
   ]
  },
  {
   "cell_type": "markdown",
   "id": "5860a796",
   "metadata": {
    "heading_collapsed": true,
    "hidden": true
   },
   "source": [
    "#### 1.  Import arcpy"
   ]
  },
  {
   "cell_type": "markdown",
   "id": "39058656",
   "metadata": {
    "hidden": true
   },
   "source": [
    "You'll start by importing the ArcPy package.  This will allow you to interact with the database pythonically."
   ]
  },
  {
   "cell_type": "code",
   "execution_count": 1,
   "id": "2c9e28d1",
   "metadata": {
    "hidden": true
   },
   "outputs": [],
   "source": [
    "import arcpy"
   ]
  },
  {
   "cell_type": "markdown",
   "id": "83566f37",
   "metadata": {
    "heading_collapsed": true,
    "hidden": true
   },
   "source": [
    "#### 2.  Enter the path to the file geodatabase."
   ]
  },
  {
   "cell_type": "markdown",
   "id": "2db4c272",
   "metadata": {
    "hidden": true
   },
   "source": [
    "File geodatabases are composed of many files in a single folder.  Your entry point to the data included in the file geodatabase will be that folder path.  Start by saving that folder path as a variable."
   ]
  },
  {
   "cell_type": "code",
   "execution_count": 2,
   "id": "435c8010",
   "metadata": {
    "hidden": true
   },
   "outputs": [],
   "source": [
    "file_gdb = \"./indoors_test.gdb\""
   ]
  },
  {
   "cell_type": "markdown",
   "id": "001fb21a",
   "metadata": {
    "hidden": true
   },
   "source": [
    "Now that you've got your path saved, it's helpful to make sure that it's valid.  You can use `arcpy.Exists()` to ensure that your path is valid."
   ]
  },
  {
   "cell_type": "code",
   "execution_count": 3,
   "id": "b4d34936",
   "metadata": {
    "hidden": true
   },
   "outputs": [
    {
     "data": {
      "text/plain": [
       "True"
      ]
     },
     "execution_count": 3,
     "metadata": {},
     "output_type": "execute_result"
    }
   ],
   "source": [
    "arcpy.Exists(file_gdb)"
   ]
  },
  {
   "cell_type": "markdown",
   "id": "d2fc212c",
   "metadata": {
    "heading_collapsed": true,
    "hidden": true
   },
   "source": [
    "#### 3.  Set the geodatabase as your workspace"
   ]
  },
  {
   "cell_type": "markdown",
   "id": "a8cd686f",
   "metadata": {
    "hidden": true
   },
   "source": [
    "Before you use some of the built-in functions that ArcPy has to list the datasets in this geodatabase, you'll need to set the database as your workspace.  "
   ]
  },
  {
   "cell_type": "code",
   "execution_count": 4,
   "id": "f811febf",
   "metadata": {
    "hidden": true
   },
   "outputs": [],
   "source": [
    "arcpy.env.workspace = file_gdb"
   ]
  },
  {
   "cell_type": "markdown",
   "id": "26448694",
   "metadata": {
    "heading_collapsed": true,
    "hidden": true
   },
   "source": [
    "#### 4.  List all the feature classes."
   ]
  },
  {
   "cell_type": "markdown",
   "id": "9c064d85",
   "metadata": {
    "hidden": true
   },
   "source": [
    "The first thing you might be interested in is what feature classes are in this geodatabase.  ArcPy has a handy function for this with some very simple syntax."
   ]
  },
  {
   "cell_type": "code",
   "execution_count": 5,
   "id": "1935cd1c",
   "metadata": {
    "hidden": true
   },
   "outputs": [
    {
     "data": {
      "text/plain": [
       "['GDB_ValidationPointErrors',\n",
       " 'GDB_ValidationLineErrors',\n",
       " 'GDB_ValidationPolygonErrors']"
      ]
     },
     "execution_count": 5,
     "metadata": {},
     "output_type": "execute_result"
    }
   ],
   "source": [
    "arcpy.ListFeatureClasses()"
   ]
  },
  {
   "cell_type": "markdown",
   "id": "56a05e34",
   "metadata": {
    "hidden": true
   },
   "source": [
    "That returned a list of feature classes, but it seems odd that the only feature classes in this geodatabase would be validation error feature classes.  If you were to open this in ArcGIS Pro, you'd see several other feature classes.  They are in Feature Datasets though."
   ]
  },
  {
   "cell_type": "markdown",
   "id": "8e8f57be",
   "metadata": {
    "heading_collapsed": true,
    "hidden": true
   },
   "source": [
    "#### 5.  List all the feature datasets."
   ]
  },
  {
   "cell_type": "markdown",
   "id": "5e0169a8",
   "metadata": {
    "hidden": true
   },
   "source": [
    "Since you suspect there might be other feature classes in feature datasets, the first step in finding them would be to list all the feature datasets.  ArcPy can do that as well."
   ]
  },
  {
   "cell_type": "code",
   "execution_count": 6,
   "id": "a63dfb93",
   "metadata": {
    "hidden": true
   },
   "outputs": [
    {
     "data": {
      "text/plain": [
       "['Indoors', 'Network', 'PrelimNetwork']"
      ]
     },
     "execution_count": 6,
     "metadata": {},
     "output_type": "execute_result"
    }
   ],
   "source": [
    "arcpy.ListDatasets()"
   ]
  },
  {
   "cell_type": "markdown",
   "id": "f19b9e30",
   "metadata": {
    "heading_collapsed": true,
    "hidden": true
   },
   "source": [
    "#### 6.  List all the tables"
   ]
  },
  {
   "cell_type": "markdown",
   "id": "4ec86029",
   "metadata": {
    "hidden": true
   },
   "source": [
    "In addition to feature classes, you can also list the tables to account for any non-spatial data."
   ]
  },
  {
   "cell_type": "code",
   "execution_count": 7,
   "id": "7e2998db",
   "metadata": {
    "hidden": true
   },
   "outputs": [
    {
     "data": {
      "text/plain": [
       "['Areas', 'AreaRoles', 'IndoorsConfig']"
      ]
     },
     "execution_count": 7,
     "metadata": {},
     "output_type": "execute_result"
    }
   ],
   "source": [
    "arcpy.ListTables()"
   ]
  },
  {
   "cell_type": "markdown",
   "id": "997b5c36",
   "metadata": {
    "heading_collapsed": true,
    "hidden": true
   },
   "source": [
    "#### 7.  Iterate through the database and list everything."
   ]
  },
  {
   "cell_type": "markdown",
   "id": "8880b545",
   "metadata": {
    "hidden": true
   },
   "source": [
    "You can put all those functions together in a small code block to list all the feature classes and tables in the geodatabase.  You can start by iterating through each dataset and printing every feature class in each dataset.  Then you can list all the feature classes and tables that are not in feature datasets."
   ]
  },
  {
   "cell_type": "code",
   "execution_count": 8,
   "id": "5cb38df0",
   "metadata": {
    "hidden": true
   },
   "outputs": [
    {
     "name": "stdout",
     "output_type": "stream",
     "text": [
      "Indoors\n",
      "  Levels\n",
      "  TrackingZones\n",
      "  Details\n",
      "  Zones\n",
      "  Events\n",
      "  Sections\n",
      "  Units\n",
      "  Sites\n",
      "  Facilities\n",
      "  Occupants\n",
      "  Reservations\n",
      "Network\n",
      "  Landmarks\n",
      "  Transitions\n",
      "  Pathways\n",
      "PrelimNetwork\n",
      "  PrelimTransitions\n",
      "  PrelimPathways\n",
      "GDB_ValidationPointErrors\n",
      "GDB_ValidationLineErrors\n",
      "GDB_ValidationPolygonErrors\n",
      "Areas\n",
      "AreaRoles\n",
      "IndoorsConfig\n"
     ]
    }
   ],
   "source": [
    "# iterate through each feature dataset\n",
    "for dataset in arcpy.ListDatasets():\n",
    "    \n",
    "    # print the dataset name\n",
    "    print(dataset)\n",
    "    \n",
    "    # within each dataset, list all the feature classes\n",
    "    for fc in arcpy.ListFeatureClasses(feature_dataset=dataset):\n",
    "        \n",
    "        # print the name of each feature class\n",
    "        print(f\"  {fc}\")\n",
    "        \n",
    "# print the names of the feature classes that are not in feature datasets       \n",
    "for fc in arcpy.ListFeatureClasses():\n",
    "    print(fc)\n",
    "    \n",
    "# print the name of each table\n",
    "for table in arcpy.ListTables():\n",
    "    print(table)"
   ]
  },
  {
   "cell_type": "markdown",
   "id": "02bf6f8d",
   "metadata": {
    "hidden": true
   },
   "source": [
    "Now you've got a pretty good idea of what's in this geodatabase."
   ]
  },
  {
   "cell_type": "markdown",
   "id": "dc2822c7",
   "metadata": {
    "heading_collapsed": true
   },
   "source": [
    "## Walk the Geodatabase"
   ]
  },
  {
   "cell_type": "markdown",
   "id": "2b63ed78",
   "metadata": {
    "hidden": true
   },
   "source": [
    "The approach you used above is very specific to ArcPy.  There's another approach included in ArcPy that is more consistent with how other packages approach working your way through a directory or database.  One of the nice things about using this approach with ArcPy is that you can use this approach within a single database or folder, but also use it to iterate through multiple databases and folders."
   ]
  },
  {
   "cell_type": "markdown",
   "id": "157f4266",
   "metadata": {
    "heading_collapsed": true,
    "hidden": true
   },
   "source": [
    "#### 1.  Create a walk object."
   ]
  },
  {
   "cell_type": "markdown",
   "id": "e1e4939c",
   "metadata": {
    "hidden": true
   },
   "source": [
    "Before you're off and running (pun intended) with this `Walk` object, it's worth unpacking how it works.  The syntax can be a little confusing at first because it involves nested for loops.  You can always break down this functionality and go through it step by step though.  Start by creating a `Walk` object on your file geodatabase"
   ]
  },
  {
   "cell_type": "code",
   "execution_count": 16,
   "id": "713f0152",
   "metadata": {
    "hidden": true
   },
   "outputs": [
    {
     "data": {
      "text/plain": [
       "<Workspace Walker object at 0x1ba55985f80>"
      ]
     },
     "execution_count": 16,
     "metadata": {},
     "output_type": "execute_result"
    }
   ],
   "source": [
    "fgdb_walker = arcpy.da.Walk(file_gdb)\n",
    "fgdb_walker"
   ]
  },
  {
   "cell_type": "markdown",
   "id": "b6cb6cf0",
   "metadata": {
    "heading_collapsed": true,
    "hidden": true
   },
   "source": [
    "#### 2.  Use the next() function."
   ]
  },
  {
   "cell_type": "markdown",
   "id": "3b899f3a",
   "metadata": {
    "hidden": true
   },
   "source": [
    "The `Walk` class is a special kind of class in Python called a *generator*.  A generator is a class that you can iterate against (with something like a for-loop.  There is also a built-in function that Python has called `next()`.  When you call `next()` on a generator it will return the next item that would be returned in an iteration.  One of the neat features about generators is that they can keep track of which item they're on.  This will make more sense as we move through this.  Start by calling the `next()` function on your `Walk` object."
   ]
  },
  {
   "cell_type": "code",
   "execution_count": 17,
   "id": "c4e8ef53",
   "metadata": {
    "hidden": true
   },
   "outputs": [
    {
     "data": {
      "text/plain": [
       "('./indoors_test.gdb',\n",
       " ['Indoors', 'Network', 'PrelimNetwork'],\n",
       " ['GDB_ValidationObjectErrors',\n",
       "  'GDB_ValidationPointErrors',\n",
       "  'GDB_ValidationLineErrors',\n",
       "  'GDB_ValidationPolygonErrors',\n",
       "  'Areas',\n",
       "  'AreaRoles',\n",
       "  'IndoorsConfig'])"
      ]
     },
     "execution_count": 17,
     "metadata": {},
     "output_type": "execute_result"
    }
   ],
   "source": [
    "next(fgdb_walker)"
   ]
  },
  {
   "cell_type": "markdown",
   "id": "a5b6bc41",
   "metadata": {
    "hidden": true
   },
   "source": [
    "What we see here is a tuple with three items in it.  The items are:\n",
    " - a string representing the path of the file geodatabase\n",
    " - a list representing the three feature datasets in the file geodatabase\n",
    " - a list representing all the feature classes and tables in the that aren't in a file geodatabase.\n",
    " \n",
    "If you were working through a folder structure, it would be the same concept.  The second item in the tuple would be sub-folders or sub-directories.  The third item would be the files that are in that folder.\n",
    "\n",
    "Now call `next()` again and see what happens."
   ]
  },
  {
   "cell_type": "code",
   "execution_count": 18,
   "id": "2e86f47f",
   "metadata": {
    "hidden": true
   },
   "outputs": [
    {
     "data": {
      "text/plain": [
       "('C:\\\\Users\\\\dav11274\\\\Desktop\\\\github\\\\Top-20-Python\\\\Exercises\\\\Chapter 12 - Interacting with Databases\\\\indoors_test.gdb\\\\Indoors',\n",
       " [],\n",
       " ['Levels',\n",
       "  'TrackingZones',\n",
       "  'Details',\n",
       "  'Zones',\n",
       "  'Events',\n",
       "  'Sections',\n",
       "  'Units',\n",
       "  'Sites',\n",
       "  'Facilities',\n",
       "  'Occupants',\n",
       "  'Reservations'])"
      ]
     },
     "execution_count": 18,
     "metadata": {},
     "output_type": "execute_result"
    }
   ],
   "source": [
    "next(fgdb_walker)"
   ]
  },
  {
   "cell_type": "markdown",
   "id": "57871358",
   "metadata": {
    "hidden": true
   },
   "source": [
    "Now the `Walk` object has returned another tuple, but with different content.  The first item now shows the path to the file geodatabase AND the first feature dataset.  This indicates that the `Walk` object is working its way through the feature datasets (or sub-directories).  The second item in the tuple is an empty list indicating that there are no further sub-directories in this feature dataset.  The third item lists all the feature classes (or files) in this feature dataset.\n",
    "\n",
    "Now call `next()` again and see what happens."
   ]
  },
  {
   "cell_type": "code",
   "execution_count": 19,
   "id": "5b24eded",
   "metadata": {
    "hidden": true
   },
   "outputs": [
    {
     "data": {
      "text/plain": [
       "('C:\\\\Users\\\\dav11274\\\\Desktop\\\\github\\\\Top-20-Python\\\\Exercises\\\\Chapter 12 - Interacting with Databases\\\\indoors_test.gdb\\\\Network',\n",
       " [],\n",
       " ['Landmarks', 'Transitions', 'Pathways'])"
      ]
     },
     "execution_count": 19,
     "metadata": {},
     "output_type": "execute_result"
    }
   ],
   "source": [
    "next(fgdb_walker)"
   ]
  },
  {
   "cell_type": "markdown",
   "id": "41a0fe12",
   "metadata": {
    "hidden": true
   },
   "source": [
    "This time, we're getting the same structure but with the next feature dataset.  We saw in the first iteration that there were three feature datasets.  So we would expect to see another one the next time we call it."
   ]
  },
  {
   "cell_type": "code",
   "execution_count": 20,
   "id": "992f82e8",
   "metadata": {
    "hidden": true
   },
   "outputs": [
    {
     "data": {
      "text/plain": [
       "('C:\\\\Users\\\\dav11274\\\\Desktop\\\\github\\\\Top-20-Python\\\\Exercises\\\\Chapter 12 - Interacting with Databases\\\\indoors_test.gdb\\\\PrelimNetwork',\n",
       " [],\n",
       " ['PrelimTransitions', 'PrelimPathways'])"
      ]
     },
     "execution_count": 20,
     "metadata": {},
     "output_type": "execute_result"
    }
   ],
   "source": [
    "next(fgdb_walker)"
   ]
  },
  {
   "cell_type": "markdown",
   "id": "9788451c",
   "metadata": {
    "hidden": true
   },
   "source": [
    "That was the last feature dataset to work through.  Now try running `next()` again."
   ]
  },
  {
   "cell_type": "code",
   "execution_count": 21,
   "id": "7f590100",
   "metadata": {
    "hidden": true
   },
   "outputs": [
    {
     "ename": "StopIteration",
     "evalue": "",
     "output_type": "error",
     "traceback": [
      "\u001b[1;31m---------------------------------------------------------------------------\u001b[0m",
      "\u001b[1;31mStopIteration\u001b[0m                             Traceback (most recent call last)",
      "\u001b[1;32m~\\AppData\\Local\\Temp\\1\\ipykernel_23972\\3944650391.py\u001b[0m in \u001b[0;36m<cell line: 0>\u001b[1;34m()\u001b[0m\n\u001b[1;32m----> 1\u001b[1;33m \u001b[0mnext\u001b[0m\u001b[1;33m(\u001b[0m\u001b[0mfgdb_walker\u001b[0m\u001b[1;33m)\u001b[0m\u001b[1;33m\u001b[0m\u001b[1;33m\u001b[0m\u001b[0m\n\u001b[0m",
      "\u001b[1;31mStopIteration\u001b[0m: "
     ]
    }
   ],
   "source": [
    "next(fgdb_walker)"
   ]
  },
  {
   "cell_type": "markdown",
   "id": "3459c78b",
   "metadata": {
    "hidden": true
   },
   "source": [
    "If you got a **StopIteration:** error, don't worry.  That's expected.  You've reached the end of what you can iterate through in this file geodatabase.  "
   ]
  },
  {
   "cell_type": "markdown",
   "id": "6b1163eb",
   "metadata": {
    "heading_collapsed": true,
    "hidden": true
   },
   "source": [
    "#### 3.  Write a for-loop with the Walk object."
   ]
  },
  {
   "cell_type": "markdown",
   "id": "b53d651d",
   "metadata": {
    "hidden": true
   },
   "source": [
    "Now that you understand what's going on with a `Walk` object, you can write a for loop on it.  This is a much more common pattern.  The first thing you'll do is iterate through the tuples that the `Walk` object returns.  Then you can iterate through the the sub-directories or files that are returned in each tuple."
   ]
  },
  {
   "cell_type": "code",
   "execution_count": 24,
   "id": "0cceb6fe",
   "metadata": {
    "hidden": true
   },
   "outputs": [
    {
     "name": "stdout",
     "output_type": "stream",
     "text": [
      "GDB_ValidationObjectErrors\n",
      "GDB_ValidationPointErrors\n",
      "GDB_ValidationLineErrors\n",
      "GDB_ValidationPolygonErrors\n",
      "Areas\n",
      "AreaRoles\n",
      "IndoorsConfig\n",
      "Levels\n",
      "TrackingZones\n",
      "Details\n",
      "Zones\n",
      "Events\n",
      "Sections\n",
      "Units\n",
      "Sites\n",
      "Facilities\n",
      "Occupants\n",
      "Reservations\n",
      "Landmarks\n",
      "Transitions\n",
      "Pathways\n",
      "PrelimTransitions\n",
      "PrelimPathways\n"
     ]
    }
   ],
   "source": [
    "# unpack the tuples from the Walk object\n",
    "for root, directories, files in arcpy.da.Walk(file_gdb):\n",
    "    \n",
    "    # iterate through individual files\n",
    "    for file in files:\n",
    "        print(file)"
   ]
  },
  {
   "cell_type": "markdown",
   "id": "1f5534b8",
   "metadata": {
    "hidden": true
   },
   "source": [
    "This is great and it gives you all the feature class and table names without having to do your own checking for sub-directories or feature datasets.  One thing that this didn't do is give us the full path to each item though.  Fortunately, you can use the `os` package to combine the root directory and file name to get the full path."
   ]
  },
  {
   "cell_type": "code",
   "execution_count": 26,
   "id": "89f809f4",
   "metadata": {
    "hidden": true
   },
   "outputs": [],
   "source": [
    "import os"
   ]
  },
  {
   "cell_type": "code",
   "execution_count": 27,
   "id": "6567e048",
   "metadata": {
    "hidden": true
   },
   "outputs": [
    {
     "name": "stdout",
     "output_type": "stream",
     "text": [
      "./indoors_test.gdb\\GDB_ValidationObjectErrors\n",
      "./indoors_test.gdb\\GDB_ValidationPointErrors\n",
      "./indoors_test.gdb\\GDB_ValidationLineErrors\n",
      "./indoors_test.gdb\\GDB_ValidationPolygonErrors\n",
      "./indoors_test.gdb\\Areas\n",
      "./indoors_test.gdb\\AreaRoles\n",
      "./indoors_test.gdb\\IndoorsConfig\n",
      "C:\\Users\\dav11274\\Desktop\\github\\Top-20-Python\\Exercises\\Chapter 12 - Interacting with Databases\\indoors_test.gdb\\Indoors\\Levels\n",
      "C:\\Users\\dav11274\\Desktop\\github\\Top-20-Python\\Exercises\\Chapter 12 - Interacting with Databases\\indoors_test.gdb\\Indoors\\TrackingZones\n",
      "C:\\Users\\dav11274\\Desktop\\github\\Top-20-Python\\Exercises\\Chapter 12 - Interacting with Databases\\indoors_test.gdb\\Indoors\\Details\n",
      "C:\\Users\\dav11274\\Desktop\\github\\Top-20-Python\\Exercises\\Chapter 12 - Interacting with Databases\\indoors_test.gdb\\Indoors\\Zones\n",
      "C:\\Users\\dav11274\\Desktop\\github\\Top-20-Python\\Exercises\\Chapter 12 - Interacting with Databases\\indoors_test.gdb\\Indoors\\Events\n",
      "C:\\Users\\dav11274\\Desktop\\github\\Top-20-Python\\Exercises\\Chapter 12 - Interacting with Databases\\indoors_test.gdb\\Indoors\\Sections\n",
      "C:\\Users\\dav11274\\Desktop\\github\\Top-20-Python\\Exercises\\Chapter 12 - Interacting with Databases\\indoors_test.gdb\\Indoors\\Units\n",
      "C:\\Users\\dav11274\\Desktop\\github\\Top-20-Python\\Exercises\\Chapter 12 - Interacting with Databases\\indoors_test.gdb\\Indoors\\Sites\n",
      "C:\\Users\\dav11274\\Desktop\\github\\Top-20-Python\\Exercises\\Chapter 12 - Interacting with Databases\\indoors_test.gdb\\Indoors\\Facilities\n",
      "C:\\Users\\dav11274\\Desktop\\github\\Top-20-Python\\Exercises\\Chapter 12 - Interacting with Databases\\indoors_test.gdb\\Indoors\\Occupants\n",
      "C:\\Users\\dav11274\\Desktop\\github\\Top-20-Python\\Exercises\\Chapter 12 - Interacting with Databases\\indoors_test.gdb\\Indoors\\Reservations\n",
      "C:\\Users\\dav11274\\Desktop\\github\\Top-20-Python\\Exercises\\Chapter 12 - Interacting with Databases\\indoors_test.gdb\\Network\\Landmarks\n",
      "C:\\Users\\dav11274\\Desktop\\github\\Top-20-Python\\Exercises\\Chapter 12 - Interacting with Databases\\indoors_test.gdb\\Network\\Transitions\n",
      "C:\\Users\\dav11274\\Desktop\\github\\Top-20-Python\\Exercises\\Chapter 12 - Interacting with Databases\\indoors_test.gdb\\Network\\Pathways\n",
      "C:\\Users\\dav11274\\Desktop\\github\\Top-20-Python\\Exercises\\Chapter 12 - Interacting with Databases\\indoors_test.gdb\\PrelimNetwork\\PrelimTransitions\n",
      "C:\\Users\\dav11274\\Desktop\\github\\Top-20-Python\\Exercises\\Chapter 12 - Interacting with Databases\\indoors_test.gdb\\PrelimNetwork\\PrelimPathways\n"
     ]
    }
   ],
   "source": [
    "# unpack the tuples from the Walk object\n",
    "for root, directories, files in arcpy.da.Walk(file_gdb):\n",
    "    \n",
    "    # iterate through individual files\n",
    "    for file in files:\n",
    "        \n",
    "        # combine root and file to get the full path\n",
    "        full_path = os.path.join(root, file)\n",
    "        \n",
    "        print(full_path)"
   ]
  },
  {
   "cell_type": "markdown",
   "id": "caf27ee7",
   "metadata": {
    "hidden": true
   },
   "source": [
    "Now you can use these full paths in your data processing or geoprocessing."
   ]
  },
  {
   "cell_type": "markdown",
   "id": "b8db805e",
   "metadata": {
    "heading_collapsed": true
   },
   "source": [
    "## Describing Datasets"
   ]
  },
  {
   "cell_type": "markdown",
   "id": "dda707d8",
   "metadata": {
    "hidden": true
   },
   "source": [
    "Now that you've identified all the contents of a file geodatabase, you can pull some descriptive information about each item.  ArcPy has a class that does just this.  It's called `Describe()`."
   ]
  },
  {
   "cell_type": "markdown",
   "id": "c346b635",
   "metadata": {
    "heading_collapsed": true,
    "hidden": true
   },
   "source": [
    "#### 1.  Describe a table."
   ]
  },
  {
   "cell_type": "markdown",
   "id": "0d72a28f",
   "metadata": {
    "hidden": true
   },
   "source": [
    "The `Describe()` object pulls a lot of metadata about a table or feature class.  Start by creating a `Describe()` object on a table in the geodatabase."
   ]
  },
  {
   "cell_type": "code",
   "execution_count": 31,
   "id": "3e7e4871",
   "metadata": {
    "hidden": true
   },
   "outputs": [
    {
     "data": {
      "text/html": [
       "<style>table td#td0  {font-weight: bold}</style><table class=\"notebook\"><colgroup><col style=\"width:45%\"></col><col style=\"width:55%\"></col></colgroup><tr><td id = \"td0\" title=\"catalogPath\">catalogPath</td><td title=\"./indoors_test.gdb\\IndoorsConfig\">./indoors_test.gdb\\IndoorsConfig</td></tr><tr><td id = \"td0\" title=\"dataType\">dataType</td><td title=\"Table\">Table</td></tr></table><div class=\"title\"><i class=\"chevron-open\" onClick=\"event.preventDefault();document.getElementById('0E5C0333-DE40-4BDD-93A8-01306E7E1B07').style.display =   document.getElementById('0E5C0333-DE40-4BDD-93A8-01306E7E1B07').style.display == 'none' ? 'block' : 'none';this.classList.toggle('chevron-closed');\"></i>fields</div><div id=\"0E5C0333-DE40-4BDD-93A8-01306E7E1B07\"><style>table td#td0  {font-weight: bold}</style><table class=\"notebook\"><colgroup><col style=\"width:45%\"></col><col style=\"width:55%\"></col></colgroup><tr><td id = \"td0\" title=\"ObjectID\">ObjectID</td><td title=\"OID\">OID</td></tr><tr><td id = \"td0\" title=\"CONFIG_KEY\">CONFIG_KEY</td><td title=\"String\">String</td></tr><tr><td id = \"td0\" title=\"CONFIG_VALUE\">CONFIG_VALUE</td><td title=\"String\">String</td></tr></table></div><p class=\"gpresult\">For additional help,     see <a href=\"#\" onclick=\"chrome.webview.postMessage('describe_helpid_120003825');return false;\">arcpy.Describe</a></p><br>"
      ],
      "text/plain": [
       "<geoprocessing describe data object at 0x1ba4c90e170>"
      ]
     },
     "execution_count": 31,
     "metadata": {},
     "output_type": "execute_result"
    }
   ],
   "source": [
    "desc = arcpy.Describe(\n",
    "    os.path.join(file_gdb, \"IndoorsConfig\")\n",
    ")\n",
    "desc"
   ]
  },
  {
   "cell_type": "code",
   "execution_count": 32,
   "id": "52d5ee36",
   "metadata": {
    "hidden": true
   },
   "outputs": [
    {
     "data": {
      "text/plain": [
       "'Table'"
      ]
     },
     "execution_count": 32,
     "metadata": {},
     "output_type": "execute_result"
    }
   ],
   "source": [
    "# check the dataType property\n",
    "desc.dataType"
   ]
  },
  {
   "cell_type": "markdown",
   "id": "ebc4c85d",
   "metadata": {
    "heading_collapsed": true,
    "hidden": true
   },
   "source": [
    "#### 2.  Describe a feature class."
   ]
  },
  {
   "cell_type": "markdown",
   "id": "390928fd",
   "metadata": {
    "hidden": true
   },
   "source": [
    "Now do the same with a feature class."
   ]
  },
  {
   "cell_type": "code",
   "execution_count": 35,
   "id": "515ba2a4",
   "metadata": {
    "hidden": true
   },
   "outputs": [
    {
     "data": {
      "text/html": [
       "<style>table td#td0  {font-weight: bold}</style><table class=\"notebook\"><colgroup><col style=\"width:45%\"></col><col style=\"width:55%\"></col></colgroup><tr><td id = \"td0\" title=\"catalogPath\">catalogPath</td><td title=\"./indoors_test.gdb\\Indoors\\Levels\">./indoors_test.gdb\\Indoors\\Levels</td></tr><tr><td id = \"td0\" title=\"dataType\">dataType</td><td title=\"FeatureClass\">FeatureClass</td></tr><tr><td id = \"td0\" title=\"shapeType\">shapeType</td><td title=\"Polygon\">Polygon</td></tr><tr><td id = \"td0\" title=\"hasM\">hasM</td><td title=\"False\">False</td></tr><tr><td id = \"td0\" title=\"hasZ\">hasZ</td><td title=\"True\">True</td></tr></table><div class=\"title\"><i class=\"chevron-open\" onClick=\"event.preventDefault();document.getElementById('4DC3E09D-36C7-4462-BDEA-5B87F404AC33').style.display =   document.getElementById('4DC3E09D-36C7-4462-BDEA-5B87F404AC33').style.display == 'none' ? 'block' : 'none';this.classList.toggle('chevron-closed');\"></i>fields</div><div id=\"4DC3E09D-36C7-4462-BDEA-5B87F404AC33\"><style>table td#td0  {font-weight: bold}</style><table class=\"notebook\"><colgroup><col style=\"width:45%\"></col><col style=\"width:55%\"></col></colgroup><tr><td id = \"td0\" title=\"ObjectID\">ObjectID</td><td title=\"OID\">OID</td></tr><tr><td id = \"td0\" title=\"LEVEL_ID\">LEVEL_ID</td><td title=\"String\">String</td></tr><tr><td id = \"td0\" title=\"NAME\">NAME</td><td title=\"String\">String</td></tr><tr><td id = \"td0\" title=\"NAME_SHORT\">NAME_SHORT</td><td title=\"String\">String</td></tr><tr><td id = \"td0\" title=\"LEVEL_NUMBER\">LEVEL_NUMBER</td><td title=\"Integer\">Integer</td></tr><tr><td id = \"td0\" title=\"FACILITY_ID\">FACILITY_ID</td><td title=\"String\">String</td></tr><tr><td id = \"td0\" title=\"AREA_GROSS\">AREA_GROSS</td><td title=\"Double\">Double</td></tr><tr><td id = \"td0\" title=\"HEIGHT_RELATIVE\">HEIGHT_RELATIVE</td><td title=\"Double\">Double</td></tr><tr><td id = \"td0\" title=\"VERTICAL_ORDER\">VERTICAL_ORDER</td><td title=\"Integer\">Integer</td></tr><tr><td id = \"td0\" title=\"SHAPE\">SHAPE</td><td title=\"Geometry\">Geometry</td></tr><tr><td id = \"td0\" title=\"SHAPE_Length\">SHAPE_Length</td><td title=\"Double\">Double</td></tr><tr><td id = \"td0\" title=\"SHAPE_Area\">SHAPE_Area</td><td title=\"Double\">Double</td></tr><tr><td id = \"td0\" title=\"CREATED_USER\">CREATED_USER</td><td title=\"String\">String</td></tr><tr><td id = \"td0\" title=\"CREATED_DATE\">CREATED_DATE</td><td title=\"Date\">Date</td></tr><tr><td id = \"td0\" title=\"LAST_EDITED_USER\">LAST_EDITED_USER</td><td title=\"String\">String</td></tr><tr><td id = \"td0\" title=\"LAST_EDITED_DATE\">LAST_EDITED_DATE</td><td title=\"Date\">Date</td></tr><tr><td id = \"td0\" title=\"GlobalID\">GlobalID</td><td title=\"GlobalID\">GlobalID</td></tr><tr><td id = \"td0\" title=\"VALIDATIONSTATUS\">VALIDATIONSTATUS</td><td title=\"SmallInteger\">SmallInteger</td></tr></table></div><div class=\"title\"><i class=\"chevron-open\" onClick=\"event.preventDefault();document.getElementById('89ABD05F-E7BD-4A18-8CD5-914BBE48A349').style.display =   document.getElementById('89ABD05F-E7BD-4A18-8CD5-914BBE48A349').style.display == 'none' ? 'block' : 'none';this.classList.toggle('chevron-closed');\"></i>spatialReference</div><div id=\"89ABD05F-E7BD-4A18-8CD5-914BBE48A349\"><style>table td#td0  {font-weight: bold}</style><table class=\"notebook\"><colgroup><col style=\"width:45%\"></col><col style=\"width:55%\"></col></colgroup><tr><td id = \"td0\" title=\"name (Projected Coordinate System)\">name (Projected Coordinate System)</td><td title=\"WGS_1984_Web_Mercator_Auxiliary_Sphere\">WGS_1984_Web_Mercator_Auxiliary_Sphere</td></tr><tr><td id = \"td0\" title=\"factoryCode (WKID)\">factoryCode (WKID)</td><td title=\"3857\">3857</td></tr><tr><td id = \"td0\" title=\"linearUnitName (Linear Unit)\">linearUnitName (Linear Unit)</td><td title=\"Meter\">Meter</td></tr></table><div class=\"subtitle\">spatialReference.GCS</div><style>table td#td0  {font-weight: bold}</style><table class=\"notebook\"><colgroup><col style=\"width:45%\"></col><col style=\"width:55%\"></col></colgroup><tr><td id = \"td0\" title=\"name (Geographic Coordinate System)\">name (Geographic Coordinate System)</td><td title=\"GCS_WGS_1984\">GCS_WGS_1984</td></tr><tr><td id = \"td0\" title=\"factoryCode (WKID)\">factoryCode (WKID)</td><td title=\"4326\">4326</td></tr><tr><td id = \"td0\" title=\"angularUnitName (Angular Unit)\">angularUnitName (Angular Unit)</td><td title=\"Degree\">Degree</td></tr><tr><td id = \"td0\" title=\"datumName (Datum)\">datumName (Datum)</td><td title=\"D_WGS_1984\">D_WGS_1984</td></tr></table><div class=\"subtitle\">spatialReference.VCS</div><style>table td#td0  {font-weight: bold}</style><table class=\"notebook\"><colgroup><col style=\"width:45%\"></col><col style=\"width:55%\"></col></colgroup><tr><td id = \"td0\" title=\"name (Vertical Coordinate System)\">name (Vertical Coordinate System)</td><td title=\"WGS_1984\">WGS_1984</td></tr><tr><td id = \"td0\" title=\"factoryCode (WKID)\">factoryCode (WKID)</td><td title=\"115700\">115700</td></tr><tr><td id = \"td0\" title=\"linearUnitName (Linear Unit)\">linearUnitName (Linear Unit)</td><td title=\"Meter\">Meter</td></tr><tr><td id = \"td0\" title=\"direction (Direction)\">direction (Direction)</td><td title=\"1\">1</td></tr><tr><td id = \"td0\" title=\"datumName (Datum)\">datumName (Datum)</td><td title=\"D_WGS_1984\">D_WGS_1984</td></tr></table></div><p class=\"gpresult\">For additional help,     see <a href=\"#\" onclick=\"chrome.webview.postMessage('describe_helpid_120003794');return false;\">arcpy.Describe</a></p><br>"
      ],
      "text/plain": [
       "<geoprocessing describe data object at 0x1ba4cabd750>"
      ]
     },
     "execution_count": 35,
     "metadata": {},
     "output_type": "execute_result"
    }
   ],
   "source": [
    "desc = arcpy.Describe(\n",
    "    os.path.join(file_gdb, \"Indoors\", \"Levels\")\n",
    ")\n",
    "desc"
   ]
  },
  {
   "cell_type": "markdown",
   "id": "bbf98573",
   "metadata": {
    "hidden": true
   },
   "source": [
    "You can see there's a lot more information about the feature class than there was about the table.  ArcPy describes the geometry type and the spatial reference in addition to the field information included in the table description.  This is all useful information when you're iterating through feature classes in a file geodatabase."
   ]
  },
  {
   "cell_type": "markdown",
   "id": "cdddd10b",
   "metadata": {
    "heading_collapsed": true
   },
   "source": [
    "## Iterate and Describe"
   ]
  },
  {
   "cell_type": "markdown",
   "id": "2a76efea",
   "metadata": {
    "hidden": true
   },
   "source": [
    "Now you can put these concepts all together and implement some conditional logic on feature classes in a file geodatabase.  A very common geoprocessing pattern in ArcPy is to identify all the feature classes of a given geometry type.  You could identify all the point datasets and buffer them for example."
   ]
  },
  {
   "cell_type": "markdown",
   "id": "e94d58f1",
   "metadata": {
    "heading_collapsed": true,
    "hidden": true
   },
   "source": [
    "#### 1.  Iterate through all the contents of a file geodatabase"
   ]
  },
  {
   "cell_type": "markdown",
   "id": "dda21f87",
   "metadata": {
    "hidden": true
   },
   "source": [
    "Use the `Walk()` object to iterate through all the contents of your file geodatabase."
   ]
  },
  {
   "cell_type": "code",
   "execution_count": 36,
   "id": "57dd4017",
   "metadata": {
    "hidden": true
   },
   "outputs": [
    {
     "name": "stdout",
     "output_type": "stream",
     "text": [
      "./indoors_test.gdb\\GDB_ValidationObjectErrors\n",
      "./indoors_test.gdb\\GDB_ValidationPointErrors\n",
      "./indoors_test.gdb\\GDB_ValidationLineErrors\n",
      "./indoors_test.gdb\\GDB_ValidationPolygonErrors\n",
      "./indoors_test.gdb\\Areas\n",
      "./indoors_test.gdb\\AreaRoles\n",
      "./indoors_test.gdb\\IndoorsConfig\n",
      "C:\\Users\\dav11274\\Desktop\\github\\Top-20-Python\\Exercises\\Chapter 12 - Interacting with Databases\\indoors_test.gdb\\Indoors\\Levels\n",
      "C:\\Users\\dav11274\\Desktop\\github\\Top-20-Python\\Exercises\\Chapter 12 - Interacting with Databases\\indoors_test.gdb\\Indoors\\TrackingZones\n",
      "C:\\Users\\dav11274\\Desktop\\github\\Top-20-Python\\Exercises\\Chapter 12 - Interacting with Databases\\indoors_test.gdb\\Indoors\\Details\n",
      "C:\\Users\\dav11274\\Desktop\\github\\Top-20-Python\\Exercises\\Chapter 12 - Interacting with Databases\\indoors_test.gdb\\Indoors\\Zones\n",
      "C:\\Users\\dav11274\\Desktop\\github\\Top-20-Python\\Exercises\\Chapter 12 - Interacting with Databases\\indoors_test.gdb\\Indoors\\Events\n",
      "C:\\Users\\dav11274\\Desktop\\github\\Top-20-Python\\Exercises\\Chapter 12 - Interacting with Databases\\indoors_test.gdb\\Indoors\\Sections\n",
      "C:\\Users\\dav11274\\Desktop\\github\\Top-20-Python\\Exercises\\Chapter 12 - Interacting with Databases\\indoors_test.gdb\\Indoors\\Units\n",
      "C:\\Users\\dav11274\\Desktop\\github\\Top-20-Python\\Exercises\\Chapter 12 - Interacting with Databases\\indoors_test.gdb\\Indoors\\Sites\n",
      "C:\\Users\\dav11274\\Desktop\\github\\Top-20-Python\\Exercises\\Chapter 12 - Interacting with Databases\\indoors_test.gdb\\Indoors\\Facilities\n",
      "C:\\Users\\dav11274\\Desktop\\github\\Top-20-Python\\Exercises\\Chapter 12 - Interacting with Databases\\indoors_test.gdb\\Indoors\\Occupants\n",
      "C:\\Users\\dav11274\\Desktop\\github\\Top-20-Python\\Exercises\\Chapter 12 - Interacting with Databases\\indoors_test.gdb\\Indoors\\Reservations\n",
      "C:\\Users\\dav11274\\Desktop\\github\\Top-20-Python\\Exercises\\Chapter 12 - Interacting with Databases\\indoors_test.gdb\\Network\\Landmarks\n",
      "C:\\Users\\dav11274\\Desktop\\github\\Top-20-Python\\Exercises\\Chapter 12 - Interacting with Databases\\indoors_test.gdb\\Network\\Transitions\n",
      "C:\\Users\\dav11274\\Desktop\\github\\Top-20-Python\\Exercises\\Chapter 12 - Interacting with Databases\\indoors_test.gdb\\Network\\Pathways\n",
      "C:\\Users\\dav11274\\Desktop\\github\\Top-20-Python\\Exercises\\Chapter 12 - Interacting with Databases\\indoors_test.gdb\\PrelimNetwork\\PrelimTransitions\n",
      "C:\\Users\\dav11274\\Desktop\\github\\Top-20-Python\\Exercises\\Chapter 12 - Interacting with Databases\\indoors_test.gdb\\PrelimNetwork\\PrelimPathways\n"
     ]
    }
   ],
   "source": [
    "for root, directories, files in arcpy.da.Walk(file_gdb):\n",
    "    for file in files:\n",
    "        full_path = os.path.join(root, file)\n",
    "        print(full_path)"
   ]
  },
  {
   "cell_type": "markdown",
   "id": "c364a8ee",
   "metadata": {
    "heading_collapsed": true,
    "hidden": true
   },
   "source": [
    "#### 2.  Identify point datasets."
   ]
  },
  {
   "cell_type": "markdown",
   "id": "1ba1de23",
   "metadata": {
    "hidden": true
   },
   "source": [
    "Use the `Describe()` class to identify any datasets that have a point geometry type."
   ]
  },
  {
   "cell_type": "code",
   "execution_count": 41,
   "id": "85535402",
   "metadata": {
    "hidden": true
   },
   "outputs": [
    {
     "name": "stdout",
     "output_type": "stream",
     "text": [
      "./indoors_test.gdb\\GDB_ValidationPointErrors\n",
      "C:\\Users\\dav11274\\Desktop\\github\\Top-20-Python\\Exercises\\Chapter 12 - Interacting with Databases\\indoors_test.gdb\\Indoors\\Events\n",
      "C:\\Users\\dav11274\\Desktop\\github\\Top-20-Python\\Exercises\\Chapter 12 - Interacting with Databases\\indoors_test.gdb\\Indoors\\Occupants\n",
      "C:\\Users\\dav11274\\Desktop\\github\\Top-20-Python\\Exercises\\Chapter 12 - Interacting with Databases\\indoors_test.gdb\\Network\\Landmarks\n"
     ]
    }
   ],
   "source": [
    "for root, directories, files in arcpy.da.Walk(file_gdb):\n",
    "    for file in files:\n",
    "        full_path = os.path.join(root, file)\n",
    "        \n",
    "        # describe the file\n",
    "        desc = arcpy.Describe(full_path)\n",
    "        \n",
    "        # test to see if file is a feature class and it has a point geometry type\n",
    "        if desc.dataType == 'FeatureClass' and desc.shapeType == 'Point':\n",
    "            print(full_path)"
   ]
  },
  {
   "cell_type": "markdown",
   "id": "2093122d",
   "metadata": {
    "hidden": true
   },
   "source": [
    "Now that you've identified all the point datasets in this database, you can perform some geoprocessing on those datasets.  We won't be going into that in this chapter, but you could do that on your own."
   ]
  },
  {
   "cell_type": "code",
   "execution_count": null,
   "id": "81eaae4e",
   "metadata": {
    "hidden": true
   },
   "outputs": [],
   "source": []
  }
 ],
 "metadata": {
  "kernelspec": {
   "display_name": "Python 3 (ipykernel)",
   "language": "python",
   "name": "python3"
  },
  "language_info": {
   "codemirror_mode": {
    "name": "ipython",
    "version": 3
   },
   "file_extension": ".py",
   "mimetype": "text/x-python",
   "name": "python",
   "nbconvert_exporter": "python",
   "pygments_lexer": "ipython3",
   "version": "3.11.8"
  }
 },
 "nbformat": 4,
 "nbformat_minor": 5
}
