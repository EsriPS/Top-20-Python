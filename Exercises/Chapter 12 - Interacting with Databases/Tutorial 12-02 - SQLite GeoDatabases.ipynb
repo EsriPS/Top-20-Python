{
 "cells": [
  {
   "cell_type": "markdown",
   "id": "93de7ddf",
   "metadata": {},
   "source": [
    "# Tutorial 12-02 - SQLite GeoDatabases"
   ]
  },
  {
   "cell_type": "markdown",
   "id": "dd9ced35",
   "metadata": {},
   "source": [
    "In this tutorial, we'll be joining some tabular and spatial data together.  One of our colleagues has given us a CSV of population and housing data summarized at the census block group level.  They would like to see that data summarized and visualized at the county level.  We'll be using a SQLite to do this."
   ]
  },
  {
   "cell_type": "markdown",
   "id": "8038013e",
   "metadata": {
    "heading_collapsed": true
   },
   "source": [
    "## Set up the Database and Load Spatial Data"
   ]
  },
  {
   "cell_type": "markdown",
   "id": "84f29e3a",
   "metadata": {
    "hidden": true
   },
   "source": [
    "To get things started, you'll need to create a SQLite database.  This is going to serve as the local file where you can combine and manipulate data.  Once you import some packages, you can very easily create a database to work with."
   ]
  },
  {
   "cell_type": "markdown",
   "id": "7a860bc7",
   "metadata": {
    "heading_collapsed": true,
    "hidden": true
   },
   "source": [
    "#### 1.  Import packages."
   ]
  },
  {
   "cell_type": "markdown",
   "id": "d2a2e2a7",
   "metadata": {
    "hidden": true
   },
   "source": [
    "You'll start here by importing some packages to work with.  This is what we're going to use them for:\n",
    " - **arcpy** - for creating and copying feature classes\n",
    " - **sqlite3** - for direct SQL access to the database\n",
    " - **pandas** - for reading from and writing to the database\n",
    " - **os** - for handling file paths\n",
    " - **arcgis** - for reading a spatially enabled DataFrame"
   ]
  },
  {
   "cell_type": "code",
   "execution_count": 1,
   "id": "e19fe9da",
   "metadata": {
    "hidden": true
   },
   "outputs": [],
   "source": [
    "import arcpy\n",
    "import sqlite3\n",
    "import pandas as pd\n",
    "import os\n",
    "import arcgis"
   ]
  },
  {
   "cell_type": "markdown",
   "id": "a7bbd66d",
   "metadata": {
    "heading_collapsed": true,
    "hidden": true
   },
   "source": [
    "#### 2.  Create a SQLite database."
   ]
  },
  {
   "cell_type": "markdown",
   "id": "44f75e3e",
   "metadata": {
    "hidden": true
   },
   "source": [
    "You're going to use ArcPy to create a SQLite geodatabase here.  That's not strictly necessary.  You could use the `sqlite3` package to create an empty database very easily (by just writing `sqlite3.connect(DB_PATH)`.  You're going to use ArcPy in this case so that you get some extras that turn a standard SQLite database into a geodatabase.\n",
    "\n",
    "The `CreateSQLiteDatabase` geoprocessing tool is capable of making SQLite geodatabases that conform with the ST Geometry, SpatiaLite, or GeoPackage standards.  In this case, you're just going to use ST Geometry, but you could do either of the other two if your use case required it. "
   ]
  },
  {
   "cell_type": "code",
   "execution_count": 5,
   "id": "08c56ca3",
   "metadata": {
    "hidden": true
   },
   "outputs": [],
   "source": [
    "folder = r'C:\\Users\\dav11274\\Desktop\\github\\Top-20-Python\\Exercises\\Chapter 12 - Interacting with Databases'"
   ]
  },
  {
   "cell_type": "code",
   "execution_count": 6,
   "id": "f0841e7e",
   "metadata": {
    "hidden": true
   },
   "outputs": [],
   "source": [
    "sl_db = arcpy.management.CreateSQLiteDatabase(\n",
    "    out_database_name = os.path.join(folder, 'data'),\n",
    "    spatial_type = \"ST_GEOMETRY\"\n",
    ")"
   ]
  },
  {
   "cell_type": "code",
   "execution_count": 7,
   "id": "671e6a14",
   "metadata": {
    "hidden": true
   },
   "outputs": [],
   "source": [
    "sl_db_path = sl_db[0]"
   ]
  },
  {
   "cell_type": "markdown",
   "id": "c8a331bd",
   "metadata": {
    "heading_collapsed": true,
    "hidden": true
   },
   "source": [
    "#### 3. Copy a feature class into the database."
   ]
  },
  {
   "cell_type": "markdown",
   "id": "9235140f",
   "metadata": {
    "hidden": true
   },
   "source": [
    "Now we'll copy a feature class into the geodatabase.  Because we used ArcPy to create this geodatabase, we can use ArcPy to write feature classes into it."
   ]
  },
  {
   "cell_type": "code",
   "execution_count": 8,
   "id": "2fe267ab",
   "metadata": {
    "hidden": true
   },
   "outputs": [],
   "source": [
    "fc_counties = arcpy.conversion.ExportFeatures(\n",
    "    r\"..\\Chapter 03 - ArcPy Basics\\Chapter 03 Files\\Chapter 02 - Working with Maps.gdb\\Counties\",\n",
    "    os.path.join(sl_db_path, \"Counties\")\n",
    ")"
   ]
  },
  {
   "cell_type": "markdown",
   "id": "e240b24c",
   "metadata": {
    "heading_collapsed": true
   },
   "source": [
    "## Explore the GeoDatabase"
   ]
  },
  {
   "cell_type": "markdown",
   "id": "d6c5b189",
   "metadata": {
    "hidden": true
   },
   "source": [
    "Now that you've created the geodatabase and put a feature class inside it, it's worth checking out some of the properties of the geodatabase.  Here, we'll look at some of the high-level contents with **ArcPy** and then access some of the underlying tables using the **sqlite3** package."
   ]
  },
  {
   "cell_type": "markdown",
   "id": "3e65ae1b",
   "metadata": {
    "heading_collapsed": true,
    "hidden": true
   },
   "source": [
    "#### 1.  Walk the geodatabase."
   ]
  },
  {
   "cell_type": "markdown",
   "id": "6683f3ed",
   "metadata": {
    "hidden": true
   },
   "source": [
    "Just like in our previous tutorial, you can walk this geodatabase.  In the following cell, create a `Walk` object and print out all the feature classes and tables."
   ]
  },
  {
   "cell_type": "code",
   "execution_count": 10,
   "id": "7e5777a2",
   "metadata": {
    "hidden": true
   },
   "outputs": [
    {
     "name": "stdout",
     "output_type": "stream",
     "text": [
      "main.Counties\n"
     ]
    }
   ],
   "source": [
    "for root, dirs, files in arcpy.da.Walk(sl_db):\n",
    "    for dir in dirs:\n",
    "        print(dir)\n",
    "    for file in files:\n",
    "        print(file)"
   ]
  },
  {
   "cell_type": "markdown",
   "id": "ede20173",
   "metadata": {
    "hidden": true
   },
   "source": [
    "Note that the only feature class or table that is printed is \"main.Counties\".  This is the feature class that we loaded in the previous step.  The prefix \"main.\" indicates the name of the *schema* in the database.  By default, all the data you put in is going to go into the \"main\" schema.  You can create and use other schemas to better organize and control your data, but that's not necessary in this case."
   ]
  },
  {
   "cell_type": "markdown",
   "id": "03aa9414",
   "metadata": {
    "heading_collapsed": true,
    "hidden": true
   },
   "source": [
    "#### 2.  Connect to the database using sqlite3."
   ]
  },
  {
   "cell_type": "markdown",
   "id": "46e31798",
   "metadata": {
    "hidden": true
   },
   "source": [
    "Now that you've found out what you can about this database using ArcPy, you can use different packages to access the same data.  This is one of the best parts about using a local SQLite database.  It's accessible through many different packages.\n",
    "\n",
    "Start by using the `sqlite3.connect()` function to create a database connection object."
   ]
  },
  {
   "cell_type": "code",
   "execution_count": 11,
   "id": "ea7f99ad",
   "metadata": {
    "hidden": true
   },
   "outputs": [
    {
     "data": {
      "text/plain": [
       "<sqlite3.Connection at 0x1d7000e5300>"
      ]
     },
     "execution_count": 11,
     "metadata": {},
     "output_type": "execute_result"
    }
   ],
   "source": [
    "sl_conn = sqlite3.connect(sl_db_path)\n",
    "sl_conn"
   ]
  },
  {
   "cell_type": "markdown",
   "id": "8e20c4ae",
   "metadata": {
    "heading_collapsed": true,
    "hidden": true
   },
   "source": [
    "#### 3.  Create a cursor."
   ]
  },
  {
   "cell_type": "markdown",
   "id": "217a39f3",
   "metadata": {
    "hidden": true
   },
   "source": [
    "A cursor is going to be your primary point of access to execute raw SQL commands on the database.  This concept is consistent across many database platforms."
   ]
  },
  {
   "cell_type": "code",
   "execution_count": 12,
   "id": "2fe66502",
   "metadata": {
    "hidden": true
   },
   "outputs": [],
   "source": [
    "sl_cursor = sl_conn.cursor()"
   ]
  },
  {
   "cell_type": "markdown",
   "id": "69bd227f",
   "metadata": {
    "heading_collapsed": true,
    "hidden": true
   },
   "source": [
    "#### 4.  Execute some SQL."
   ]
  },
  {
   "cell_type": "markdown",
   "id": "80c9223d",
   "metadata": {
    "hidden": true
   },
   "source": [
    "To start, you can execute a select statement against the \"sqlite_master\" table.  This table contains an inventory of all the items in the database (including tables, views, indexes, and more).  This will give you a more comprehensive idea of the database contents."
   ]
  },
  {
   "cell_type": "code",
   "execution_count": 13,
   "id": "3f6ccc37",
   "metadata": {
    "hidden": true
   },
   "outputs": [
    {
     "data": {
      "text/plain": [
       "<sqlite3.Cursor at 0x1d706cad640>"
      ]
     },
     "execution_count": 13,
     "metadata": {},
     "output_type": "execute_result"
    }
   ],
   "source": [
    "sl_cursor.execute(\"select * from sqlite_master\")"
   ]
  },
  {
   "cell_type": "markdown",
   "id": "a1534807",
   "metadata": {
    "hidden": true
   },
   "source": [
    "Note that the `.execute()` method only returned the cursor, not the results of the query.  This is common when working with databases.  There are SQL statements where you might not want to actually pull the results into your analysis (like when you're creating a table or a view).  \n",
    "\n",
    "To fetch the results of your query, you can use a method on the cursor called `fetchall()`."
   ]
  },
  {
   "cell_type": "code",
   "execution_count": 14,
   "id": "d5cfddfe",
   "metadata": {
    "hidden": true
   },
   "outputs": [],
   "source": [
    "results = sl_cursor.fetchall()"
   ]
  },
  {
   "cell_type": "markdown",
   "id": "9ae65460",
   "metadata": {
    "heading_collapsed": true,
    "hidden": true
   },
   "source": [
    "#### 5.  Explore the results of the query."
   ]
  },
  {
   "cell_type": "markdown",
   "id": "553c0c91",
   "metadata": {
    "hidden": true
   },
   "source": [
    "This is a very common and basic way to pull data from a database.  Now review the results and see what was returned."
   ]
  },
  {
   "cell_type": "code",
   "execution_count": 20,
   "id": "2e2277b8",
   "metadata": {
    "hidden": true
   },
   "outputs": [
    {
     "name": "stdout",
     "output_type": "stream",
     "text": [
      "results type: <class 'list'>\n",
      "length of results: 15\n",
      "first item type: <class 'tuple'>\n",
      "first item length: 5\n"
     ]
    }
   ],
   "source": [
    "print(f\"results type: {type(results)}\")\n",
    "print(f\"length of results: {len(results)}\")\n",
    "print(f\"first item type: {type(results[0])}\")\n",
    "print(f\"first item length: {len(results[0])}\")"
   ]
  },
  {
   "cell_type": "markdown",
   "id": "78b43880",
   "metadata": {
    "hidden": true
   },
   "source": [
    "From this, you can see that the results of your query are a **list** of **tuples**.  This is very common when querying from databases using Python.  Each tuple represents a row of data in the results of your query.  Those rows are all collected in a list.\n",
    "\n",
    "Now review the first row in the results of your query."
   ]
  },
  {
   "cell_type": "code",
   "execution_count": 21,
   "id": "5e6742b6",
   "metadata": {
    "hidden": true
   },
   "outputs": [
    {
     "data": {
      "text/plain": [
       "('table',\n",
       " 'st_spatial_reference_systems',\n",
       " 'st_spatial_reference_systems',\n",
       " 0,\n",
       " 'CREATE VIRTUAL TABLE st_spatial_reference_systems USING VSRS()')"
      ]
     },
     "execution_count": 21,
     "metadata": {},
     "output_type": "execute_result"
    }
   ],
   "source": [
    "results[0]"
   ]
  },
  {
   "cell_type": "markdown",
   "id": "671c7d0f",
   "metadata": {
    "hidden": true
   },
   "source": [
    "This row has five values in it.  You can see there's some descriptive information and a SQL statement.  Without the context of knowing what each column means, it's hard to interpret the results, though."
   ]
  },
  {
   "cell_type": "markdown",
   "id": "b9e81d13",
   "metadata": {
    "heading_collapsed": true,
    "hidden": true
   },
   "source": [
    "#### 6.  Use pandas to query."
   ]
  },
  {
   "cell_type": "markdown",
   "id": "c6b44b64",
   "metadata": {
    "hidden": true
   },
   "source": [
    "Using the built-in sqlite3 cursor to query the database is very performant and useful when you understand the data you're looking at, but if you're doing data exploration sometimes it's just easier to use pandas.  Pandas has a method called `read_sql()` that accepts a query and returns a DataFrame."
   ]
  },
  {
   "cell_type": "code",
   "execution_count": 23,
   "id": "7eec2cb8",
   "metadata": {
    "hidden": true
   },
   "outputs": [
    {
     "data": {
      "text/html": [
       "<div>\n",
       "<style scoped>\n",
       "    .dataframe tbody tr th:only-of-type {\n",
       "        vertical-align: middle;\n",
       "    }\n",
       "\n",
       "    .dataframe tbody tr th {\n",
       "        vertical-align: top;\n",
       "    }\n",
       "\n",
       "    .dataframe thead th {\n",
       "        text-align: right;\n",
       "    }\n",
       "</style>\n",
       "<table border=\"1\" class=\"dataframe\">\n",
       "  <thead>\n",
       "    <tr style=\"text-align: right;\">\n",
       "      <th></th>\n",
       "      <th>type</th>\n",
       "      <th>name</th>\n",
       "      <th>tbl_name</th>\n",
       "      <th>rootpage</th>\n",
       "      <th>sql</th>\n",
       "    </tr>\n",
       "  </thead>\n",
       "  <tbody>\n",
       "    <tr>\n",
       "      <th>0</th>\n",
       "      <td>table</td>\n",
       "      <td>st_spatial_reference_systems</td>\n",
       "      <td>st_spatial_reference_systems</td>\n",
       "      <td>0</td>\n",
       "      <td>CREATE VIRTUAL TABLE st_spatial_reference_syst...</td>\n",
       "    </tr>\n",
       "    <tr>\n",
       "      <th>1</th>\n",
       "      <td>table</td>\n",
       "      <td>st_aux_spatial_reference_systems</td>\n",
       "      <td>st_aux_spatial_reference_systems</td>\n",
       "      <td>2</td>\n",
       "      <td>CREATE TABLE st_aux_spatial_reference_systems ...</td>\n",
       "    </tr>\n",
       "    <tr>\n",
       "      <th>2</th>\n",
       "      <td>table</td>\n",
       "      <td>sqlite_sequence</td>\n",
       "      <td>sqlite_sequence</td>\n",
       "      <td>3</td>\n",
       "      <td>CREATE TABLE sqlite_sequence(name,seq)</td>\n",
       "    </tr>\n",
       "    <tr>\n",
       "      <th>3</th>\n",
       "      <td>table</td>\n",
       "      <td>st_geometry_columns</td>\n",
       "      <td>st_geometry_columns</td>\n",
       "      <td>4</td>\n",
       "      <td>CREATE TABLE st_geometry_columns (gcid        ...</td>\n",
       "    </tr>\n",
       "    <tr>\n",
       "      <th>4</th>\n",
       "      <td>index</td>\n",
       "      <td>sqlite_autoindex_st_geometry_columns_1</td>\n",
       "      <td>st_geometry_columns</td>\n",
       "      <td>5</td>\n",
       "      <td>None</td>\n",
       "    </tr>\n",
       "    <tr>\n",
       "      <th>5</th>\n",
       "      <td>table</td>\n",
       "      <td>st_vtspindex_interface</td>\n",
       "      <td>st_vtspindex_interface</td>\n",
       "      <td>0</td>\n",
       "      <td>CREATE VIRTUAL TABLE st_vtspindex_interface US...</td>\n",
       "    </tr>\n",
       "    <tr>\n",
       "      <th>6</th>\n",
       "      <td>table</td>\n",
       "      <td>Counties</td>\n",
       "      <td>Counties</td>\n",
       "      <td>6</td>\n",
       "      <td>CREATE TABLE [Counties] (OBJECTID integer prim...</td>\n",
       "    </tr>\n",
       "    <tr>\n",
       "      <th>7</th>\n",
       "      <td>table</td>\n",
       "      <td>st_spindex__Counties_Shape</td>\n",
       "      <td>st_spindex__Counties_Shape</td>\n",
       "      <td>0</td>\n",
       "      <td>CREATE VIRTUAL TABLE [st_spindex__Counties_Sha...</td>\n",
       "    </tr>\n",
       "    <tr>\n",
       "      <th>8</th>\n",
       "      <td>table</td>\n",
       "      <td>st_spindex__Counties_Shape_rowid</td>\n",
       "      <td>st_spindex__Counties_Shape_rowid</td>\n",
       "      <td>379</td>\n",
       "      <td>CREATE TABLE \"st_spindex__Counties_Shape_rowid...</td>\n",
       "    </tr>\n",
       "    <tr>\n",
       "      <th>9</th>\n",
       "      <td>table</td>\n",
       "      <td>st_spindex__Counties_Shape_node</td>\n",
       "      <td>st_spindex__Counties_Shape_node</td>\n",
       "      <td>380</td>\n",
       "      <td>CREATE TABLE \"st_spindex__Counties_Shape_node\"...</td>\n",
       "    </tr>\n",
       "    <tr>\n",
       "      <th>10</th>\n",
       "      <td>table</td>\n",
       "      <td>st_spindex__Counties_Shape_parent</td>\n",
       "      <td>st_spindex__Counties_Shape_parent</td>\n",
       "      <td>381</td>\n",
       "      <td>CREATE TABLE \"st_spindex__Counties_Shape_paren...</td>\n",
       "    </tr>\n",
       "    <tr>\n",
       "      <th>11</th>\n",
       "      <td>trigger</td>\n",
       "      <td>st_insert_trigger_Counties_Shape</td>\n",
       "      <td>Counties</td>\n",
       "      <td>0</td>\n",
       "      <td>CREATE TRIGGER [st_insert_trigger_Counties_Sha...</td>\n",
       "    </tr>\n",
       "    <tr>\n",
       "      <th>12</th>\n",
       "      <td>trigger</td>\n",
       "      <td>st_delete_trigger_Counties_Shape</td>\n",
       "      <td>Counties</td>\n",
       "      <td>0</td>\n",
       "      <td>CREATE TRIGGER [st_delete_trigger_Counties_Sha...</td>\n",
       "    </tr>\n",
       "    <tr>\n",
       "      <th>13</th>\n",
       "      <td>trigger</td>\n",
       "      <td>st_update_trigger_Counties_Shape</td>\n",
       "      <td>Counties</td>\n",
       "      <td>0</td>\n",
       "      <td>CREATE TRIGGER [st_update_trigger_Counties_Sha...</td>\n",
       "    </tr>\n",
       "    <tr>\n",
       "      <th>14</th>\n",
       "      <td>trigger</td>\n",
       "      <td>st_update1_trigger_Counties_Shape</td>\n",
       "      <td>Counties</td>\n",
       "      <td>0</td>\n",
       "      <td>CREATE TRIGGER [st_update1_trigger_Counties_Sh...</td>\n",
       "    </tr>\n",
       "  </tbody>\n",
       "</table>\n",
       "</div>"
      ],
      "text/plain": [
       "       type                                    name  \\\n",
       "0     table            st_spatial_reference_systems   \n",
       "1     table        st_aux_spatial_reference_systems   \n",
       "2     table                         sqlite_sequence   \n",
       "3     table                     st_geometry_columns   \n",
       "4     index  sqlite_autoindex_st_geometry_columns_1   \n",
       "5     table                  st_vtspindex_interface   \n",
       "6     table                                Counties   \n",
       "7     table              st_spindex__Counties_Shape   \n",
       "8     table        st_spindex__Counties_Shape_rowid   \n",
       "9     table         st_spindex__Counties_Shape_node   \n",
       "10    table       st_spindex__Counties_Shape_parent   \n",
       "11  trigger        st_insert_trigger_Counties_Shape   \n",
       "12  trigger        st_delete_trigger_Counties_Shape   \n",
       "13  trigger        st_update_trigger_Counties_Shape   \n",
       "14  trigger       st_update1_trigger_Counties_Shape   \n",
       "\n",
       "                             tbl_name  rootpage  \\\n",
       "0        st_spatial_reference_systems         0   \n",
       "1    st_aux_spatial_reference_systems         2   \n",
       "2                     sqlite_sequence         3   \n",
       "3                 st_geometry_columns         4   \n",
       "4                 st_geometry_columns         5   \n",
       "5              st_vtspindex_interface         0   \n",
       "6                            Counties         6   \n",
       "7          st_spindex__Counties_Shape         0   \n",
       "8    st_spindex__Counties_Shape_rowid       379   \n",
       "9     st_spindex__Counties_Shape_node       380   \n",
       "10  st_spindex__Counties_Shape_parent       381   \n",
       "11                           Counties         0   \n",
       "12                           Counties         0   \n",
       "13                           Counties         0   \n",
       "14                           Counties         0   \n",
       "\n",
       "                                                  sql  \n",
       "0   CREATE VIRTUAL TABLE st_spatial_reference_syst...  \n",
       "1   CREATE TABLE st_aux_spatial_reference_systems ...  \n",
       "2              CREATE TABLE sqlite_sequence(name,seq)  \n",
       "3   CREATE TABLE st_geometry_columns (gcid        ...  \n",
       "4                                                None  \n",
       "5   CREATE VIRTUAL TABLE st_vtspindex_interface US...  \n",
       "6   CREATE TABLE [Counties] (OBJECTID integer prim...  \n",
       "7   CREATE VIRTUAL TABLE [st_spindex__Counties_Sha...  \n",
       "8   CREATE TABLE \"st_spindex__Counties_Shape_rowid...  \n",
       "9   CREATE TABLE \"st_spindex__Counties_Shape_node\"...  \n",
       "10  CREATE TABLE \"st_spindex__Counties_Shape_paren...  \n",
       "11  CREATE TRIGGER [st_insert_trigger_Counties_Sha...  \n",
       "12  CREATE TRIGGER [st_delete_trigger_Counties_Sha...  \n",
       "13  CREATE TRIGGER [st_update_trigger_Counties_Sha...  \n",
       "14  CREATE TRIGGER [st_update1_trigger_Counties_Sh...  "
      ]
     },
     "execution_count": 23,
     "metadata": {},
     "output_type": "execute_result"
    }
   ],
   "source": [
    "df_db_objects = pd.read_sql(\"select * from sqlite_master\", sl_conn)\n",
    "df_db_objects"
   ]
  },
  {
   "cell_type": "markdown",
   "id": "07b04594",
   "metadata": {
    "hidden": true
   },
   "source": [
    "This gives a bit more context about the data than just using the cursor.  Now you have column names and some nicer formatting.  Both methods are equally useful.  Sometimes you might want to use pandas for data exploration as opposed to just sqlite3 for production data processing (without the pandas overhead)."
   ]
  },
  {
   "cell_type": "markdown",
   "id": "b139d361",
   "metadata": {
    "heading_collapsed": true
   },
   "source": [
    "## Write New Tables to the Database"
   ]
  },
  {
   "cell_type": "markdown",
   "id": "576afad6",
   "metadata": {
    "hidden": true
   },
   "source": [
    "In addition to reading from the database, you can also use either of the sqlite3 or pandas packages to write to the database.  In this case, you'll use pandas to write a table.  This is easier syntax for smaller datasets (that can fit in memory).  If your data was larger, you might want to consider using a cursor and inserting your data a row at a time to avoid using all your memory."
   ]
  },
  {
   "cell_type": "markdown",
   "id": "ac7b44f1",
   "metadata": {
    "heading_collapsed": true,
    "hidden": true
   },
   "source": [
    "#### 1.  Read data from a csv."
   ]
  },
  {
   "cell_type": "markdown",
   "id": "1907f1a7",
   "metadata": {
    "hidden": true
   },
   "source": [
    "Before you can use pandas to write to the database, you'll need to read your data into a DataFrame.  In this case, you've been provided a CSV of the data, so you can use the `read_csv()` function."
   ]
  },
  {
   "cell_type": "code",
   "execution_count": 28,
   "id": "f2ad0558",
   "metadata": {
    "hidden": true,
    "scrolled": true
   },
   "outputs": [
    {
     "data": {
      "text/html": [
       "<div>\n",
       "<style scoped>\n",
       "    .dataframe tbody tr th:only-of-type {\n",
       "        vertical-align: middle;\n",
       "    }\n",
       "\n",
       "    .dataframe tbody tr th {\n",
       "        vertical-align: top;\n",
       "    }\n",
       "\n",
       "    .dataframe thead th {\n",
       "        text-align: right;\n",
       "    }\n",
       "</style>\n",
       "<table border=\"1\" class=\"dataframe\">\n",
       "  <thead>\n",
       "    <tr style=\"text-align: right;\">\n",
       "      <th></th>\n",
       "      <th>GEOID</th>\n",
       "      <th>Population</th>\n",
       "      <th>Housing_Units</th>\n",
       "    </tr>\n",
       "  </thead>\n",
       "  <tbody>\n",
       "    <tr>\n",
       "      <th>0</th>\n",
       "      <td>060014001001</td>\n",
       "      <td>1789</td>\n",
       "      <td>784</td>\n",
       "    </tr>\n",
       "    <tr>\n",
       "      <th>1</th>\n",
       "      <td>060014001002</td>\n",
       "      <td>1249</td>\n",
       "      <td>611</td>\n",
       "    </tr>\n",
       "    <tr>\n",
       "      <th>2</th>\n",
       "      <td>060014002001</td>\n",
       "      <td>1022</td>\n",
       "      <td>464</td>\n",
       "    </tr>\n",
       "    <tr>\n",
       "      <th>3</th>\n",
       "      <td>060014002002</td>\n",
       "      <td>979</td>\n",
       "      <td>428</td>\n",
       "    </tr>\n",
       "    <tr>\n",
       "      <th>4</th>\n",
       "      <td>060014003001</td>\n",
       "      <td>1123</td>\n",
       "      <td>528</td>\n",
       "    </tr>\n",
       "    <tr>\n",
       "      <th>...</th>\n",
       "      <td>...</td>\n",
       "      <td>...</td>\n",
       "      <td>...</td>\n",
       "    </tr>\n",
       "    <tr>\n",
       "      <th>25602</th>\n",
       "      <td>060490003003</td>\n",
       "      <td>1171</td>\n",
       "      <td>705</td>\n",
       "    </tr>\n",
       "    <tr>\n",
       "      <th>25603</th>\n",
       "      <td>060490003001</td>\n",
       "      <td>690</td>\n",
       "      <td>288</td>\n",
       "    </tr>\n",
       "    <tr>\n",
       "      <th>25604</th>\n",
       "      <td>060490003002</td>\n",
       "      <td>880</td>\n",
       "      <td>481</td>\n",
       "    </tr>\n",
       "    <tr>\n",
       "      <th>25605</th>\n",
       "      <td>060490004001</td>\n",
       "      <td>619</td>\n",
       "      <td>417</td>\n",
       "    </tr>\n",
       "    <tr>\n",
       "      <th>25606</th>\n",
       "      <td>060490004002</td>\n",
       "      <td>487</td>\n",
       "      <td>318</td>\n",
       "    </tr>\n",
       "  </tbody>\n",
       "</table>\n",
       "<p>25607 rows × 3 columns</p>\n",
       "</div>"
      ],
      "text/plain": [
       "              GEOID  Population  Housing_Units\n",
       "0      060014001001        1789            784\n",
       "1      060014001002        1249            611\n",
       "2      060014002001        1022            464\n",
       "3      060014002002         979            428\n",
       "4      060014003001        1123            528\n",
       "...             ...         ...            ...\n",
       "25602  060490003003        1171            705\n",
       "25603  060490003001         690            288\n",
       "25604  060490003002         880            481\n",
       "25605  060490004001         619            417\n",
       "25606  060490004002         487            318\n",
       "\n",
       "[25607 rows x 3 columns]"
      ]
     },
     "execution_count": 28,
     "metadata": {},
     "output_type": "execute_result"
    }
   ],
   "source": [
    "# path to csv file\n",
    "csv_path = r\".\\block_groups.csv\"\n",
    "\n",
    "# read the csv\n",
    "df_block_groups = pd.read_csv(csv_path, dtype={'GEOID':str})\n",
    "df_block_groups"
   ]
  },
  {
   "cell_type": "markdown",
   "id": "39a9cd12",
   "metadata": {
    "heading_collapsed": true,
    "hidden": true
   },
   "source": [
    "#### 2.  Create the county geoid column."
   ]
  },
  {
   "cell_type": "markdown",
   "id": "84793824",
   "metadata": {
    "hidden": true
   },
   "source": [
    "If you're familiar with census data at all, you've probably seen this GEOID format.  If not, it's worth looking into as a lot of demographic data is stored this way.  What we have here is census block group data, which can be summarized as tracts, counties, or states.  The first two numbers in the GEOID column represent the state that the block group is in.  The next three numbers represent the county that the block group is in.\n",
    "\n",
    "You can use that information to create a new column to use to join this data with the county data you already put into the database.  Using the string accessor (`.str`) on a column will allow you to slice the string.  In this case, you'll only want the first 5 characters."
   ]
  },
  {
   "cell_type": "code",
   "execution_count": 31,
   "id": "a58ecfc2",
   "metadata": {
    "hidden": true
   },
   "outputs": [
    {
     "data": {
      "text/plain": [
       "0        06001\n",
       "1        06001\n",
       "2        06001\n",
       "3        06001\n",
       "4        06001\n",
       "         ...  \n",
       "25602    06049\n",
       "25603    06049\n",
       "25604    06049\n",
       "25605    06049\n",
       "25606    06049\n",
       "Name: GEOID, Length: 25607, dtype: object"
      ]
     },
     "execution_count": 31,
     "metadata": {},
     "output_type": "execute_result"
    }
   ],
   "source": [
    "df_block_groups['GEOID'].str[:5]"
   ]
  },
  {
   "cell_type": "markdown",
   "id": "21c05613",
   "metadata": {
    "hidden": true
   },
   "source": [
    "Now you can save that as a new column."
   ]
  },
  {
   "cell_type": "code",
   "execution_count": 32,
   "id": "8d42effc",
   "metadata": {
    "hidden": true
   },
   "outputs": [],
   "source": [
    "df_block_groups['county_geoid'] = df_block_groups['GEOID'].str[:5]"
   ]
  },
  {
   "cell_type": "markdown",
   "id": "2d6a4961",
   "metadata": {
    "heading_collapsed": true,
    "hidden": true
   },
   "source": [
    "#### 3.  Write the DataFrame to the database."
   ]
  },
  {
   "cell_type": "markdown",
   "id": "b7e383af",
   "metadata": {
    "hidden": true
   },
   "source": [
    "Similarly to how pandas reads data from the database, pandas also has a method to write to the database.  You can use that method to create a new table containing the data that you've prepared."
   ]
  },
  {
   "cell_type": "code",
   "execution_count": 34,
   "id": "2a822ee1",
   "metadata": {
    "hidden": true
   },
   "outputs": [
    {
     "data": {
      "text/plain": [
       "25607"
      ]
     },
     "execution_count": 34,
     "metadata": {},
     "output_type": "execute_result"
    }
   ],
   "source": [
    "df_block_groups.to_sql(\n",
    "    name = \"BlockGroups\", \n",
    "    con = sl_conn, \n",
    "    index = False\n",
    ")"
   ]
  },
  {
   "cell_type": "markdown",
   "id": "9c4061f7",
   "metadata": {
    "hidden": true
   },
   "source": [
    "This returns the number of records that were written to the database.  That number should be the same as the number of records in the DataFrame."
   ]
  },
  {
   "cell_type": "markdown",
   "id": "3b4c78a9",
   "metadata": {
    "heading_collapsed": true
   },
   "source": [
    "## Summarize Data in the Database"
   ]
  },
  {
   "cell_type": "markdown",
   "id": "ab9c582f",
   "metadata": {
    "hidden": true
   },
   "source": [
    "One of the most powerful functions of the database is to be able to summarize and join data on your local machine.  Where pandas can get bogged down by pulling your data all into memory, SQLite can do much larger summaries because it does it locally on your disk."
   ]
  },
  {
   "cell_type": "markdown",
   "id": "14141127",
   "metadata": {
    "heading_collapsed": true,
    "hidden": true
   },
   "source": [
    "#### 1.  Write some SQL and execute with pandas."
   ]
  },
  {
   "cell_type": "markdown",
   "id": "77d078c5",
   "metadata": {
    "hidden": true
   },
   "source": [
    "You can start by writing a basic select statement that groups and summarizes population and housing units at the county level."
   ]
  },
  {
   "cell_type": "code",
   "execution_count": 35,
   "id": "c5663134",
   "metadata": {
    "hidden": true
   },
   "outputs": [],
   "source": [
    "sql = \"\"\"\n",
    "SELECT\n",
    "    county_geoid,\n",
    "    SUM(Population) as county_population,\n",
    "    SUM(Housing_Units) as county_housing_units\n",
    "FROM\n",
    "    BlockGroups\n",
    "GROUP BY\n",
    "    county_geoid\n",
    "\n",
    "\"\"\""
   ]
  },
  {
   "cell_type": "markdown",
   "id": "b79d8ee1",
   "metadata": {
    "hidden": true
   },
   "source": [
    "NOTE - Using triple quotes allows you to have multi-line strings.  Python will interpret everything until the next set of triple quotes as part of the same string.  This is very handy for saving SQL statements as strings in Python."
   ]
  },
  {
   "cell_type": "markdown",
   "id": "e38a8e6d",
   "metadata": {
    "hidden": true
   },
   "source": [
    "Now you can use pandas to read the results of that SQL statement as a DataFrame."
   ]
  },
  {
   "cell_type": "code",
   "execution_count": 37,
   "id": "36b86da1",
   "metadata": {
    "hidden": true,
    "scrolled": true
   },
   "outputs": [
    {
     "data": {
      "text/html": [
       "<div>\n",
       "<style scoped>\n",
       "    .dataframe tbody tr th:only-of-type {\n",
       "        vertical-align: middle;\n",
       "    }\n",
       "\n",
       "    .dataframe tbody tr th {\n",
       "        vertical-align: top;\n",
       "    }\n",
       "\n",
       "    .dataframe thead th {\n",
       "        text-align: right;\n",
       "    }\n",
       "</style>\n",
       "<table border=\"1\" class=\"dataframe\">\n",
       "  <thead>\n",
       "    <tr style=\"text-align: right;\">\n",
       "      <th></th>\n",
       "      <th>county_geoid</th>\n",
       "      <th>county_population</th>\n",
       "      <th>county_housing_units</th>\n",
       "    </tr>\n",
       "  </thead>\n",
       "  <tbody>\n",
       "    <tr>\n",
       "      <th>0</th>\n",
       "      <td>06001</td>\n",
       "      <td>2980409</td>\n",
       "      <td>1118574</td>\n",
       "    </tr>\n",
       "    <tr>\n",
       "      <th>1</th>\n",
       "      <td>06003</td>\n",
       "      <td>2408</td>\n",
       "      <td>3080</td>\n",
       "    </tr>\n",
       "    <tr>\n",
       "      <th>2</th>\n",
       "      <td>06005</td>\n",
       "      <td>80948</td>\n",
       "      <td>37610</td>\n",
       "    </tr>\n",
       "    <tr>\n",
       "      <th>3</th>\n",
       "      <td>06007</td>\n",
       "      <td>423264</td>\n",
       "      <td>180266</td>\n",
       "    </tr>\n",
       "    <tr>\n",
       "      <th>4</th>\n",
       "      <td>06009</td>\n",
       "      <td>90584</td>\n",
       "      <td>54844</td>\n",
       "    </tr>\n",
       "  </tbody>\n",
       "</table>\n",
       "</div>"
      ],
      "text/plain": [
       "  county_geoid  county_population  county_housing_units\n",
       "0        06001            2980409               1118574\n",
       "1        06003               2408                  3080\n",
       "2        06005              80948                 37610\n",
       "3        06007             423264                180266\n",
       "4        06009              90584                 54844"
      ]
     },
     "execution_count": 37,
     "metadata": {},
     "output_type": "execute_result"
    }
   ],
   "source": [
    "pd.read_sql(sql, sl_conn).head()"
   ]
  },
  {
   "cell_type": "markdown",
   "id": "90de5a3b",
   "metadata": {
    "heading_collapsed": true,
    "hidden": true
   },
   "source": [
    "#### 2.  Create a view."
   ]
  },
  {
   "cell_type": "markdown",
   "id": "0453bac7",
   "metadata": {
    "hidden": true
   },
   "source": [
    "The results of that query were exactly what we wanted.  Now if we want to persist those results in the database, we can create a view.  This is basic SQL functionality that we can just execute with Python."
   ]
  },
  {
   "cell_type": "code",
   "execution_count": 38,
   "id": "4515df2f",
   "metadata": {
    "hidden": true
   },
   "outputs": [
    {
     "data": {
      "text/plain": [
       "<sqlite3.Cursor at 0x1d706cad640>"
      ]
     },
     "execution_count": 38,
     "metadata": {},
     "output_type": "execute_result"
    }
   ],
   "source": [
    "sql_summary_view = \"\"\"\n",
    "CREATE VIEW CountyStats AS\n",
    "SELECT\n",
    "    county_geoid,\n",
    "    SUM(Population) as county_population,\n",
    "    SUM(Housing_Units) as county_housing_units\n",
    "FROM\n",
    "    BlockGroups\n",
    "GROUP BY\n",
    "    county_geoid\n",
    "\n",
    "\"\"\"\n",
    "sl_cursor.execute(sql_summary_view)"
   ]
  },
  {
   "cell_type": "markdown",
   "id": "1b3ac33f",
   "metadata": {
    "hidden": true
   },
   "source": [
    "Now that you've persisted that query as a view, you can select from that view and save some time in the future.  This view will update whenever the underlying data is updated.  So if you change anything in the BlockGroups table, this view will also update."
   ]
  },
  {
   "cell_type": "code",
   "execution_count": 39,
   "id": "5220eb52",
   "metadata": {
    "hidden": true
   },
   "outputs": [
    {
     "data": {
      "text/html": [
       "<div>\n",
       "<style scoped>\n",
       "    .dataframe tbody tr th:only-of-type {\n",
       "        vertical-align: middle;\n",
       "    }\n",
       "\n",
       "    .dataframe tbody tr th {\n",
       "        vertical-align: top;\n",
       "    }\n",
       "\n",
       "    .dataframe thead th {\n",
       "        text-align: right;\n",
       "    }\n",
       "</style>\n",
       "<table border=\"1\" class=\"dataframe\">\n",
       "  <thead>\n",
       "    <tr style=\"text-align: right;\">\n",
       "      <th></th>\n",
       "      <th>county_geoid</th>\n",
       "      <th>county_population</th>\n",
       "      <th>county_housing_units</th>\n",
       "    </tr>\n",
       "  </thead>\n",
       "  <tbody>\n",
       "    <tr>\n",
       "      <th>0</th>\n",
       "      <td>06001</td>\n",
       "      <td>2980409</td>\n",
       "      <td>1118574</td>\n",
       "    </tr>\n",
       "    <tr>\n",
       "      <th>1</th>\n",
       "      <td>06003</td>\n",
       "      <td>2408</td>\n",
       "      <td>3080</td>\n",
       "    </tr>\n",
       "    <tr>\n",
       "      <th>2</th>\n",
       "      <td>06005</td>\n",
       "      <td>80948</td>\n",
       "      <td>37610</td>\n",
       "    </tr>\n",
       "    <tr>\n",
       "      <th>3</th>\n",
       "      <td>06007</td>\n",
       "      <td>423264</td>\n",
       "      <td>180266</td>\n",
       "    </tr>\n",
       "    <tr>\n",
       "      <th>4</th>\n",
       "      <td>06009</td>\n",
       "      <td>90584</td>\n",
       "      <td>54844</td>\n",
       "    </tr>\n",
       "  </tbody>\n",
       "</table>\n",
       "</div>"
      ],
      "text/plain": [
       "  county_geoid  county_population  county_housing_units\n",
       "0        06001            2980409               1118574\n",
       "1        06003               2408                  3080\n",
       "2        06005              80948                 37610\n",
       "3        06007             423264                180266\n",
       "4        06009              90584                 54844"
      ]
     },
     "execution_count": 39,
     "metadata": {},
     "output_type": "execute_result"
    }
   ],
   "source": [
    "pd.read_sql(\"select * from CountyStats\", sl_conn).head()"
   ]
  },
  {
   "cell_type": "markdown",
   "id": "bf180a32",
   "metadata": {
    "heading_collapsed": true,
    "hidden": true
   },
   "source": [
    "#### 3.  Join data and create another view."
   ]
  },
  {
   "cell_type": "markdown",
   "id": "1e3b157f",
   "metadata": {
    "hidden": true
   },
   "source": [
    "In the same way you just created a view from tabular data, you can also create a view that uses spatial data.  In the following cell, you'll write the SQL to create a view that joins the county feature class with the summarized view you created in the previous step.\n",
    "\n",
    "This statement uses aliases for the feature class and table and creates an output using columns (or fields) from both.  Because the \"shape\" column is included, the output will have a spatial component."
   ]
  },
  {
   "cell_type": "code",
   "execution_count": 43,
   "id": "b982b967",
   "metadata": {
    "hidden": true
   },
   "outputs": [],
   "source": [
    "sql_join = \"\"\"\n",
    "CREATE VIEW CountyStatsSpatial AS\n",
    "SELECT\n",
    "    fc.OBJECTID,\n",
    "    fc.name,\n",
    "    tbl.county_population,\n",
    "    tbl.county_housing_units,\n",
    "    fc.shape\n",
    "FROM\n",
    "    Counties fc\n",
    "    JOIN\n",
    "        CountyStats tbl\n",
    "    ON\n",
    "        fc.geoid = tbl.county_geoid\n",
    "\"\"\""
   ]
  },
  {
   "cell_type": "code",
   "execution_count": 44,
   "id": "8f690db1",
   "metadata": {
    "hidden": true
   },
   "outputs": [
    {
     "data": {
      "text/plain": [
       "<sqlite3.Cursor at 0x1d706cad640>"
      ]
     },
     "execution_count": 44,
     "metadata": {},
     "output_type": "execute_result"
    }
   ],
   "source": [
    "sl_cursor.execute(sql_join)"
   ]
  },
  {
   "cell_type": "markdown",
   "id": "371807ec",
   "metadata": {
    "heading_collapsed": true,
    "hidden": true
   },
   "source": [
    "#### 4.  Read the spatial view."
   ]
  },
  {
   "cell_type": "markdown",
   "id": "ec6cf8bd",
   "metadata": {
    "hidden": true
   },
   "source": [
    "You can read the results of this spatial view as a DataFrame using pandas like any other table in the database."
   ]
  },
  {
   "cell_type": "code",
   "execution_count": 45,
   "id": "5c853c99",
   "metadata": {
    "hidden": true
   },
   "outputs": [
    {
     "data": {
      "text/html": [
       "<div>\n",
       "<style scoped>\n",
       "    .dataframe tbody tr th:only-of-type {\n",
       "        vertical-align: middle;\n",
       "    }\n",
       "\n",
       "    .dataframe tbody tr th {\n",
       "        vertical-align: top;\n",
       "    }\n",
       "\n",
       "    .dataframe thead th {\n",
       "        text-align: right;\n",
       "    }\n",
       "</style>\n",
       "<table border=\"1\" class=\"dataframe\">\n",
       "  <thead>\n",
       "    <tr style=\"text-align: right;\">\n",
       "      <th></th>\n",
       "      <th>OBJECTID</th>\n",
       "      <th>NAME</th>\n",
       "      <th>county_population</th>\n",
       "      <th>county_housing_units</th>\n",
       "      <th>Shape</th>\n",
       "    </tr>\n",
       "  </thead>\n",
       "  <tbody>\n",
       "    <tr>\n",
       "      <th>0</th>\n",
       "      <td>1</td>\n",
       "      <td>Sierra</td>\n",
       "      <td>3236</td>\n",
       "      <td>2127</td>\n",
       "      <td>b'd\\xe1\\x93\\x04x\\x13\\x00\\x00\\x18\\x08\\x9d\\xd6\\x...</td>\n",
       "    </tr>\n",
       "    <tr>\n",
       "      <th>1</th>\n",
       "      <td>2</td>\n",
       "      <td>Sacramento</td>\n",
       "      <td>1585055</td>\n",
       "      <td>587551</td>\n",
       "      <td>b'd\\xe1\\x93\\x04*\\x13\\x00\\x00\\x18\\x08\\xb5\\x8e\\x...</td>\n",
       "    </tr>\n",
       "    <tr>\n",
       "      <th>2</th>\n",
       "      <td>3</td>\n",
       "      <td>Santa Barbara</td>\n",
       "      <td>448229</td>\n",
       "      <td>158279</td>\n",
       "      <td>b'd\\xe1\\x93\\x04(\\x16\\x00\\x00\\x18H\\xb8\\xe8\\xc9\\...</td>\n",
       "    </tr>\n",
       "    <tr>\n",
       "      <th>3</th>\n",
       "      <td>4</td>\n",
       "      <td>Calaveras</td>\n",
       "      <td>90584</td>\n",
       "      <td>54844</td>\n",
       "      <td>b'd\\xe1\\x93\\x04\\x82\\x0c\\x00\\x00\\x18\\x08\\xb5\\xd...</td>\n",
       "    </tr>\n",
       "    <tr>\n",
       "      <th>4</th>\n",
       "      <td>5</td>\n",
       "      <td>Ventura</td>\n",
       "      <td>843843</td>\n",
       "      <td>293080</td>\n",
       "      <td>b'd\\xe1\\x93\\x04\\x01\\x08\\x00\\x00\\x18H\\x85\\xdd\\x...</td>\n",
       "    </tr>\n",
       "  </tbody>\n",
       "</table>\n",
       "</div>"
      ],
      "text/plain": [
       "   OBJECTID           NAME  county_population  county_housing_units  \\\n",
       "0         1         Sierra               3236                  2127   \n",
       "1         2     Sacramento            1585055                587551   \n",
       "2         3  Santa Barbara             448229                158279   \n",
       "3         4      Calaveras              90584                 54844   \n",
       "4         5        Ventura             843843                293080   \n",
       "\n",
       "                                               Shape  \n",
       "0  b'd\\xe1\\x93\\x04x\\x13\\x00\\x00\\x18\\x08\\x9d\\xd6\\x...  \n",
       "1  b'd\\xe1\\x93\\x04*\\x13\\x00\\x00\\x18\\x08\\xb5\\x8e\\x...  \n",
       "2  b'd\\xe1\\x93\\x04(\\x16\\x00\\x00\\x18H\\xb8\\xe8\\xc9\\...  \n",
       "3  b'd\\xe1\\x93\\x04\\x82\\x0c\\x00\\x00\\x18\\x08\\xb5\\xd...  \n",
       "4  b'd\\xe1\\x93\\x04\\x01\\x08\\x00\\x00\\x18H\\x85\\xdd\\x...  "
      ]
     },
     "execution_count": 45,
     "metadata": {},
     "output_type": "execute_result"
    }
   ],
   "source": [
    "pd.read_sql(\"select * from CountyStatsSpatial\", sl_conn).head()"
   ]
  },
  {
   "cell_type": "markdown",
   "id": "718eff7b",
   "metadata": {
    "hidden": true
   },
   "source": [
    "Note that this DataFrame shows the \"shape\" column as a byte string.  This is the default storage format for geometry in SQLite.  There are several ways of converting it to something useful, but the easiest is probably to just use the ArcGIS API for Python to read the data."
   ]
  },
  {
   "cell_type": "code",
   "execution_count": 50,
   "id": "79b09b64",
   "metadata": {
    "hidden": true
   },
   "outputs": [
    {
     "data": {
      "text/html": [
       "<div>\n",
       "<style scoped>\n",
       "    .dataframe tbody tr th:only-of-type {\n",
       "        vertical-align: middle;\n",
       "    }\n",
       "\n",
       "    .dataframe tbody tr th {\n",
       "        vertical-align: top;\n",
       "    }\n",
       "\n",
       "    .dataframe thead th {\n",
       "        text-align: right;\n",
       "    }\n",
       "</style>\n",
       "<table border=\"1\" class=\"dataframe\">\n",
       "  <thead>\n",
       "    <tr style=\"text-align: right;\">\n",
       "      <th></th>\n",
       "      <th>OBJECTID</th>\n",
       "      <th>NAME</th>\n",
       "      <th>county_population</th>\n",
       "      <th>county_housing_units</th>\n",
       "      <th>SHAPE</th>\n",
       "    </tr>\n",
       "  </thead>\n",
       "  <tbody>\n",
       "    <tr>\n",
       "      <th>0</th>\n",
       "      <td>1</td>\n",
       "      <td>Sierra</td>\n",
       "      <td>3236</td>\n",
       "      <td>2127</td>\n",
       "      <td>{\"rings\": [[[-120.6555850001476, 39.6935599996...</td>\n",
       "    </tr>\n",
       "    <tr>\n",
       "      <th>1</th>\n",
       "      <td>2</td>\n",
       "      <td>Sacramento</td>\n",
       "      <td>1585055</td>\n",
       "      <td>587551</td>\n",
       "      <td>{\"rings\": [[[-121.18857099955193, 38.714307999...</td>\n",
       "    </tr>\n",
       "    <tr>\n",
       "      <th>2</th>\n",
       "      <td>3</td>\n",
       "      <td>Santa Barbara</td>\n",
       "      <td>448229</td>\n",
       "      <td>158279</td>\n",
       "      <td>{\"rings\": [[[-120.7342920000757, 34.9006889998...</td>\n",
       "    </tr>\n",
       "    <tr>\n",
       "      <th>3</th>\n",
       "      <td>4</td>\n",
       "      <td>Calaveras</td>\n",
       "      <td>90584</td>\n",
       "      <td>54844</td>\n",
       "      <td>{\"rings\": [[[-120.6309330000579, 38.3410999995...</td>\n",
       "    </tr>\n",
       "    <tr>\n",
       "      <th>4</th>\n",
       "      <td>5</td>\n",
       "      <td>Ventura</td>\n",
       "      <td>843843</td>\n",
       "      <td>293080</td>\n",
       "      <td>{\"rings\": [[[-119.3292159999184, 34.2278379996...</td>\n",
       "    </tr>\n",
       "  </tbody>\n",
       "</table>\n",
       "</div>"
      ],
      "text/plain": [
       "   OBJECTID           NAME  county_population  county_housing_units  \\\n",
       "0         1         Sierra               3236                  2127   \n",
       "1         2     Sacramento            1585055                587551   \n",
       "2         3  Santa Barbara             448229                158279   \n",
       "3         4      Calaveras              90584                 54844   \n",
       "4         5        Ventura             843843                293080   \n",
       "\n",
       "                                               SHAPE  \n",
       "0  {\"rings\": [[[-120.6555850001476, 39.6935599996...  \n",
       "1  {\"rings\": [[[-121.18857099955193, 38.714307999...  \n",
       "2  {\"rings\": [[[-120.7342920000757, 34.9006889998...  \n",
       "3  {\"rings\": [[[-120.6309330000579, 38.3410999995...  \n",
       "4  {\"rings\": [[[-119.3292159999184, 34.2278379996...  "
      ]
     },
     "execution_count": 50,
     "metadata": {},
     "output_type": "execute_result"
    }
   ],
   "source": [
    "df_out = pd.DataFrame.spatial.from_featureclass(\n",
    "    os.path.join(sl_db[0],\"main.CountyStatsSpatial2\")\n",
    ")\n",
    "df_out.head()"
   ]
  },
  {
   "cell_type": "markdown",
   "id": "3a44e031",
   "metadata": {
    "hidden": true
   },
   "source": [
    "As a bonus, we can display this data on a map.  For a more detailed tutorial on this, revisit the chapter on Jupyter Notebooks."
   ]
  },
  {
   "cell_type": "code",
   "execution_count": 51,
   "id": "648f5764",
   "metadata": {
    "hidden": true
   },
   "outputs": [
    {
     "data": {
      "application/vnd.jupyter.widget-view+json": {
       "model_id": "9ea6ec1abdac4c11a331b03a4c1d9d66",
       "version_major": 2,
       "version_minor": 0
      },
      "text/plain": [
       "MapView(layout=Layout(height='400px', width='100%'))"
      ]
     },
     "metadata": {},
     "output_type": "display_data"
    },
    {
     "data": {
      "text/html": [
       "<div class=\"map-static-img-preview-033308b7-6592-4f7a-96a6-4b632de5f504\"><img src=\"\"></img></div>"
      ],
      "text/plain": [
       "<IPython.core.display.HTML object>"
      ]
     },
     "metadata": {},
     "output_type": "display_data"
    },
    {
     "data": {
      "text/html": [
       "<div class=\"map-html-embed-preview-033308b7-6592-4f7a-96a6-4b632de5f504\"></div>"
      ],
      "text/plain": [
       "<IPython.core.display.HTML object>"
      ]
     },
     "metadata": {},
     "output_type": "display_data"
    }
   ],
   "source": [
    "web_map = arcgis.GIS().map(\"California\")\n",
    "df_out.spatial.plot(\n",
    "\n",
    "                colors='coolwarm',\n",
    "                class_count=10,\n",
    "                map_widget=web_map,\n",
    "                renderer_type='c',\n",
    "                col='county_housing_units',\n",
    "                line_width=0.1,\n",
    "\n",
    ")\n",
    "web_map"
   ]
  },
  {
   "cell_type": "code",
   "execution_count": null,
   "id": "6a64f07c",
   "metadata": {
    "hidden": true
   },
   "outputs": [],
   "source": []
  }
 ],
 "metadata": {
  "kernelspec": {
   "display_name": "Python 3 (ipykernel)",
   "language": "python",
   "name": "python3"
  },
  "language_info": {
   "codemirror_mode": {
    "name": "ipython",
    "version": 3
   },
   "file_extension": ".py",
   "mimetype": "text/x-python",
   "name": "python",
   "nbconvert_exporter": "python",
   "pygments_lexer": "ipython3",
   "version": "3.11.8"
  }
 },
 "nbformat": 4,
 "nbformat_minor": 5
}
