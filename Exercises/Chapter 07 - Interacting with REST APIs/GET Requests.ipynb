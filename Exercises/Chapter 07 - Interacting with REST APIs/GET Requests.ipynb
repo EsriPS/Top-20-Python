{
 "cells": [
  {
   "cell_type": "code",
   "execution_count": 16,
   "metadata": {},
   "outputs": [],
   "source": [
    "import requests\n",
    "from arcgis.gis import GIS\n",
    "from arcgis.features import GeoAccessor\n",
    "import pandas as pd\n",
    "import json"
   ]
  },
  {
   "cell_type": "code",
   "execution_count": 5,
   "metadata": {},
   "outputs": [],
   "source": [
    "my_gis_org = GIS(profile=\"dyaw_Arch\")"
   ]
  },
  {
   "cell_type": "code",
   "execution_count": 6,
   "metadata": {},
   "outputs": [],
   "source": [
    "url = \"https://phl.carto.com/api/v2/sql\"\n",
    "params = {\n",
    "    \"q\": \"SELECT * FROM public_cases_fc WHERE requested_datetime >= current_date - 7 AND subject = 'Illegal Dumping'\",\n",
    "}\n",
    "\n",
    "response = requests.get(url, params=params)\n",
    "data = response.json()"
   ]
  },
  {
   "cell_type": "code",
   "execution_count": 7,
   "metadata": {},
   "outputs": [],
   "source": [
    "# Convert the data to a data frame\n",
    "df = pd.DataFrame(data[\"rows\"])\n",
    "\n",
    "# Convert the DataFrame to a spatialy enabled data frame\n",
    "sedf = pd.DataFrame.spatial.from_xy(df, x_column=\"lon\", y_column=\"lat\")\n"
   ]
  },
  {
   "cell_type": "code",
   "execution_count": 8,
   "metadata": {},
   "outputs": [],
   "source": [
    "# Convert object columns to string\n",
    "sedf[[\"subject\", \"status\", \"status_notes\", \"service_name\", \"service_code\", \"agency_responsible\", \"service_notice\", \"requested_datetime\", \"updated_datetime\", \"expected_datetime\", \"closed_datetime\", \"address\", \"zipcode\", \"media_url\"]] = sedf[[\"subject\", \"status\", \"status_notes\", \"service_name\", \"service_code\", \"agency_responsible\", \"service_notice\", \"requested_datetime\", \"updated_datetime\", \"expected_datetime\", \"closed_datetime\", \"address\", \"zipcode\", \"media_url\"]].astype(str)"
   ]
  },
  {
   "cell_type": "code",
   "execution_count": 9,
   "metadata": {},
   "outputs": [
    {
     "data": {
      "text/html": [
       "<div class=\"item_container\" style=\"height: auto; overflow: hidden; border: 1px solid #cfcfcf; border-radius: 2px; background: #f6fafa; line-height: 1.21429em; padding: 10px;\">\n",
       "                    <div class=\"item_left\" style=\"width: 210px; float: left;\">\n",
       "                       <a href='https://architecture-ps.maps.arcgis.com/home/item.html?id=bcd68de530c54918aecae9dba8655668' target='_blank'>\n",
       "                        <img src='http://static.arcgis.com/images/desktopapp.png' class=\"itemThumbnail\">\n",
       "                       </a>\n",
       "                    </div>\n",
       "\n",
       "                    <div class=\"item_right\"     style=\"float: none; width: auto; overflow: hidden;\">\n",
       "                        <a href='https://architecture-ps.maps.arcgis.com/home/item.html?id=bcd68de530c54918aecae9dba8655668' target='_blank'><b>illegal_dumping</b>\n",
       "                        </a>\n",
       "                        <br/><img src='https://architecture-ps.maps.arcgis.com/home/js/jsapi/esri/css/images/item_type_icons/featureshosted16.png' style=\"vertical-align:middle;\" width=16 height=16>Feature Layer Collection by dyaw_Arch\n",
       "                        <br/>Last Modified: April 05, 2024\n",
       "                        <br/>0 comments, 0 views\n",
       "                    </div>\n",
       "                </div>\n",
       "                "
      ],
      "text/plain": [
       "<Item title:\"illegal_dumping\" type:Feature Layer Collection owner:dyaw_Arch>"
      ]
     },
     "execution_count": 9,
     "metadata": {},
     "output_type": "execute_result"
    }
   ],
   "source": [
    "# Publish the data\n",
    "GeoAccessor(sedf).to_featurelayer(gis = my_gis_org, title='illegal_dumping')"
   ]
  }
 ],
 "metadata": {
  "kernelspec": {
   "display_name": ".venv",
   "language": "python",
   "name": "python3"
  },
  "language_info": {
   "codemirror_mode": {
    "name": "ipython",
    "version": 3
   },
   "file_extension": ".py",
   "mimetype": "text/x-python",
   "name": "python",
   "nbconvert_exporter": "python",
   "pygments_lexer": "ipython3",
   "version": "3.9.11"
  }
 },
 "nbformat": 4,
 "nbformat_minor": 2
}
