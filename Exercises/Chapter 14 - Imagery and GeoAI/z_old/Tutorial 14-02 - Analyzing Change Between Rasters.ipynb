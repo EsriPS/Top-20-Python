{
 "cells": [
  {
   "cell_type": "markdown",
   "id": "b3405bd5",
   "metadata": {
    "heading_collapsed": true
   },
   "source": [
    "## Tutorial 14-02 - Analyzing Change Between Rasters"
   ]
  },
  {
   "cell_type": "markdown",
   "id": "b9ea7ca9",
   "metadata": {
    "hidden": true
   },
   "source": [
    "In our previous tutorial, we looked at the change in development in a section of Mountain View, CA.  We could see visually that there was siginificant change over the course of ten years.  In this tutorial, we'll attempt to quantify that change."
   ]
  },
  {
   "cell_type": "markdown",
   "id": "8e0af9a8",
   "metadata": {
    "heading_collapsed": true
   },
   "source": [
    "## Gather Input Data"
   ]
  },
  {
   "cell_type": "markdown",
   "id": "8eeb3a08",
   "metadata": {
    "hidden": true
   },
   "source": [
    "In the previous exercise, we gathered data as jpegs.  Let's do the same here but with tiff files. While the jpegs were nice for visual inspection, tiff files can be georeferenced and used as inputs for further analysis."
   ]
  },
  {
   "cell_type": "markdown",
   "id": "6717814e",
   "metadata": {
    "heading_collapsed": true,
    "hidden": true
   },
   "source": [
    "#### 1.  Repeat the previous tutorial logic for setup."
   ]
  },
  {
   "cell_type": "markdown",
   "id": "c7ff7759",
   "metadata": {
    "hidden": true
   },
   "source": [
    "The following cells are selected from the previous tutorial.  Note that we're not displaying anything on a map now as we've already done our data exploration.  Gather all the code from the previous Notebook where you accessed the NAIP imagery and set up the bounding box, list of years and timestamps, and the pixel size to export."
   ]
  },
  {
   "cell_type": "code",
   "execution_count": 1,
   "id": "044605c9",
   "metadata": {
    "hidden": true
   },
   "outputs": [],
   "source": [
    "# imports\n",
    "import arcgis\n",
    "import datetime\n",
    "import pandas as pd"
   ]
  },
  {
   "cell_type": "code",
   "execution_count": 2,
   "id": "1a47415e",
   "metadata": {
    "hidden": true
   },
   "outputs": [],
   "source": [
    "# sign into ArcGIS Online\n",
    "gis = arcgis.GIS(\"home\")"
   ]
  },
  {
   "cell_type": "code",
   "execution_count": 3,
   "id": "2d0df3d0",
   "metadata": {
    "hidden": true
   },
   "outputs": [
    {
     "data": {
      "text/html": [
       "<div class=\"item_container\" style=\"height: auto; overflow: hidden; border: 1px solid #cfcfcf; border-radius: 2px; background: #f6fafa; line-height: 1.21429em; padding: 10px;\">\n",
       "                    <div class=\"item_left\" style=\"width: 210px; float: left;\">\n",
       "                       <a href='https://www.arcgis.com//home/item.html?id=3f8d2d3828f24c00ae279db4af26d566' target='_blank'>\n",
       "                        <img src='data:image/png;base64,/9j/4AAQSkZJRgABAgAAAQABAAD/2wBDAAgGBgcGBQgHBwcJCQgKDBQNDAsLDBkSEw8UHRofHh0aHBwgJC4nICIsIxwcKDcpLDAxNDQ0Hyc5PTgyPC4zNDL/2wBDAQkJCQwLDBgNDRgyIRwhMjIyMjIyMjIyMjIyMjIyMjIyMjIyMjIyMjIyMjIyMjIyMjIyMjIyMjIyMjIyMjIyMjL/wAARCACFAMgDASIAAhEBAxEB/8QAHwAAAQUBAQEBAQEAAAAAAAAAAAECAwQFBgcICQoL/8QAtRAAAgEDAwIEAwUFBAQAAAF9AQIDAAQRBRIhMUEGE1FhByJxFDKBkaEII0KxwRVS0fAkM2JyggkKFhcYGRolJicoKSo0NTY3ODk6Q0RFRkdISUpTVFVWV1hZWmNkZWZnaGlqc3R1dnd4eXqDhIWGh4iJipKTlJWWl5iZmqKjpKWmp6ipqrKztLW2t7i5usLDxMXGx8jJytLT1NXW19jZ2uHi4+Tl5ufo6erx8vP09fb3+Pn6/8QAHwEAAwEBAQEBAQEBAQAAAAAAAAECAwQFBgcICQoL/8QAtREAAgECBAQDBAcFBAQAAQJ3AAECAxEEBSExBhJBUQdhcRMiMoEIFEKRobHBCSMzUvAVYnLRChYkNOEl8RcYGRomJygpKjU2Nzg5OkNERUZHSElKU1RVVldYWVpjZGVmZ2hpanN0dXZ3eHl6goOEhYaHiImKkpOUlZaXmJmaoqOkpaanqKmqsrO0tba3uLm6wsPExcbHyMnK0tPU1dbX2Nna4uPk5ebn6Onq8vP09fb3+Pn6/9oADAMBAAIRAxEAPwBC/nRELweQuT1qCC3cDDg4BzyaltoSZgd3yg9COgq0Su/BG3HTPcVzglfVjIFCodg46H3prxswPy5xx0/rVhGXgZBXHIqV1DdDSLSM1Y8AjZg449qsxR78Bxz6iphCxdSBgd+amSEY6Y/DmncFEz8/6Q6nhemAP61M4kiEUkIAUEK2fSrjwb0LJ98dM96ZPaCa1aNmcd/lOKTCzKz2mNSaePoyjIbOCc9BWTfzrqbwjZJG8TEnuMdOa6CNxBGjzMflXB9Ca56H/kISQyAESgkjGBtzkHNNdzKp27mnbyp9nYMhCD5fmGM81TuMRzSBFwM4zSy3txbTvBFs8nbnc+Tg+lNu5ozGuxh+8I3YJ4Hc0JNMUnpYbukS4t0hhLcne4GM1el+W2kbPzbMiorQw+UmyM7oxtwTkYNSTlfs8i4x8uOKBxWlzHzx/jVV5I1ukB++/TA9Klup0trdpQMgds9ax4jIGnlaR/M2loyei56VrGN1c5mjdcHeOMDNGza2TwazIbmWMIzSmTILSbufwrQaQOA+0jI6HrUyTTJdyjrUUktgNuThwTjsKijieaILtCxgZwRzu9TWwnKDcRg5xTGh2yKwY7e6YGDVqeli9yhEI7yJUjbKg4Py9R3qkyGCUiZRkZK4GMrzV8v9jumjSPEZ5Depqvf7nkiuZC7R/cQBfzzVx3AQxM0oumXcwHC/3fal89be/MEW0O2Gcn1/zikDGSIxPxnOcDHOc/yqdI7eaZWPDxgEHHBGO9DfcRpdUGOWI6DtRWJey+VqgZC2I1A68UVHs30A695CoJAc887V6CkALu5wRkAD1/CpmD3EJRZCGAOccbuKZa2zQr8zE+hzmsTt1FtlkVyM7kAxmryYPGc7etVYr6NLkW3AfceP51ZO1P4ScccjANDHFolU59BTgy42hunaq4dmlGMBR1AHWlx8wPTJpF3NCJztwTxTWADHAGajRsgetTEgpkigZk392YLiKExfun+854GabbwSmaSSaNSFbbH8uSB/hUk0dtqOUikLEMCwI+7+frVlQ0KqiHfxglu/5UjKzcrs5vVA9qxJi+8fkA781Uj81pG6cjgEVd18S+f5hQmMAAHcOTnnilt7dfI+TdggEHPIrS+hzyjedkFlOZkIbJOO3HFXdhypY9qpiKS1iOWRiWxuIx+FagbdtBGCBio6mkE7WZy15aJdMm4cxvkDsao3UQS5MQACsuck/hit5lBLAhcjnmsjVIQJIZg6KsZO7J656V0QfQwaK8T+YihT87ZAYDoOlXrVJSHDDC9Bk5ziqkE0MALOVWFWwpA5Y0zWrhttrFA+EYkkL/n3qmruxJqFGVumAamR8/UD0qjatJ5aKXZsge9W8FXzkY96yatoStBZYxNbsPus3APpWZNPGkMtlIxkdBgAA8H61rqwZgc/4VTuYkiuTMY8M3Baqi0X0uZ0GYnVJgFfbyueasQoRceScNkBiT3/APrVE7H7YHKqz4A39AadD81y3mEZhGM7uW96t66iAwbHuJL1gqMxCk+nbFFGoTR3SQxEMXDHBA449feimtVduwzro5dzjsF71cdAMkcA8j6GqzKQ2AcAc9OKspzbYP315/DvXKd6MK7FxDqguEQbRhg2M81vQTQX8QPBfY37sHoc1UnjBgfCgkg9TisC2vZbe7MkT7FA4Knr/wDWppXRzt+zl5M697TDAL8zHAz05oaF4zGQcqW5xXOW2q3EEWYYwSJDI4yRkEfw+h5q/p+otd3ULmMgHmRWYEgD0pcrLjVizYQ8DcAr5wcGnbjwGPWluJIpbZLjeodicjPSqe9RLsWQM68lQeaRtcuKiKxYKNxxyOM0x23HA7jOKjWYeX86knnjNIsm2TPPPXI60WGILKFgvmqsjL3YVWmtjFJ5u8EEABQMBe1XvMBOPxB9aqSsN33ic0iXFELRkugZA3HfoOP55pSOpHbmpmiYRDf3GRioJ/3NvI2f4eKEJqyuc/eiZo2ETbWJBJ9s9KyblxJbtFOXdx84QAblx61sOm8A85NYWZZL2eSbcgJ8vbnr6V009ThZLJ59xZsEgSONMEFhknnrURtjcXbySsu2JRjjj3FPuFaVWikkOwZRVBOCexpLeNEhEWDtzyM8mtFtoIvWtyreX8m0MOO+KvCPdkkY/wAayoGlHlowCseQAOgH+RT7USQyO80jhclhuPpWUodgsXlLq3PP9Kl+WRcH8TWUL64nkDJtVFbkAdR2qeGVpInMpABOAFHGKXK1uJOw64ts5VWwcZB9KomRY1lKq++NfnwOcd61WGxVKjvgj2qpqSJDGy9JJjs45yfeqi7lW6kMiPKkUkaxxx7c5JyQxNFQzyIMwH5gFHyIMD15oq0hHcyHLDLDb6U6OUq3BG5ecZ/nVe5Wfy9luEZi/c4xzUMLSNM4K4I4JxxXKd3NZlq4jEsZwcRv1Hp7VknRn3uT/qlU9MEt3xWspcYb25B71L8wi3pyOgz6+hou1sKUFLVnMGM2188YUgkbvoKhTZcXLTOzYAACds9ePxpZRdSvc3DKEaQYOBjoMVXaRknR48lV9++Of8+9apHG9HobMGpG3leIiby0G4sWy3PXFasN1pK2xeI7ZwwYs/3mJPQGuVkBniVgSr7ssqn72Pf8qYhcNIWOFAXIB+6B7/lS5blqo0dWt9IskcdyEDtyArZJGetXlBdlOeuMdq4y1uPs9x5m1SFbCrnseeTXUWs7yOm0hoWXcCOCh96iSszelUvoy5Iz7V2qDzgkntVSV0DeSHBnxzg857VPduPsrMDwBxWVahHut5BDkcEDNSkXN2djULFVAY5GOao6lMFgSPaASegpZpmQHLb2HPA/Ws24lMvzHHJz1ppGdSaSsQtkAHPNZ98kxuopBsWH+InrmtDphj0I7UyYxm2fzBmMrzn0rSLszmMtFYxm4Y7nkz8o7+lWra1DR7pfm5yD702OW3KrGoZSq5AcgZPGM1bz+7BzyR2q5SYiJo1jCKDgBuuOfpUgRCrK2CD1BpkyEwkjhl5B9KFVAWbjc3BNSLqJHZxxKvJPfp1qYQBldQuAMEZP3u9IrHOByPWpUGVwefwobfUb0IIXYxqZQQxPQ1VlmW5mCRONsbfMTxk9MVZuuGjQMeepzVfyMoGRxGSdzEiqjbcS2KdqrXG2SR08wtgqDjA/+tRV5LS2ihl2n5mJwR1yfSiqcrjudgIizB1yB1x+P50ssSpIHCsCepHNTRsRGof7446U7zAVINcp6FkUIJPPDHZIgU7TvGCaswYRmB+ZGGGX/PehizJgnv8AlUacMMnkZoGkZ2saTLHpzzRy+ZBuBO4dBnj8eaw1tk+xO+C3O0hRz1rvoJNnyYBQ9VYcGqd3p1nContv3G3LeWfut+PaqUrKxz1KPVHGOs9tGpA2K5AXjgdzTZFzZuzZcFNrjPP1zXW31kl9FG7wussfIBGc/T26HNYP2OS1m2uCVdiRgdj65qlJMxlBozctCFjZRtI/AY963NDumAMMzckYHsfeql3YJt8tXACkMpXjFEO2CVAMjcfTv605NSQRbi7nUOBJC8J+UEfexUEdv9mZihG3pk9akzwobBJA59TTuCB135zmsbHdyp6mdLEDOuTkygj5azpUWOZkyMKcA+ta13dCKQLHgtjkmqIh8zBcrjOcdTVo5aiTdjM87MwRlYHJwPanMzC3bzFAzkDHP6VqnS5Lp0ljiCoB95jjqaranZPZhHPRuOBySKq6IdNpXOeMccSnzMliwDHuzf4dPyqWWeRChJC7MkoPyFSP8gAOC/3uOo/z/WodhYqWzkgMSRk8Dqa2TvuZl1rkGM7CqnPJxkVAkkkaHzFBfqRjHtmpIztijZU2qTjDdTUdw7mRd2dyMNzdiDzUJa2EWfMRSiscbuB71ZiClcg5zVOCeGa4CFdzoT9Fq0sqoVWKJi2Svpgj/wDXUy7DGTw7pTt4ZBnPrVNsGE7nKrzg+9WI2kuHLSMVz6dfp+tNntHSGWSILuD7V3DPYZ71cdNBFS3uEkuFESOyP0f+7RV62gWCBQFxjkjHSiplLXQLm1cXkgVGhHykkZAqe3nmlCybeAcNuppUQtuCYJH3s0bi7oTk7DwRWR3JO5acbsnOCO1Mic+YwKkYwc/3qNzbORggnn8agDSibduGAOVFSimzTjl2nnmpPM3g46HjFUYpxkZ4OKnSUbfXHPFA73LqTsqbSAVHZh0qnfWf2q1ItmVZMgncuWx9aSeeVVUon+9kVFFPKVLFdj9h7U7ilZ6GJ9mkhjAkLFgSBuHP+eaaEGdxyBW1cSRXc6xM5S47MR8rex96pPZSRXaCVT5ZIAKjPNVc5pQtsauUeFWKlSB1PQ/SoJ71YkbnMh6en1rG1OWSCQAM5RH4jU8GoZ9SeRIYYrcKcfeLZ/SjlNJVraGlLbRuRIrHBUF95wAfapIrW0kgDST8Nxujb/61QTTSXMiGUsERAmwHjgdfrVWOZEf5NyYPyhh6U1qibpPU6RCoi2KAVQbQXPp/WsTVzdAgOVbJwMDgZ+v0oN9cR6Y/mmEzB94LHjn2+tZd9dG4hXe6nc2XAPJJojHUdSouWxmsNzuFw5BIJJ79BVmCJjNN5iA78YPtjFMtwrszZ3AtxgflWqmEjJIGcda0lK2hzLUhFvldxyRk4Hp9KgGnv5sbAggE5yemaaLtnwx+4DkAd+KmjvyGbIDEDGAaVpIeg+WKGzbzixLN/CDVV7t5pQxwoB+6KbKzyndIfm7D/CoeV69TTiu4icMkYUuTlj07k1dhiZyVVc56e1QK8AUBozJKibtoHX8a0ETz9jJKYkXqmcE/X1qZMcY3KV+GgjUBiCx4cDjjr1opurWjpIsrqwgVSCW6A88/kBRVwSsElZ7HRT27TR7FkK85z604Q+UAuS5xing/LzjJ6VFPdCBHcqSOBgVznfotRzcrjgf0qth1jxjnkcnrViN/NjD7cZ7U1gxPQCmJ66lFbornepxnk4zxVyK6HG7Cjtng1FNatMMIQrZzkjt6VXnt5GkABBjC8465zzRZGb5ka8F1ZyDy3kkVuc7RnNSyGAcJOo9N/GPwrlzKY5CuQCOxNNkvSq5lkGB2p8pCrdzSaUq+9gVfsK0LW9V4ttxJEoxkEtz+GK59ZfOQOuQSOhpwId1QuoYnpmnYSqW1Rs31ol4BJbuGxgEHofx9ayG024jKNHGPMJxye3vWjHbSRKQZMjttNTujXEBzw+CKm5Tgpatameyz7QSI+P7rDNQTRlj6uORj1qeyibz/AJ06NtIY9avmxhY8GTnPRsinezJUHLUwZzI1uYmI3H7p6gkc1Siti75DCQnIBB9a3bmyKAMo8xPUDofQ+9UPJCkbQQKuMjGSaeokUEUPy4GR1GKV38xh3GeBU5t3IHBGeee9W5dJkVYzGSSwB246Gpv3HGEpIzjZNMu5YWwOu0UGzMTcoy55GRW9p7CO1mSQKXDY2jrmpHWQwySTPgBScA47UuZ7Gvsbq9zm3iSRW3N06HuKjisjnk5Gf0qWWNZmDFcYPbjNaMIV0XI2yKM5FVdpGUYXKS3SzSvGpRCqbWfONvT1o0mPy7jEgdpUGAzNwR1znvUsflSh7eaJdx+8wAGaxJmccJEyuJTt3t09zTS5tCnpZl3xBdNdTQwqN0a/M3p7DPeis67ZnEBYoFVsZB6nFFaxuopIiUru52F1nygc4IOeKruizRyJkgMAw74q9JCJU2kfQ1X8sRDasm1fUjNcyOyS11HWcIiiwHLJgHJ4qZpFPy5wfX1qKPzQ4CqAmB1NJLE2/ftYZ9ulIa0Wg+NvMjLcA5xkH9ay7qzmiZ3iMjeY2fkPIJrQ2MY8I5Vc5JNWISGQH/61NMlx5lZmHLpREpeeUKZRsU85ziqVpbQqR5xA3dCR1xXW8ZGQCBzzTbuGN7eR/sy3GF4QDk0+dkSoroYDSwF3EKOArBeT1NVWtSboyhuCBnjpXSS2glt4mREgdcNhl5Ax0rHdSsnIGehFCfYzlBo04vMe0WRWG4DkdjipracSgkLyOoPSq2lS+YZoyjfL69DT1mWG92LgLnaQO1S0bRlomXGtI7iHCSkYfft6mpWDYYsc5PQLjFULhwtwiRsQxfkdM1fbzHf5GwAecHrQzWLQ10EsLLhg4HynHU1WjjvD+7wBkEs+zvVwBz/E3HvTcHcMO2aVxuNxgRpnWKa3ZlG4byMY9PzpJbDcSyNIjkdmIxxUhLl+RgDv6illuUh8pQCzOcfSi4ml1H28It4gHAaTHzNjk0PiQMpyAQR0qNGmV5BKysM/KVXHFTAcZHSga2MCbT5YsY/eKDgEDk06NpwCgU/KOeOnpWlPwSUJBPbJxUAMhVWWQsPbvVJmPs0noZKWgjZ8btxbceOeetPubSK4g+cEsByQK0lafGRJjI/iOcU5ZfNjJysgPHK0+bqJU0cw9qypCiIGXfliR3oree2gRsTxFWP9zNFVzmTos0Qdq7veqkiB3eMgAZJ4oorLqdctSW2hjXCFd2PlyfTrU8h3l1xjAA4ooqeo0rIpqxMmScjHSrUKAAdyaKKsmJYEa7OeeKjsZWlt9zgZ3EccUUUFPdDrmBJ4tsmSAQeDjmsG+UC7lwABk0UU4mVVbEulkxMTnOFzz3pLoD7cQBjcc0UU+pnb3ETXqYu4QGPLf4VpBfmBz940UVLN4bsmxt461Ewy/HFFFJGo58LHkjJB7/SoGjLMjbuc5ziiigiRMO/1qdVGznn/APVRRSHEzpgPMIwcPwQTxTVBBKjGxv4cdKKKoT3G+UDgA4UDAFQ3FskJDoWCgkFQevFFFFyJL3SqkjlWYuSdvc5ooopowuz/2Q==' width='200' height='133' class=\"itemThumbnail\">\n",
       "                       </a>\n",
       "                    </div>\n",
       "\n",
       "                    <div class=\"item_right\"     style=\"float: none; width: auto; overflow: hidden;\">\n",
       "                        <a href='https://www.arcgis.com//home/item.html?id=3f8d2d3828f24c00ae279db4af26d566' target='_blank'><b>USA NAIP Imagery: Natural Color</b>\n",
       "                        </a>\n",
       "                        <br/>This Natural Color imagery layer features recent high-resolution (1m or better) aerial imagery for the continental United States, made available by the USDA Farm Services Agency. <img src='https://www.arcgis.com//home/js/jsapi/esri/css/images/item_type_icons/imagery16.png' style=\"vertical-align:middle;\" width=16 height=16>Imagery Layer by esri\n",
       "                        <br/>Last Modified: January 25, 2024\n",
       "                        <br/>17 comments, 2,496,574 views\n",
       "                    </div>\n",
       "                </div>\n",
       "                "
      ],
      "text/plain": [
       "<Item title:\"USA NAIP Imagery: Natural Color\" type:Imagery Layer owner:esri>"
      ]
     },
     "execution_count": 3,
     "metadata": {},
     "output_type": "execute_result"
    }
   ],
   "source": [
    "# gather the NAIP item\n",
    "naip_item = gis.content.get(\"3f8d2d3828f24c00ae279db4af26d566\")\n",
    "naip_item"
   ]
  },
  {
   "cell_type": "code",
   "execution_count": 4,
   "id": "15b4c3e5",
   "metadata": {
    "hidden": true
   },
   "outputs": [],
   "source": [
    "# gather the NAIP layer\n",
    "lyr_naip = naip_item.layers[0]"
   ]
  },
  {
   "cell_type": "code",
   "execution_count": 5,
   "id": "29b434e5",
   "metadata": {
    "hidden": true
   },
   "outputs": [],
   "source": [
    "# define extent by tuple\n",
    "in_extent = (-13530675.228816083, 4545237.670432766, -13528866.137925146, 4547533.238415405) \n",
    "\n",
    "# unpack the extent tuple into individual variables\n",
    "xmin, ymin, xmax, ymax = in_extent\n",
    "\n",
    "# create a dictionary for the envelope\n",
    "extent_dict = {'xmin': xmin,\n",
    "  'ymin': ymin,\n",
    "  'xmax': xmax,\n",
    "  'ymax': ymax,\n",
    "  'spatialReference': {'wkid': 3857}}\n",
    "\n",
    "# create an envelope geometry\n",
    "envelope = arcgis.geometry.Envelope(extent_dict) "
   ]
  },
  {
   "cell_type": "code",
   "execution_count": 6,
   "id": "08d85b3a",
   "metadata": {
    "hidden": true
   },
   "outputs": [],
   "source": [
    "# determine the pixel size of the output\n",
    "\n",
    "# NAIP Resolution\n",
    "naip_res = 1 \n",
    "\n",
    "# Web Mercator meters per unit\n",
    "metersPerUnit = 1\n",
    "\n",
    "# calculate the width and height of our output in pixels\n",
    "w = int((xmax - xmin) * metersPerUnit / naip_res)\n",
    "h = int((ymax - ymin) * metersPerUnit / naip_res)"
   ]
  },
  {
   "cell_type": "code",
   "execution_count": 7,
   "id": "46e68eb0",
   "metadata": {
    "hidden": true
   },
   "outputs": [],
   "source": [
    "# query the NAIP layer for available dates\n",
    "\n",
    "df_naip = lyr_naip.query(\n",
    "    where = \"AcquisitionDate IS NOT NULL\",\n",
    "    geometry_filter = arcgis.geometry.filters.intersects(\n",
    "        geometry=envelope, \n",
    "        sr=envelope.spatial_reference),\n",
    "    as_df=True,\n",
    "    )"
   ]
  },
  {
   "cell_type": "code",
   "execution_count": 8,
   "id": "8eb280dc",
   "metadata": {
    "hidden": true
   },
   "outputs": [],
   "source": [
    "# create a list of years and dates to export\n",
    "years_and_dates = df_naip[['Year','AcquisitionDate']].to_dict('records')"
   ]
  },
  {
   "cell_type": "markdown",
   "id": "49a87008",
   "metadata": {
    "heading_collapsed": true,
    "hidden": true
   },
   "source": [
    "#### 2.  Export tiff files."
   ]
  },
  {
   "cell_type": "markdown",
   "id": "b0740013",
   "metadata": {
    "hidden": true
   },
   "source": [
    "Rather than exporting jpegs as we did in the previous tutorial, we'll export tiff files now.  These will be slightly bigger, take longer to export, and can't be displayed in the notebook, but since we already know the data looks good we can proceed with confidence.\n",
    "\n",
    "Modify the code from the previous tutorial to export tiff files instead of jpegs."
   ]
  },
  {
   "cell_type": "code",
   "execution_count": 10,
   "id": "935ba923",
   "metadata": {
    "hidden": true
   },
   "outputs": [
    {
     "name": "stdout",
     "output_type": "stream",
     "text": [
      "Exporting 2012\n",
      "Exporting 2014\n",
      "Exporting 2016\n",
      "Exporting 2018\n",
      "Exporting 2020\n",
      "Exporting 2022\n"
     ]
    }
   ],
   "source": [
    "for year_and_date in years_and_dates:\n",
    "    \n",
    "    # unpack the year\n",
    "    year = year_and_date['Year']\n",
    "    \n",
    "    # unpack the filter date\n",
    "    filter_date = year_and_date['AcquisitionDate']\n",
    "    \n",
    "    print(\"Exporting\", year)\n",
    "    \n",
    "    # export the image\n",
    "    export_image = lyr_naip.export_image(\n",
    "        bbox = envelope,\n",
    "        bbox_sr = 3857, \n",
    "        image_sr = 3857, \n",
    "        time = filter_date, # timestamp changed to iterating date\n",
    "        rendering_rule = {'rasterFunction': \"NaturalColor\"}, \n",
    "        f = \"image\", \n",
    "        export_format='tiff', # changed the export format to tiff\n",
    "        size = [w,h], \n",
    "        save_folder = r\".\", \n",
    "        save_file = rf\"mountain_house_{year}.tif\", # file name changed to include year - file extension changed to tif\n",
    "        )\n",
    "    "
   ]
  },
  {
   "cell_type": "markdown",
   "id": "ef891b7a",
   "metadata": {
    "heading_collapsed": true
   },
   "source": [
    "## Set Up Land Classification Model"
   ]
  },
  {
   "cell_type": "markdown",
   "id": "cae8cd3b",
   "metadata": {
    "hidden": true
   },
   "source": [
    "In our effort to quantify the amount of development in Mountain House, we'll need to classify pixels by whether or not they're developed.  You could train your own model using some very similar methodology.  That's a pretty advanced and time-consuming activity though.  Luckily, the Living Atlas also contains some pretrained models that will work with this data."
   ]
  },
  {
   "cell_type": "markdown",
   "id": "46ae60dc",
   "metadata": {
    "heading_collapsed": true,
    "hidden": true
   },
   "source": [
    "#### 1.  Find the model in the Living Atlas."
   ]
  },
  {
   "cell_type": "markdown",
   "id": "55e10f50",
   "metadata": {
    "hidden": true
   },
   "source": [
    "Similarly to how we accessed the NAIP data in the Living Atlas, we can also find the model we're interested in.  Again, we'll access the item in ArcGIS Online via its Item ID."
   ]
  },
  {
   "cell_type": "code",
   "execution_count": 11,
   "id": "9bc219bd",
   "metadata": {
    "hidden": true
   },
   "outputs": [
    {
     "data": {
      "text/html": [
       "<div class=\"item_container\" style=\"height: auto; overflow: hidden; border: 1px solid #cfcfcf; border-radius: 2px; background: #f6fafa; line-height: 1.21429em; padding: 10px;\">\n",
       "                    <div class=\"item_left\" style=\"width: 210px; float: left;\">\n",
       "                       <a href='https://www.arcgis.com//home/item.html?id=a10f46a8071a4318bcc085dae26d7ee4' target='_blank'>\n",
       "                        <img src='data:image/png;base64,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' width='200' height='133' class=\"itemThumbnail\">\n",
       "                       </a>\n",
       "                    </div>\n",
       "\n",
       "                    <div class=\"item_right\"     style=\"float: none; width: auto; overflow: hidden;\">\n",
       "                        <a href='https://www.arcgis.com//home/item.html?id=a10f46a8071a4318bcc085dae26d7ee4' target='_blank'><b>High Resolution Land Cover Classification - USA</b>\n",
       "                        </a>\n",
       "                        <br/>Deep learning model to perform land cover classification on high resolution imagery.<img src='https://www.arcgis.com//home/js/jsapi/esri/css/images/item_type_icons/layers16.png' style=\"vertical-align:middle;\" width=16 height=16>Deep Learning Package by esri_analytics\n",
       "                        <br/>Last Modified: October 09, 2023\n",
       "                        <br/>3 comments, 24,211 views\n",
       "                    </div>\n",
       "                </div>\n",
       "                "
      ],
      "text/plain": [
       "<Item title:\"High Resolution Land Cover Classification - USA\" type:Deep Learning Package owner:esri_analytics>"
      ]
     },
     "execution_count": 11,
     "metadata": {},
     "output_type": "execute_result"
    }
   ],
   "source": [
    "model_item = gis.content.get(\"a10f46a8071a4318bcc085dae26d7ee4\") \n",
    "model_item"
   ]
  },
  {
   "cell_type": "markdown",
   "id": "2fbfe5cf",
   "metadata": {
    "hidden": true
   },
   "source": [
    "Check out the documentation for the model linked above.  It's a Deep Learning Package that is pretrained to classify the pixels in an imagery raster.  It will use the built-in logic that it contains to determine whether each pixel represents a structure, road surface, water, or open land (and more)."
   ]
  },
  {
   "cell_type": "markdown",
   "id": "c62cb425",
   "metadata": {
    "heading_collapsed": true,
    "hidden": true
   },
   "source": [
    "#### 2.  Download the model locally."
   ]
  },
  {
   "cell_type": "markdown",
   "id": "eaebae37",
   "metadata": {
    "hidden": true
   },
   "source": [
    "To use the model on this data that you've collected, you'll need to download it locally.  Luckily that's pretty easy using the ArcGIS API for Python."
   ]
  },
  {
   "cell_type": "code",
   "execution_count": 12,
   "id": "38e8100f",
   "metadata": {
    "hidden": true
   },
   "outputs": [
    {
     "data": {
      "text/plain": [
       "'.\\\\HighResolutionLandCoverClassification_USA.dlpk'"
      ]
     },
     "execution_count": 12,
     "metadata": {},
     "output_type": "execute_result"
    }
   ],
   "source": [
    "model_local = model_item.download(\n",
    "    save_path = r\".\", \n",
    "    file_name = model_item.name\n",
    ") \n",
    "model_local"
   ]
  },
  {
   "cell_type": "markdown",
   "id": "44b35214",
   "metadata": {},
   "source": [
    "## Use the Model to Classify a Raster"
   ]
  },
  {
   "cell_type": "markdown",
   "id": "3f12cc12",
   "metadata": {},
   "source": [
    "You've gathered your input data and determined the transformation you want to make on the data via choosing a model.  Now it's time to apply that transformation and review the results.  For a start, use the most recent image."
   ]
  },
  {
   "cell_type": "markdown",
   "id": "e9fbaba1",
   "metadata": {
    "heading_collapsed": true
   },
   "source": [
    "#### 1.  Import arcpy."
   ]
  },
  {
   "cell_type": "markdown",
   "id": "58fd7ca6",
   "metadata": {
    "hidden": true
   },
   "source": [
    "To perform this analysis locally, you'll need the `arcpy` package."
   ]
  },
  {
   "cell_type": "code",
   "execution_count": 1,
   "id": "19869f20",
   "metadata": {
    "hidden": true
   },
   "outputs": [],
   "source": [
    "import arcpy"
   ]
  },
  {
   "cell_type": "markdown",
   "id": "bcfe29de",
   "metadata": {},
   "source": [
    "#### 2.  Choose the path for an input raster."
   ]
  },
  {
   "cell_type": "code",
   "execution_count": 16,
   "id": "f427aae4",
   "metadata": {},
   "outputs": [
    {
     "data": {
      "text/plain": [
       "'C:\\\\Users\\\\dav11274\\\\AppData\\\\Local\\\\ESRI\\\\conda\\\\envs\\\\deeplearning2\\\\python.exe'"
      ]
     },
     "execution_count": 16,
     "metadata": {},
     "output_type": "execute_result"
    }
   ],
   "source": [
    "import sys\n",
    "sys.executable"
   ]
  },
  {
   "cell_type": "markdown",
   "id": "61440083",
   "metadata": {},
   "source": [
    "Start with the 2022 raster then use the `arcpy.Exists()` function to confirm that you have a valid file path"
   ]
  },
  {
   "cell_type": "code",
   "execution_count": 2,
   "id": "c11e21cd",
   "metadata": {},
   "outputs": [],
   "source": [
    "input_raster = './mountain_house_2022.tif'"
   ]
  },
  {
   "cell_type": "code",
   "execution_count": 3,
   "id": "da6739b2",
   "metadata": {},
   "outputs": [
    {
     "data": {
      "text/plain": [
       "True"
      ]
     },
     "execution_count": 3,
     "metadata": {},
     "output_type": "execute_result"
    }
   ],
   "source": [
    "arcpy.Exists(input_raster)"
   ]
  },
  {
   "cell_type": "markdown",
   "id": "70e5ef4f",
   "metadata": {},
   "source": [
    "#### 3.  Classify your raster."
   ]
  },
  {
   "cell_type": "markdown",
   "id": "2493819a",
   "metadata": {},
   "source": [
    "Now you can use the **Classify Pixels Using Deep Learning** tool in the **Imagery Analysis** toolbox to classify the data."
   ]
  },
  {
   "cell_type": "code",
   "execution_count": 11,
   "id": "b849f8db",
   "metadata": {},
   "outputs": [],
   "source": [
    "fgdb = arcpy.management.CreateFileGDB('.','classified_rasters')[0]"
   ]
  },
  {
   "cell_type": "code",
   "execution_count": 12,
   "id": "efdd968b",
   "metadata": {},
   "outputs": [],
   "source": [
    "arcpy.env.workspace = fgdb"
   ]
  },
  {
   "cell_type": "code",
   "execution_count": 17,
   "id": "ddccd827",
   "metadata": {},
   "outputs": [
    {
     "data": {
      "text/plain": [
       "'CheckedOut'"
      ]
     },
     "execution_count": 17,
     "metadata": {},
     "output_type": "execute_result"
    }
   ],
   "source": [
    "arcpy.CheckOutExtension(\"ImageAnalyst\")"
   ]
  },
  {
   "cell_type": "code",
   "execution_count": 19,
   "id": "2825b0b1",
   "metadata": {},
   "outputs": [
    {
     "ename": "ExecuteError",
     "evalue": "A raster error has occurred. The messages that follow will provide more detail.\nNo raster store is configurated.\nFailed to execute (ClassifyPixelsUsingDeepLearning).\n",
     "output_type": "error",
     "traceback": [
      "\u001b[1;31m---------------------------------------------------------------------------\u001b[0m",
      "\u001b[1;31mExecuteError\u001b[0m                              Traceback (most recent call last)",
      "\u001b[1;32m~\\AppData\\Local\\Temp\\1\\ipykernel_4100\\3660071161.py\u001b[0m in \u001b[0;36m<cell line: 0>\u001b[1;34m()\u001b[0m\n\u001b[1;32m----> 1\u001b[1;33m out_classified_raster = arcpy.ia.ClassifyPixelsUsingDeepLearning(\n\u001b[0m\u001b[0;32m      2\u001b[0m     \u001b[0min_raster\u001b[0m \u001b[1;33m=\u001b[0m \u001b[0marcpy\u001b[0m\u001b[1;33m.\u001b[0m\u001b[0mRaster\u001b[0m\u001b[1;33m(\u001b[0m\u001b[0minput_raster\u001b[0m\u001b[1;33m)\u001b[0m\u001b[1;33m,\u001b[0m\u001b[1;33m\u001b[0m\u001b[1;33m\u001b[0m\u001b[0m\n\u001b[0;32m      3\u001b[0m     \u001b[0min_model_definition\u001b[0m \u001b[1;33m=\u001b[0m \u001b[0mmodel_local\u001b[0m\u001b[1;33m,\u001b[0m\u001b[1;33m\u001b[0m\u001b[1;33m\u001b[0m\u001b[0m\n\u001b[0;32m      4\u001b[0m )\n\u001b[0;32m      5\u001b[0m \u001b[0mout_classified_raster\u001b[0m\u001b[1;33m\u001b[0m\u001b[1;33m\u001b[0m\u001b[0m\n",
      "\u001b[1;32mC:\\Program Files\\ArcGIS\\Pro\\Resources\\ArcPy\\arcpy\\ia\\Functions.py\u001b[0m in \u001b[0;36mClassifyPixelsUsingDeepLearning\u001b[1;34m(in_raster, in_model_definition, arguments, processing_mode, out_classified_folder, out_featureclass, overwrite_attachments, use_pixelspace)\u001b[0m\n\u001b[0;32m   2038\u001b[0m                 use_pixelspace)\n\u001b[0;32m   2039\u001b[0m             \u001b[1;32mreturn\u001b[0m \u001b[0m_wrapToolRaster\u001b[0m\u001b[1;33m(\u001b[0m\u001b[1;34m\"ClassifyPixelsUsingDeepLearning_sa\"\u001b[0m\u001b[1;33m,\u001b[0m \u001b[0mstr\u001b[0m\u001b[1;33m(\u001b[0m\u001b[0mresult\u001b[0m\u001b[1;33m.\u001b[0m\u001b[0mgetOutput\u001b[0m\u001b[1;33m(\u001b[0m\u001b[1;36m0\u001b[0m\u001b[1;33m)\u001b[0m\u001b[1;33m)\u001b[0m\u001b[1;33m)\u001b[0m\u001b[1;33m\u001b[0m\u001b[1;33m\u001b[0m\u001b[0m\n\u001b[1;32m-> 2040\u001b[1;33m     return Wrapper(\n\u001b[0m\u001b[0;32m   2041\u001b[0m         \u001b[0min_raster\u001b[0m\u001b[1;33m,\u001b[0m\u001b[1;33m\u001b[0m\u001b[1;33m\u001b[0m\u001b[0m\n\u001b[0;32m   2042\u001b[0m         \u001b[0min_model_definition\u001b[0m\u001b[1;33m,\u001b[0m\u001b[1;33m\u001b[0m\u001b[1;33m\u001b[0m\u001b[0m\n",
      "\u001b[1;32mC:\\Program Files\\ArcGIS\\Pro\\Resources\\ArcPy\\arcpy\\sa\\Utils.py\u001b[0m in \u001b[0;36mswapper\u001b[1;34m(*args, **kwargs)\u001b[0m\n\u001b[0;32m     43\u001b[0m \u001b[1;33m\u001b[0m\u001b[0m\n\u001b[0;32m     44\u001b[0m             \u001b[1;32mtry\u001b[0m\u001b[1;33m:\u001b[0m\u001b[1;33m\u001b[0m\u001b[1;33m\u001b[0m\u001b[0m\n\u001b[1;32m---> 45\u001b[1;33m                 \u001b[0mresult\u001b[0m \u001b[1;33m=\u001b[0m \u001b[0mwrapper\u001b[0m\u001b[1;33m(\u001b[0m\u001b[1;33m*\u001b[0m\u001b[0margs\u001b[0m\u001b[1;33m,\u001b[0m \u001b[1;33m**\u001b[0m\u001b[0mkwargs\u001b[0m\u001b[1;33m)\u001b[0m\u001b[1;33m\u001b[0m\u001b[1;33m\u001b[0m\u001b[0m\n\u001b[0m\u001b[0;32m     46\u001b[0m             \u001b[1;32mfinally\u001b[0m\u001b[1;33m:\u001b[0m\u001b[1;33m\u001b[0m\u001b[1;33m\u001b[0m\u001b[0m\n\u001b[0;32m     47\u001b[0m                 \u001b[1;31m# Reset the geoprocessor state to the original setting.\u001b[0m\u001b[1;33m\u001b[0m\u001b[1;33m\u001b[0m\u001b[0m\n",
      "\u001b[1;32mC:\\Program Files\\ArcGIS\\Pro\\Resources\\ArcPy\\arcpy\\ia\\Functions.py\u001b[0m in \u001b[0;36mWrapper\u001b[1;34m(in_raster, in_model_definition, arguments, processing_mode, out_classified_folder, out_featureclass, overwrite_attachments, use_pixelspace)\u001b[0m\n\u001b[0;32m   2027\u001b[0m                 use_pixelspace):\n\u001b[0;32m   2028\u001b[0m             \u001b[0mout_classified_raster\u001b[0m \u001b[1;33m=\u001b[0m \u001b[1;34m\"#\"\u001b[0m\u001b[1;33m\u001b[0m\u001b[1;33m\u001b[0m\u001b[0m\n\u001b[1;32m-> 2029\u001b[1;33m             result = arcpy.gp.ClassifyPixelsUsingDeepLearning_ia(\n\u001b[0m\u001b[0;32m   2030\u001b[0m                 \u001b[0min_raster\u001b[0m\u001b[1;33m,\u001b[0m\u001b[1;33m\u001b[0m\u001b[1;33m\u001b[0m\u001b[0m\n\u001b[0;32m   2031\u001b[0m                 \u001b[0mout_classified_raster\u001b[0m\u001b[1;33m,\u001b[0m\u001b[1;33m\u001b[0m\u001b[1;33m\u001b[0m\u001b[0m\n",
      "\u001b[1;32mC:\\Program Files\\ArcGIS\\Pro\\Resources\\ArcPy\\arcpy\\geoprocessing\\_base.py\u001b[0m in \u001b[0;36m<lambda>\u001b[1;34m(*args)\u001b[0m\n\u001b[0;32m    510\u001b[0m         \u001b[0mval\u001b[0m \u001b[1;33m=\u001b[0m \u001b[0mgetattr\u001b[0m\u001b[1;33m(\u001b[0m\u001b[0mself\u001b[0m\u001b[1;33m.\u001b[0m\u001b[0m_gp\u001b[0m\u001b[1;33m,\u001b[0m \u001b[0mattr\u001b[0m\u001b[1;33m)\u001b[0m\u001b[1;33m\u001b[0m\u001b[1;33m\u001b[0m\u001b[0m\n\u001b[0;32m    511\u001b[0m         \u001b[1;32mif\u001b[0m \u001b[0mcallable\u001b[0m\u001b[1;33m(\u001b[0m\u001b[0mval\u001b[0m\u001b[1;33m)\u001b[0m\u001b[1;33m:\u001b[0m\u001b[1;33m\u001b[0m\u001b[1;33m\u001b[0m\u001b[0m\n\u001b[1;32m--> 512\u001b[1;33m             \u001b[1;32mreturn\u001b[0m \u001b[1;32mlambda\u001b[0m \u001b[1;33m*\u001b[0m\u001b[0margs\u001b[0m\u001b[1;33m:\u001b[0m \u001b[0mval\u001b[0m\u001b[1;33m(\u001b[0m\u001b[1;33m*\u001b[0m\u001b[0mgp_fixargs\u001b[0m\u001b[1;33m(\u001b[0m\u001b[0margs\u001b[0m\u001b[1;33m,\u001b[0m \u001b[1;32mTrue\u001b[0m\u001b[1;33m)\u001b[0m\u001b[1;33m)\u001b[0m\u001b[1;33m\u001b[0m\u001b[1;33m\u001b[0m\u001b[0m\n\u001b[0m\u001b[0;32m    513\u001b[0m         \u001b[1;32melse\u001b[0m\u001b[1;33m:\u001b[0m\u001b[1;33m\u001b[0m\u001b[1;33m\u001b[0m\u001b[0m\n\u001b[0;32m    514\u001b[0m             \u001b[1;32mreturn\u001b[0m \u001b[0mconvertArcObjectToPythonObject\u001b[0m\u001b[1;33m(\u001b[0m\u001b[0mval\u001b[0m\u001b[1;33m)\u001b[0m\u001b[1;33m\u001b[0m\u001b[1;33m\u001b[0m\u001b[0m\n",
      "\u001b[1;31mExecuteError\u001b[0m: A raster error has occurred. The messages that follow will provide more detail.\nNo raster store is configurated.\nFailed to execute (ClassifyPixelsUsingDeepLearning).\n"
     ]
    }
   ],
   "source": [
    "out_classified_raster = arcpy.ia.ClassifyPixelsUsingDeepLearning(\n",
    "    in_raster = arcpy.Raster(input_raster),\n",
    "    in_model_definition = model_local,\n",
    ")\n",
    "out_classified_raster"
   ]
  },
  {
   "cell_type": "code",
   "execution_count": null,
   "id": "1c350276",
   "metadata": {},
   "outputs": [],
   "source": []
  }
 ],
 "metadata": {
  "kernelspec": {
   "display_name": "Python 3 (ipykernel)",
   "language": "python",
   "name": "python3"
  },
  "language_info": {
   "codemirror_mode": {
    "name": "ipython",
    "version": 3
   },
   "file_extension": ".py",
   "mimetype": "text/x-python",
   "name": "python",
   "nbconvert_exporter": "python",
   "pygments_lexer": "ipython3",
   "version": "3.11.8"
  }
 },
 "nbformat": 4,
 "nbformat_minor": 5
}
