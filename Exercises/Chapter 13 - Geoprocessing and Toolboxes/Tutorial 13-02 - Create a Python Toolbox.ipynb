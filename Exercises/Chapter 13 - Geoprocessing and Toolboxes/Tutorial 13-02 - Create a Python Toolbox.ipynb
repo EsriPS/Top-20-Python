{
 "cells": [
  {
   "cell_type": "markdown",
   "id": "664d0486",
   "metadata": {},
   "source": [
    "# Tutorial 13-02 - Create a Python Toolbox"
   ]
  },
  {
   "cell_type": "markdown",
   "id": "6f7e4cc8",
   "metadata": {},
   "source": [
    "Now let's create a Python toolbox.  "
   ]
  },
  {
   "cell_type": "markdown",
   "id": "3e01ea52",
   "metadata": {},
   "source": [
    "**TODO** ADD CONTEXT"
   ]
  },
  {
   "cell_type": "markdown",
   "id": "7d2d6186",
   "metadata": {
    "heading_collapsed": true
   },
   "source": [
    "## Create a Template Python Toolbox"
   ]
  },
  {
   "cell_type": "markdown",
   "id": "5bd4742e",
   "metadata": {
    "heading_collapsed": true,
    "hidden": true
   },
   "source": [
    "#### 1.  Open ArcGIS Pro."
   ]
  },
  {
   "cell_type": "markdown",
   "id": "5bc8e8a7",
   "metadata": {
    "hidden": true
   },
   "source": [
    "If you don't already have ArcGIS Pro open, open the project for this chapter."
   ]
  },
  {
   "cell_type": "markdown",
   "id": "87fd4816",
   "metadata": {
    "heading_collapsed": true,
    "hidden": true
   },
   "source": [
    "#### 2.  Navigate to the Catalog View"
   ]
  },
  {
   "cell_type": "markdown",
   "id": "1c3c4319",
   "metadata": {
    "hidden": true
   },
   "source": [
    "Open the Catalog View or Pane.  "
   ]
  },
  {
   "cell_type": "markdown",
   "id": "882103fa",
   "metadata": {
    "heading_collapsed": true,
    "hidden": true
   },
   "source": [
    "#### 3.  Right-click on the Toolboxes folder"
   ]
  },
  {
   "cell_type": "markdown",
   "id": "6b7e7ecb",
   "metadata": {
    "hidden": true
   },
   "source": [
    "In the **Contents** pane of the Catalog View, under the **Project** section, right-click on the **Toolboxes** folder."
   ]
  },
  {
   "cell_type": "markdown",
   "id": "1f9c1077",
   "metadata": {
    "heading_collapsed": true,
    "hidden": true
   },
   "source": [
    "#### 4.  Create a new Python Toolbox"
   ]
  },
  {
   "cell_type": "markdown",
   "id": "9c48b691",
   "metadata": {
    "hidden": true
   },
   "source": [
    "Click on **New Python Toolbox**."
   ]
  },
  {
   "cell_type": "markdown",
   "id": "5597b2e0",
   "metadata": {
    "hidden": true
   },
   "source": [
    "![Create a new Python Toolbox.](resources\\new_python_toolbox.png \"Create a new Python Toolbox\")"
   ]
  },
  {
   "cell_type": "markdown",
   "id": "581d3ebe",
   "metadata": {
    "hidden": true
   },
   "source": [
    "This will bring up a window allowing you to navigate to a folder and save the toolbox.  By default, the toolbox will save to your project folder.  You can choose a name for the toolbox.  In this example, we're going to call the toolbox *Data Export Tools*.  When you click **Save**, that window will close and you'll see a new file in your toolboxes called *Data Export Tools.pyt*."
   ]
  },
  {
   "cell_type": "markdown",
   "id": "b83eaff4",
   "metadata": {
    "heading_collapsed": true
   },
   "source": [
    "## Explore the Template"
   ]
  },
  {
   "cell_type": "markdown",
   "id": "c3315412",
   "metadata": {
    "heading_collapsed": true,
    "hidden": true
   },
   "source": [
    "#### 1.  Open the Python Toolbox in an editor"
   ]
  },
  {
   "cell_type": "markdown",
   "id": "bf31b171",
   "metadata": {
    "hidden": true
   },
   "source": [
    "Right-click your new Python toolbox and click **Edit**.  This will open the toolbox in your Python editor of choice."
   ]
  },
  {
   "cell_type": "markdown",
   "id": "dd44ed2e",
   "metadata": {
    "heading_collapsed": true,
    "hidden": true
   },
   "source": [
    "#### 2.  Review the template code"
   ]
  },
  {
   "cell_type": "markdown",
   "id": "2baae3ba",
   "metadata": {
    "hidden": true
   },
   "source": [
    "The template code here might look intimidating at first but it's not too complex if you examine its components.  The template for a python toolbox comes with two classes.  \n",
    "\n",
    "The first class is the `Toolbox`.  This class defines the toolbox itself and has descriptive information about the toolbox.  You can set a label and alias here.  You'll also need to use the `self.tools` property later to ensure that your tools are listed in the toolbox.  You'll end up modifying this class in place.\n",
    "\n",
    "The second class, `Tool`, is an example tool.  This class has several different methods that execute at different points during the execution cycle of a tool.  \n",
    " - `__init__` - Defines how the tool appears in the toolbox.  This method initializes the tool and contains metadata.\n",
    " - `getParameterInfo` - This is where you'll define your parameters, which will determine how your users can use this tool.\n",
    " - `isLicensed` - This method allows you to insert custom logic to determine whether the tool can be run.  For instance, you could check to ensure that your user has a specific extension of ArcGIS Pro here.\n",
    " - `updateParameters` - This method is called whenever a user populates a parameter.  You can insert custom logic in here to update other parameters based on what a user has already entered.\n",
    " - `updateMessages` - This method is called after internal validation and is a place where you can raise parameter-related errors to the user.\n",
    " - `execute` - This is where the body of your code will go.  All the logic we put into the main function of our previous tool will go here.\n",
    " - `postExecute` - This executes after the body of your code has executed and any outputs have been added into the display/map.  Often this is used for symbology and redering changes."
   ]
  },
  {
   "cell_type": "code",
   "execution_count": 1,
   "id": "8b3d3e65",
   "metadata": {
    "hidden": true
   },
   "outputs": [],
   "source": [
    "# -*- coding: utf-8 -*-\n",
    "\n",
    "import arcpy\n",
    "\n",
    "\n",
    "class Toolbox:\n",
    "    def __init__(self):\n",
    "        \"\"\"Define the toolbox (the name of the toolbox is the name of the\n",
    "        .pyt file).\"\"\"\n",
    "        self.label = \"Toolbox\"\n",
    "        self.alias = \"toolbox\"\n",
    "\n",
    "        # List of tool classes associated with this toolbox\n",
    "        self.tools = [Tool]\n",
    "\n",
    "\n",
    "class Tool:\n",
    "    def __init__(self):\n",
    "        \"\"\"Define the tool (tool name is the name of the class).\"\"\"\n",
    "        self.label = \"Tool\"\n",
    "        self.description = \"\"\n",
    "\n",
    "    def getParameterInfo(self):\n",
    "        \"\"\"Define the tool parameters.\"\"\"\n",
    "        params = None\n",
    "        return params\n",
    "\n",
    "    def isLicensed(self):\n",
    "        \"\"\"Set whether the tool is licensed to execute.\"\"\"\n",
    "        return True\n",
    "\n",
    "    def updateParameters(self, parameters):\n",
    "        \"\"\"Modify the values and properties of parameters before internal\n",
    "        validation is performed.  This method is called whenever a parameter\n",
    "        has been changed.\"\"\"\n",
    "        return\n",
    "\n",
    "    def updateMessages(self, parameters):\n",
    "        \"\"\"Modify the messages created by internal validation for each tool\n",
    "        parameter. This method is called after internal validation.\"\"\"\n",
    "        return\n",
    "\n",
    "    def execute(self, parameters, messages):\n",
    "        \"\"\"The source code of the tool.\"\"\"\n",
    "        return\n",
    "\n",
    "    def postExecute(self, parameters):\n",
    "        \"\"\"This method takes place after outputs are processed and\n",
    "        added to the display.\"\"\"\n",
    "        return\n"
   ]
  },
  {
   "cell_type": "markdown",
   "id": "59653ff1",
   "metadata": {},
   "source": [
    "## Write A Tool"
   ]
  },
  {
   "cell_type": "markdown",
   "id": "f26c9563",
   "metadata": {},
   "source": [
    "Now that you've got your template set up, you can start writing tools.  Each new tool you write will be its own class."
   ]
  },
  {
   "cell_type": "markdown",
   "id": "bbd7fcb4",
   "metadata": {},
   "source": [
    "#### 1.  Copy the template Tool class"
   ]
  },
  {
   "cell_type": "markdown",
   "id": "8c5fd0d1",
   "metadata": {},
   "source": [
    "The easiest way to get started creating a tool is to copy the template `Tool` class.  Copy that class and all its methods and paste at the bottom of your .pyt file."
   ]
  },
  {
   "cell_type": "markdown",
   "id": "0e3ecd5f",
   "metadata": {},
   "source": [
    "#### 2.  Change the name and description of your new tool"
   ]
  },
  {
   "cell_type": "markdown",
   "id": "d1cf3ef7",
   "metadata": {},
   "source": [
    "You can start customizing with the class name and the `__init__` method.  \n",
    "\n",
    "Change the class name from \"Tool\" to \"CountyExporter\".\n",
    "\n",
    "In the `__init__` method, change the following:\n",
    " - `self.label = \"County Highway Exporter\"`\n",
    " - `self.description = \"This tool exports a zipped file geodatabase of highway data\"`"
   ]
  },
  {
   "cell_type": "code",
   "execution_count": 2,
   "id": "ff22ff7e",
   "metadata": {},
   "outputs": [],
   "source": [
    "class CountyExporter:\n",
    "    def __init__(self):\n",
    "        \"\"\"Define the tool (tool name is the name of the class).\"\"\"\n",
    "        self.label = \"County Highway Exporter\"\n",
    "        self.description = \"This tool exports a zipped file geodatabase of highway data\"\n"
   ]
  },
  {
   "cell_type": "markdown",
   "id": "7cfab9df",
   "metadata": {
    "heading_collapsed": true
   },
   "source": [
    "#### 3.  Create parameters."
   ]
  },
  {
   "cell_type": "markdown",
   "id": "e53a2982",
   "metadata": {
    "hidden": true
   },
   "source": [
    "Similarly to the previous tutorial, you'll need to create parameters to define your user interaction. In a Python toolbox, you define those parameters using code.  You'll use the `arcpy.Parameter` class to create these parameters.\n",
    "\n",
    "Each parameter will need the same information that you filled out in the Parameter panel in the previous tutorial.  Below is a sample of what an individual parameter looks like."
   ]
  },
  {
   "cell_type": "code",
   "execution_count": null,
   "id": "5b4fc6ae",
   "metadata": {
    "hidden": true
   },
   "outputs": [],
   "source": [
    "full_fc_path = arcpy.Parameter(\n",
    "    displayName=\"Highways Feature Class\",\n",
    "    name=\"Highways_Feature_Class\",\n",
    "    datatype=\"GPFeatureLayer\",\n",
    "    parameterType=\"Required\",\n",
    "    direction=\"Input\"\n",
    ")"
   ]
  },
  {
   "cell_type": "markdown",
   "id": "315bb45d",
   "metadata": {
    "hidden": true
   },
   "source": [
    "Note that the properties of this parameter are very similar to the GUI-based workflow in the previous tutorial.  For each parameter, you'll specify the display name, the machine-friendly name, the data type, the parameter type, and direction."
   ]
  },
  {
   "cell_type": "markdown",
   "id": "d9046975",
   "metadata": {
    "hidden": true
   },
   "source": [
    "TIP - The data types for parameters in a python toolbox have very specific names.  It's helpful to look up the GP Data Types when writing parameters."
   ]
  },
  {
   "cell_type": "markdown",
   "id": "50ae670f",
   "metadata": {
    "hidden": true
   },
   "source": [
    "Update the `getParameterInfo()` method to include the following parameters.  Make sure to put all your parameter objects in the `params` list that gets returned by this method."
   ]
  },
  {
   "cell_type": "code",
   "execution_count": 1,
   "id": "5b436378",
   "metadata": {
    "hidden": true
   },
   "outputs": [],
   "source": [
    "    def getParameterInfo(self):\n",
    "        \"\"\"Define the tool parameters.\"\"\"\n",
    "        # First parameter\n",
    "        full_fc_path = arcpy.Parameter(\n",
    "            displayName=\"Highways Feature Class\",\n",
    "            name=\"Highways_Feature_Class\",\n",
    "            datatype=\"GPFeatureLayer\",\n",
    "            parameterType=\"Required\",\n",
    "            direction=\"Input\")\n",
    "\n",
    "        # Second parameter\n",
    "        output_folder = arcpy.Parameter(\n",
    "            displayName=\"Output Folder\",\n",
    "            name=\"Output_Folder\",\n",
    "            datatype=\"DEFolder\",\n",
    "            parameterType=\"Required\",\n",
    "            direction=\"Input\")\n",
    "\n",
    "\n",
    "        # Third parameter\n",
    "        county = arcpy.Parameter(\n",
    "            displayName=\"County\",\n",
    "            name=\"County\",\n",
    "            datatype=\"GPString\",\n",
    "            parameterType=\"Required\",\n",
    "            direction=\"Input\")\n",
    "        \n",
    "        # list of all parameters\n",
    "        params = [full_fc_path, output_folder, county]\n",
    "        return params"
   ]
  },
  {
   "cell_type": "markdown",
   "id": "5f44498c",
   "metadata": {
    "heading_collapsed": true
   },
   "source": [
    "#### 4.  Paste the function you developed into the .pyt file"
   ]
  },
  {
   "cell_type": "markdown",
   "id": "ba0932f2",
   "metadata": {
    "hidden": true
   },
   "source": [
    "Because you can reference all the code in your .pyt file, you can paste your pre-defined function into the file and reference it during execution.  For reference, here is the function.  You can paste below all the other code.  Make sure it's fully left-justified and not tabbed in at all (so that it's a function and not a method of one of the objects)."
   ]
  },
  {
   "cell_type": "code",
   "execution_count": 2,
   "id": "65815c0f",
   "metadata": {
    "hidden": true
   },
   "outputs": [],
   "source": [
    "def zip_county_highways(full_fc_path, output_folder, county):\n",
    "\n",
    "    # remove spaces from county name\n",
    "    county_no_spaces = county.replace(\" \", \"_\")\n",
    "    \n",
    "    # create a file geodatabase\n",
    "    fgdb = arcpy.management.CreateFileGDB(\n",
    "        out_folder_path = output_folder,\n",
    "        out_name = f\"{county_no_spaces}_Output\"\n",
    "    )\n",
    "\n",
    "    # Create a feature class\n",
    "    output_fc = arcpy.conversion.ExportFeatures(\n",
    "        in_features = full_fc_path,\n",
    "        out_features = os.path.join(fgdb[0], \n",
    "                                    f\"{county_no_spaces}_Highways\"),\n",
    "        where_clause = f\"NAMELSAD = '{county}'\"\n",
    "    )\n",
    "    \n",
    "    # define a path for the zip file\n",
    "    zip_file_path = os.path.join(output_folder, f\"{county} Highways.zip\") \n",
    "\n",
    "    # zip the file geodatabase\n",
    "    with zipfile.ZipFile(zip_file_path, \"w\") as zipper:\n",
    "        for root, dirs, files in os.walk(fgdb[0]):\n",
    "            for file in files:\n",
    "                fpath = os.path.join(root, file)\n",
    "                zpath = os.path.relpath(\n",
    "                            os.path.join(root, file),\n",
    "                            os.path.join(fgdb[0], '..')\n",
    "                        )\n",
    "                zipper.write(\n",
    "                    fpath,\n",
    "                    zpath\n",
    "                )\n",
    "    \n",
    "    # delete the file geodatabase\n",
    "    arcpy.management.Delete(fgdb)\n",
    "    \n",
    "    # return the zip file path\n",
    "    return zip_file_path"
   ]
  },
  {
   "cell_type": "markdown",
   "id": "98bfac13",
   "metadata": {
    "heading_collapsed": true
   },
   "source": [
    "#### 5.  Write the execution portion of your tool"
   ]
  },
  {
   "cell_type": "markdown",
   "id": "a664a2f6",
   "metadata": {
    "hidden": true
   },
   "source": [
    "Now that you've set up your parameters and inserted the function that defines your tool logic, you can populate the `execute` method of your tool.  \n",
    "\n",
    "The `execute` method accepts the list of parameters that is returned by the `getParameterInfo` method.  You can access those parameters by index in the order you returned them in the `getParameterInfo` method.  You'll need to call the `valueAsText` property on each parameter in this case."
   ]
  },
  {
   "cell_type": "code",
   "execution_count": null,
   "id": "991b6ae1",
   "metadata": {
    "hidden": true
   },
   "outputs": [],
   "source": [
    "highways_feature_class = parameters[0].valueAsText\n",
    "output_folder = parameters[1].valueAsText\n",
    "county = parameters[2].valueAsText"
   ]
  },
  {
   "cell_type": "markdown",
   "id": "aa2d553b",
   "metadata": {
    "hidden": true
   },
   "source": [
    "Now that you've unpacked the parameters, you can call the function you defined in the previous step."
   ]
  },
  {
   "cell_type": "code",
   "execution_count": null,
   "id": "ce216f40",
   "metadata": {
    "hidden": true
   },
   "outputs": [],
   "source": [
    "zip_county_highways(\n",
    "    highways_feature_class, \n",
    "    output_folder,\n",
    "    county\n",
    ")"
   ]
  },
  {
   "cell_type": "markdown",
   "id": "798c12e1",
   "metadata": {
    "hidden": true
   },
   "source": [
    "When you put all that together in the `execute` method, it should look like this"
   ]
  },
  {
   "cell_type": "code",
   "execution_count": 4,
   "id": "3970df48",
   "metadata": {
    "hidden": true
   },
   "outputs": [],
   "source": [
    "    def execute(self, parameters, messages):\n",
    "        \"\"\"The source code of the tool.\"\"\"\n",
    "        \n",
    "        highways_feature_class = parameters[0].valueAsText\n",
    "        output_folder = parameters[1].valueAsText\n",
    "        county = parameters[2].valueAsText\n",
    "\n",
    "        zip_county_highways(\n",
    "                highways_feature_class, \n",
    "                output_folder,\n",
    "                county\n",
    "            )\n",
    "        return"
   ]
  },
  {
   "cell_type": "markdown",
   "id": "f37a42cc",
   "metadata": {
    "heading_collapsed": true
   },
   "source": [
    "#### 6.  Add your tool to the toolbox"
   ]
  },
  {
   "cell_type": "markdown",
   "id": "a4e8d31b",
   "metadata": {
    "hidden": true
   },
   "source": [
    "Your tool should now be functional, but if you were to save now and look at the toolbox in ArcGIS Pro, you wouldn't see your new tool.  This is because you have to add your tool object to the toolbox's tool list."
   ]
  },
  {
   "cell_type": "markdown",
   "id": "502335a6",
   "metadata": {
    "hidden": true
   },
   "source": [
    "Find the `tools` parameter of the toolbox and add your tool (\"CountyExporter\") to that list.  Your toolbox class should look like this now."
   ]
  },
  {
   "cell_type": "code",
   "execution_count": 6,
   "id": "3998443a",
   "metadata": {
    "hidden": true
   },
   "outputs": [],
   "source": [
    "class Toolbox:\n",
    "    def __init__(self):\n",
    "        \"\"\"Define the toolbox (the name of the toolbox is the name of the\n",
    "        .pyt file).\"\"\"\n",
    "        self.label = \"Toolbox\"\n",
    "        self.alias = \"toolbox\"\n",
    "\n",
    "        # List of tool classes associated with this toolbox\n",
    "        self.tools = [Tool, CountyExporter]"
   ]
  },
  {
   "cell_type": "markdown",
   "id": "711c2677",
   "metadata": {
    "heading_collapsed": true
   },
   "source": [
    "## Test Your Tool"
   ]
  },
  {
   "cell_type": "markdown",
   "id": "bebd79a0",
   "metadata": {
    "heading_collapsed": true,
    "hidden": true
   },
   "source": [
    "#### 1.  Review your code."
   ]
  },
  {
   "cell_type": "markdown",
   "id": "735ab37f",
   "metadata": {
    "hidden": true
   },
   "source": [
    "Now that you've set up your tool, defined your parameters, and defined the execution of your tool, you can test the tool.  Save your .pyt file.  The code should look like the following code block."
   ]
  },
  {
   "cell_type": "code",
   "execution_count": 7,
   "id": "3c17a761",
   "metadata": {
    "hidden": true
   },
   "outputs": [],
   "source": [
    "# -*- coding: utf-8 -*-\n",
    "\n",
    "import arcpy\n",
    "import zipfile\n",
    "import os\n",
    "\n",
    "\n",
    "class Toolbox:\n",
    "    def __init__(self):\n",
    "        \"\"\"Define the toolbox (the name of the toolbox is the name of the\n",
    "        .pyt file).\"\"\"\n",
    "        self.label = \"Toolbox\"\n",
    "        self.alias = \"toolbox\"\n",
    "\n",
    "        # List of tool classes associated with this toolbox\n",
    "        self.tools = [Tool, CountyExporter]\n",
    "\n",
    "\n",
    "class Tool:\n",
    "    def __init__(self):\n",
    "        \"\"\"Define the tool (tool name is the name of the class).\"\"\"\n",
    "        self.label = \"Tool\"\n",
    "        self.description = \"\"\n",
    "\n",
    "    def getParameterInfo(self):\n",
    "        \"\"\"Define the tool parameters.\"\"\"\n",
    "        params = None\n",
    "        return params\n",
    "\n",
    "    def isLicensed(self):\n",
    "        \"\"\"Set whether the tool is licensed to execute.\"\"\"\n",
    "        return True\n",
    "\n",
    "    def updateParameters(self, parameters):\n",
    "        \"\"\"Modify the values and properties of parameters before internal\n",
    "        validation is performed.  This method is called whenever a parameter\n",
    "        has been changed.\"\"\"\n",
    "        return\n",
    "\n",
    "    def updateMessages(self, parameters):\n",
    "        \"\"\"Modify the messages created by internal validation for each tool\n",
    "        parameter. This method is called after internal validation.\"\"\"\n",
    "        return\n",
    "\n",
    "    def execute(self, parameters, messages):\n",
    "        \"\"\"The source code of the tool.\"\"\"\n",
    "        return\n",
    "\n",
    "    def postExecute(self, parameters):\n",
    "        \"\"\"This method takes place after outputs are processed and\n",
    "        added to the display.\"\"\"\n",
    "        return\n",
    "\n",
    "\n",
    "class CountyExporter:\n",
    "    def __init__(self):\n",
    "        \"\"\"Define the tool (tool name is the name of the class).\"\"\"\n",
    "        self.label = \"County Highway Exporter\"\n",
    "        self.description = \"This tool exports a zipped file geodatabase of highway data\"\n",
    "\n",
    "    def getParameterInfo(self):\n",
    "        \"\"\"Define the tool parameters.\"\"\"\n",
    "        # First parameter\n",
    "        full_fc_path = arcpy.Parameter(\n",
    "            displayName=\"Highways Feature Class\",\n",
    "            name=\"Highways_Feature_Class\",\n",
    "            datatype=\"GPFeatureLayer\",\n",
    "            parameterType=\"Required\",\n",
    "            direction=\"Input\")\n",
    "\n",
    "        # Second parameter\n",
    "        output_folder = arcpy.Parameter(\n",
    "            displayName=\"Output Folder\",\n",
    "            name=\"Output_Folder\",\n",
    "            datatype=\"DEFolder\",\n",
    "            parameterType=\"Required\",\n",
    "            direction=\"Input\")\n",
    "\n",
    "\n",
    "        # Third parameter\n",
    "        county = arcpy.Parameter(\n",
    "            displayName=\"County\",\n",
    "            name=\"County\",\n",
    "            datatype=\"GPString\",\n",
    "            parameterType=\"Required\",\n",
    "            direction=\"Input\")\n",
    "        \n",
    "        params = [full_fc_path, output_folder, county]\n",
    "        return params\n",
    "\n",
    "    def isLicensed(self):\n",
    "        \"\"\"Set whether the tool is licensed to execute.\"\"\"\n",
    "        return True\n",
    "\n",
    "    def updateParameters(self, parameters):\n",
    "        \"\"\"Modify the values and properties of parameters before internal\n",
    "        validation is performed.  This method is called whenever a parameter\n",
    "        has been changed.\"\"\"\n",
    "        return\n",
    "\n",
    "    def updateMessages(self, parameters):\n",
    "        \"\"\"Modify the messages created by internal validation for each tool\n",
    "        parameter. This method is called after internal validation.\"\"\"\n",
    "        return\n",
    "\n",
    "    def execute(self, parameters, messages):\n",
    "        \"\"\"The source code of the tool.\"\"\"\n",
    "        \n",
    "        highways_feature_class = parameters[0].valueAsText\n",
    "        output_folder = parameters[1].valueAsText\n",
    "        county = parameters[2].valueAsText\n",
    "\n",
    "        zip_county_highways(\n",
    "                highways_feature_class, \n",
    "                output_folder,\n",
    "                county\n",
    "            )\n",
    "        return\n",
    "\n",
    "    def postExecute(self, parameters):\n",
    "        \"\"\"This method takes place after outputs are processed and\n",
    "        added to the display.\"\"\"\n",
    "        return\n",
    "\n",
    "def zip_county_highways(full_fc_path, output_folder, county):\n",
    "\n",
    "    # remove spaces from county name\n",
    "    county_no_spaces = county.replace(\" \", \"_\")\n",
    "    \n",
    "    # create a file geodatabase\n",
    "    fgdb = arcpy.management.CreateFileGDB(\n",
    "        out_folder_path = output_folder,\n",
    "        out_name = f\"{county_no_spaces}_Output\"\n",
    "    )\n",
    "\n",
    "    # Create a feature class\n",
    "    output_fc = arcpy.conversion.ExportFeatures(\n",
    "        in_features = full_fc_path,\n",
    "        out_features = os.path.join(fgdb[0], \n",
    "                                    f\"{county_no_spaces}_Highways\"),\n",
    "        where_clause = f\"NAMELSAD = '{county}'\"\n",
    "    )\n",
    "    \n",
    "    # define a path for the zip file\n",
    "    zip_file_path = os.path.join(output_folder, f\"{county} Highways.zip\") \n",
    "\n",
    "    # zip the file geodatabase\n",
    "    with zipfile.ZipFile(zip_file_path, \"w\") as zipper:\n",
    "        for root, dirs, files in os.walk(fgdb[0]):\n",
    "            for file in files:\n",
    "                fpath = os.path.join(root, file)\n",
    "                zpath = os.path.relpath(\n",
    "                            os.path.join(root, file),\n",
    "                            os.path.join(fgdb[0], '..')\n",
    "                        )\n",
    "                zipper.write(\n",
    "                    fpath,\n",
    "                    zpath\n",
    "                )\n",
    "    \n",
    "    # delete the file geodatabase\n",
    "    arcpy.management.Delete(fgdb)\n",
    "    \n",
    "    # return the zip file path\n",
    "    return zip_file_path\n",
    "\n",
    "\n"
   ]
  },
  {
   "cell_type": "markdown",
   "id": "455a3c0d",
   "metadata": {
    "heading_collapsed": true,
    "hidden": true
   },
   "source": [
    "#### 2.  Refresh your toolbox in ArcGIS Pro"
   ]
  },
  {
   "cell_type": "markdown",
   "id": "b6feb52f",
   "metadata": {
    "hidden": true
   },
   "source": [
    "If you closed ArcGIS Pro at some point, re-open it.  If you had it open still, right click your python toolbox and click **Refresh**.  You should now see two tools in the toolbox.  One is the **Tool** tool that was in there originally.  Another is your new **County Highway Exporter** tool."
   ]
  },
  {
   "cell_type": "markdown",
   "id": "2f735234",
   "metadata": {
    "heading_collapsed": true,
    "hidden": true
   },
   "source": [
    "#### 3.  Open your new tool"
   ]
  },
  {
   "cell_type": "markdown",
   "id": "c5390f96",
   "metadata": {
    "hidden": true
   },
   "source": [
    "Double-click the **Highways Exporter Tool** to open the tool in your Geoprocessing pane."
   ]
  },
  {
   "cell_type": "markdown",
   "id": "6a55214c",
   "metadata": {
    "hidden": true
   },
   "source": [
    "![Your new python tool.](resources\\new_python_tool.png \"Your new python tool\")"
   ]
  },
  {
   "cell_type": "markdown",
   "id": "2a7c3d75",
   "metadata": {
    "heading_collapsed": true,
    "hidden": true
   },
   "source": [
    "#### 4.  Populate parameters to test with"
   ]
  },
  {
   "cell_type": "markdown",
   "id": "87f08803",
   "metadata": {
    "hidden": true
   },
   "source": [
    "Navigate to the files in the Chapter 3 (Arcpy Basics) of the tutorial files.  Find the file geodatabase included there.  Drag the \"Highways_Intersect\" feature class into the first parameter in your new tool.  Note how much easier it is to change these parameters than it is in a script."
   ]
  },
  {
   "cell_type": "markdown",
   "id": "f036f5cb",
   "metadata": {
    "hidden": true
   },
   "source": [
    "Populate the following values in your new tool.\n",
    " - Highways Feature Class - *the path to the \"Highways_Intersect\" feature class*\n",
    " - Output Folder - *path to a folder on your computer where you can export a zip file*\n",
    " - County - **Alameda County**"
   ]
  },
  {
   "cell_type": "markdown",
   "id": "b176f5c4",
   "metadata": {
    "heading_collapsed": true,
    "hidden": true
   },
   "source": [
    "#### 5.  Run your tool"
   ]
  },
  {
   "cell_type": "markdown",
   "id": "eff2faed",
   "metadata": {
    "hidden": true
   },
   "source": [
    "Click **Run** in your new tool and export data."
   ]
  },
  {
   "cell_type": "markdown",
   "id": "e4db5fe2",
   "metadata": {
    "hidden": true
   },
   "source": [
    "If everything went well, your tool should have exported a zipped file geodatabase with a single county's highways included."
   ]
  },
  {
   "cell_type": "markdown",
   "id": "a6a75ea6",
   "metadata": {
    "heading_collapsed": true
   },
   "source": [
    "## Modify your Parameters"
   ]
  },
  {
   "cell_type": "markdown",
   "id": "e1519875",
   "metadata": {
    "hidden": true
   },
   "source": [
    "Assuming your tool is working correctly, there are some modifications you can make to make it a little easier on your end users.  Because you have control over the tool initialization and parameters, you can let your users choose from a pre-defined list of counties.  This will reduce the chance for user error and typos."
   ]
  },
  {
   "cell_type": "markdown",
   "id": "f02bdcc1",
   "metadata": {
    "hidden": true
   },
   "source": [
    "#### 1.  Open your python toolbox in edit mode"
   ]
  },
  {
   "cell_type": "markdown",
   "id": "79fd4df4",
   "metadata": {
    "hidden": true
   },
   "source": [
    "if you closed your toolbox, open it again by right-clicking it and clicking **Edit**."
   ]
  },
  {
   "cell_type": "markdown",
   "id": "56c931eb",
   "metadata": {
    "hidden": true
   },
   "source": [
    "#### 2.  Modify the county parameter."
   ]
  },
  {
   "cell_type": "markdown",
   "id": "04b3db2e",
   "metadata": {
    "hidden": true
   },
   "source": []
  }
 ],
 "metadata": {
  "kernelspec": {
   "display_name": "Python 3 (ipykernel)",
   "language": "python",
   "name": "python3"
  },
  "language_info": {
   "codemirror_mode": {
    "name": "ipython",
    "version": 3
   },
   "file_extension": ".py",
   "mimetype": "text/x-python",
   "name": "python",
   "nbconvert_exporter": "python",
   "pygments_lexer": "ipython3",
   "version": "3.9.18"
  }
 },
 "nbformat": 4,
 "nbformat_minor": 5
}
