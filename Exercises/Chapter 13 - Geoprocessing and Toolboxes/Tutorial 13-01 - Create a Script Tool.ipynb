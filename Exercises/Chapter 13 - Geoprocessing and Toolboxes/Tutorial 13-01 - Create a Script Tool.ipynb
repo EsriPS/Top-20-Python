{
 "cells": [
  {
   "cell_type": "markdown",
   "metadata": {},
   "source": [
    "# Tutorial 13-01 - Create a Script Tool"
   ]
  },
  {
   "cell_type": "markdown",
   "metadata": {
    "heading_collapsed": true
   },
   "source": [
    "## Develop Your Script Logic"
   ]
  },
  {
   "cell_type": "markdown",
   "metadata": {
    "hidden": true
   },
   "source": [
    "#### 1.  Revisit Chapter 10 Tutorial 2 - Multiprocessing"
   ]
  },
  {
   "cell_type": "markdown",
   "metadata": {
    "hidden": true
   },
   "source": [
    "In Chapter 10 Tutorial 2 we developed a multiprocessing script for exporting a zipped file geodatabase containing a feature class with highways for a specific county.  The basic steps we went through were:\n",
    " - Pick a county.\n",
    " - Replace spaces with underscores.\n",
    " - Create a file geodatabase.\n",
    " - Create a feature class in that geodatabase containing the highways for the county.\n",
    " - Compress the file geodatabase into a .zip file.\n",
    " - Delete the temporary file geodatabase.\n",
    "After we developed and tested that logic, we refactored that code and turned it into a function.  We can reuse that function here and focus on building a geoprocessing tool around it."
   ]
  },
  {
   "cell_type": "code",
   "execution_count": null,
   "metadata": {
    "hidden": true
   },
   "outputs": [],
   "source": [
    "def zip_county_highways(full_fc_path, output_folder, county):\n",
    "    \n",
    "    # remove spaces from county name\n",
    "    county_no_spaces = county.replace(\" \", \"_\")\n",
    "    \n",
    "    # create a file geodatabase\n",
    "    fgdb = arcpy.management.CreateFileGDB(\n",
    "        out_folder_path = output_folder,\n",
    "        out_name = f\"{county_no_spaces}_Output\"\n",
    "    )\n",
    "\n",
    "    # Create a feature class\n",
    "    output_fc = arcpy.conversion.ExportFeatures(\n",
    "        in_features = full_fc_path,\n",
    "        out_features = os.path.join(fgdb[0], \n",
    "                                    f\"{county_no_spaces}_Highways\"),\n",
    "        where_clause = f\"NAMELSAD = '{county}'\"\n",
    "    )\n",
    "    \n",
    "    # define a path for the zip file\n",
    "    zip_file_path = os.path.join(output_folder, f\"{county} Highways.zip\") \n",
    "\n",
    "    # zip the file geodatabase\n",
    "    with zipfile.ZipFile(zip_file_path, \"w\") as zipper:\n",
    "        for root, dirs, files in os.walk(fgdb[0]):\n",
    "            for file in files:\n",
    "                fpath = os.path.join(root, file)\n",
    "                zpath = os.path.relpath(\n",
    "                            os.path.join(root, file),\n",
    "                            os.path.join(fgdb[0], '..')\n",
    "                        )\n",
    "                zipper.write(\n",
    "                    fpath,\n",
    "                    zpath\n",
    "                )\n",
    "    \n",
    "    # delete the file geodatabase\n",
    "    arcpy.management.Delete(fgdb)\n",
    "    \n",
    "    # return the zip file path\n",
    "    return zip_file_path"
   ]
  },
  {
   "cell_type": "markdown",
   "metadata": {
    "heading_collapsed": true,
    "hidden": true
   },
   "source": [
    "#### 2.  Import packages"
   ]
  },
  {
   "cell_type": "markdown",
   "metadata": {
    "hidden": true
   },
   "source": [
    "Now that you've got your script logic all set out with a function, you can execute that function with a few lines of code.  \n",
    "\n",
    "First you'll need to import the necessary packages to execute that code.  In this case, you're using `arcpy` to create the file geodatabase and export the feature class.  You're using `os` to manage file and folder paths.  You're also using the `zipfile` package to compress your file geodatabase into a zip file.\n"
   ]
  },
  {
   "cell_type": "code",
   "execution_count": null,
   "metadata": {
    "hidden": true
   },
   "outputs": [],
   "source": [
    "# import packages\n",
    "import arcpy\n",
    "import os\n",
    "import zipfile"
   ]
  },
  {
   "cell_type": "markdown",
   "metadata": {
    "hidden": true
   },
   "source": [
    "#### 3. Set up test inputs"
   ]
  },
  {
   "cell_type": "markdown",
   "metadata": {
    "hidden": true
   },
   "source": [
    "Now you'll define your inputs.  You'll need an input feature class and an output folder for the zip files."
   ]
  },
  {
   "cell_type": "code",
   "execution_count": null,
   "metadata": {
    "hidden": true
   },
   "outputs": [],
   "source": [
    "# input file geodatabase path\n",
    "full_fc_path = r\"..\\Chapter 03 - ArcPy Basics\\Chapter 03 Files\\Chapter 02 - Working with Maps.gdb\\Highways_intersect\"\n",
    "\n",
    "# output folder\n",
    "output_folder = r\".\\zipped_outputs\""
   ]
  },
  {
   "cell_type": "markdown",
   "metadata": {
    "hidden": true
   },
   "source": [
    "#### 4.  Test your function."
   ]
  },
  {
   "cell_type": "markdown",
   "metadata": {
    "hidden": true
   },
   "source": [
    "After you've imported your packages and defined your inputs you can test your function.  It's usually good to make sure all your logic is sound before starting to create a script tool."
   ]
  },
  {
   "cell_type": "code",
   "execution_count": null,
   "metadata": {
    "hidden": true
   },
   "outputs": [],
   "source": [
    "# export a zip file for Butte County\n",
    "zip_county_highways(full_fc_path, output_folder, \"Butte County\")"
   ]
  },
  {
   "cell_type": "markdown",
   "metadata": {
    "heading_collapsed": true
   },
   "source": [
    "## Create a Script Tool"
   ]
  },
  {
   "cell_type": "markdown",
   "metadata": {
    "hidden": true
   },
   "source": [
    "Now that you've got your script all set, you can work on setting up a user interface for your script.  Some of the work we do here is going to be scripting and some is going to be in the ArcGIS Pro user interface. "
   ]
  },
  {
   "cell_type": "markdown",
   "metadata": {
    "heading_collapsed": true,
    "hidden": true
   },
   "source": [
    "#### 1.  Open ArcGIS Pro"
   ]
  },
  {
   "cell_type": "markdown",
   "metadata": {
    "hidden": true
   },
   "source": [
    "If you aren't already using this notebook in ArcGIS Pro, go ahead and open the ArcGIS Pro Project included in this chapter's working files."
   ]
  },
  {
   "cell_type": "markdown",
   "metadata": {
    "heading_collapsed": true,
    "hidden": true
   },
   "source": [
    "#### 2.  Create a new script tool"
   ]
  },
  {
   "cell_type": "markdown",
   "metadata": {
    "hidden": true
   },
   "source": [
    "In the **Catalog View** of the included project, use the **Contents** pane to find the **Toolboxes** folder.   In the **Toolboxes** folder, you should see a toolbox called \"Geoprocessing_and_Toolboxes.atbx\".  Right click that toolbox, then hover over the \"New\" row and click \"Script\"."
   ]
  },
  {
   "cell_type": "markdown",
   "metadata": {
    "hidden": true
   },
   "source": [
    "![Create a script tool.](resources\\create_new_script_tool.png \"Creating a script tool\")"
   ]
  },
  {
   "cell_type": "markdown",
   "metadata": {
    "hidden": true
   },
   "source": [
    "Creating a new script tool will open up the \"Properties\" wizard for this new script tool."
   ]
  },
  {
   "cell_type": "markdown",
   "metadata": {
    "hidden": true
   },
   "source": [
    "![New script tool properties.](resources\\new_script_tool_properties.png \"New script tool properties\")"
   ]
  },
  {
   "cell_type": "markdown",
   "metadata": {
    "heading_collapsed": true,
    "hidden": true
   },
   "source": [
    "#### 3.  Fill in descriptive information about the tool"
   ]
  },
  {
   "cell_type": "markdown",
   "metadata": {
    "hidden": true
   },
   "source": [
    "The first panel you'll see in the *New Script* properties is the *General* tab.  This panel contains descriptive information about the tool.  You'll need to fill out the Name, Label, and Description for this new tool.  You can choose your own wording, but we'd suggest the following"
   ]
  },
  {
   "cell_type": "markdown",
   "metadata": {
    "hidden": true
   },
   "source": [
    " - Name: **CountyHighwaysExporter**\n",
    "\n",
    " - Label: **County Highway Exporter**\n",
    "\n",
    " - Description: **This tool allows the user to export a single county's highways to a zipped file geodatabase for easy handoff.**"
   ]
  },
  {
   "cell_type": "markdown",
   "metadata": {
    "heading_collapsed": true,
    "hidden": true
   },
   "source": [
    "#### 4.  Enter the script logic"
   ]
  },
  {
   "cell_type": "markdown",
   "metadata": {
    "hidden": true
   },
   "source": [
    "The only other essential part of creating a script tool is defining the execution logic.  To do this, you can click the **Execution** panel on the left of the Tool Properties wizard.  When you click **Execution** you'll see a script editing panel.  Paste the code you ran and tested in the beginning of this tutorial."
   ]
  },
  {
   "cell_type": "markdown",
   "metadata": {
    "hidden": true
   },
   "source": [
    "![Script logic in tool.](resources\\script_logic_in_tool.png \"Script logic entered into the execution tab\")"
   ]
  },
  {
   "cell_type": "markdown",
   "metadata": {
    "hidden": true
   },
   "source": [
    "Now you can run this tool. If you click the **OK** button, you will create a tool that can be accessed and run without anyone modifying the Python code."
   ]
  },
  {
   "cell_type": "markdown",
   "metadata": {},
   "source": [
    "## Modify the Script Tool"
   ]
  },
  {
   "cell_type": "markdown",
   "metadata": {},
   "source": [
    "Now you've created a script tool, and it does what it's supposed to do.  It doesn't have any parameters though.  Your end users can't modify any of the inputs.  You can fix that though."
   ]
  },
  {
   "cell_type": "markdown",
   "metadata": {
    "heading_collapsed": true
   },
   "source": [
    "#### 1.  Edit the properties of the tool"
   ]
  },
  {
   "cell_type": "markdown",
   "metadata": {
    "hidden": true
   },
   "source": [
    "Navigate your way back to the tool you just created.  Right-click the tool and select \"Properties\"."
   ]
  },
  {
   "cell_type": "markdown",
   "metadata": {
    "hidden": true
   },
   "source": [
    "![Open the tool properties.](resources\\right-click_properties.png \"Open the tool properties.\")"
   ]
  },
  {
   "cell_type": "markdown",
   "metadata": {
    "hidden": true
   },
   "source": [
    "This brings you back to the \"Tool Properties\" window that you were working with earlier."
   ]
  },
  {
   "cell_type": "markdown",
   "metadata": {
    "heading_collapsed": true
   },
   "source": [
    "#### 2.  Go to the Parameters panel."
   ]
  },
  {
   "cell_type": "markdown",
   "metadata": {
    "hidden": true
   },
   "source": [
    "Click on the **Parameters** panel on the left of the Tool Properties window."
   ]
  },
  {
   "cell_type": "markdown",
   "metadata": {
    "heading_collapsed": true
   },
   "source": [
    "#### 3.  Enter paramters for the user to populate"
   ]
  },
  {
   "cell_type": "markdown",
   "metadata": {
    "hidden": true
   },
   "source": [
    "This is where you'll define what the user enters to run your tool.  In this case, there are three parameters to fill out.  For each parameter, you'll need to specify the following:\n",
    " - **Label** - Human-readable description of what to enter\n",
    " - **Name** - Python-friendly parameter name.  The Tool Properties will create this for you automatically.\n",
    " - **Data Type** - The expected type of your input.  This can be a string, feature class, folder, or many other types.  Specifying this upfront really helps avoid errors in your script from unexpected inputs.\n",
    " - **Type** - Here you have a choice to specify whether your users have to populate this parameter.  If the parameter is \"Required\", your end user will not be able to run the tool without supplying a value for this parameter.  If the parameter is set to \"Optional\", the user can supply a value here but doesn't need to.  If the parameter is set to \"Derived\" then the parameter becomes an output of the tool rather than an input.  This is helpful when you're making a tool that you might want to use in ModelBuilder or a python script later."
   ]
  },
  {
   "cell_type": "markdown",
   "metadata": {
    "hidden": true
   },
   "source": [
    "Create the following parameters with the following settings:\n",
    "\n",
    " - Label: **Highways Feature Class**\n",
    "   - Data Type: **Feature Class**\n",
    "   - Type: **Required**\n",
    " - Label: **Output Folder**\n",
    "   - Data Type: **Folder**\n",
    "   - Type: **Required**\n",
    " - Label: **County**\n",
    "   - Data Type: **String**\n",
    "   - Type: **Required**"
   ]
  },
  {
   "cell_type": "markdown",
   "metadata": {
    "hidden": true
   },
   "source": [
    "![setup Parameters.](resources\\parameters_set_up.png \"Set up Parameters.\")"
   ]
  },
  {
   "cell_type": "markdown",
   "metadata": {},
   "source": [
    "#### 4.  Modify the script to use the parameters"
   ]
  },
  {
   "cell_type": "markdown",
   "metadata": {},
   "source": [
    "Now that you've set up the user's inputs, you'll need to specify in your script how to use the inputs.  To do this, you'll need to use an arcpy function called `GetParameterAsText()`.  This function will retreive the user inputs you set up in the previous step. You will specify which paramerter to use by providing the number of that parameter as an argument.  Go back to the **Parameters** panel if you need a refresher."
   ]
  },
  {
   "cell_type": "markdown",
   "metadata": {},
   "source": [
    "After re-writing your script tool to use the user input parameters, the body of your script should look like this.  You'll still include the defined function and package imports before this."
   ]
  },
  {
   "cell_type": "code",
   "execution_count": null,
   "metadata": {},
   "outputs": [],
   "source": [
    "if __name__ == \"__main__\":\n",
    "    # input file geodatabase path\n",
    "    full_fc_path = arcpy.GetParameterAsText(0)\n",
    "\n",
    "    # output folder\n",
    "    output_folder = arcpy.GetParameterAsText(1)\n",
    "\n",
    "    # which county to export\n",
    "    county = arcpy.GetParameterAsText(2)\n",
    "\n",
    "    # export a zip file for Butte County\n",
    "    zip_county_highways(full_fc_path, output_folder, county)"
   ]
  },
  {
   "cell_type": "code",
   "execution_count": null,
   "metadata": {},
   "outputs": [],
   "source": []
  }
 ],
 "metadata": {
  "kernelspec": {
   "display_name": "Python 3 (ipykernel)",
   "language": "python",
   "name": "python3"
  },
  "language_info": {
   "codemirror_mode": {
    "name": "ipython",
    "version": 3
   },
   "file_extension": ".py",
   "mimetype": "text/x-python",
   "name": "python",
   "nbconvert_exporter": "python",
   "pygments_lexer": "ipython3",
   "version": "3.9.18"
  }
 },
 "nbformat": 4,
 "nbformat_minor": 2
}
