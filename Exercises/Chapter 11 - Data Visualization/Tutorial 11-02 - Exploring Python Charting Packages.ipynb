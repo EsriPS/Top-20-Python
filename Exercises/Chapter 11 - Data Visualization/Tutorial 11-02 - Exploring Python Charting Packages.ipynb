{
 "cells": [
  {
   "cell_type": "markdown",
   "id": "7a27a275",
   "metadata": {},
   "source": [
    "# Tutorial 11-02 - Exploring Python Charting Packages"
   ]
  },
  {
   "cell_type": "markdown",
   "id": "f259d96a",
   "metadata": {},
   "source": [
    "In our first exercise, we used the built-in plotting that *pandas* and *matplotlib* have to offer.  We outputted some maps that met our colleagues' needs functionally, but left some room for aesthetic improvements.  In this tutorial, we'll explore some of the other charting packages commonly used in Python and see how they work compared with *matplotlib*.  \n",
    "\n",
    "This will be a slightly different tutorial than most.  After our first step of gathering data, we'll spend some time creating charts with the *seaborn*, *plotly*, and *arcpy* packages respectively."
   ]
  },
  {
   "cell_type": "markdown",
   "id": "11139c50",
   "metadata": {
    "heading_collapsed": true
   },
   "source": [
    "## Data Preparation"
   ]
  },
  {
   "cell_type": "markdown",
   "id": "6d0b44b6",
   "metadata": {
    "hidden": true
   },
   "source": [
    "In this first step, we'll repeat some of the logic we used in the previous tutorial.  We're going to log into ArcGIS Online, find a census housing data layer with statistics at the county level, then query that layer for a single state."
   ]
  },
  {
   "cell_type": "markdown",
   "id": "efe2ddf4",
   "metadata": {
    "heading_collapsed": true,
    "hidden": true
   },
   "source": [
    "#### 1.  Log into ArcGIS Online"
   ]
  },
  {
   "cell_type": "markdown",
   "id": "f22e4c2c",
   "metadata": {
    "hidden": true
   },
   "source": [
    "Start by logging into ArcGIS Online.  You'll do this by importing the `arcgis` package and creating a `GIS` object that represents your credentials."
   ]
  },
  {
   "cell_type": "code",
   "execution_count": null,
   "id": "0b9d649e",
   "metadata": {
    "hidden": true
   },
   "outputs": [],
   "source": [
    "# import the arcgis package\n",
    "import arcgis\n",
    "\n",
    "# set up ArcGIS Online credentials\n",
    "gis = arcgis.GIS(\"home\")\n"
   ]
  },
  {
   "cell_type": "markdown",
   "id": "b3cd9430",
   "metadata": {
    "heading_collapsed": true,
    "hidden": true
   },
   "source": [
    "#### 2.  Identify a data layer."
   ]
  },
  {
   "cell_type": "markdown",
   "id": "d133c586",
   "metadata": {
    "hidden": true
   },
   "source": [
    "Find the Census Housing Statistics data layer used in the previous Tutorial."
   ]
  },
  {
   "cell_type": "code",
   "execution_count": null,
   "id": "f70d9a14",
   "metadata": {
    "hidden": true
   },
   "outputs": [],
   "source": [
    "item_2020_census_housing = gis.content.get('81d9e89b8b574a649ff6e14f61c8494f')\n",
    "lyr_counties = item_2020_census_housing.layers[2]"
   ]
  },
  {
   "cell_type": "markdown",
   "id": "679b3ed5",
   "metadata": {
    "heading_collapsed": true,
    "hidden": true
   },
   "source": [
    "#### 3.  Query the data for a state."
   ]
  },
  {
   "cell_type": "markdown",
   "id": "e776d3d4",
   "metadata": {
    "hidden": true
   },
   "source": [
    "Query the layer for a single state.  Similarly to the previous tutorial, you can use California to get a reasonably sized dataset."
   ]
  },
  {
   "cell_type": "code",
   "execution_count": null,
   "id": "e33d7fd4",
   "metadata": {
    "hidden": true
   },
   "outputs": [],
   "source": [
    "df_single_state = lyr_counties.query(\n",
    "    where = \"STATE = 'California'\",\n",
    "    as_df = True,\n",
    "    return_geometry = False\n",
    ")"
   ]
  },
  {
   "cell_type": "markdown",
   "id": "1a77fefb",
   "metadata": {
    "hidden": true
   },
   "source": [
    "NOTE - When you're doing something like charting that doesn't necessarily require a geospatial compontent to the data, you can disregard the data's geometry.  This can reduce the amount of data you have to deal with in memory drastically (as large polygons can take up a lot of space)."
   ]
  },
  {
   "cell_type": "markdown",
   "id": "83fbb456",
   "metadata": {
    "heading_collapsed": true,
    "hidden": true
   },
   "source": [
    "#### 4.  Rename columns to field aliases"
   ]
  },
  {
   "cell_type": "markdown",
   "id": "57f3dc41",
   "metadata": {
    "hidden": true
   },
   "source": [
    "In this step, you'll use the aliases from the hosted feature layer to rename the columns in your DataFrame.  This will make the columns you're displaying more user-friendly and readable"
   ]
  },
  {
   "cell_type": "code",
   "execution_count": null,
   "id": "d9dcc34c",
   "metadata": {
    "hidden": true
   },
   "outputs": [],
   "source": [
    "field_aliases = {f['name']: f['alias'] \n",
    "              for f in lyr_counties.properties.fields}\n",
    "\n",
    "\n",
    "df_single_state = df_single_state.rename(columns=field_aliases)"
   ]
  },
  {
   "cell_type": "markdown",
   "id": "5927cc40",
   "metadata": {
    "heading_collapsed": true,
    "hidden": true
   },
   "source": [
    "#### 5.  Sort the data."
   ]
  },
  {
   "cell_type": "markdown",
   "id": "8a705968",
   "metadata": {
    "hidden": true
   },
   "source": [
    "Sort the data by \"Total Housing Units\" descending using the DataFrame's `.sort_values()` method."
   ]
  },
  {
   "cell_type": "code",
   "execution_count": null,
   "id": "287440b0",
   "metadata": {
    "hidden": true
   },
   "outputs": [],
   "source": [
    "df_single_state = df_single_state.sort_values(\n",
    "    'Total Housing Units',\n",
    "    ascending=False\n",
    ")"
   ]
  },
  {
   "cell_type": "markdown",
   "id": "7ab975f9",
   "metadata": {
    "heading_collapsed": true
   },
   "source": [
    "## Seaborn"
   ]
  },
  {
   "cell_type": "markdown",
   "id": "fdfffead",
   "metadata": {
    "heading_collapsed": true,
    "hidden": true
   },
   "source": [
    "#### 1.  Import Seaborn package."
   ]
  },
  {
   "cell_type": "markdown",
   "id": "84471f6c",
   "metadata": {
    "hidden": true
   },
   "source": [
    "We'll start with the *seaborn* package.  Seaborn's documentation and a lot of the common usage both suggest aliasing the package as \"sns\".  You don't have to do that but we will here for consistency."
   ]
  },
  {
   "cell_type": "code",
   "execution_count": null,
   "id": "a7c29498",
   "metadata": {
    "hidden": true
   },
   "outputs": [],
   "source": [
    "import seaborn as sns"
   ]
  },
  {
   "cell_type": "markdown",
   "id": "1b34959a",
   "metadata": {
    "heading_collapsed": true,
    "hidden": true
   },
   "source": [
    "#### 2.  Set a theme"
   ]
  },
  {
   "cell_type": "markdown",
   "id": "9ee337f7",
   "metadata": {
    "hidden": true
   },
   "source": [
    "Next, you can set a theme.  The theme is a set of global variables that apply to all your seaborn plots.  In this case, we'll accept the default arguments, but you can modify these if you want."
   ]
  },
  {
   "cell_type": "code",
   "execution_count": null,
   "id": "416b80cd",
   "metadata": {
    "hidden": true
   },
   "outputs": [],
   "source": [
    "sns.set_theme()"
   ]
  },
  {
   "cell_type": "markdown",
   "id": "480d97ef",
   "metadata": {
    "heading_collapsed": true,
    "hidden": true
   },
   "source": [
    "#### 3.  Plot a Bar Chart"
   ]
  },
  {
   "cell_type": "markdown",
   "id": "2aeeac9a",
   "metadata": {
    "hidden": true
   },
   "source": [
    "To compare seaborn with basic matplotlib, let's produce a bar chart with the same data we used in the previous tutorial.  Start by creating a bar plot with some basic parameters. "
   ]
  },
  {
   "cell_type": "code",
   "execution_count": null,
   "id": "842d5248",
   "metadata": {
    "hidden": true
   },
   "outputs": [],
   "source": [
    "sns.barplot(\n",
    "    df_single_state,\n",
    "    x = 'Name',\n",
    "    y = 'Total Housing Units'\n",
    "\n",
    ")"
   ]
  },
  {
   "cell_type": "markdown",
   "id": "7806bbbd",
   "metadata": {
    "heading_collapsed": true,
    "hidden": true
   },
   "source": [
    "#### 4.  Modify the Bar Chart's parameters."
   ]
  },
  {
   "cell_type": "markdown",
   "id": "7282d6cf",
   "metadata": {
    "hidden": true
   },
   "source": [
    "The previous chart didn't look great.  It was a little narrow and all the labels overlapped.  Let's try that again by changing the figure size and rotating the labels on the X-axis."
   ]
  },
  {
   "cell_type": "code",
   "execution_count": null,
   "id": "2548dff1",
   "metadata": {
    "hidden": true,
    "scrolled": true
   },
   "outputs": [],
   "source": [
    "# globally change the figure size\n",
    "sns.set(rc={\"figure.figsize\": (9, 4)})\n",
    "\n",
    "ax = sns.barplot(\n",
    "    df_single_state,\n",
    "    x = 'Name',\n",
    "    y = 'Total Housing Units'\n",
    "\n",
    ")\n",
    "\n",
    "# rorate the labels on the X-Axis 90 degrees\n",
    "ax = ax.set_xticklabels(df_single_state['Name'],rotation=90)"
   ]
  },
  {
   "cell_type": "markdown",
   "id": "856ab246",
   "metadata": {
    "heading_collapsed": true
   },
   "source": [
    "## Plotly"
   ]
  },
  {
   "cell_type": "markdown",
   "id": "812cc1cb",
   "metadata": {
    "hidden": true
   },
   "source": [
    "NOTE - At the time of writing, Plotly isn't included in the ArcGIS Pro base Python environment.  To run the cells below, you'll need to create a new environment and install Plotly.  Alternatively, if you have access to an ArcGIS Online Notebook environment, Plotly is already included there."
   ]
  },
  {
   "cell_type": "markdown",
   "id": "566830a6",
   "metadata": {
    "heading_collapsed": true,
    "hidden": true
   },
   "source": [
    "#### 1.  Import Plotly"
   ]
  },
  {
   "cell_type": "markdown",
   "id": "21118caa",
   "metadata": {
    "hidden": true
   },
   "source": [
    "Plotly has several components.  The simplest one to start with is the express module.  We can use this to make a quick chart and illustrate the differences between Plotly and some other packages we've looked at.\n",
    "\n",
    "Import the plotly express module with the following line."
   ]
  },
  {
   "cell_type": "code",
   "execution_count": null,
   "id": "b8bcc06a",
   "metadata": {
    "hidden": true,
    "scrolled": false
   },
   "outputs": [],
   "source": [
    "import plotly.express as px"
   ]
  },
  {
   "cell_type": "markdown",
   "id": "907c56c9",
   "metadata": {
    "heading_collapsed": true,
    "hidden": true
   },
   "source": [
    "#### 2.  Create a chart"
   ]
  },
  {
   "cell_type": "markdown",
   "id": "4f56b35e",
   "metadata": {
    "hidden": true
   },
   "source": [
    "The syntax for creating our basic bar chart in Plotly is fairly simple.  In this case, you're not going to specify a lot of custom options.  The defaults in Plotly are acceptable here."
   ]
  },
  {
   "cell_type": "code",
   "execution_count": null,
   "id": "a86516ad",
   "metadata": {
    "hidden": true
   },
   "outputs": [],
   "source": [
    "fig = px.bar(df_single_state, \n",
    "             x='Name', \n",
    "             y='Total Housing Units')\n",
    "fig.show()"
   ]
  },
  {
   "cell_type": "markdown",
   "id": "05be45fe",
   "metadata": {
    "hidden": true
   },
   "source": [
    "You may have already noticed some differences with this chart and the previous charts.  This one is a responsive part of this notebook and feels like part of a web page.  This is because Plotly's Python API incorporates their Javascript API to produce this interactivity.  If you resize this page, the chart will respond accordingly.  Also, as you move your cursor over individual bars you'll see a hover indicator pop up showing information about each bar."
   ]
  },
  {
   "cell_type": "markdown",
   "id": "e8df4af6",
   "metadata": {
    "heading_collapsed": true
   },
   "source": [
    "## ArcPy"
   ]
  },
  {
   "cell_type": "markdown",
   "id": "9c1f0d56",
   "metadata": {
    "heading_collapsed": true,
    "hidden": true
   },
   "source": [
    "#### 1.  Prepare the DataFrame for conversion"
   ]
  },
  {
   "cell_type": "markdown",
   "id": "7240313b",
   "metadata": {
    "hidden": true
   },
   "source": [
    "To use ArcPy for charting, we'll first convert our data into a feature class.  Before that, though, you'll need to remove spaces from column names.  The ArcGIS API for Python can do this for you, but in the process you leave a small amount of room for error as you have to guess what the columns get renamed to.  You can rename them explicitly so that there is no guessing."
   ]
  },
  {
   "cell_type": "code",
   "execution_count": null,
   "id": "5d90f157",
   "metadata": {
    "hidden": true
   },
   "outputs": [],
   "source": [
    "# keep only the necessary columns\n",
    "df_for_fc = df_single_state[[\"Total Housing Units\", \"Name\", \"SHAPE\"]]\n",
    "\n",
    "# rename the column with spaces in the name\n",
    "df_for_fc = df_for_fc.rename(\n",
    "    columns={\n",
    "        \"Total Housing Units\": \"total_housing_units\"\n",
    "    }\n",
    ")"
   ]
  },
  {
   "cell_type": "markdown",
   "id": "a2d0e376",
   "metadata": {
    "heading_collapsed": true,
    "hidden": true
   },
   "source": [
    "#### 2.  Convert to a feature class."
   ]
  },
  {
   "cell_type": "markdown",
   "id": "2b515407",
   "metadata": {
    "hidden": true
   },
   "source": [
    "Now that you've prepared your data, you can export that data to a feature class.  ArcPy's charting module accepts feature classes as inputs."
   ]
  },
  {
   "cell_type": "code",
   "execution_count": null,
   "id": "8384f19c",
   "metadata": {
    "hidden": true
   },
   "outputs": [],
   "source": [
    "import arcpy\n",
    "fc_memory = df_for_fc.spatial.to_featureclass(\"memory\\\\single_state\")"
   ]
  },
  {
   "cell_type": "markdown",
   "id": "66c6315d",
   "metadata": {
    "hidden": true
   },
   "source": [
    "TIP - The `memory` workspace is a special workpace in the ArcGIS ecosystem.  It works like a temporary file geodatabases.  You can write feature classes, tables, and other datasets to the `memory` workspace.  They're stored there in memory temporarily.  At the end of your script or process, the workspace is deleted.  It's a great spot for intermediate data that you don't need to persist to disk."
   ]
  },
  {
   "cell_type": "markdown",
   "id": "879902de",
   "metadata": {
    "heading_collapsed": true,
    "hidden": true
   },
   "source": [
    "#### 3.  Creat a bar chart with ArcPy"
   ]
  },
  {
   "cell_type": "markdown",
   "id": "92e2567d",
   "metadata": {
    "hidden": true
   },
   "source": [
    "The ArcPy charting module is very similar to the other packages we've explored in that you can create chart objects, manipulate them, and show or export them.  In the code block below, you'll create a bar chart, then sort the columns by amount in descending order."
   ]
  },
  {
   "cell_type": "code",
   "execution_count": null,
   "id": "e3d19315",
   "metadata": {
    "hidden": true
   },
   "outputs": [],
   "source": [
    "# create a chart object\n",
    "arcpy_bar = arcpy.charts.Bar(\n",
    "    x=\"Name\",\n",
    "    y = [\"total_housing_units\"],\n",
    "    title = \"Total Housing Units by County\",\n",
    "    dataSource = fc_memory,\n",
    "    displaySize = (800, 400)\n",
    ")\n",
    "\n",
    "# sort the data by values\n",
    "arcpy_bar.yAxis.sort='DESC'\n",
    "\n",
    "# display the chart\n",
    "arcpy_bar"
   ]
  },
  {
   "cell_type": "markdown",
   "id": "4e7c3de2",
   "metadata": {
    "heading_collapsed": true
   },
   "source": [
    "## Interactive Charts"
   ]
  },
  {
   "cell_type": "markdown",
   "id": "7c0a0032",
   "metadata": {
    "hidden": true
   },
   "source": [
    "Because we're using an interactive Jupyter Notebook to work with these charts, we can use Jupyter widgets to interact with our charts.  This is a great method for exploring our data and the relationships between different variables or fields."
   ]
  },
  {
   "cell_type": "markdown",
   "id": "48ce8290",
   "metadata": {
    "heading_collapsed": true,
    "hidden": true
   },
   "source": [
    "#### 1.  Set up widgets."
   ]
  },
  {
   "cell_type": "markdown",
   "id": "7d55dd01",
   "metadata": {
    "hidden": true
   },
   "source": [
    "To start this portion of the exercise, you'll need to set up some widgets.  There's a package called `ipywidgets` included in your Python environment with Jupyter installed.  Start by importing that package.  Then you can create some `Dropdown` objects that you can use to interact with charts."
   ]
  },
  {
   "cell_type": "code",
   "execution_count": null,
   "id": "461d5928",
   "metadata": {
    "hidden": true
   },
   "outputs": [],
   "source": [
    "import ipywidgets\n",
    "\n",
    "drop_down_x = ipywidgets.Dropdown(\n",
    "    options = df_single_state.columns,\n",
    "    values = df_single_state.columns,\n",
    "    description = \"X Axis\",\n",
    "    value = 'Percent of housing units that are urban'\n",
    ")\n",
    "\n",
    "drop_down_y = ipywidgets.Dropdown(\n",
    "    options = df_single_state.columns,\n",
    "    values = df_single_state.columns,\n",
    "    description = \"Y Axis\",\n",
    "    value = 'Vacancy rate'\n",
    ")\n"
   ]
  },
  {
   "cell_type": "markdown",
   "id": "3dfe81b9",
   "metadata": {
    "hidden": true
   },
   "source": [
    "If you return either of those `Dropdown` objects, you'll get a rendered drop down selector in the output of that cell.  We'll wait to do that though until we have something to interact with."
   ]
  },
  {
   "cell_type": "markdown",
   "id": "bff7e39e",
   "metadata": {
    "heading_collapsed": true,
    "hidden": true
   },
   "source": [
    "#### 2.  Write a function to show a chart."
   ]
  },
  {
   "cell_type": "markdown",
   "id": "46d34874",
   "metadata": {
    "hidden": true
   },
   "source": [
    "To get a good interaction between the drop down selectors and a chart, we'll need to write a function that shows a chart.  In this case, you can just write a simple function that creates a seaborn scatterplot."
   ]
  },
  {
   "cell_type": "code",
   "execution_count": null,
   "id": "5c4f037e",
   "metadata": {
    "hidden": true
   },
   "outputs": [],
   "source": [
    "def show_a_chart(x_field, y_field):\n",
    "    sns.scatterplot(df_single_state, x=x_field, y=y_field)"
   ]
  },
  {
   "cell_type": "markdown",
   "id": "faaee429",
   "metadata": {
    "heading_collapsed": true,
    "hidden": true
   },
   "source": [
    "#### 3.  Use widgets to interact with a chart"
   ]
  },
  {
   "cell_type": "markdown",
   "id": "9182770c",
   "metadata": {
    "hidden": true
   },
   "source": [
    "Now that you've got drop-downs set up and a chart configured, you can use those drop-downs as inputs to the chart function.  You can use the `interact` function included with the `ipywidgets` package.  This function is interesting because it accepts another function as its first parameter.  Then it accepts the paramters for that function as additional arguments."
   ]
  },
  {
   "cell_type": "code",
   "execution_count": null,
   "id": "e00c53b8",
   "metadata": {
    "hidden": true
   },
   "outputs": [],
   "source": [
    "ipywidgets.interact(show_a_chart,  # the function you wrote\n",
    "                    x_field = drop_down_x,  # the x_field parameter in your function\n",
    "                    y_field = drop_down_y # the y_field parameter in your function\n",
    "                   )"
   ]
  },
  {
   "cell_type": "code",
   "execution_count": null,
   "id": "9c58d526",
   "metadata": {
    "hidden": true
   },
   "outputs": [],
   "source": []
  }
 ],
 "metadata": {
  "kernelspec": {
   "display_name": "Python 3 (ipykernel)",
   "language": "python",
   "name": "python3"
  },
  "language_info": {
   "codemirror_mode": {
    "name": "ipython",
    "version": 3
   },
   "file_extension": ".py",
   "mimetype": "text/x-python",
   "name": "python",
   "nbconvert_exporter": "python",
   "pygments_lexer": "ipython3",
   "version": "3.9.18"
  }
 },
 "nbformat": 4,
 "nbformat_minor": 5
}
