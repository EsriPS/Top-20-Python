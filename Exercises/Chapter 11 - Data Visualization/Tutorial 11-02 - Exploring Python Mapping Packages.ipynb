{
 "cells": [
  {
   "cell_type": "markdown",
   "id": "7a27a275",
   "metadata": {},
   "source": [
    "# Tutorial 11-02 - Exploring Python Mapping Packages"
   ]
  },
  {
   "cell_type": "markdown",
   "id": "f259d96a",
   "metadata": {},
   "source": [
    "In our first exercise, we used the built-in plotting that *pandas* and *matplotlib* have to offer.  We outputted some maps that met our colleagues' needs functionally, but left some room for aesthetic improvements.  In this tutorial, we'll explore some of the other charting packages commonly used in Python and see how they work compared with *matplotlib*.  \n",
    "\n",
    "This will be a slightly different tutorial than most.  After our first step of gathering data, we'll spend some time creating charts with the *seaborn*, *plotly*, and *arcpy* packages respectively."
   ]
  },
  {
   "cell_type": "markdown",
   "id": "11139c50",
   "metadata": {
    "heading_collapsed": true
   },
   "source": [
    "#### 1.  Data Preparation"
   ]
  },
  {
   "cell_type": "markdown",
   "id": "6d0b44b6",
   "metadata": {
    "hidden": true
   },
   "source": [
    "In this first step, we'll repeat some of the logic we used in the previous tutorial.  We're going to log into ArcGIS Online, find a census housing data layer with statistics at the county level, then query that layer for a single state."
   ]
  },
  {
   "cell_type": "code",
   "execution_count": 1,
   "id": "0b9d649e",
   "metadata": {
    "hidden": true
   },
   "outputs": [],
   "source": [
    "# import the arcgis package\n",
    "import arcgis\n",
    "\n",
    "# set up ArcGIS Online credentials\n",
    "gis = arcgis.GIS(\"home\")\n"
   ]
  },
  {
   "cell_type": "code",
   "execution_count": 2,
   "id": "f70d9a14",
   "metadata": {
    "hidden": true
   },
   "outputs": [],
   "source": [
    "item_2020_census_housing = gis.content.get('81d9e89b8b574a649ff6e14f61c8494f')\n",
    "lyr_counties = item_2020_census_housing.layers[2]"
   ]
  },
  {
   "cell_type": "code",
   "execution_count": 5,
   "id": "e33d7fd4",
   "metadata": {
    "hidden": true
   },
   "outputs": [],
   "source": [
    "df_single_state = lyr_counties.query(\n",
    "    where = \"STATE = 'New Jersey'\",\n",
    "    as_df = True\n",
    ")"
   ]
  },
  {
   "cell_type": "markdown",
   "id": "7ab975f9",
   "metadata": {},
   "source": [
    "#### 2. Seaborn"
   ]
  },
  {
   "cell_type": "markdown",
   "id": "84471f6c",
   "metadata": {},
   "source": [
    "We'll start with the *seaborn* package."
   ]
  }
 ],
 "metadata": {
  "kernelspec": {
   "display_name": "Python 3 (ipykernel)",
   "language": "python",
   "name": "python3"
  },
  "language_info": {
   "codemirror_mode": {
    "name": "ipython",
    "version": 3
   },
   "file_extension": ".py",
   "mimetype": "text/x-python",
   "name": "python",
   "nbconvert_exporter": "python",
   "pygments_lexer": "ipython3",
   "version": "3.9.18"
  }
 },
 "nbformat": 4,
 "nbformat_minor": 5
}
