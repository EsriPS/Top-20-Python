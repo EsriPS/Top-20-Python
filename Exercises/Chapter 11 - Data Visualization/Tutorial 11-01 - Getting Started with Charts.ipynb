{
 "cells": [
  {
   "cell_type": "markdown",
   "id": "60f56c4b",
   "metadata": {},
   "source": [
    "# Tutorial 11-01: Getting Started with Charts"
   ]
  },
  {
   "cell_type": "markdown",
   "id": "e214ea3e",
   "metadata": {},
   "source": [
    "Our colleagues at GeoNinjas PythonAnalytics have been working with census data and are asking if we can help them create some charts.  They're interested in the number of housing units per county in each state.  They'd like to see a bar chart showing the number of housing units in each county in descending order (starting with the highest number)."
   ]
  },
  {
   "cell_type": "markdown",
   "id": "fe54779b",
   "metadata": {
    "heading_collapsed": true
   },
   "source": [
    "#### 1.  Identify census housing data layer."
   ]
  },
  {
   "cell_type": "markdown",
   "id": "2b3ea42d",
   "metadata": {
    "hidden": true
   },
   "source": [
    "To get data for housing units, we can go to the census data.  For our purposes, we can use the data that Esri curates in the Living Atlas.  This data is derived from publicly available census data, so you could get this elsewhere if you needed to.  First, let's log into ArcGIS Online and find a census layer."
   ]
  },
  {
   "cell_type": "code",
   "execution_count": null,
   "id": "eaa0b67f",
   "metadata": {
    "hidden": true
   },
   "outputs": [],
   "source": [
    "# import the arcgis package\n",
    "import arcgis\n",
    "\n",
    "# set up ArcGIS Online credentials\n",
    "gis = arcgis.GIS(\"home\")\n",
    "\n",
    "# print my user information\n",
    "gis.users.me"
   ]
  },
  {
   "cell_type": "markdown",
   "id": "1865dc9d",
   "metadata": {
    "hidden": true
   },
   "source": [
    "Now let's get an item for census housing data in the Living Atlas.  Referencing an item by its item ID is generally the most repeatable and consistent way to access a specific item."
   ]
  },
  {
   "cell_type": "code",
   "execution_count": null,
   "id": "e9c120b9",
   "metadata": {
    "hidden": true
   },
   "outputs": [],
   "source": [
    "item_2020_census_housing = gis.content.get('81d9e89b8b574a649ff6e14f61c8494f')\n",
    "item_2020_census_housing"
   ]
  },
  {
   "cell_type": "markdown",
   "id": "8d3dfb09",
   "metadata": {
    "hidden": true
   },
   "source": [
    "Now we need to access the county data in this item.  This item has many layers, so we'll need to identify the county layer specifically."
   ]
  },
  {
   "cell_type": "code",
   "execution_count": null,
   "id": "431991ad",
   "metadata": {
    "hidden": true
   },
   "outputs": [],
   "source": [
    "[\n",
    "    (i, lyr.properties.name) for i, lyr in enumerate(item_2020_census_housing.layers)\n",
    "]"
   ]
  },
  {
   "cell_type": "markdown",
   "id": "2fa6207f",
   "metadata": {
    "hidden": true
   },
   "source": [
    "In this list, we can see that the county layer is at index **2**.  We'll use that going forward."
   ]
  },
  {
   "cell_type": "code",
   "execution_count": null,
   "id": "16525686",
   "metadata": {
    "hidden": true
   },
   "outputs": [],
   "source": [
    "lyr_counties = item_2020_census_housing.layers[2]"
   ]
  },
  {
   "cell_type": "markdown",
   "id": "4bf9b56e",
   "metadata": {
    "heading_collapsed": true
   },
   "source": [
    "#### 2. Query data for a single state."
   ]
  },
  {
   "cell_type": "markdown",
   "id": "3fbf64a8",
   "metadata": {
    "hidden": true
   },
   "source": [
    "Now that we've identified our layer, let's get a sample state to start with.  We can start with California as a test.  We'll query that feature layer and specify that we'd like to return a DataFrame with only data for California."
   ]
  },
  {
   "cell_type": "code",
   "execution_count": null,
   "id": "e4142371",
   "metadata": {
    "hidden": true
   },
   "outputs": [],
   "source": [
    "df_california = lyr_counties.query(\n",
    "    where = \"STATE = 'California'\",\n",
    "    as_df = True\n",
    ")"
   ]
  },
  {
   "cell_type": "markdown",
   "id": "94837420",
   "metadata": {
    "hidden": true
   },
   "source": [
    "If we look at the column names in our DataFrame, we might notice that they're not very human-readable.  You can try this by executing `df_california.dtypes` if you'd like.  We can replace the column names with the field aliases for a bit more human readability though."
   ]
  },
  {
   "cell_type": "code",
   "execution_count": null,
   "id": "4ccd22ef",
   "metadata": {
    "hidden": true
   },
   "outputs": [],
   "source": [
    "# get the field names and aliases from the layer\n",
    "field_aliases = {f['name']: f['alias'] \n",
    "                  for f in lyr_counties.properties.fields}\n",
    "\n",
    "# rename the DataFrame columns to use the field aliases\n",
    "df_california = df_california.rename(columns=field_aliases)"
   ]
  },
  {
   "cell_type": "markdown",
   "id": "461199f8",
   "metadata": {
    "heading_collapsed": true
   },
   "source": [
    "#### 3.  Get started with charts."
   ]
  },
  {
   "cell_type": "markdown",
   "id": "b86ecf2f",
   "metadata": {
    "hidden": true
   },
   "source": [
    "The pandas package makes it very easy to start charting with a DataFrame.  By simply calling the `.plot()` method on the DataFrame, pandas will make an educated guess on what it can plot.  In this case, it's going to plot all the numeric fields that it can as a line chart."
   ]
  },
  {
   "cell_type": "code",
   "execution_count": null,
   "id": "75adbdc8",
   "metadata": {
    "hidden": true
   },
   "outputs": [],
   "source": [
    "df_california.plot()"
   ]
  },
  {
   "cell_type": "markdown",
   "id": "fc96ef98",
   "metadata": {
    "hidden": true
   },
   "source": [
    "This isn't super helpful because our data is categorical in nature.  We can specify that we want our chart to be a bar, though.  We can also specify which columns we want to use as our axes."
   ]
  },
  {
   "cell_type": "code",
   "execution_count": null,
   "id": "9c3a336e",
   "metadata": {
    "hidden": true,
    "scrolled": true
   },
   "outputs": [],
   "source": [
    "df_california.plot(\n",
    "    kind='bar', \n",
    "    x='Name', \n",
    "    y='Total Housing Units',\n",
    ")"
   ]
  },
  {
   "cell_type": "markdown",
   "id": "30d28390",
   "metadata": {
    "hidden": true
   },
   "source": [
    "This looks better, but if you recall we have a requirement to sort the data with the largest values at the left.  Let's do that now."
   ]
  },
  {
   "cell_type": "markdown",
   "id": "8f906b8d",
   "metadata": {
    "heading_collapsed": true
   },
   "source": [
    "#### 4.  Sort the values and recreate the chart."
   ]
  },
  {
   "cell_type": "markdown",
   "id": "7e62c1d9",
   "metadata": {
    "hidden": true
   },
   "source": [
    "Let's sort the values in our DataFrame and recreate the chart.  First, we'll use a built-in pandas method for sorting the values.  We want to sort the values in descending order by the \"Total Housing Units\" column."
   ]
  },
  {
   "cell_type": "code",
   "execution_count": null,
   "id": "e12be00a",
   "metadata": {
    "hidden": true
   },
   "outputs": [],
   "source": [
    "df_california = df_california.sort_values(\n",
    "    'Total Housing Units', \n",
    "    ascending=False\n",
    "    )"
   ]
  },
  {
   "cell_type": "markdown",
   "id": "e13b1174",
   "metadata": {
    "hidden": true
   },
   "source": [
    "Now that we've sorted the values, let's try creating that last chart again."
   ]
  },
  {
   "cell_type": "code",
   "execution_count": null,
   "id": "9b5d7bc2",
   "metadata": {
    "hidden": true
   },
   "outputs": [],
   "source": [
    "df_california.plot(\n",
    "    kind='bar', \n",
    "    x='Name', \n",
    "    y='Total Housing Units',\n",
    ")"
   ]
  },
  {
   "cell_type": "markdown",
   "id": "75d9243e",
   "metadata": {
    "hidden": true
   },
   "source": [
    "This is getting closer.  Now let's make the chart wider so that it allows for more space between the county labels.  There's a `figsize` parameter of the plot method that allows us to set the width and height."
   ]
  },
  {
   "cell_type": "code",
   "execution_count": null,
   "id": "0a82ab57",
   "metadata": {
    "hidden": true
   },
   "outputs": [],
   "source": [
    "df_california.plot(\n",
    "    kind='bar', \n",
    "    x='Name', \n",
    "    y='Total Housing Units',\n",
    "    figsize=(15, 5),\n",
    ")"
   ]
  },
  {
   "cell_type": "markdown",
   "id": "ab6ff448",
   "metadata": {
    "heading_collapsed": true
   },
   "source": [
    "#### 5.  Repeat the process for multiple states."
   ]
  },
  {
   "cell_type": "markdown",
   "id": "ba8715ee",
   "metadata": {
    "hidden": true
   },
   "source": [
    "Now that we've got an acceptable chart, let's repeat the process for multiple states.  This will involve taking some of the code we wrote previously and repeating it.  First, let's define some states to run our process on."
   ]
  },
  {
   "cell_type": "code",
   "execution_count": null,
   "id": "c211636c",
   "metadata": {
    "hidden": true
   },
   "outputs": [],
   "source": [
    "states_to_map = [\n",
    "    \"California\",\n",
    "    \"Arizona\",\n",
    "    \"Washington\",\n",
    "    \"Oregon\",\n",
    "    \"Nevada\"\n",
    "]"
   ]
  },
  {
   "cell_type": "markdown",
   "id": "a72c0e82",
   "metadata": {
    "hidden": true
   },
   "source": [
    "Now let's repeat our process starting with querying data from the hosted feature service."
   ]
  },
  {
   "cell_type": "code",
   "execution_count": null,
   "id": "faaf123f",
   "metadata": {
    "hidden": true
   },
   "outputs": [],
   "source": [
    "for state in states_to_map:\n",
    "    \n",
    "    # query the state layer\n",
    "    df_state = lyr_counties.query(\n",
    "        where = f\"STATE = '{state}'\",\n",
    "        as_df = True\n",
    "        )\n",
    "    \n",
    "    # rename the columns (we already created the field aliases dictionary)\n",
    "    df_state = df_state.rename(columns=field_aliases)\n",
    "    \n",
    "    # sort the values in the DataFrame\n",
    "    df_state = df_state.sort_values(\n",
    "        'Total Housing Units', \n",
    "        ascending=False\n",
    "        )\n",
    "    \n",
    "    # create a chart object\n",
    "    chart = df_state.plot(\n",
    "        kind='bar', \n",
    "        x='Name', \n",
    "        y='Total Housing Units',\n",
    "        figsize=(15, 10),\n",
    "    )\n",
    "    \n",
    "   \n",
    "    # convert to a matplotlib Figure\n",
    "    fig = chart.get_figure()\n",
    "    \n",
    "    # save as a png file\n",
    "    fig.savefig(f\"./{state}.pdf\")"
   ]
  },
  {
   "cell_type": "markdown",
   "id": "c22a6f02",
   "metadata": {
    "hidden": true
   },
   "source": [
    "Note that the last two lines save our charts as .png files.  These are files we can hand off to our colleagues that they can use in their products."
   ]
  },
  {
   "cell_type": "code",
   "execution_count": null,
   "id": "f023966c",
   "metadata": {
    "hidden": true
   },
   "outputs": [],
   "source": []
  }
 ],
 "metadata": {
  "kernelspec": {
   "display_name": "Python 3 (ipykernel)",
   "language": "python",
   "name": "python3"
  },
  "language_info": {
   "codemirror_mode": {
    "name": "ipython",
    "version": 3
   },
   "file_extension": ".py",
   "mimetype": "text/x-python",
   "name": "python",
   "nbconvert_exporter": "python",
   "pygments_lexer": "ipython3",
   "version": "3.9.18"
  }
 },
 "nbformat": 4,
 "nbformat_minor": 5
}
