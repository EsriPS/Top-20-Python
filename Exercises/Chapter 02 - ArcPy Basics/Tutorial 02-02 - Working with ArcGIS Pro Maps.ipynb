{
 "cells": [
  {
   "cell_type": "markdown",
   "id": "99fb311f",
   "metadata": {},
   "source": [
    "# Tutorial 02-02 - Working with ArcGIS Pro Maps"
   ]
  },
  {
   "cell_type": "markdown",
   "id": "8c408229",
   "metadata": {},
   "source": [
    "Let's go back to our work with highway data for GeoNinjas PythonAnalytics.  "
   ]
  },
  {
   "cell_type": "markdown",
   "id": "5554a412",
   "metadata": {
    "heading_collapsed": true
   },
   "source": [
    "#### 1. Open the ArcGIS Pro Project"
   ]
  },
  {
   "cell_type": "markdown",
   "id": "1b0c051c",
   "metadata": {
    "hidden": true
   },
   "source": [
    "Although ArcGIS Pro projects can be comprised of a number of different files in a folder, when we reference them via arcpy we often will start with the **.aprx** file.  This is a good entry point that will let us access the data, maps, and layouts in the project.  We'll start this exercise by creating an **ArcGISProject** object using the .aprx file."
   ]
  },
  {
   "cell_type": "code",
   "execution_count": null,
   "id": "7ed3a745",
   "metadata": {
    "hidden": true
   },
   "outputs": [],
   "source": [
    "import arcpy\n",
    "\n",
    "# relative path from this script to the project\n",
    "project_path = r\".\\Chapter 02 Files\\Chapter 02 - Working with Maps.aprx\"\n",
    "\n",
    "# creating a project object\n",
    "project = arcpy.mp.ArcGISProject(project_path)"
   ]
  },
  {
   "cell_type": "markdown",
   "id": "fee970ea",
   "metadata": {
    "heading_collapsed": true
   },
   "source": [
    "#### 2.  Access the layout and elements"
   ]
  },
  {
   "cell_type": "markdown",
   "id": "f58c4cc8",
   "metadata": {
    "hidden": true
   },
   "source": [
    "In this case, we happen to know that this project contains one layout that we want to modify.  Because of that, we can just accept the first layout returned from the **listLayouts** method.  If we had multiple layouts in the same project, we could use this method to search and/or iterate through the results."
   ]
  },
  {
   "cell_type": "code",
   "execution_count": null,
   "id": "fbc40b3e",
   "metadata": {
    "hidden": true
   },
   "outputs": [],
   "source": [
    "layout = project.listLayouts()[0]\n",
    "layout.name"
   ]
  },
  {
   "cell_type": "markdown",
   "id": "5f9a413e",
   "metadata": {
    "hidden": true
   },
   "source": [
    "To access individual elements in the layout, we can call the **listElements** method.  This will return any elements in the layout including text boxes, map frames, North arrows, charts, and more.  "
   ]
  },
  {
   "cell_type": "code",
   "execution_count": null,
   "id": "eceb4254",
   "metadata": {
    "hidden": true
   },
   "outputs": [],
   "source": [
    "for element in layout.listElements():\n",
    "    print(element.name)"
   ]
  },
  {
   "cell_type": "markdown",
   "id": "14e7cad0",
   "metadata": {
    "hidden": true
   },
   "source": [
    "Since this is a fairly simple layout, we can just access the elements we want to modify by name.  In our case, we'll be doing some filtering in the *Map Frame* element and we'll change the text in the *Text* element.  We can access both of those by using list comprehensions.  Alternatively, you could just write a for-loop and iterate through all the elements until you find the one you want."
   ]
  },
  {
   "cell_type": "code",
   "execution_count": null,
   "id": "a350f0a7",
   "metadata": {
    "hidden": true
   },
   "outputs": [],
   "source": [
    "title = [e for e in layout.listElements() if e.name == 'Text'][0]\n",
    "map_frame = [e for e in layout.listElements() if e.name == 'Map Frame'][0]"
   ]
  },
  {
   "cell_type": "markdown",
   "id": "59f15ee7",
   "metadata": {
    "hidden": true
   },
   "source": [
    "TODO?  do we wnat to explain list comprehensions here?"
   ]
  },
  {
   "cell_type": "markdown",
   "id": "68bffb4b",
   "metadata": {
    "heading_collapsed": true
   },
   "source": [
    "#### 3. Fix Broken Layers"
   ]
  },
  {
   "cell_type": "markdown",
   "id": "312c4566",
   "metadata": {
    "hidden": true
   },
   "source": [
    "If you've already opened the ArcGIS Pro project in this folder, you may have noticed that there are two \"broken\" layers.  The \"Counties\" and \"Highways\" layers in the Map are referencing data sources with bad paths.  This happens less often than it used to in the days of ArcMap, but it's still something we can look for using arcpy."
   ]
  },
  {
   "cell_type": "code",
   "execution_count": null,
   "id": "3dc02899",
   "metadata": {
    "hidden": true
   },
   "outputs": [],
   "source": [
    "for layer in map_frame.map.listLayers():\n",
    "    if layer.name in ['Highways_Intersect','Counties']:\n",
    "        print(layer.name, layer.isBroken)"
   ]
  },
  {
   "cell_type": "markdown",
   "id": "87595815",
   "metadata": {
    "hidden": true
   },
   "source": [
    "Not only can we identify this issue using arcpy, we can also fix it.  In this case, the data we need is in the project database.  We can iterate through each of the layers, get the connection properties, and modify those properties to read from the project database"
   ]
  },
  {
   "cell_type": "code",
   "execution_count": null,
   "id": "6723f0d9",
   "metadata": {
    "hidden": true
   },
   "outputs": [],
   "source": [
    "# iterate through each layer\n",
    "for layer in map_frame.map.listLayers():\n",
    "    \n",
    "    # check only the layers we think are broken\n",
    "    if layer.name in ['Highways_Intersect','Counties']:\n",
    "        \n",
    "        # get a copy the connection properties of the broken layer\n",
    "        layer_conn_props = layer.connectionProperties\n",
    "        \n",
    "        # replace the database path in the copy of the connection properties\n",
    "        layer_conn_props['connection_info']['database'] = project.databases[0]['databasePath']\n",
    "        \n",
    "        # use the copy we fixed to update the layer\n",
    "        layer.updateConnectionProperties(\n",
    "            layer.connectionProperties, layer_conn_props\n",
    "        )\n",
    "        print(layer.name, layer.isBroken)"
   ]
  },
  {
   "cell_type": "markdown",
   "id": "4ac57703",
   "metadata": {
    "hidden": true
   },
   "source": [
    "Now that we've fixed our project, we can save and move on."
   ]
  },
  {
   "cell_type": "code",
   "execution_count": null,
   "id": "dfcdfcc4",
   "metadata": {
    "hidden": true
   },
   "outputs": [],
   "source": [
    "project.save()"
   ]
  },
  {
   "cell_type": "markdown",
   "id": "bcd03154",
   "metadata": {
    "heading_collapsed": true
   },
   "source": [
    "#### 4.  Work with the layers in the map view"
   ]
  },
  {
   "cell_type": "markdown",
   "id": "5f81cabb",
   "metadata": {
    "hidden": true
   },
   "source": [
    "Now that we've fixed the broken layers in our map, we can work on filtering the datasets.  In ArcGIS Pro, there's a concept of *definition queries* on layers.  These are SQL where clauses that can be used to filter the records or features that are shown in a layer.\n",
    "\n",
    "We can iterate through both our highways and counties layers and set the definition query to use the *NAMELSAD* field to our county of interest."
   ]
  },
  {
   "cell_type": "code",
   "execution_count": null,
   "id": "a1abe89c",
   "metadata": {
    "hidden": true
   },
   "outputs": [],
   "source": [
    "# pick a county to test with\n",
    "county = 'Alameda County'\n",
    "\n",
    "# set the definition query for the counties and highways layers\n",
    "counties_layer.definitionQuery = f\"NAMELSAD = '{county}'\"\n",
    "highways_layer.definitionQuery = f\"NAMELSAD = '{county}'\""
   ]
  },
  {
   "cell_type": "markdown",
   "id": "1acbed93",
   "metadata": {
    "hidden": true
   },
   "source": [
    "We'll also want to set the extent of our map to the county.  This way we're zoomed to just the data that we're concerned about and not viewing the entire state.  We can get that extent by calling the **getLayerExtent** method of the MapFrame object (map_frame).  We can then set the MapFrame's extent to that layer extent."
   ]
  },
  {
   "cell_type": "code",
   "execution_count": null,
   "id": "8b2a9a35",
   "metadata": {
    "hidden": true
   },
   "outputs": [],
   "source": [
    "# get the county extent\n",
    "county_extent = map_frame.getLayerExtent(counties_layer)\n",
    "\n",
    "# set the MapFrame's extent\n",
    "map_frame.camera.setExtent(county_extent)"
   ]
  },
  {
   "cell_type": "markdown",
   "id": "b5429731",
   "metadata": {
    "heading_collapsed": true
   },
   "source": [
    "#### 5.  Modify layout and print to PDF"
   ]
  },
  {
   "cell_type": "markdown",
   "id": "eeb1364b",
   "metadata": {
    "hidden": true
   },
   "source": [
    "Now that we've filtered our data for a single county and set the extent for our map, we can export the map to a print-friendly PDF.  Before we do this, we can modify our map's title by working with the text element we identified in Step 2."
   ]
  },
  {
   "cell_type": "code",
   "execution_count": null,
   "id": "5a3aa947",
   "metadata": {
    "hidden": true
   },
   "outputs": [],
   "source": [
    "# set the title text\n",
    "title.text = county"
   ]
  },
  {
   "cell_type": "markdown",
   "id": "b1fcf1cb",
   "metadata": {
    "hidden": true
   },
   "source": [
    "Now to export our map to PDF, we can call the **exportToPDF** method on our layout."
   ]
  },
  {
   "cell_type": "code",
   "execution_count": null,
   "id": "b1964614",
   "metadata": {
    "hidden": true
   },
   "outputs": [],
   "source": [
    "# export the PDF.  Name the file using the county name.\n",
    "layout.exportToPDF(f'./{county}.pdf')"
   ]
  },
  {
   "cell_type": "markdown",
   "id": "53ea3bb0",
   "metadata": {
    "heading_collapsed": true
   },
   "source": [
    "#### 6.  Repeat the process for multiple counties"
   ]
  },
  {
   "cell_type": "markdown",
   "id": "65eed23c",
   "metadata": {
    "hidden": true
   },
   "source": [
    "Since we've worked out the logic for modifying the map and printing for one county, we can now reuse that code to export multiple counties.  Let's take the code we developed in our previous steps and put it in a for loop."
   ]
  },
  {
   "cell_type": "code",
   "execution_count": null,
   "id": "5c5ea395",
   "metadata": {
    "hidden": true
   },
   "outputs": [],
   "source": [
    "# list of counties to export\n",
    "counties = [\n",
    "    \"Alameda County\",\n",
    "    \"Marin County\",\n",
    "    \"Contra Costa County\",\n",
    "    \"San Francisco County\",\n",
    "    \"Santa Clara County\"\n",
    "]"
   ]
  },
  {
   "cell_type": "code",
   "execution_count": null,
   "id": "8b4bb158",
   "metadata": {
    "hidden": true
   },
   "outputs": [],
   "source": [
    "# iterate through the counties\n",
    "for county in counties:\n",
    "    # set the definition query for the counties and highways layers\n",
    "    counties_layer.definitionQuery = f\"NAMELSAD = '{county}'\"\n",
    "    highways_layer.definitionQuery = f\"NAMELSAD = '{county}'\"\n",
    "    \n",
    "    # get the county extent\n",
    "    county_extent = map_frame.getLayerExtent(counties_layer)\n",
    "\n",
    "    # set the MapFrame's extent\n",
    "    map_frame.camera.setExtent(county_extent)\n",
    "    \n",
    "    # set the title text\n",
    "    title.text = county\n",
    "    \n",
    "    # export the PDF.  Name the file using the county name.\n",
    "    layout.exportToPDF(f'./{county}.pdf')"
   ]
  },
  {
   "cell_type": "code",
   "execution_count": null,
   "id": "d097a072",
   "metadata": {
    "hidden": true
   },
   "outputs": [],
   "source": []
  }
 ],
 "metadata": {
  "kernelspec": {
   "display_name": "Python 3 (ipykernel)",
   "language": "python",
   "name": "python3"
  },
  "language_info": {
   "codemirror_mode": {
    "name": "ipython",
    "version": 3
   },
   "file_extension": ".py",
   "mimetype": "text/x-python",
   "name": "python",
   "nbconvert_exporter": "python",
   "pygments_lexer": "ipython3",
   "version": "3.9.18"
  }
 },
 "nbformat": 4,
 "nbformat_minor": 5
}
