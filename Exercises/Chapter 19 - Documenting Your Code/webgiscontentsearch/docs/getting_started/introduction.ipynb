{
 "cells": [
  {
   "cell_type": "markdown",
   "metadata": {},
   "source": [
    "# Introduction\n",
    "\n",
    "Using Web GIS Content Search, you can easily search and filter content from your ArcGIS Online organization or Portal for ArcGIS!"
   ]
  },
  {
   "cell_type": "code",
   "execution_count": null,
   "metadata": {},
   "outputs": [],
   "source": [
    "from arcgis import GIS\n",
    "\n",
    "from webgiscontentsearch import items_search\n",
    "\n",
    "gis = GIS(profile=\"my_fav_portal\")\n",
    "\n",
    "results = items_search(\n",
    "    gis = gis,\n",
    "    owner = \"gee_eyeess\",\n",
    "    output_path = r\"c:\\temp\\gee_eyeess_items.csv\",\n",
    ")\n",
    "\n",
    "results"
   ]
  }
 ],
 "metadata": {
  "kernelspec": {
   "display_name": "Python 3",
   "language": "python",
   "name": "python3"
  },
  "language_info": {
   "name": "python",
   "version": "3.9.11"
  }
 },
 "nbformat": 4,
 "nbformat_minor": 2
}
