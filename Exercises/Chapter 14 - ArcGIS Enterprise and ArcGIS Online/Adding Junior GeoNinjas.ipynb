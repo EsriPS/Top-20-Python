{
 "cells": [
  {
   "cell_type": "code",
   "execution_count": null,
   "metadata": {},
   "outputs": [],
   "source": [
    "from arcgis.gis import GIS\n",
    "import pandas as pd\n",
    "import random\n",
    "import string"
   ]
  },
  {
   "cell_type": "code",
   "execution_count": null,
   "metadata": {},
   "outputs": [],
   "source": [
    "def random_password(length: int = 32) -> str:\n",
    "    \"\"\"Generates a random password\n",
    "\n",
    "    Returns\n",
    "        str Random password\n",
    "    \"\"\"\n",
    "    new_password = \"\".join(\n",
    "        random.choice(string.ascii_letters + string.digits) for _ in range(length - 2)\n",
    "    )\n",
    "    return f\"{random.choice(string.ascii_letters)}{new_password}{random.choice(string.ascii_letters)}\""
   ]
  },
  {
   "cell_type": "code",
   "execution_count": null,
   "metadata": {},
   "outputs": [],
   "source": [
    "agol = GIS(profile=\"my_profile\")"
   ]
  },
  {
   "cell_type": "code",
   "execution_count": null,
   "metadata": {},
   "outputs": [],
   "source": [
    "agol.users.roles.all()"
   ]
  },
  {
   "cell_type": "code",
   "execution_count": null,
   "metadata": {},
   "outputs": [],
   "source": [
    "junior_geoninja_role_privliges = agol.users.roles.all()[3].privileges.copy()"
   ]
  },
  {
   "cell_type": "code",
   "execution_count": null,
   "metadata": {},
   "outputs": [],
   "source": [
    "junior_geoninja_role_privliges.append(\"portal:user:shareToGroup\")"
   ]
  },
  {
   "cell_type": "code",
   "execution_count": null,
   "metadata": {},
   "outputs": [],
   "source": [
    "new_role = agol.users.roles.create(\n",
    "    name=\"Junior GeoNinja\",\n",
    "    description=\"Junior GeoNinja's role\",\n",
    "    privileges=junior_geoninja_role_privliges,\n",
    ")"
   ]
  },
  {
   "cell_type": "code",
   "execution_count": null,
   "metadata": {},
   "outputs": [],
   "source": [
    "new_group = agol.groups.create(\n",
    "    title=\"Junior GeoNinjas Group\",\n",
    "    tags=\"Junior GeoNinja\",\n",
    "    description=\"This is a group for Junior GeoNinjas\",\n",
    ")"
   ]
  },
  {
   "cell_type": "code",
   "execution_count": null,
   "metadata": {},
   "outputs": [],
   "source": [
    "new_role_id = new_role.role_id"
   ]
  },
  {
   "cell_type": "code",
   "execution_count": null,
   "metadata": {},
   "outputs": [],
   "source": [
    "junior_geoninjas = pd.read_excel(\"Junior GeoNinjas.xlsx\")"
   ]
  },
  {
   "cell_type": "code",
   "execution_count": null,
   "metadata": {},
   "outputs": [],
   "source": [
    "junior_geoninjas"
   ]
  },
  {
   "cell_type": "code",
   "execution_count": null,
   "metadata": {},
   "outputs": [],
   "source": [
    "for ninja in junior_geoninjas.iterrows():\n",
    "    # Make a username\n",
    "    username = f\"{ninja[1]['First Name'][0]}{ninja[1]['Last Name']}_GeoNinja\"\n",
    "    # Temporary password\n",
    "    temp_password = random_password()\n",
    "    # Create the user\n",
    "    new_user = agol.users.create(\n",
    "        username=username,\n",
    "        password=temp_password,\n",
    "        firstname=ninja[1][\"First Name\"],\n",
    "        lastname=ninja[1][\"Last Name\"],\n",
    "        email=ninja[1][\"Email\"],\n",
    "        role=new_role.role_id,\n",
    "        description=\"I'm a Junior Geoninja!\",\n",
    "    )\n",
    "    # Add thumbnail\n",
    "    new_user.update(thumbnail=f\"{ninja[1]['Favorite Esri Product']}.jpg\")\n",
    "    # Add to group\n",
    "    new_group.add_users([username])\n",
    "    print(f\"User {username} created with password {temp_password}\")"
   ]
  }
 ],
 "metadata": {
  "kernelspec": {
   "display_name": "Python 3",
   "language": "python",
   "name": "python3"
  },
  "language_info": {
   "codemirror_mode": {
    "name": "ipython",
    "version": 3
   },
   "file_extension": ".py",
   "mimetype": "text/x-python",
   "name": "python",
   "nbconvert_exporter": "python",
   "pygments_lexer": "ipython3",
   "version": "3.9.16"
  }
 },
 "nbformat": 4,
 "nbformat_minor": 2
}
