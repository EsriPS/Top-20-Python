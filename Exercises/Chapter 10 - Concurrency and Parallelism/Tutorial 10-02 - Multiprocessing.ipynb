{
 "cells": [
  {
   "cell_type": "markdown",
   "id": "c1cedaf1",
   "metadata": {},
   "source": [
    "# Tutorial 10-02 - Multiprocessing"
   ]
  },
  {
   "cell_type": "markdown",
   "id": "663c3bc5",
   "metadata": {},
   "source": [
    "Going back to our work with GeoNinjas PythonAnalytics, we're being given another task to speed up.  In this case, we have a single dataset comprised of highways intersected with California counties.  Our colleagues would like us to set up a repeatable process to create a zipped file geodatabase output for each county containing a feature class that has only the highways for that county.  We could do this sequentially and it wouldn't take forever, but this is a great candidate for multiprocessing.  This is good practice for more complex and time-consuming operations."
   ]
  },
  {
   "cell_type": "markdown",
   "id": "6704ae0f",
   "metadata": {
    "heading_collapsed": true
   },
   "source": [
    "## Setup Inputs and Get a List of Counties"
   ]
  },
  {
   "cell_type": "markdown",
   "id": "ca393f4a",
   "metadata": {
    "heading_collapsed": true,
    "hidden": true
   },
   "source": [
    "#### 1.  Import packages."
   ]
  },
  {
   "cell_type": "markdown",
   "id": "21ae2f75",
   "metadata": {
    "hidden": true
   },
   "source": [
    "In this case, you'll be using `arcpy` for creating file geodatabases and feature classes.  You'll be using the `os` package for dealing with folders and paths.  You'll be using the `zipfile` package to compress a file geodatabase into a single file.  Finally, you'll be using the `multiprocessing` package to perform your logic multiple times in parallel."
   ]
  },
  {
   "cell_type": "code",
   "execution_count": null,
   "id": "4181d87c",
   "metadata": {
    "hidden": true
   },
   "outputs": [],
   "source": [
    "import arcpy\n",
    "import os\n",
    "import zipfile\n",
    "import multiprocessing"
   ]
  },
  {
   "cell_type": "markdown",
   "id": "fa803996",
   "metadata": {
    "heading_collapsed": true,
    "hidden": true
   },
   "source": [
    "#### 2.  Setup inputs"
   ]
  },
  {
   "cell_type": "markdown",
   "id": "495391bc",
   "metadata": {
    "hidden": true
   },
   "source": [
    "The first thing you'll want to do is set up variables for your user inputs.  Even if you don't end up turning this script into a tool, it's helpful to put the inputs in a place at the beginning of the script that you can replace later to reuse the script."
   ]
  },
  {
   "cell_type": "code",
   "execution_count": null,
   "id": "54166e5f",
   "metadata": {
    "hidden": true
   },
   "outputs": [],
   "source": [
    "# input file geodatabase path\n",
    "input_fgdb = r\"..\\Chapter 03 - ArcPy Basics\\Chapter 03 Files\\Chapter 02 - Working with Maps.gdb\"\n",
    "\n",
    "# input feature class name\n",
    "input_fc_name = \"Highways_intersect\"\n",
    "\n",
    "# output folder\n",
    "output_folder = r\".\\zipped_outputs\""
   ]
  },
  {
   "cell_type": "markdown",
   "id": "87b7e66e",
   "metadata": {
    "heading_collapsed": true,
    "hidden": true
   },
   "source": [
    "#### 3.  Create and test input feature class path"
   ]
  },
  {
   "cell_type": "markdown",
   "id": "507a8afd",
   "metadata": {
    "hidden": true
   },
   "source": [
    "It's a good idea to test that your input paths are valid to start.  You can use the `os` package to combine the file geodatabase path and feature class name to get a full path.  Then you can use the `arcpy.Exists()` function to ensure that the path is valid."
   ]
  },
  {
   "cell_type": "code",
   "execution_count": null,
   "id": "18401ae0",
   "metadata": {
    "hidden": true
   },
   "outputs": [],
   "source": [
    "full_fc_path = os.path.join(\n",
    "    input_fgdb, input_fc_name\n",
    ")\n",
    "\n",
    "full_fc_path"
   ]
  },
  {
   "cell_type": "code",
   "execution_count": null,
   "id": "943fda2e",
   "metadata": {
    "hidden": true
   },
   "outputs": [],
   "source": [
    "arcpy.Exists(full_fc_path)"
   ]
  },
  {
   "cell_type": "markdown",
   "id": "e7e228f4",
   "metadata": {
    "heading_collapsed": true,
    "hidden": true
   },
   "source": [
    "#### 4.  Generate a list of counties"
   ]
  },
  {
   "cell_type": "markdown",
   "id": "25c468e8",
   "metadata": {
    "hidden": true
   },
   "source": [
    "Assuming the path is valid, you can use a `SearchCursor` and a list comprehension to generate a list of counties.  For more details on this, check out the **ArcPy Basics** chapter."
   ]
  },
  {
   "cell_type": "code",
   "execution_count": null,
   "id": "01893012",
   "metadata": {
    "hidden": true
   },
   "outputs": [],
   "source": [
    "counties = [r[0] for r in arcpy.da.SearchCursor(full_fc_path, ['NAMELSAD'])]\n",
    "len(counties)"
   ]
  },
  {
   "cell_type": "markdown",
   "id": "d7ef9b6a",
   "metadata": {
    "hidden": true
   },
   "source": [
    "You can use a set object to narrow that list of all counties down to unique values.  For more information on this, review the **Data Structures** and **ArcPy Basics** chapters."
   ]
  },
  {
   "cell_type": "code",
   "execution_count": null,
   "id": "bcbeaff7",
   "metadata": {
    "hidden": true
   },
   "outputs": [],
   "source": [
    "counties = list(set(counties))\n",
    "counties.sort()\n",
    "counties"
   ]
  },
  {
   "cell_type": "markdown",
   "id": "fedd2f00",
   "metadata": {
    "heading_collapsed": true,
    "hidden": true
   },
   "source": [
    "#### 5. Setup an output folder"
   ]
  },
  {
   "cell_type": "markdown",
   "id": "e8a94784",
   "metadata": {
    "hidden": true
   },
   "source": [
    "You can use the `os` package to test and see if a folder exists at a specified path.  In this case, if it doesn't exist, we'll make it using the `os.mkdir()` function."
   ]
  },
  {
   "cell_type": "code",
   "execution_count": null,
   "id": "08155619",
   "metadata": {
    "hidden": true
   },
   "outputs": [],
   "source": [
    "if not os.path.exists(output_folder):\n",
    "    os.mkdir(output_folder)"
   ]
  },
  {
   "cell_type": "markdown",
   "id": "482ad60b",
   "metadata": {
    "heading_collapsed": true
   },
   "source": [
    "## Setup Logic for a Single County"
   ]
  },
  {
   "cell_type": "markdown",
   "id": "4f889182",
   "metadata": {
    "hidden": true
   },
   "source": [
    "Now that you've got a list of counties, the next step is to set up the logic you're going to execute on each county individually."
   ]
  },
  {
   "cell_type": "markdown",
   "id": "0331003c",
   "metadata": {
    "heading_collapsed": true,
    "hidden": true
   },
   "source": [
    "#### 1.  Pick a single county"
   ]
  },
  {
   "cell_type": "markdown",
   "id": "ddc4552c",
   "metadata": {
    "hidden": true
   },
   "source": [
    "Execute the following cell to use the first value in the counties list."
   ]
  },
  {
   "cell_type": "code",
   "execution_count": null,
   "id": "dc6e8abe",
   "metadata": {
    "hidden": true
   },
   "outputs": [],
   "source": [
    "county = counties[0]\n",
    "county"
   ]
  },
  {
   "cell_type": "markdown",
   "id": "f8358749",
   "metadata": {
    "heading_collapsed": true,
    "hidden": true
   },
   "source": [
    "#### 2.  Replace any spaces."
   ]
  },
  {
   "cell_type": "markdown",
   "id": "84d90bb5",
   "metadata": {
    "hidden": true
   },
   "source": [
    "Feature class names don't allow spaces, so you can use the built-in `.replace()` method on the string data type to remove any spaces.  In this case, you can replace them all with underscores."
   ]
  },
  {
   "cell_type": "code",
   "execution_count": null,
   "id": "6a8b45c3",
   "metadata": {
    "hidden": true
   },
   "outputs": [],
   "source": [
    "county_no_spaces = county.replace(\" \", \"_\")\n",
    "county_no_spaces"
   ]
  },
  {
   "cell_type": "markdown",
   "id": "7af907b1",
   "metadata": {
    "heading_collapsed": true,
    "hidden": true
   },
   "source": [
    "#### 3. Create a file geodatabase"
   ]
  },
  {
   "cell_type": "markdown",
   "id": "6bacaf82",
   "metadata": {
    "hidden": true
   },
   "source": [
    "You can use the `arcpy` package to create a file geodatabase.  There's a geoprocessing tool (function) called `CreateFileGDB` in the `management` toolbox (module)."
   ]
  },
  {
   "cell_type": "markdown",
   "id": "c2910614",
   "metadata": {
    "hidden": true
   },
   "source": [
    "NOTE - The `CreateFileGDB` tool returns an `arcpy.Results` object.  To get the path to the file geodatabase, we'll be using an index and referring to the path as `fgdb[0]` in many cases."
   ]
  },
  {
   "cell_type": "code",
   "execution_count": null,
   "id": "093e9c53",
   "metadata": {
    "hidden": true
   },
   "outputs": [],
   "source": [
    "fgdb = arcpy.management.CreateFileGDB(\n",
    "    out_folder_path = output_folder,\n",
    "    out_name = f\"{county_no_spaces}_Output\"\n",
    ")\n",
    "\n",
    "fgdb"
   ]
  },
  {
   "cell_type": "code",
   "execution_count": null,
   "id": "9462620b",
   "metadata": {
    "hidden": true
   },
   "outputs": [],
   "source": [
    "fgdb[0]"
   ]
  },
  {
   "cell_type": "markdown",
   "id": "ab8de067",
   "metadata": {
    "heading_collapsed": true,
    "hidden": true
   },
   "source": [
    "#### 4.  Create a feature class for the county"
   ]
  },
  {
   "cell_type": "markdown",
   "id": "0395d86b",
   "metadata": {
    "hidden": true
   },
   "source": [
    "To export the features for a single county, you'll be using the `ExportFeatures` tool in the `conversion` toolbox.  This tool allows you to set a `where_clause` to pick features by an attribute expression."
   ]
  },
  {
   "cell_type": "code",
   "execution_count": null,
   "id": "4dfb6d03",
   "metadata": {
    "hidden": true
   },
   "outputs": [],
   "source": [
    "output_fc = arcpy.conversion.ExportFeatures(\n",
    "    in_features = full_fc_path,\n",
    "    out_features = os.path.join(fgdb[0], \n",
    "                                f\"{county_no_spaces}_Highways\"),\n",
    "    where_clause = f\"NAMELSAD = '{county}'\"\n",
    ")\n",
    "output_fc[0]"
   ]
  },
  {
   "cell_type": "markdown",
   "id": "88f460aa",
   "metadata": {
    "hidden": true
   },
   "source": [
    "If you're curious about how successful that operation was, you can use `arcpy.Exists()` to ensure that it was successful or `arcpy.management.GetCount()` to find out how many records were exported."
   ]
  },
  {
   "cell_type": "code",
   "execution_count": null,
   "id": "df0424b0",
   "metadata": {
    "hidden": true
   },
   "outputs": [],
   "source": [
    "arcpy.management.GetCount(output_fc)"
   ]
  },
  {
   "cell_type": "markdown",
   "id": "9a43f298",
   "metadata": {
    "heading_collapsed": true,
    "hidden": true
   },
   "source": [
    "#### 5.  Compress the file geodatabase into a zip file"
   ]
  },
  {
   "cell_type": "markdown",
   "id": "33277ef8",
   "metadata": {
    "hidden": true
   },
   "source": [
    "Now that you've created a file geodatabase and feature class, you can zip the file geodatabase up into a single zip file for easy transfer.  You'll use the `zipfile` package to do this."
   ]
  },
  {
   "cell_type": "code",
   "execution_count": null,
   "id": "d95705de",
   "metadata": {
    "hidden": true
   },
   "outputs": [],
   "source": [
    "# define a path for the zip file\n",
    "zip_file_path = os.path.join(output_folder, f\"{county} Highways.zip\") \n",
    "\n",
    "# use a context manager to create a zipfile object\n",
    "with zipfile.ZipFile(zip_file_path, \"w\") as zipper:\n",
    "    \n",
    "    # use os.walk to iterate through each file in the file geodatabase\n",
    "    for root, dirs, files in os.walk(fgdb[0]):\n",
    "        for file in files:\n",
    "            \n",
    "            # original file path\n",
    "            fpath = os.path.join(root, file)\n",
    "            \n",
    "            # relative zipfile path\n",
    "            zpath = os.path.relpath(\n",
    "                        os.path.join(root, file),\n",
    "                        os.path.join(fgdb[0], '..')\n",
    "                    )\n",
    "            \n",
    "            # write the file\n",
    "            zipper.write(\n",
    "                fpath,\n",
    "                zpath\n",
    "            )"
   ]
  },
  {
   "cell_type": "markdown",
   "id": "e05d4bd0",
   "metadata": {
    "heading_collapsed": true,
    "hidden": true
   },
   "source": [
    "#### 6.  Delete the temporary file geodatabase"
   ]
  },
  {
   "cell_type": "markdown",
   "id": "06327799",
   "metadata": {
    "hidden": true
   },
   "source": [
    "Since you've zipped the file geodatabase, you can delete the file geodatabase as part of your cleanup."
   ]
  },
  {
   "cell_type": "code",
   "execution_count": null,
   "id": "1f42e0d1",
   "metadata": {
    "hidden": true
   },
   "outputs": [],
   "source": [
    "arcpy.management.Delete(fgdb)"
   ]
  },
  {
   "cell_type": "markdown",
   "id": "c2a375a1",
   "metadata": {
    "heading_collapsed": true
   },
   "source": [
    "## Create a repeatable function"
   ]
  },
  {
   "cell_type": "markdown",
   "id": "4bf1b180",
   "metadata": {
    "hidden": true
   },
   "source": [
    "Similarly to what we did in the previous exercise, now we're going to take all the logic we just developed and turn it into a function.  Luckily enough, we used variables for our inputs.  This will require very little refactoring."
   ]
  },
  {
   "cell_type": "markdown",
   "id": "22a84aa7",
   "metadata": {
    "heading_collapsed": true,
    "hidden": true
   },
   "source": [
    "#### 1.  Refactor the individual logic as a function"
   ]
  },
  {
   "cell_type": "markdown",
   "id": "6caeccb8",
   "metadata": {
    "hidden": true
   },
   "source": [
    "In the cell below, you can copy and paste all the code you wrote in the previous step.  You can turn it into a function and set some parameters for the input feature class, output folder, and individual county."
   ]
  },
  {
   "cell_type": "code",
   "execution_count": null,
   "id": "584c9380",
   "metadata": {
    "hidden": true
   },
   "outputs": [],
   "source": [
    "def zip_county_highways(full_fc_path, output_folder, county):\n",
    "    \n",
    "    # remove spaces from county name\n",
    "    county_no_spaces = county.replace(\" \", \"_\")\n",
    "    \n",
    "    # create a file geodatabase\n",
    "    fgdb = arcpy.management.CreateFileGDB(\n",
    "        out_folder_path = output_folder,\n",
    "        out_name = f\"{county_no_spaces}_Output\"\n",
    "    )\n",
    "\n",
    "    # Create a feature class\n",
    "    output_fc = arcpy.conversion.ExportFeatures(\n",
    "        in_features = full_fc_path,\n",
    "        out_features = os.path.join(fgdb[0], \n",
    "                                    f\"{county_no_spaces}_Highways\"),\n",
    "        where_clause = f\"NAMELSAD = '{county}'\"\n",
    "    )\n",
    "    \n",
    "    # define a path for the zip file\n",
    "    zip_file_path = os.path.join(output_folder, f\"{county} Highways.zip\") \n",
    "\n",
    "    # zip the file geodatabase\n",
    "    with zipfile.ZipFile(zip_file_path, \"w\") as zipper:\n",
    "        for root, dirs, files in os.walk(fgdb[0]):\n",
    "            for file in files:\n",
    "                fpath = os.path.join(root, file)\n",
    "                zpath = os.path.relpath(\n",
    "                            os.path.join(root, file),\n",
    "                            os.path.join(fgdb[0], '..')\n",
    "                        )\n",
    "                zipper.write(\n",
    "                    fpath,\n",
    "                    zpath\n",
    "                )\n",
    "    \n",
    "    # delete the file geodatabase\n",
    "    arcpy.management.Delete(fgdb)\n",
    "    \n",
    "    # return the zip file path\n",
    "    return zip_file_path"
   ]
  },
  {
   "cell_type": "markdown",
   "id": "2239abfe",
   "metadata": {
    "heading_collapsed": true,
    "hidden": true
   },
   "source": [
    "#### 2.  Test your function"
   ]
  },
  {
   "cell_type": "code",
   "execution_count": null,
   "id": "aad190ea",
   "metadata": {
    "hidden": true
   },
   "outputs": [],
   "source": [
    "zip_county_highways(full_fc_path, output_folder, \"Butte County\")"
   ]
  },
  {
   "cell_type": "markdown",
   "id": "5a677ec0",
   "metadata": {
    "heading_collapsed": true
   },
   "source": [
    "## Setup Multiprocessing"
   ]
  },
  {
   "cell_type": "markdown",
   "id": "6d141aae",
   "metadata": {
    "hidden": true
   },
   "source": [
    "The last section of this tutorial is where we're finally going to set up a script to execute this process in parallel.  Ultimately, we'll execute this as a script outside the Jupyter Notebook because there are some special conditions involving iPython that make multiprocessing particularly difficult.  It's just much easier to do as a script.\n",
    "\n",
    "Until then, there's a couple things we can do here to make our script writing easier."
   ]
  },
  {
   "cell_type": "markdown",
   "id": "0a5d0578",
   "metadata": {
    "heading_collapsed": true,
    "hidden": true
   },
   "source": [
    "#### 1.  Find out how many cores you have available."
   ]
  },
  {
   "cell_type": "markdown",
   "id": "6957bbf0",
   "metadata": {
    "hidden": true
   },
   "source": [
    "You can use the `multiprocessing` package to find out how many cores you have available on your machine or in your environment.  This will help inform how many parallel processes you can run at the same time."
   ]
  },
  {
   "cell_type": "code",
   "execution_count": null,
   "id": "09d8f1b2",
   "metadata": {
    "hidden": true,
    "scrolled": true
   },
   "outputs": [],
   "source": [
    "multiprocessing.cpu_count()"
   ]
  },
  {
   "cell_type": "markdown",
   "id": "b60de94d",
   "metadata": {
    "heading_collapsed": true,
    "hidden": true
   },
   "source": [
    "#### 2.  Clean up your code and prepare a script"
   ]
  },
  {
   "cell_type": "markdown",
   "id": "748de2e0",
   "metadata": {
    "hidden": true
   },
   "source": [
    "Now you can take all this code that you've developed and clean it up to be used in a script.  You can start with defining your function, then importing your packages, and defining your inputs.  Then you can insert the logic to generate the list of unique counties.  You can stop there for now and we'll work on the multiprocessing next."
   ]
  },
  {
   "cell_type": "code",
   "execution_count": null,
   "id": "7eb91c2d",
   "metadata": {
    "hidden": true
   },
   "outputs": [],
   "source": [
    "def zip_county_highways(full_fc_path, output_folder, county):\n",
    "    \n",
    "    # remove spaces from county name\n",
    "    county_no_spaces = county.replace(\" \", \"_\")\n",
    "    \n",
    "    # create a file geodatabase\n",
    "    fgdb = arcpy.management.CreateFileGDB(\n",
    "        out_folder_path = output_folder,\n",
    "        out_name = f\"{county_no_spaces}_Output\"\n",
    "    )\n",
    "\n",
    "    # Create a feature class\n",
    "    output_fc = arcpy.conversion.ExportFeatures(\n",
    "        in_features = full_fc_path,\n",
    "        out_features = os.path.join(fgdb[0], \n",
    "                                    f\"{county_no_spaces}_Highways\"),\n",
    "        where_clause = f\"NAMELSAD = '{county}'\"\n",
    "    )\n",
    "    \n",
    "    # define a path for the zip file\n",
    "    zip_file_path = os.path.join(output_folder, f\"{county} Highways.zip\") \n",
    "\n",
    "    # zip the file geodatabase\n",
    "    with zipfile.ZipFile(zip_file_path, \"w\") as zipper:\n",
    "        for root, dirs, files in os.walk(fgdb[0]):\n",
    "            for file in files:\n",
    "                fpath = os.path.join(root, file)\n",
    "                zpath = os.path.relpath(\n",
    "                            os.path.join(root, file),\n",
    "                            os.path.join(fgdb[0], '..')\n",
    "                        )\n",
    "                zipper.write(\n",
    "                    fpath,\n",
    "                    zpath\n",
    "                )\n",
    "    \n",
    "    # delete the file geodatabase\n",
    "    arcpy.management.Delete(fgdb)\n",
    "    \n",
    "    # return the zip file path\n",
    "    return zip_file_path\n",
    "\n",
    "# package imports\n",
    "import arcpy\n",
    "import os\n",
    "import zipfile\n",
    "import multiprocessing\n",
    "\n",
    "#=============================== INPUTS ===================================\n",
    "# input file geodatabase path\n",
    "input_fgdb = r\"..\\Chapter 03 - ArcPy Basics\\Chapter 03 Files\\Chapter 02 - Working with Maps.gdb\"\n",
    "\n",
    "# input feature class name\n",
    "input_fc_name = \"Highways_intersect\"\n",
    "\n",
    "# output folder\n",
    "output_folder = r\".\\zipped_outputs\"\n",
    "#==========================================================================\n",
    "\n",
    "if __name__ == '__main__':\n",
    "    # get the full feature class path\n",
    "    full_fc_path = os.path.join(\n",
    "        input_fgdb, input_fc_name\n",
    "    )\n",
    "\n",
    "    # get the county for each feature\n",
    "    counties = [r[0] for r in arcpy.da.SearchCursor(full_fc_path, ['NAMELSAD'])]\n",
    "\n",
    "    # narrow the counties down to unique counties\n",
    "    counties = list(set(counties))\n",
    "    counties.sort()\n",
    "\n",
    "    # create the output folder\n",
    "    if not os.path.exists(output_folder):\n",
    "        os.mkdir(output_folder)\n",
    "        \n",
    "    # get your cpu count for multiprocessing\n",
    "    process_count = multiprocessing.cpu_count()"
   ]
  },
  {
   "cell_type": "markdown",
   "id": "0accf49c",
   "metadata": {
    "heading_collapsed": true,
    "hidden": true
   },
   "source": [
    "#### 3.  Set up multiprocessing"
   ]
  },
  {
   "cell_type": "markdown",
   "id": "9f50a932",
   "metadata": {
    "hidden": true
   },
   "source": [
    "Finally, you can write your multiprocessing logic.  **This will not work in a Jupyter Notebook**, so your last step will be putting this all in a script file and executing that.\n",
    "\n",
    "You'll be using the `concurrent` package in a very similar way that you did during the Threading tutorial earlier in this chapter.  This time, you'll be creating a `ProcessPoolExecutor` instead of a `ThreadPoolExecutor`.  All the other logic still applies.  You'll be submitting your function to the executor and iterating through a list of futures."
   ]
  },
  {
   "cell_type": "code",
   "execution_count": null,
   "id": "722ab18c",
   "metadata": {
    "hidden": true
   },
   "outputs": [],
   "source": [
    "if __name__ == '__main__':\n",
    "\n",
    "    from concurrent.futures import ProcessPoolExecutor, as_completed\n",
    "    \n",
    "    # set up the process pool executor\n",
    "    with ProcessPoolExecutor(max_workers=process_count) as executor\n",
    "        \n",
    "        # set up a list to contain all the future objects\n",
    "        futures_list = []\n",
    "        \n",
    "        # submit each job to the executor\n",
    "        for county in counties:\n",
    "            futures_list.append(executor.submit(zip_county_highways, full_fc_path, output_folder, county))\n",
    "\n",
    "        # iterate through the futures to see when they're completed\n",
    "        for future in as_completed(futures_list):\n",
    "            print(future.result())"
   ]
  },
  {
   "cell_type": "markdown",
   "id": "c11b15f4",
   "metadata": {
    "hidden": true
   },
   "source": [
    "#### 4.  Finalize and run your script"
   ]
  },
  {
   "cell_type": "markdown",
   "id": "bafac326",
   "metadata": {
    "hidden": true
   },
   "source": [
    "The final step here is to combine all this logic into a .py script file and run that outside your Jupyter Notebook."
   ]
  }
 ],
 "metadata": {
  "kernelspec": {
   "display_name": "Python 3 (ipykernel)",
   "language": "python",
   "name": "python3"
  },
  "language_info": {
   "codemirror_mode": {
    "name": "ipython",
    "version": 3
   },
   "file_extension": ".py",
   "mimetype": "text/x-python",
   "name": "python",
   "nbconvert_exporter": "python",
   "pygments_lexer": "ipython3",
   "version": "3.9.18"
  }
 },
 "nbformat": 4,
 "nbformat_minor": 5
}
