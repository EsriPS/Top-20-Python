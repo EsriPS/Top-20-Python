{
 "cells": [
  {
   "cell_type": "markdown",
   "id": "15b8e83c",
   "metadata": {
    "heading_collapsed": true
   },
   "source": [
    "#### previous exercise"
   ]
  },
  {
   "cell_type": "code",
   "execution_count": 1,
   "id": "069e478f",
   "metadata": {
    "hidden": true
   },
   "outputs": [
    {
     "name": "stderr",
     "output_type": "stream",
     "text": [
      "C:\\Users\\dav11274\\AppData\\Local\\Temp\\1\\ipykernel_43580\\1460595380.py:14: UserWarning: Could not infer format, so each element will be parsed individually, falling back to `dateutil`. To ensure parsing is consistent and as-expected, please specify a format.\n",
      "  df_311['Opened'] = pandas.to_datetime(df_311['Opened'])\n"
     ]
    }
   ],
   "source": [
    "import pandas\n",
    "\n",
    "# read the 311 CSV\n",
    "df_311 = pandas.read_csv(\"../Chapter05/311_cases.csv\")\n",
    "\n",
    "# drop the DELETE columns\n",
    "drop_cols = [c for c in df_311.columns if \"DELETE\" in c]\n",
    "df_311 = df_311.drop(columns = drop_cols)\n",
    "\n",
    "# exclude any records with invalid Latitude/Longitude\n",
    "df_311 = df_311[df_311['Latitude'] > 0]\n",
    "\n",
    "# convert Opened/Closed to datetime\n",
    "df_311['Opened'] = pandas.to_datetime(df_311['Opened'])\n",
    "df_311['Closed'] = pandas.to_datetime(df_311['Closed'])\n",
    "\n",
    "# subtract the Opened time from the Closed time to get the OpenTime duration\n",
    "df_311['OpenTime'] = df_311['Closed'] - df_311['Opened']\n",
    "\n",
    "# create a DataFrame summarizing by neighborhood\n",
    "df_neighborhood = df_311.groupby(\"Neighborhood\").agg(\n",
    "    {\n",
    "        \"OpenTime\": \"mean\",\n",
    "        \"CaseID\": \"count\"\n",
    "    }\n",
    ")"
   ]
  },
  {
   "cell_type": "code",
   "execution_count": 2,
   "id": "d7b3fb5d",
   "metadata": {
    "hidden": true
   },
   "outputs": [
    {
     "data": {
      "text/html": [
       "<div>\n",
       "<style scoped>\n",
       "    .dataframe tbody tr th:only-of-type {\n",
       "        vertical-align: middle;\n",
       "    }\n",
       "\n",
       "    .dataframe tbody tr th {\n",
       "        vertical-align: top;\n",
       "    }\n",
       "\n",
       "    .dataframe thead th {\n",
       "        text-align: right;\n",
       "    }\n",
       "</style>\n",
       "<table border=\"1\" class=\"dataframe\">\n",
       "  <thead>\n",
       "    <tr style=\"text-align: right;\">\n",
       "      <th></th>\n",
       "      <th>OpenTime</th>\n",
       "      <th>CaseID</th>\n",
       "    </tr>\n",
       "    <tr>\n",
       "      <th>Neighborhood</th>\n",
       "      <th></th>\n",
       "      <th></th>\n",
       "    </tr>\n",
       "  </thead>\n",
       "  <tbody>\n",
       "    <tr>\n",
       "      <th>Alamo Square</th>\n",
       "      <td>3 days 04:03:59.753424657</td>\n",
       "      <td>252</td>\n",
       "    </tr>\n",
       "    <tr>\n",
       "      <th>Anza Vista</th>\n",
       "      <td>4 days 15:34:21.985714285</td>\n",
       "      <td>76</td>\n",
       "    </tr>\n",
       "    <tr>\n",
       "      <th>Apparel City</th>\n",
       "      <td>1 days 22:10:47.308823529</td>\n",
       "      <td>72</td>\n",
       "    </tr>\n",
       "    <tr>\n",
       "      <th>Aquatic Park / Ft. Mason</th>\n",
       "      <td>0 days 23:16:31.140740740</td>\n",
       "      <td>143</td>\n",
       "    </tr>\n",
       "    <tr>\n",
       "      <th>Ashbury Heights</th>\n",
       "      <td>2 days 07:45:51.923076923</td>\n",
       "      <td>92</td>\n",
       "    </tr>\n",
       "    <tr>\n",
       "      <th>...</th>\n",
       "      <td>...</td>\n",
       "      <td>...</td>\n",
       "    </tr>\n",
       "    <tr>\n",
       "      <th>West Portal</th>\n",
       "      <td>1 days 19:05:03.544776119</td>\n",
       "      <td>289</td>\n",
       "    </tr>\n",
       "    <tr>\n",
       "      <th>Western Addition</th>\n",
       "      <td>2 days 23:59:47.578125</td>\n",
       "      <td>696</td>\n",
       "    </tr>\n",
       "    <tr>\n",
       "      <th>Westwood Highlands</th>\n",
       "      <td>6 days 02:19:14.714285714</td>\n",
       "      <td>16</td>\n",
       "    </tr>\n",
       "    <tr>\n",
       "      <th>Westwood Park</th>\n",
       "      <td>3 days 00:02:28.840909090</td>\n",
       "      <td>59</td>\n",
       "    </tr>\n",
       "    <tr>\n",
       "      <th>Yerba Buena Island</th>\n",
       "      <td>12 days 19:52:11.333333333</td>\n",
       "      <td>3</td>\n",
       "    </tr>\n",
       "  </tbody>\n",
       "</table>\n",
       "<p>117 rows × 2 columns</p>\n",
       "</div>"
      ],
      "text/plain": [
       "                                           OpenTime  CaseID\n",
       "Neighborhood                                               \n",
       "Alamo Square              3 days 04:03:59.753424657     252\n",
       "Anza Vista                4 days 15:34:21.985714285      76\n",
       "Apparel City              1 days 22:10:47.308823529      72\n",
       "Aquatic Park / Ft. Mason  0 days 23:16:31.140740740     143\n",
       "Ashbury Heights           2 days 07:45:51.923076923      92\n",
       "...                                             ...     ...\n",
       "West Portal               1 days 19:05:03.544776119     289\n",
       "Western Addition             2 days 23:59:47.578125     696\n",
       "Westwood Highlands        6 days 02:19:14.714285714      16\n",
       "Westwood Park             3 days 00:02:28.840909090      59\n",
       "Yerba Buena Island       12 days 19:52:11.333333333       3\n",
       "\n",
       "[117 rows x 2 columns]"
      ]
     },
     "execution_count": 2,
     "metadata": {},
     "output_type": "execute_result"
    }
   ],
   "source": [
    "df_neighborhood"
   ]
  },
  {
   "cell_type": "markdown",
   "id": "3f2581ef",
   "metadata": {},
   "source": [
    "#### mapping the neighborhoods"
   ]
  },
  {
   "cell_type": "code",
   "execution_count": 3,
   "id": "dcd1c0c0",
   "metadata": {},
   "outputs": [],
   "source": [
    "df_neighborhood['OpenTime'] = df_neighborhood['OpenTime'].dt.days"
   ]
  },
  {
   "cell_type": "code",
   "execution_count": 4,
   "id": "ba185407",
   "metadata": {},
   "outputs": [],
   "source": [
    "df_neighborhood = df_neighborhood.reset_index()"
   ]
  },
  {
   "cell_type": "code",
   "execution_count": 5,
   "id": "db28e79a",
   "metadata": {},
   "outputs": [],
   "source": [
    "import arcgis\n",
    "\n",
    "sedf_neighborhoods = pandas.DataFrame.spatial.from_featureclass(\n",
    "    \"./Tutorial_06_02.gdb/SF_Find_Neighborhoods\"\n",
    ")"
   ]
  },
  {
   "cell_type": "code",
   "execution_count": 6,
   "id": "62b88d39",
   "metadata": {},
   "outputs": [
    {
     "data": {
      "text/html": [
       "<div>\n",
       "<style scoped>\n",
       "    .dataframe tbody tr th:only-of-type {\n",
       "        vertical-align: middle;\n",
       "    }\n",
       "\n",
       "    .dataframe tbody tr th {\n",
       "        vertical-align: top;\n",
       "    }\n",
       "\n",
       "    .dataframe thead th {\n",
       "        text-align: right;\n",
       "    }\n",
       "</style>\n",
       "<table border=\"1\" class=\"dataframe\">\n",
       "  <thead>\n",
       "    <tr style=\"text-align: right;\">\n",
       "      <th></th>\n",
       "      <th>OBJECTID</th>\n",
       "      <th>name</th>\n",
       "      <th>SHAPE</th>\n",
       "    </tr>\n",
       "  </thead>\n",
       "  <tbody>\n",
       "    <tr>\n",
       "      <th>0</th>\n",
       "      <td>1</td>\n",
       "      <td>Seacliff</td>\n",
       "      <td>{\"rings\": [[[-13635909.0659, 4548889.167499997...</td>\n",
       "    </tr>\n",
       "    <tr>\n",
       "      <th>1</th>\n",
       "      <td>2</td>\n",
       "      <td>Lake Street</td>\n",
       "      <td>{\"rings\": [[[-13635207.2463, 4548926.810999997...</td>\n",
       "    </tr>\n",
       "    <tr>\n",
       "      <th>2</th>\n",
       "      <td>3</td>\n",
       "      <td>Presidio National Park</td>\n",
       "      <td>{\"rings\": [[[-13634141.858199999, 4552759.7788...</td>\n",
       "    </tr>\n",
       "    <tr>\n",
       "      <th>3</th>\n",
       "      <td>4</td>\n",
       "      <td>Presidio Terrace</td>\n",
       "      <td>{\"rings\": [[[-13633566.376400001, 4549428.4135...</td>\n",
       "    </tr>\n",
       "    <tr>\n",
       "      <th>4</th>\n",
       "      <td>5</td>\n",
       "      <td>Inner Richmond</td>\n",
       "      <td>{\"rings\": [[[-13633590.3391, 4549283.085600004...</td>\n",
       "    </tr>\n",
       "  </tbody>\n",
       "</table>\n",
       "</div>"
      ],
      "text/plain": [
       "   OBJECTID                    name  \\\n",
       "0         1                Seacliff   \n",
       "1         2             Lake Street   \n",
       "2         3  Presidio National Park   \n",
       "3         4        Presidio Terrace   \n",
       "4         5          Inner Richmond   \n",
       "\n",
       "                                               SHAPE  \n",
       "0  {\"rings\": [[[-13635909.0659, 4548889.167499997...  \n",
       "1  {\"rings\": [[[-13635207.2463, 4548926.810999997...  \n",
       "2  {\"rings\": [[[-13634141.858199999, 4552759.7788...  \n",
       "3  {\"rings\": [[[-13633566.376400001, 4549428.4135...  \n",
       "4  {\"rings\": [[[-13633590.3391, 4549283.085600004...  "
      ]
     },
     "execution_count": 6,
     "metadata": {},
     "output_type": "execute_result"
    }
   ],
   "source": [
    "sedf_neighborhoods.head()"
   ]
  },
  {
   "cell_type": "code",
   "execution_count": 7,
   "id": "81f6590b",
   "metadata": {},
   "outputs": [],
   "source": [
    "sedf_merge = sedf_neighborhoods.merge(df_neighborhood, \n",
    "                                      how = 'left', \n",
    "                                      left_on = 'name', \n",
    "                                      right_on = 'Neighborhood'\n",
    "                                      )"
   ]
  },
  {
   "cell_type": "code",
   "execution_count": 8,
   "id": "c7b15977",
   "metadata": {},
   "outputs": [
    {
     "data": {
      "application/vnd.jupyter.widget-view+json": {
       "model_id": "b697ace72f1c4c5cafcc26259457631e",
       "version_major": 2,
       "version_minor": 0
      },
      "text/plain": [
       "MapView(layout=Layout(height='400px', width='100%'))"
      ]
     },
     "metadata": {},
     "output_type": "display_data"
    },
    {
     "data": {
      "text/html": [
       "<div class=\"map-static-img-preview-7c9c0f1b-6243-4db4-af28-9f91c29296c5\"><img src=\"\"></img></div>"
      ],
      "text/plain": [
       "<IPython.core.display.HTML object>"
      ]
     },
     "metadata": {},
     "output_type": "display_data"
    },
    {
     "data": {
      "text/html": [
       "<div class=\"map-html-embed-preview-7c9c0f1b-6243-4db4-af28-9f91c29296c5\"></div>"
      ],
      "text/plain": [
       "<IPython.core.display.HTML object>"
      ]
     },
     "metadata": {},
     "output_type": "display_data"
    }
   ],
   "source": [
    "gis = arcgis.GIS()\n",
    "neighborhood_map = gis.map(\"San Francisco, CA\")\n",
    "neighborhood_map"
   ]
  },
  {
   "cell_type": "code",
   "execution_count": 10,
   "id": "003de07f",
   "metadata": {},
   "outputs": [
    {
     "data": {
      "text/plain": [
       "True"
      ]
     },
     "execution_count": 10,
     "metadata": {},
     "output_type": "execute_result"
    }
   ],
   "source": [
    "sedf_merge.spatial.plot(\n",
    "                colors='coolwarm',\n",
    "                class_count=20,\n",
    "                map_widget=neighborhood_map,\n",
    "                renderer_type='c',\n",
    "                col='OpenTime'\n",
    ")"
   ]
  },
  {
   "cell_type": "code",
   "execution_count": 11,
   "id": "cd78c6a0",
   "metadata": {},
   "outputs": [],
   "source": [
    "neighborhood_fc = sedf_merge.spatial.to_featureclass(\n",
    "    \"./Tutorial_06_02.gdb/case_open_time_by_neighborhood\"\n",
    ")"
   ]
  },
  {
   "cell_type": "code",
   "execution_count": 13,
   "id": "4463e478",
   "metadata": {},
   "outputs": [
    {
     "data": {
      "text/plain": [
       "'C:\\\\Users\\\\dav11274\\\\Desktop\\\\github\\\\Top-20-Python\\\\Exercises\\\\Chapter06\\\\Tutorial_06_02.gdb\\\\case_open_time_by_neighborhood'"
      ]
     },
     "execution_count": 13,
     "metadata": {},
     "output_type": "execute_result"
    }
   ],
   "source": [
    "neighborhood_fc"
   ]
  },
  {
   "cell_type": "code",
   "execution_count": null,
   "id": "c65922c7",
   "metadata": {},
   "outputs": [],
   "source": []
  }
 ],
 "metadata": {
  "kernelspec": {
   "display_name": "Python 3 (ipykernel)",
   "language": "python",
   "name": "python3"
  },
  "language_info": {
   "codemirror_mode": {
    "name": "ipython",
    "version": 3
   },
   "file_extension": ".py",
   "mimetype": "text/x-python",
   "name": "python",
   "nbconvert_exporter": "python",
   "pygments_lexer": "ipython3",
   "version": "3.9.18"
  }
 },
 "nbformat": 4,
 "nbformat_minor": 5
}
