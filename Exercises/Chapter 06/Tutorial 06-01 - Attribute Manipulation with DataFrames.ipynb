{
 "cells": [
  {
   "cell_type": "markdown",
   "id": "2c026995",
   "metadata": {},
   "source": [
    "## Tutorial 06-01 - Attribute Manipulation with DataFrames\n",
    "\n",
    "Now we’re ready to dig in and get our hands dirty cleaning up some data.  Let’s go back to our work with PythonNinjas GeoAnalytics.  Today, let’s say we’ve been given a job to summarize some public works data for the city of San Francisco.  We’ve been given a CSV file of individual calls to the city via their “311” app.  We’ve been tasked with evaluating the data, cleaning it, and summarizing the calls by neighborhood.  Ultimately, we’d like to know the count of calls in each neighborhood and how long it takes to resolve them on average.  Let’s start by reading the data and doing some data exploration."
   ]
  },
  {
   "cell_type": "markdown",
   "id": "3f24d996",
   "metadata": {
    "heading_collapsed": true
   },
   "source": [
    "#### 1. Read the 311 data from a CSV"
   ]
  },
  {
   "cell_type": "markdown",
   "id": "86e607aa",
   "metadata": {
    "hidden": true
   },
   "source": [
    "One of the wonderful things about pandas is that it can read from (and write to) a wide variety of formats and save you tons of time writing code.  In this case, we’re going to be reading data from a CSV file.  It’s as simple as running the following line of code with the path to your local CSV file."
   ]
  },
  {
   "cell_type": "code",
   "execution_count": 1,
   "id": "039e8721",
   "metadata": {
    "hidden": true
   },
   "outputs": [],
   "source": [
    "import pandas\n",
    "\n",
    "df = pandas.read_csv(\"../Chapter05/311_cases.csv\")"
   ]
  },
  {
   "cell_type": "markdown",
   "id": "445648b8",
   "metadata": {
    "hidden": true
   },
   "source": [
    "It’s as simple as that.  We’ve read all that data into memory and now we have a DataFrame that we can start working with.  So now that we’ve got that data, we’ll need to start understanding what we’re looking at.  "
   ]
  },
  {
   "cell_type": "markdown",
   "id": "7af6a77d",
   "metadata": {
    "heading_collapsed": true
   },
   "source": [
    "#### 2. Explore the 311 data using pandas"
   ]
  },
  {
   "cell_type": "markdown",
   "id": "7cebb57f",
   "metadata": {
    "hidden": true
   },
   "source": [
    "Pandas contains a suite of handy tools for getting familiar with data.  We can start with a couple quick methods and properties that will help you understand what the data in a DataFrame looks like at a glance.  First, let’s see how big the DataFrame is by running the following property."
   ]
  },
  {
   "cell_type": "code",
   "execution_count": 2,
   "id": "90b0367c",
   "metadata": {
    "hidden": true
   },
   "outputs": [
    {
     "data": {
      "text/plain": [
       "(47540, 48)"
      ]
     },
     "execution_count": 2,
     "metadata": {},
     "output_type": "execute_result"
    }
   ],
   "source": [
    "df.shape"
   ]
  },
  {
   "cell_type": "markdown",
   "id": "55f09873",
   "metadata": {
    "hidden": true
   },
   "source": [
    "The shape property of a DataFrame returns some really basic but really useful information.  It returns a tuple describing the shape of the data.  The first value in the tuple is the number of rows in the data.  The second is the number of columns in the data.  In my case, calling the shape property returned (47540, 48) which means that the DataFrame is 47,540 rows long and 48 columns wide. \n",
    "\n",
    "It seems that 48 columns is a lot of information.  For the purposes of our analysis and summary, it’s unlikely that we need all those columns, but let’s take a look and see what they are.  We can use another handy property of the DataFrame to understand what columns there are and what kinds of data might be in each of them.\n"
   ]
  },
  {
   "cell_type": "code",
   "execution_count": 3,
   "id": "4d82aa68",
   "metadata": {
    "hidden": true
   },
   "outputs": [
    {
     "data": {
      "text/plain": [
       "CaseID                                                    int64\n",
       "Opened                                                   object\n",
       "Closed                                                   object\n",
       "Updated                                                  object\n",
       "Status                                                   object\n",
       "Status Notes                                             object\n",
       "Responsible Agency                                       object\n",
       "Category                                                 object\n",
       "Request Type                                             object\n",
       "Request Details                                          object\n",
       "Address                                                  object\n",
       "Street                                                   object\n",
       "Supervisor District                                     float64\n",
       "Neighborhood                                             object\n",
       "Police District                                          object\n",
       "Latitude                                                float64\n",
       "Longitude                                               float64\n",
       "Point                                                    object\n",
       "Source                                                   object\n",
       "Media URL                                                object\n",
       "BOS_2012                                                float64\n",
       "SF Find Neighborhoods                                   float64\n",
       "Current Police Districts                                float64\n",
       "Current Supervisor Districts                            float64\n",
       "Analysis Neighborhoods                                  float64\n",
       "DELETE - Supervisor Districts                           float64\n",
       "DELETE - Fire Prevention Districts                      float64\n",
       "DELETE - Current Police Districts                       float64\n",
       "DELETE - Zip Codes                                      float64\n",
       "DELETE - Police Districts                               float64\n",
       "DELETE - Neighborhoods                                  float64\n",
       "DELETE - Neighborhoods_from_fyvs_ahh9                   float64\n",
       "DELETE - 2017 Fix It Zones                              float64\n",
       "DELETE - SF Find Neighborhoods                          float64\n",
       "Civic Center Harm Reduction Project Boundary            float64\n",
       "DELETE - Current Supervisor Districts                   float64\n",
       "Fix It Zones as of 2017-11-06                           float64\n",
       "Invest In Neighborhoods (IIN) Areas                     float64\n",
       "DELETE - HSOC Zones                                     float64\n",
       "Fix It Zones as of 2018-02-07                           float64\n",
       "CBD, BID and GBD Boundaries as of 2017                  float64\n",
       "Central Market/Tenderloin Boundary                      float64\n",
       "Areas of Vulnerability, 2016                            float64\n",
       "Central Market/Tenderloin Boundary Polygon - Updated    float64\n",
       "HSOC Zones as of 2018-06-05                             float64\n",
       "OWED Public Spaces                                      float64\n",
       "Parks Alliance CPSI (27+TL sites)                       float64\n",
       "Neighborhoods                                           float64\n",
       "dtype: object"
      ]
     },
     "execution_count": 3,
     "metadata": {},
     "output_type": "execute_result"
    }
   ],
   "source": [
    "df.dtypes"
   ]
  },
  {
   "cell_type": "markdown",
   "id": "a9eb1ff6",
   "metadata": {
    "heading_collapsed": true
   },
   "source": [
    "#### 3.  Reshape the DataFrame to focus our analysis"
   ]
  },
  {
   "cell_type": "markdown",
   "id": "a3df71a5",
   "metadata": {
    "hidden": true
   },
   "source": [
    "Glancing at the resulting column descriptions from this property, you might notice some things that give you an idea of what this data is all about.  What will probably jump right out at you is that there are several columns that start with the word **DELETE**.  It’d probably be a good idea if we dropped those right off the bat.  First, let’s use another property to identify all those columns. "
   ]
  },
  {
   "cell_type": "code",
   "execution_count": 4,
   "id": "afa48d88",
   "metadata": {
    "hidden": true
   },
   "outputs": [
    {
     "data": {
      "text/plain": [
       "['DELETE - Supervisor Districts',\n",
       " 'DELETE - Fire Prevention Districts',\n",
       " 'DELETE - Current Police Districts',\n",
       " 'DELETE - Zip Codes',\n",
       " 'DELETE - Police Districts',\n",
       " 'DELETE - Neighborhoods',\n",
       " 'DELETE - Neighborhoods_from_fyvs_ahh9',\n",
       " 'DELETE - 2017 Fix It Zones',\n",
       " 'DELETE - SF Find Neighborhoods',\n",
       " 'DELETE - Current Supervisor Districts',\n",
       " 'DELETE - HSOC Zones']"
      ]
     },
     "execution_count": 4,
     "metadata": {},
     "output_type": "execute_result"
    }
   ],
   "source": [
    "drop_cols = [c for c in df.columns if \"DELETE\" in c]\n",
    "drop_cols"
   ]
  },
  {
   "cell_type": "markdown",
   "id": "45c5339d",
   "metadata": {
    "hidden": true
   },
   "source": [
    "This will return a list containing just the columns that we want to get rid of (or drop).  Now to remove those columns, we can **drop** them. "
   ]
  },
  {
   "cell_type": "code",
   "execution_count": 5,
   "id": "acd02915",
   "metadata": {
    "hidden": true
   },
   "outputs": [],
   "source": [
    "df = df.drop(columns = drop_cols)"
   ]
  },
  {
   "cell_type": "markdown",
   "id": "24c6af06",
   "metadata": {
    "hidden": true
   },
   "source": [
    "Notice that we had to redefine our DataFrame.  This is common with pandas.  Operations like **drop** will actually return another DataFrame.  We could either capture that output with a new variable or overwrite our existing variable (like we did in this case).\n",
    "\n",
    "Now that we’ve trimmed down our DataFrame to exclude some irrelevant columns, let’s take a look and see if there are any rows we want to exclude from our analysis.  You may have already noticed that there are columns for Latitude and Longitude.  Since we’re largely interested in geospatial data, this is great.  At this point, though, the skeptical analysts among us might still be a little dubious about the quality of this data.  This is totally justified, as we’ll see.  Let’s have a look at the distribution of our Latitude data and see if there are any major red flags.\n"
   ]
  },
  {
   "cell_type": "code",
   "execution_count": 6,
   "id": "12410693",
   "metadata": {
    "hidden": true
   },
   "outputs": [
    {
     "data": {
      "text/plain": [
       "count    47540.000000\n",
       "mean        30.472348\n",
       "std         14.910111\n",
       "min          0.000000\n",
       "25%         37.727067\n",
       "50%         37.763965\n",
       "75%         37.781513\n",
       "max         37.826729\n",
       "Name: Latitude, dtype: float64"
      ]
     },
     "execution_count": 6,
     "metadata": {},
     "output_type": "execute_result"
    }
   ],
   "source": [
    "df['Latitude'].describe()"
   ]
  },
  {
   "cell_type": "markdown",
   "id": "40178a34",
   "metadata": {
    "hidden": true
   },
   "source": [
    "What we got from that **describe** method is a series of values that give us an idea of the contents and distribution of this numeric field.  We can see from the count that there are 47,540 values.  We can also see the mean and standard distribution.  Where this gets interesting is when we look at the min value.  We can see that there are values with no latitude in our data.  This is not great for geospatial analysis.  \n",
    "\n",
    "Let’s exclude those records from our analysis going forward.  First we’ll have to identify the records, which is where we can explore some additional pandas syntax.  Similarly to how we used a square bracket to identify a single column, we can also use square brackets to provide a true/false condition to constrain the records in a DataFrame.\n"
   ]
  },
  {
   "cell_type": "code",
   "execution_count": 7,
   "id": "3f73c356",
   "metadata": {
    "hidden": true
   },
   "outputs": [
    {
     "data": {
      "text/html": [
       "<div>\n",
       "<style scoped>\n",
       "    .dataframe tbody tr th:only-of-type {\n",
       "        vertical-align: middle;\n",
       "    }\n",
       "\n",
       "    .dataframe tbody tr th {\n",
       "        vertical-align: top;\n",
       "    }\n",
       "\n",
       "    .dataframe thead th {\n",
       "        text-align: right;\n",
       "    }\n",
       "</style>\n",
       "<table border=\"1\" class=\"dataframe\">\n",
       "  <thead>\n",
       "    <tr style=\"text-align: right;\">\n",
       "      <th></th>\n",
       "      <th>CaseID</th>\n",
       "      <th>Opened</th>\n",
       "      <th>Closed</th>\n",
       "      <th>Updated</th>\n",
       "      <th>Status</th>\n",
       "      <th>Status Notes</th>\n",
       "      <th>Responsible Agency</th>\n",
       "      <th>Category</th>\n",
       "      <th>Request Type</th>\n",
       "      <th>Request Details</th>\n",
       "      <th>...</th>\n",
       "      <th>Invest In Neighborhoods (IIN) Areas</th>\n",
       "      <th>Fix It Zones as of 2018-02-07</th>\n",
       "      <th>CBD, BID and GBD Boundaries as of 2017</th>\n",
       "      <th>Central Market/Tenderloin Boundary</th>\n",
       "      <th>Areas of Vulnerability, 2016</th>\n",
       "      <th>Central Market/Tenderloin Boundary Polygon - Updated</th>\n",
       "      <th>HSOC Zones as of 2018-06-05</th>\n",
       "      <th>OWED Public Spaces</th>\n",
       "      <th>Parks Alliance CPSI (27+TL sites)</th>\n",
       "      <th>Neighborhoods</th>\n",
       "    </tr>\n",
       "  </thead>\n",
       "  <tbody>\n",
       "    <tr>\n",
       "      <th>2</th>\n",
       "      <td>17610749</td>\n",
       "      <td>11/30/2023 10:44:00 PM</td>\n",
       "      <td>12/05/2023 03:23:00 PM</td>\n",
       "      <td>12/05/2023 03:23:00 PM</td>\n",
       "      <td>Closed</td>\n",
       "      <td>Case is a Duplicate - Case is a duplicate and ...</td>\n",
       "      <td>DPH - Environmental Health - Tobacco Queue</td>\n",
       "      <td>General Request - DPH</td>\n",
       "      <td>complaint</td>\n",
       "      <td>environmental_health_tobacco - complaint</td>\n",
       "      <td>...</td>\n",
       "      <td>NaN</td>\n",
       "      <td>NaN</td>\n",
       "      <td>NaN</td>\n",
       "      <td>NaN</td>\n",
       "      <td>NaN</td>\n",
       "      <td>NaN</td>\n",
       "      <td>NaN</td>\n",
       "      <td>NaN</td>\n",
       "      <td>NaN</td>\n",
       "      <td>NaN</td>\n",
       "    </tr>\n",
       "    <tr>\n",
       "      <th>4</th>\n",
       "      <td>17610743</td>\n",
       "      <td>11/30/2023 10:38:00 PM</td>\n",
       "      <td>12/01/2023 01:38:17 PM</td>\n",
       "      <td>12/01/2023 01:38:17 PM</td>\n",
       "      <td>Closed</td>\n",
       "      <td>Case Resolved</td>\n",
       "      <td>DPW Ops Queue</td>\n",
       "      <td>Street and Sidewalk Cleaning</td>\n",
       "      <td>General Cleaning</td>\n",
       "      <td>Other Loose Garbage</td>\n",
       "      <td>...</td>\n",
       "      <td>NaN</td>\n",
       "      <td>NaN</td>\n",
       "      <td>NaN</td>\n",
       "      <td>NaN</td>\n",
       "      <td>NaN</td>\n",
       "      <td>NaN</td>\n",
       "      <td>NaN</td>\n",
       "      <td>NaN</td>\n",
       "      <td>NaN</td>\n",
       "      <td>NaN</td>\n",
       "    </tr>\n",
       "    <tr>\n",
       "      <th>17</th>\n",
       "      <td>17610693</td>\n",
       "      <td>11/30/2023 09:50:00 PM</td>\n",
       "      <td>NaN</td>\n",
       "      <td>12/01/2023 10:54:28 AM</td>\n",
       "      <td>Open</td>\n",
       "      <td>NaN</td>\n",
       "      <td>311 Escalated KB Questions Queue</td>\n",
       "      <td>General Request - 311CUSTOMERSERVICECENTER</td>\n",
       "      <td>other</td>\n",
       "      <td>311CustomerServiceCenter - other</td>\n",
       "      <td>...</td>\n",
       "      <td>NaN</td>\n",
       "      <td>NaN</td>\n",
       "      <td>NaN</td>\n",
       "      <td>NaN</td>\n",
       "      <td>NaN</td>\n",
       "      <td>NaN</td>\n",
       "      <td>NaN</td>\n",
       "      <td>NaN</td>\n",
       "      <td>NaN</td>\n",
       "      <td>NaN</td>\n",
       "    </tr>\n",
       "    <tr>\n",
       "      <th>19</th>\n",
       "      <td>17610676</td>\n",
       "      <td>11/30/2023 09:39:00 PM</td>\n",
       "      <td>12/02/2023 08:28:00 AM</td>\n",
       "      <td>12/02/2023 08:28:00 AM</td>\n",
       "      <td>Closed</td>\n",
       "      <td>Case Resolved - Can not remove bike is locked ...</td>\n",
       "      <td>DPW - Bureau of Street Environmental Services - G</td>\n",
       "      <td>General Request - PUBLIC WORKS</td>\n",
       "      <td>complaint</td>\n",
       "      <td>bses - complaint</td>\n",
       "      <td>...</td>\n",
       "      <td>NaN</td>\n",
       "      <td>NaN</td>\n",
       "      <td>NaN</td>\n",
       "      <td>NaN</td>\n",
       "      <td>NaN</td>\n",
       "      <td>NaN</td>\n",
       "      <td>NaN</td>\n",
       "      <td>NaN</td>\n",
       "      <td>NaN</td>\n",
       "      <td>NaN</td>\n",
       "    </tr>\n",
       "    <tr>\n",
       "      <th>30</th>\n",
       "      <td>17610635</td>\n",
       "      <td>11/30/2023 09:05:00 PM</td>\n",
       "      <td>11/30/2023 10:42:40 PM</td>\n",
       "      <td>11/30/2023 10:42:40 PM</td>\n",
       "      <td>Closed</td>\n",
       "      <td>Case Resolved - Field Work has been completed....</td>\n",
       "      <td>PUC Sewer Ops</td>\n",
       "      <td>Sewer Issues</td>\n",
       "      <td>Sewage_back_up</td>\n",
       "      <td>Outofsewervent4inch</td>\n",
       "      <td>...</td>\n",
       "      <td>NaN</td>\n",
       "      <td>NaN</td>\n",
       "      <td>NaN</td>\n",
       "      <td>NaN</td>\n",
       "      <td>NaN</td>\n",
       "      <td>NaN</td>\n",
       "      <td>NaN</td>\n",
       "      <td>NaN</td>\n",
       "      <td>NaN</td>\n",
       "      <td>NaN</td>\n",
       "    </tr>\n",
       "    <tr>\n",
       "      <th>...</th>\n",
       "      <td>...</td>\n",
       "      <td>...</td>\n",
       "      <td>...</td>\n",
       "      <td>...</td>\n",
       "      <td>...</td>\n",
       "      <td>...</td>\n",
       "      <td>...</td>\n",
       "      <td>...</td>\n",
       "      <td>...</td>\n",
       "      <td>...</td>\n",
       "      <td>...</td>\n",
       "      <td>...</td>\n",
       "      <td>...</td>\n",
       "      <td>...</td>\n",
       "      <td>...</td>\n",
       "      <td>...</td>\n",
       "      <td>...</td>\n",
       "      <td>...</td>\n",
       "      <td>...</td>\n",
       "      <td>...</td>\n",
       "      <td>...</td>\n",
       "    </tr>\n",
       "    <tr>\n",
       "      <th>47521</th>\n",
       "      <td>17493899</td>\n",
       "      <td>11/01/2023 12:31:00 AM</td>\n",
       "      <td>11/01/2023 05:08:00 PM</td>\n",
       "      <td>11/01/2023 05:08:00 PM</td>\n",
       "      <td>Closed</td>\n",
       "      <td>ACC/SFPD - 1st letter sent</td>\n",
       "      <td>311 Service Request Queue</td>\n",
       "      <td>311 External Request</td>\n",
       "      <td>noise_dog_barking</td>\n",
       "      <td>noise_dog_barking</td>\n",
       "      <td>...</td>\n",
       "      <td>NaN</td>\n",
       "      <td>NaN</td>\n",
       "      <td>NaN</td>\n",
       "      <td>NaN</td>\n",
       "      <td>NaN</td>\n",
       "      <td>NaN</td>\n",
       "      <td>NaN</td>\n",
       "      <td>NaN</td>\n",
       "      <td>NaN</td>\n",
       "      <td>NaN</td>\n",
       "    </tr>\n",
       "    <tr>\n",
       "      <th>47527</th>\n",
       "      <td>17493888</td>\n",
       "      <td>11/01/2023 12:24:20 AM</td>\n",
       "      <td>11/01/2023 07:11:30 AM</td>\n",
       "      <td>11/01/2023 07:11:30 AM</td>\n",
       "      <td>Closed</td>\n",
       "      <td>Case Resolved - Pickup completed.</td>\n",
       "      <td>Recology_Abandoned</td>\n",
       "      <td>Street and Sidewalk Cleaning</td>\n",
       "      <td>Bulky Items</td>\n",
       "      <td>Refrigerator</td>\n",
       "      <td>...</td>\n",
       "      <td>NaN</td>\n",
       "      <td>NaN</td>\n",
       "      <td>NaN</td>\n",
       "      <td>NaN</td>\n",
       "      <td>NaN</td>\n",
       "      <td>NaN</td>\n",
       "      <td>NaN</td>\n",
       "      <td>NaN</td>\n",
       "      <td>NaN</td>\n",
       "      <td>NaN</td>\n",
       "    </tr>\n",
       "    <tr>\n",
       "      <th>47534</th>\n",
       "      <td>17490769</td>\n",
       "      <td>11/01/2023 11:01:00 AM</td>\n",
       "      <td>11/02/2023 08:29:00 AM</td>\n",
       "      <td>11/02/2023 08:29:00 AM</td>\n",
       "      <td>Closed</td>\n",
       "      <td>Case Resolved</td>\n",
       "      <td>DPW Ops Queue</td>\n",
       "      <td>Street and Sidewalk Cleaning</td>\n",
       "      <td>Human or Animal Waste</td>\n",
       "      <td>Human or Animal Waste</td>\n",
       "      <td>...</td>\n",
       "      <td>NaN</td>\n",
       "      <td>NaN</td>\n",
       "      <td>NaN</td>\n",
       "      <td>NaN</td>\n",
       "      <td>NaN</td>\n",
       "      <td>NaN</td>\n",
       "      <td>NaN</td>\n",
       "      <td>NaN</td>\n",
       "      <td>NaN</td>\n",
       "      <td>NaN</td>\n",
       "    </tr>\n",
       "    <tr>\n",
       "      <th>47536</th>\n",
       "      <td>17490279</td>\n",
       "      <td>11/01/2023 10:01:00 AM</td>\n",
       "      <td>11/01/2023 12:05:00 PM</td>\n",
       "      <td>11/01/2023 12:05:00 PM</td>\n",
       "      <td>Closed</td>\n",
       "      <td>Case Resolved</td>\n",
       "      <td>DPW Ops Queue</td>\n",
       "      <td>Street and Sidewalk Cleaning</td>\n",
       "      <td>General Cleaning</td>\n",
       "      <td>Other Loose Garbage</td>\n",
       "      <td>...</td>\n",
       "      <td>NaN</td>\n",
       "      <td>NaN</td>\n",
       "      <td>NaN</td>\n",
       "      <td>NaN</td>\n",
       "      <td>NaN</td>\n",
       "      <td>NaN</td>\n",
       "      <td>NaN</td>\n",
       "      <td>NaN</td>\n",
       "      <td>NaN</td>\n",
       "      <td>NaN</td>\n",
       "    </tr>\n",
       "    <tr>\n",
       "      <th>47537</th>\n",
       "      <td>17490261</td>\n",
       "      <td>11/01/2023 10:01:00 AM</td>\n",
       "      <td>11/01/2023 12:08:00 PM</td>\n",
       "      <td>11/01/2023 12:08:00 PM</td>\n",
       "      <td>Closed</td>\n",
       "      <td>Case is a Duplicate - No needles found</td>\n",
       "      <td>DPW Ops Queue</td>\n",
       "      <td>Street and Sidewalk Cleaning</td>\n",
       "      <td>Medical Waste</td>\n",
       "      <td>Needles</td>\n",
       "      <td>...</td>\n",
       "      <td>NaN</td>\n",
       "      <td>NaN</td>\n",
       "      <td>NaN</td>\n",
       "      <td>NaN</td>\n",
       "      <td>NaN</td>\n",
       "      <td>NaN</td>\n",
       "      <td>NaN</td>\n",
       "      <td>NaN</td>\n",
       "      <td>NaN</td>\n",
       "      <td>NaN</td>\n",
       "    </tr>\n",
       "  </tbody>\n",
       "</table>\n",
       "<p>9183 rows × 37 columns</p>\n",
       "</div>"
      ],
      "text/plain": [
       "         CaseID                  Opened                  Closed  \\\n",
       "2      17610749  11/30/2023 10:44:00 PM  12/05/2023 03:23:00 PM   \n",
       "4      17610743  11/30/2023 10:38:00 PM  12/01/2023 01:38:17 PM   \n",
       "17     17610693  11/30/2023 09:50:00 PM                     NaN   \n",
       "19     17610676  11/30/2023 09:39:00 PM  12/02/2023 08:28:00 AM   \n",
       "30     17610635  11/30/2023 09:05:00 PM  11/30/2023 10:42:40 PM   \n",
       "...         ...                     ...                     ...   \n",
       "47521  17493899  11/01/2023 12:31:00 AM  11/01/2023 05:08:00 PM   \n",
       "47527  17493888  11/01/2023 12:24:20 AM  11/01/2023 07:11:30 AM   \n",
       "47534  17490769  11/01/2023 11:01:00 AM  11/02/2023 08:29:00 AM   \n",
       "47536  17490279  11/01/2023 10:01:00 AM  11/01/2023 12:05:00 PM   \n",
       "47537  17490261  11/01/2023 10:01:00 AM  11/01/2023 12:08:00 PM   \n",
       "\n",
       "                      Updated  Status  \\\n",
       "2      12/05/2023 03:23:00 PM  Closed   \n",
       "4      12/01/2023 01:38:17 PM  Closed   \n",
       "17     12/01/2023 10:54:28 AM    Open   \n",
       "19     12/02/2023 08:28:00 AM  Closed   \n",
       "30     11/30/2023 10:42:40 PM  Closed   \n",
       "...                       ...     ...   \n",
       "47521  11/01/2023 05:08:00 PM  Closed   \n",
       "47527  11/01/2023 07:11:30 AM  Closed   \n",
       "47534  11/02/2023 08:29:00 AM  Closed   \n",
       "47536  11/01/2023 12:05:00 PM  Closed   \n",
       "47537  11/01/2023 12:08:00 PM  Closed   \n",
       "\n",
       "                                            Status Notes  \\\n",
       "2      Case is a Duplicate - Case is a duplicate and ...   \n",
       "4                                          Case Resolved   \n",
       "17                                                   NaN   \n",
       "19     Case Resolved - Can not remove bike is locked ...   \n",
       "30     Case Resolved - Field Work has been completed....   \n",
       "...                                                  ...   \n",
       "47521                         ACC/SFPD - 1st letter sent   \n",
       "47527                  Case Resolved - Pickup completed.   \n",
       "47534                                      Case Resolved   \n",
       "47536                                      Case Resolved   \n",
       "47537             Case is a Duplicate - No needles found   \n",
       "\n",
       "                                      Responsible Agency  \\\n",
       "2             DPH - Environmental Health - Tobacco Queue   \n",
       "4                                          DPW Ops Queue   \n",
       "17                      311 Escalated KB Questions Queue   \n",
       "19     DPW - Bureau of Street Environmental Services - G   \n",
       "30                                         PUC Sewer Ops   \n",
       "...                                                  ...   \n",
       "47521                          311 Service Request Queue   \n",
       "47527                                 Recology_Abandoned   \n",
       "47534                                      DPW Ops Queue   \n",
       "47536                                      DPW Ops Queue   \n",
       "47537                                      DPW Ops Queue   \n",
       "\n",
       "                                         Category           Request Type  \\\n",
       "2                           General Request - DPH              complaint   \n",
       "4                    Street and Sidewalk Cleaning       General Cleaning   \n",
       "17     General Request - 311CUSTOMERSERVICECENTER                  other   \n",
       "19                 General Request - PUBLIC WORKS              complaint   \n",
       "30                                   Sewer Issues         Sewage_back_up   \n",
       "...                                           ...                    ...   \n",
       "47521                        311 External Request      noise_dog_barking   \n",
       "47527                Street and Sidewalk Cleaning            Bulky Items   \n",
       "47534                Street and Sidewalk Cleaning  Human or Animal Waste   \n",
       "47536                Street and Sidewalk Cleaning       General Cleaning   \n",
       "47537                Street and Sidewalk Cleaning          Medical Waste   \n",
       "\n",
       "                                Request Details  ...  \\\n",
       "2      environmental_health_tobacco - complaint  ...   \n",
       "4                           Other Loose Garbage  ...   \n",
       "17             311CustomerServiceCenter - other  ...   \n",
       "19                             bses - complaint  ...   \n",
       "30                          Outofsewervent4inch  ...   \n",
       "...                                         ...  ...   \n",
       "47521                         noise_dog_barking  ...   \n",
       "47527                              Refrigerator  ...   \n",
       "47534                     Human or Animal Waste  ...   \n",
       "47536                       Other Loose Garbage  ...   \n",
       "47537                                   Needles  ...   \n",
       "\n",
       "      Invest In Neighborhoods (IIN) Areas Fix It Zones as of 2018-02-07  \\\n",
       "2                                     NaN                           NaN   \n",
       "4                                     NaN                           NaN   \n",
       "17                                    NaN                           NaN   \n",
       "19                                    NaN                           NaN   \n",
       "30                                    NaN                           NaN   \n",
       "...                                   ...                           ...   \n",
       "47521                                 NaN                           NaN   \n",
       "47527                                 NaN                           NaN   \n",
       "47534                                 NaN                           NaN   \n",
       "47536                                 NaN                           NaN   \n",
       "47537                                 NaN                           NaN   \n",
       "\n",
       "       CBD, BID and GBD Boundaries as of 2017  \\\n",
       "2                                         NaN   \n",
       "4                                         NaN   \n",
       "17                                        NaN   \n",
       "19                                        NaN   \n",
       "30                                        NaN   \n",
       "...                                       ...   \n",
       "47521                                     NaN   \n",
       "47527                                     NaN   \n",
       "47534                                     NaN   \n",
       "47536                                     NaN   \n",
       "47537                                     NaN   \n",
       "\n",
       "      Central Market/Tenderloin Boundary Areas of Vulnerability, 2016  \\\n",
       "2                                    NaN                          NaN   \n",
       "4                                    NaN                          NaN   \n",
       "17                                   NaN                          NaN   \n",
       "19                                   NaN                          NaN   \n",
       "30                                   NaN                          NaN   \n",
       "...                                  ...                          ...   \n",
       "47521                                NaN                          NaN   \n",
       "47527                                NaN                          NaN   \n",
       "47534                                NaN                          NaN   \n",
       "47536                                NaN                          NaN   \n",
       "47537                                NaN                          NaN   \n",
       "\n",
       "       Central Market/Tenderloin Boundary Polygon - Updated  \\\n",
       "2                                                    NaN      \n",
       "4                                                    NaN      \n",
       "17                                                   NaN      \n",
       "19                                                   NaN      \n",
       "30                                                   NaN      \n",
       "...                                                  ...      \n",
       "47521                                                NaN      \n",
       "47527                                                NaN      \n",
       "47534                                                NaN      \n",
       "47536                                                NaN      \n",
       "47537                                                NaN      \n",
       "\n",
       "       HSOC Zones as of 2018-06-05 OWED Public Spaces  \\\n",
       "2                              NaN                NaN   \n",
       "4                              NaN                NaN   \n",
       "17                             NaN                NaN   \n",
       "19                             NaN                NaN   \n",
       "30                             NaN                NaN   \n",
       "...                            ...                ...   \n",
       "47521                          NaN                NaN   \n",
       "47527                          NaN                NaN   \n",
       "47534                          NaN                NaN   \n",
       "47536                          NaN                NaN   \n",
       "47537                          NaN                NaN   \n",
       "\n",
       "      Parks Alliance CPSI (27+TL sites) Neighborhoods  \n",
       "2                                   NaN           NaN  \n",
       "4                                   NaN           NaN  \n",
       "17                                  NaN           NaN  \n",
       "19                                  NaN           NaN  \n",
       "30                                  NaN           NaN  \n",
       "...                                 ...           ...  \n",
       "47521                               NaN           NaN  \n",
       "47527                               NaN           NaN  \n",
       "47534                               NaN           NaN  \n",
       "47536                               NaN           NaN  \n",
       "47537                               NaN           NaN  \n",
       "\n",
       "[9183 rows x 37 columns]"
      ]
     },
     "execution_count": 7,
     "metadata": {},
     "output_type": "execute_result"
    }
   ],
   "source": [
    "df[df['Latitude'] == 0]"
   ]
  },
  {
   "cell_type": "markdown",
   "id": "e91f5884",
   "metadata": {
    "hidden": true
   },
   "source": [
    "In this line of code, we’ve written some criteria that test each record.  If the Latitude value in a record is 0, it will return True.  Otherwise, it returns False.  Those criteria inform the DataFrame which records we want to return.  In this case, we’ve returned the 9,183 records that have no Latitude.  These are the records we want to exclude going forward.  So we can modify our criteria to return records that have a non-zero Latitude and overwrite our DataFrame to only save those records."
   ]
  },
  {
   "cell_type": "code",
   "execution_count": 8,
   "id": "275b3efc",
   "metadata": {
    "hidden": true
   },
   "outputs": [],
   "source": [
    "df = df[df['Latitude'] > 0]"
   ]
  },
  {
   "cell_type": "markdown",
   "id": "61e3c9cc",
   "metadata": {
    "hidden": true
   },
   "source": [
    "Now we’ve got a DataFrame that has valid Latitude values.  If we call the DataFrame’s shape property now, we’ll see that there are 38, 357 rows and 37 columns.  As an extra step, you can take a look at the Longitude column now.  If you call the **describe** method on the Longitude column, you should see that there are no zero values."
   ]
  },
  {
   "cell_type": "markdown",
   "id": "8b8ddb87",
   "metadata": {},
   "source": [
    "#### 4.  Overwrite and create new columns"
   ]
  },
  {
   "cell_type": "markdown",
   "id": "522f9734",
   "metadata": {},
   "source": [
    "Before we get started with our summary of the data, we should ensure that our analysis columns are the right data type.  In our case, we’re going to want to know the difference between the time each case was “Opened” and “Closed”.  When we looked at the DataFrame’s dtypes property earlier, though, you may have noticed that these columns were “objects” (which is pandas’ catchall string data type)."
   ]
  },
  {
   "cell_type": "code",
   "execution_count": 9,
   "id": "fdf796e9",
   "metadata": {},
   "outputs": [
    {
     "data": {
      "text/plain": [
       "0        11/30/2023 10:59:00 PM\n",
       "1        11/30/2023 10:56:00 PM\n",
       "3        11/30/2023 10:41:25 PM\n",
       "5        11/30/2023 10:36:57 PM\n",
       "6        11/30/2023 10:35:00 PM\n",
       "                  ...          \n",
       "47532    10/31/2023 11:45:00 PM\n",
       "47533    11/01/2023 06:01:00 PM\n",
       "47535    11/01/2023 10:01:00 AM\n",
       "47538    11/01/2023 09:01:00 AM\n",
       "47539    11/01/2023 09:00:00 AM\n",
       "Name: Opened, Length: 38357, dtype: object"
      ]
     },
     "execution_count": 9,
     "metadata": {},
     "output_type": "execute_result"
    }
   ],
   "source": [
    "# showing \"Opened\" as a string/object type\n",
    "df['Opened']"
   ]
  },
  {
   "cell_type": "markdown",
   "id": "db0e9dcd",
   "metadata": {},
   "source": [
    "To get the difference between two date columns, we first need to ensure that all the data in those columns is actually datetime data.  We can do that with a pandas conversion.  First, let’s look at the result of the conversion we want to do on one of the columns."
   ]
  },
  {
   "cell_type": "code",
   "execution_count": 10,
   "id": "a1f05e1e",
   "metadata": {},
   "outputs": [
    {
     "name": "stderr",
     "output_type": "stream",
     "text": [
      "C:\\Users\\dav11274\\AppData\\Local\\Temp\\1\\ipykernel_40308\\1181775674.py:1: UserWarning: Could not infer format, so each element will be parsed individually, falling back to `dateutil`. To ensure parsing is consistent and as-expected, please specify a format.\n",
      "  pandas.to_datetime(df['Opened'])\n"
     ]
    },
    {
     "data": {
      "text/plain": [
       "0       2023-11-30 22:59:00\n",
       "1       2023-11-30 22:56:00\n",
       "3       2023-11-30 22:41:25\n",
       "5       2023-11-30 22:36:57\n",
       "6       2023-11-30 22:35:00\n",
       "                ...        \n",
       "47532   2023-10-31 23:45:00\n",
       "47533   2023-11-01 18:01:00\n",
       "47535   2023-11-01 10:01:00\n",
       "47538   2023-11-01 09:01:00\n",
       "47539   2023-11-01 09:00:00\n",
       "Name: Opened, Length: 38357, dtype: datetime64[ns]"
      ]
     },
     "execution_count": 10,
     "metadata": {},
     "output_type": "execute_result"
    }
   ],
   "source": [
    "pandas.to_datetime(df['Opened'])"
   ]
  },
  {
   "cell_type": "markdown",
   "id": "dad6d2af",
   "metadata": {},
   "source": [
    "The **to_datetime** method has returned a pandas Series (pandas terminology for a column) that has the dtype that we’re looking for.  Now that all this data is converted to datetime, we can actually do some analysis.  Let’s save the conversion results for the Opened column and also convert the Closed column"
   ]
  },
  {
   "cell_type": "code",
   "execution_count": 11,
   "id": "2bf597b7",
   "metadata": {},
   "outputs": [
    {
     "name": "stderr",
     "output_type": "stream",
     "text": [
      "C:\\Users\\dav11274\\AppData\\Local\\Temp\\1\\ipykernel_40308\\2786706544.py:1: UserWarning: Could not infer format, so each element will be parsed individually, falling back to `dateutil`. To ensure parsing is consistent and as-expected, please specify a format.\n",
      "  df['Opened'] = pandas.to_datetime(df['Opened'])\n"
     ]
    }
   ],
   "source": [
    "df['Opened'] = pandas.to_datetime(df['Opened'])\n",
    "df['Closed'] = pandas.to_datetime(df['Closed'])"
   ]
  },
  {
   "cell_type": "markdown",
   "id": "c125aea5",
   "metadata": {},
   "source": [
    "In the code above, we’ve taken the results of the **to_datetime** method and overwritten the values that were in the two columns we’re interested in.  Now if you were to look at the dtypes property of the DataFrame, you’d see that the dtype for these columns has changed from “object” to “datetime64[ns]”.\n",
    "\n",
    "Now that we’ve converted our Opened and Closed columns to datetime values, we can subtract the Opened time from the Closed time to find the duration of time between when a call was received to when the case was resolved.  This can tell us how long it’s taking to deal with each of these cases.  This is super easy to do with pandas.\n"
   ]
  },
  {
   "cell_type": "code",
   "execution_count": 12,
   "id": "f09efc7a",
   "metadata": {},
   "outputs": [
    {
     "data": {
      "text/plain": [
       "0        0 days 07:53:43\n",
       "1       14 days 09:12:00\n",
       "3        0 days 07:19:52\n",
       "5        0 days 07:24:13\n",
       "6        0 days 09:44:00\n",
       "              ...       \n",
       "47532    0 days 05:31:13\n",
       "47533    0 days 21:45:00\n",
       "47535    1 days 02:49:00\n",
       "47538    5 days 01:18:00\n",
       "47539    1 days 01:46:00\n",
       "Length: 38357, dtype: timedelta64[ns]"
      ]
     },
     "execution_count": 12,
     "metadata": {},
     "output_type": "execute_result"
    }
   ],
   "source": [
    "df['Closed'] - df['Opened']"
   ]
  },
  {
   "cell_type": "markdown",
   "id": "8bac6a87",
   "metadata": {},
   "source": [
    "This returns a new Series that contains *timedelta* data.  This is a pandas data type that shows the difference between two datetimes.  This is one of the metrics we’ve been asked to report on, so let’s save it as a new column in our DataFrame.  "
   ]
  },
  {
   "cell_type": "code",
   "execution_count": 13,
   "id": "6318a675",
   "metadata": {},
   "outputs": [],
   "source": [
    "df['OpenTime'] = df['Closed'] - df['Opened']"
   ]
  },
  {
   "cell_type": "markdown",
   "id": "05af49e5",
   "metadata": {},
   "source": [
    "Creating a new column in a DataFrame is surprisingly easy.  We just define it with the same square-bracket syntax we used to access an existing column.  Now when you print or return the DataFrame, the data in the previous screenshot will be saved as a new column called “OpenTime”."
   ]
  },
  {
   "cell_type": "markdown",
   "id": "13855238",
   "metadata": {},
   "source": [
    "#### 5.  Summarize the data"
   ]
  },
  {
   "cell_type": "markdown",
   "id": "42be7557",
   "metadata": {},
   "source": [
    "Now that the data is cleaned and converted to data we can use, let’s summarize data by neighborhood.  We’ll use a pandas method called **groupby** to do this.  We’ll also to specify which statistic types we want to use for our summary and use a method called **agg** to return them."
   ]
  },
  {
   "cell_type": "code",
   "execution_count": 14,
   "id": "2582292c",
   "metadata": {},
   "outputs": [],
   "source": [
    "df_neighborhood = df.groupby(\"Neighborhood\").agg(\n",
    "    {\n",
    "        \"OpenTime\": \"mean\",\n",
    "        \"CaseID\": \"count\"\n",
    "    }\n",
    ")"
   ]
  },
  {
   "cell_type": "markdown",
   "id": "26bf6493",
   "metadata": {},
   "source": [
    "You may notice in the code snippet above that we’re providing a dictionary to the **agg** method.  This method accepts arguments in a number of different formats.  It’s worth checking out the pandas documentation, which is quite good."
   ]
  },
  {
   "cell_type": "markdown",
   "id": "f0de75bd",
   "metadata": {
    "heading_collapsed": true
   },
   "source": [
    "#### 5. Write the summary to a file"
   ]
  },
  {
   "cell_type": "markdown",
   "id": "0d27c127",
   "metadata": {
    "hidden": true
   },
   "source": [
    "From here, we’re going to need to create an output.  We’ll get into creating geospatial data in the second exercise in our chapter, but in this case, let’s write our data to a CSV file.  This way we can allow our stakeholders to review the product of our analysis before we go any further.  Pandas makes writing to file just as easy as reading from a file.  "
   ]
  },
  {
   "cell_type": "code",
   "execution_count": 15,
   "id": "713a0e06",
   "metadata": {
    "hidden": true
   },
   "outputs": [],
   "source": [
    "df_neighborhood.to_csv(\"./311_neighborhood.csv\")"
   ]
  }
 ],
 "metadata": {
  "kernelspec": {
   "display_name": "Python 3 (ipykernel)",
   "language": "python",
   "name": "python3"
  },
  "language_info": {
   "codemirror_mode": {
    "name": "ipython",
    "version": 3
   },
   "file_extension": ".py",
   "mimetype": "text/x-python",
   "name": "python",
   "nbconvert_exporter": "python",
   "pygments_lexer": "ipython3",
   "version": "3.9.18"
  }
 },
 "nbformat": 4,
 "nbformat_minor": 5
}
