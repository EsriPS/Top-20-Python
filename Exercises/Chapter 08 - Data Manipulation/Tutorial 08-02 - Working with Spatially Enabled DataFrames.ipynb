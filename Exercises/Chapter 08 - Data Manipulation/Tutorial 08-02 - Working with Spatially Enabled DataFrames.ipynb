{
 "cells": [
  {
   "cell_type": "markdown",
   "id": "b7bc24ac",
   "metadata": {},
   "source": [
    "# Tutorial 08-02: Working with Spatially Enabled DataFrames\n",
    "Now let’s suppose that our colleagues at GeoNinjas PythonAnalytics are happy with the methodology in our summary, but have found that the neighborhoods aren’t granular enough for their desired analysis.  They’ve asked us to repeat our analysis, but summarize by census block group instead.  This is interesting because census block group is not attributed in our raw data.  We will have to perform a spatial join to attribute each 311 case with its corresponding census block group."
   ]
  },
  {
   "cell_type": "markdown",
   "id": "0ddf77d7",
   "metadata": {
    "heading_collapsed": true
   },
   "source": [
    "## Repeat Your Previous Analysis"
   ]
  },
  {
   "cell_type": "markdown",
   "id": "75dac435",
   "metadata": {
    "hidden": true
   },
   "source": [
    "This is one of the most rewarding things about coding in general.  You get to re-use your code and don’t have to rewrite all our summary logic.  You can copy the code from our previous exercise (minus some of the data exploration) and produce a clean dataset that is ready for summary."
   ]
  },
  {
   "cell_type": "code",
   "execution_count": null,
   "id": "9f19fe0d",
   "metadata": {
    "hidden": true
   },
   "outputs": [],
   "source": [
    "import pandas\n",
    "import arcgis\n",
    "\n",
    "# read the 311 CSV\n",
    "df_311 = pandas.read_csv(\"../Chapter 05 - Jupyter Notebooks/311_cases.csv\")\n",
    "\n",
    "# drop the DELETE columns\n",
    "drop_cols = [c for c in df_311.columns if \"DELETE\" in c]\n",
    "df_311 = df_311.drop(columns = drop_cols)\n",
    "\n",
    "# exclude any records with invalid Latitude/Longitude\n",
    "df_311 = df_311[df_311['Latitude'] > 0]\n",
    "\n",
    "# convert Opened/Closed to datetime\n",
    "df_311['Opened'] = pandas.to_datetime(df_311['Opened'])\n",
    "\n",
    "df_311['Closed'] = pandas.to_datetime(df_311['Closed'])\n",
    "\n",
    "# subtract the Opened time from the Closed time to get the OpenTime duration\n",
    "df_311['OpenTime'] = df_311['Closed'] - df_311['Opened']"
   ]
  },
  {
   "cell_type": "markdown",
   "id": "e0159cc3",
   "metadata": {
    "heading_collapsed": true
   },
   "source": [
    "## Work with Spatially Enabled DataFrames"
   ]
  },
  {
   "cell_type": "markdown",
   "id": "acc70779",
   "metadata": {
    "heading_collapsed": true,
    "hidden": true
   },
   "source": [
    "#### 1. Create a Spatially Enabled DataFrame"
   ]
  },
  {
   "cell_type": "markdown",
   "id": "82cce03d",
   "metadata": {
    "hidden": true
   },
   "source": [
    "To perform any spatial analysis, you’ll have to create some geometry to work with.  In this case, you’ll create a Spatially Enabled DataFrame (discussed in the previous chapter).  You’ll need to import the **arcgis** package first to access the spatial namespace/accessor.  Then you can use the `from_xy()` method that allows you to create geometry based on x/y or Latitude/Longitude columns, which you already have in the DataFrame."
   ]
  },
  {
   "cell_type": "code",
   "execution_count": null,
   "id": "fe754915",
   "metadata": {
    "hidden": true
   },
   "outputs": [],
   "source": [
    "\n",
    "df_311 = pandas.DataFrame.spatial.from_xy(\n",
    "    df = df_311,\n",
    "    x_column = 'Longitude', \n",
    "    y_column = 'Latitude',\n",
    "    sr = 4326\n",
    ")"
   ]
  },
  {
   "cell_type": "markdown",
   "id": "84fdfb99",
   "metadata": {
    "hidden": true
   },
   "source": [
    "If you look at the code above, you’re creating a new pandas DataFrame and overwriting the DataFrame previously stored by the `df_311` variable.  What you've added is a spatial component that we created based on the *Latitude* and *Longitude* columns.  This is functionality that wouldn’t be available to us if we hadn’t imported the ArcGIS API for Python in the previous line.  \n",
    "\n",
    "Spatially enabled DataFrames will behave exactly like all the other DataFrames we’ve worked with at this point.  When you look at the top five rows by calling the head method, you’ll see one major difference though.  There is a column in this DataFrame called “Shape” that looks like it has dictionaries containing coordinates.  This is the Python representation of the geometries of our individual 311 cases."
   ]
  },
  {
   "cell_type": "code",
   "execution_count": null,
   "id": "aa778ed3",
   "metadata": {
    "hidden": true,
    "scrolled": true
   },
   "outputs": [],
   "source": [
    "df_311[['Latitude','Longitude','SHAPE']].head()"
   ]
  },
  {
   "cell_type": "markdown",
   "id": "16a54a38",
   "metadata": {
    "heading_collapsed": true,
    "hidden": true
   },
   "source": [
    "#### 2.  Read the Census Block Group Data"
   ]
  },
  {
   "cell_type": "markdown",
   "id": "620d2463",
   "metadata": {
    "hidden": true
   },
   "source": [
    "Now you can start working with spatial data.  You’ll use the previously mentioned *spatial* namespace that we get access to through the ArcGIS API for Python.  \n",
    "\n",
    "You can start by using the `.from_featureclass()` method included in the spatial namespace to read a feature class in the included tutorial data."
   ]
  },
  {
   "cell_type": "code",
   "execution_count": null,
   "id": "c8205d5e",
   "metadata": {
    "hidden": true
   },
   "outputs": [],
   "source": [
    "df_cbg = pandas.DataFrame.spatial.from_featureclass(\n",
    "    \"./Tutorial_06_02.gdb/Census_Block_Groups\"\n",
    ")"
   ]
  },
  {
   "cell_type": "markdown",
   "id": "e4097ef2",
   "metadata": {
    "hidden": true
   },
   "source": [
    "Note that when you look at this resulting data, we see a *SHAPE* column.  The data in this shape column looks slightly different than inour 311 dataset.  This is because the 311 data is point data and this data is polygon data.  The geometry in this dataset is represented by a JSON object starting with the word “rings” and consisting of sets of coordinates of vertices."
   ]
  },
  {
   "cell_type": "code",
   "execution_count": null,
   "id": "210bb742",
   "metadata": {
    "hidden": true
   },
   "outputs": [],
   "source": [
    "df_cbg.head()"
   ]
  },
  {
   "cell_type": "markdown",
   "id": "27534956",
   "metadata": {
    "heading_collapsed": true,
    "hidden": true
   },
   "source": [
    "#### 3. Spatially Join the two DataFrames"
   ]
  },
  {
   "cell_type": "markdown",
   "id": "6e0144ab",
   "metadata": {
    "hidden": true
   },
   "source": [
    "Now that you’ve got two Spatially Enabled DataFrames, you can perform a spatial join.  If you’ve used ArcGIS desktop software, then the spatial join is probably a pretty familiar concept.  If not, it’s similar to a table join, but joins records from two tables based on a spatial relationship.  In this case, we’re going to start with the 311 records as our left table and join our census block group records on the right.  You’ll be using a left join so to help ensure that all records are returned."
   ]
  },
  {
   "cell_type": "code",
   "execution_count": null,
   "id": "75e70f7a",
   "metadata": {
    "hidden": true
   },
   "outputs": [],
   "source": [
    "df_join = df_311.spatial.join(\n",
    "    right_df = df_cbg,\n",
    "    how = 'left',\n",
    "    op = 'intersects',\n",
    ")"
   ]
  },
  {
   "cell_type": "markdown",
   "id": "6f934577",
   "metadata": {
    "heading_collapsed": true,
    "hidden": true
   },
   "source": [
    "#### 4.  Analyze the results of the join"
   ]
  },
  {
   "cell_type": "markdown",
   "id": "422eb3f2",
   "metadata": {
    "hidden": true
   },
   "source": [
    "After performing your join, it’s worth doing some QA/QC to ensure that the records joined correctly.  We would expect each of the 311 records to have a corresponding census block group.  The census block group attribute that we’re going to be using is *geoid*, so let’s see if there are any blank *geoid* in the resulting joined DataFrame.\n",
    "\n",
    "You can use the built-in `pandas.isnull()` method to identify gaps in your data.  In this case, blanks in the geoid column would indicate that records didn't join with (or intersect with) the census block group dataset."
   ]
  },
  {
   "cell_type": "code",
   "execution_count": null,
   "id": "1ed67f5b",
   "metadata": {
    "hidden": true,
    "scrolled": true
   },
   "outputs": [],
   "source": [
    "df_join[pandas.isnull(df_join.geoid)]"
   ]
  },
  {
   "cell_type": "markdown",
   "id": "4eb3df50",
   "metadata": {
    "hidden": true
   },
   "source": [
    "If everything went well, this would return no records.  In this case, it has returned a single record though.  If you were to just look at the attributes, we probably wouldn’t be able to figure out why that is.  You can plot the two source layers on a map, though.  That might give you a better idea of why one record wouldn’t join."
   ]
  },
  {
   "cell_type": "code",
   "execution_count": null,
   "id": "dc7ceef6",
   "metadata": {
    "hidden": true
   },
   "outputs": [],
   "source": [
    "# create a GIS object\n",
    "gis = arcgis.GIS()\n",
    "\n",
    "# create a map and set our Area of Interest\n",
    "qc_map = gis.map(\"San Francisco, CA\")\n",
    "\n",
    "# plot the census block groups\n",
    "df_cbg.spatial.plot(\n",
    "    colors=\"#fafafa\",\n",
    "    map_widget = qc_map,\n",
    ")\n",
    "\n",
    "# narrow down the 311 records to the one that didn't join\n",
    "null_record = df_join[pandas.isnull(df_join.geoid)][['SHAPE','geoid']]\n",
    "\n",
    "# plot the null record\n",
    "null_record.spatial.plot(map_widget=qc_map,\n",
    "                renderer_type='s',\n",
    "                symbol_type='simple',\n",
    "                symbol_style='d', # d - for diamonds\n",
    "                colors='Blues',\n",
    "                marker_size=16\n",
    ")\n",
    "\n",
    "qc_map"
   ]
  },
  {
   "cell_type": "markdown",
   "id": "e74ee823",
   "metadata": {
    "hidden": true
   },
   "source": [
    "In this case, you can see that the record that didn't join is outside the city/county boundary.  It's probably safe to ignore that for the purposes of this analysis"
   ]
  },
  {
   "cell_type": "markdown",
   "id": "26958d22",
   "metadata": {
    "heading_collapsed": true
   },
   "source": [
    "## Summarize the Data"
   ]
  },
  {
   "cell_type": "markdown",
   "id": "76de6019",
   "metadata": {
    "heading_collapsed": true,
    "hidden": true
   },
   "source": [
    "#### 1. Use pandas methods to summarize by census block group"
   ]
  },
  {
   "cell_type": "markdown",
   "id": "4ec4e3e0",
   "metadata": {
    "hidden": true
   },
   "source": [
    "Similarly to the first exercise, you can use built-in pandas methods to summarize by the census block group.  In the first tutorial, you summarized by Neighborhood.  In this case, you'll use the same syntax and change the column you group by."
   ]
  },
  {
   "cell_type": "code",
   "execution_count": null,
   "id": "0aa91c54",
   "metadata": {
    "hidden": true
   },
   "outputs": [],
   "source": [
    "df_cbg_summary = df_join.groupby(\"geoid\").agg(\n",
    "    {\n",
    "        \"OpenTime\": \"mean\",\n",
    "        \"CaseID\": \"count\"\n",
    "    }\n",
    ")"
   ]
  },
  {
   "cell_type": "markdown",
   "id": "75c3109c",
   "metadata": {
    "heading_collapsed": true,
    "hidden": true
   },
   "source": [
    "#### 2.  Convert OpenTime to a number of days."
   ]
  },
  {
   "cell_type": "markdown",
   "id": "e6aee41e",
   "metadata": {
    "hidden": true
   },
   "source": [
    "This summary works, but if you want to map this you’ll have to convert the *OpenTime* column into something numeric.  It’s currently a *timedelta[ns]* column, which you can see by looking at the DataFrame’s dtypes."
   ]
  },
  {
   "cell_type": "code",
   "execution_count": null,
   "id": "2152ec8b",
   "metadata": {
    "hidden": true
   },
   "outputs": [],
   "source": [
    "df_cbg_summary.dtypes"
   ]
  },
  {
   "cell_type": "markdown",
   "id": "d8543f48",
   "metadata": {
    "hidden": true
   },
   "source": [
    "Now, you'll use some built-in pandas date methods properties to convert the timedelta object to a number of days"
   ]
  },
  {
   "cell_type": "code",
   "execution_count": null,
   "id": "a710fc1e",
   "metadata": {
    "hidden": true
   },
   "outputs": [],
   "source": [
    "df_cbg_summary['OpenTime'] = df_cbg_summary['OpenTime'].dt.days"
   ]
  },
  {
   "cell_type": "markdown",
   "id": "caa1dd32",
   "metadata": {
    "hidden": true
   },
   "source": [
    "Now if you look at the DataFrame’s dtypes, you can see that the OpenTime column is an integer that you can use for mapping purposes."
   ]
  },
  {
   "cell_type": "code",
   "execution_count": null,
   "id": "12c2c1ee",
   "metadata": {
    "hidden": true
   },
   "outputs": [],
   "source": [
    "df_cbg_summary.head()"
   ]
  },
  {
   "cell_type": "markdown",
   "id": "1632582b",
   "metadata": {
    "heading_collapsed": true,
    "hidden": true
   },
   "source": [
    "#### 3. Join the Summary with the Polygon DataFrame"
   ]
  },
  {
   "cell_type": "markdown",
   "id": "fdd542e5",
   "metadata": {
    "hidden": true
   },
   "source": [
    "At this point, you’ve created a summary DataFrame that doesn’t contain any geometry.  You can join that DataFrame with our census block group DataFrame so that we can render it on a map and create a geospatial product.  \n",
    "\n",
    "You'll do that by using the DataFrame's `.merge()` method."
   ]
  },
  {
   "cell_type": "code",
   "execution_count": null,
   "id": "025f0d52",
   "metadata": {
    "hidden": true
   },
   "outputs": [],
   "source": [
    "df_cbg_summary = df_cbg.merge(\n",
    "    df_cbg_summary, \n",
    "    how = 'left', \n",
    "    left_on = 'geoid', \n",
    "    right_on = 'geoid'\n",
    ")"
   ]
  },
  {
   "cell_type": "markdown",
   "id": "64cc1804",
   "metadata": {
    "hidden": true
   },
   "source": [
    "After you’ve completed this merge operation, the resulting DataFrame contains geometries and the summary of our *OpenTime* column.  Now you can map this data and see areas where response times are slow."
   ]
  },
  {
   "cell_type": "code",
   "execution_count": null,
   "id": "c1cc65f6",
   "metadata": {
    "hidden": true,
    "scrolled": true
   },
   "outputs": [],
   "source": [
    "df_cbg_summary.head()"
   ]
  },
  {
   "cell_type": "markdown",
   "id": "e49e4e2c",
   "metadata": {
    "heading_collapsed": true
   },
   "source": [
    "## Map the data and Export"
   ]
  },
  {
   "cell_type": "markdown",
   "id": "d3281ff9",
   "metadata": {
    "hidden": true
   },
   "source": [
    "#### 1. Map the data for review"
   ]
  },
  {
   "cell_type": "markdown",
   "id": "07515c9f",
   "metadata": {
    "hidden": true
   },
   "source": [
    "With your analysis complete, you can now produce a feature class to hand off to our colleagues.  First, though, it's probably worth putting this data on a map so you can have a look at it.  You’ll exclude any records with null *OpenTime* values as they appear to be polygons in the middle of the water."
   ]
  },
  {
   "cell_type": "code",
   "execution_count": null,
   "id": "466694d2",
   "metadata": {
    "hidden": true
   },
   "outputs": [],
   "source": [
    "# create a new WebMap object\n",
    "gis = arcgis.GIS()\n",
    "cbg_map = gis.map(\"San Francisco, CA\")\n",
    "\n",
    "# exclude any null OpenTime values (in the middle of the bay)\n",
    "df_to_map = df_cbg_summary[pandas.notna(df_cbg_summary.OpenTime)]\n",
    "\n",
    "# plot the summary on the map\n",
    "df_to_map.spatial.plot(\n",
    "                colors='coolwarm',\n",
    "                class_count=5,\n",
    "                map_widget=cbg_map,\n",
    "                renderer_type='c',\n",
    "                col='OpenTime',\n",
    "                line_width=0.1,\n",
    ")\n",
    "\n",
    "cbg_map"
   ]
  },
  {
   "cell_type": "markdown",
   "id": "54523a53",
   "metadata": {
    "hidden": true
   },
   "source": [
    "In the resulting web map, we can review the data and ensure its quality.  Everything looks good, so let’s export it to a feature class.  "
   ]
  },
  {
   "cell_type": "markdown",
   "id": "2f993c08",
   "metadata": {
    "hidden": true
   },
   "source": [
    "#### 2.  Export to a feature class"
   ]
  },
  {
   "cell_type": "markdown",
   "id": "5cc3854f",
   "metadata": {
    "hidden": true
   },
   "source": [
    "Using the ArcGIS API for Python to write a Spatially Enabled DataFrame to a feature class is pretty simple.  You can just use the spatial accessor's `to_featureclass()` method."
   ]
  },
  {
   "cell_type": "code",
   "execution_count": null,
   "id": "4fe6e20d",
   "metadata": {
    "hidden": true
   },
   "outputs": [],
   "source": [
    "df_cbg_summary.spatial.to_featureclass(\n",
    "    \"./Tutorial_06_02.gdb/OpenTime_311_Cases_by_CBG\"\n",
    ")"
   ]
  },
  {
   "cell_type": "code",
   "execution_count": null,
   "id": "bab7967c",
   "metadata": {
    "hidden": true
   },
   "outputs": [],
   "source": []
  }
 ],
 "metadata": {
  "kernelspec": {
   "display_name": "Python 3 (ipykernel)",
   "language": "python",
   "name": "python3"
  },
  "language_info": {
   "codemirror_mode": {
    "name": "ipython",
    "version": 3
   },
   "file_extension": ".py",
   "mimetype": "text/x-python",
   "name": "python",
   "nbconvert_exporter": "python",
   "pygments_lexer": "ipython3",
   "version": "3.9.18"
  }
 },
 "nbformat": 4,
 "nbformat_minor": 5
}
