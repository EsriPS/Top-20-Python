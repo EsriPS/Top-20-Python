{
 "cells": [
  {
   "cell_type": "markdown",
   "id": "4e4df3e6",
   "metadata": {},
   "source": [
    "# Tutorial 02-01 - ArcPy and Cursors"
   ]
  },
  {
   "cell_type": "markdown",
   "id": "8bcba454",
   "metadata": {},
   "source": [
    "Our colleagues at GeoNinjas PythonAnalytics are doing some analysis with highways in California.  They've asked us to help them develop a repeatable process to clean up the attributes of some of their data.  They currently have the route number of their highways as a text field but would like to make it numeric."
   ]
  },
  {
   "cell_type": "markdown",
   "id": "b68e947c",
   "metadata": {
    "heading_collapsed": true
   },
   "source": [
    "## Explore a feature class with ArcPy"
   ]
  },
  {
   "cell_type": "markdown",
   "id": "5356e69c",
   "metadata": {
    "heading_collapsed": true,
    "hidden": true
   },
   "source": [
    "#### 1.  Import arcpy\n",
    "First, start by importing arcpy.  This will give you access to the tools in the package."
   ]
  },
  {
   "cell_type": "code",
   "execution_count": 3,
   "id": "7a3d1363",
   "metadata": {
    "hidden": true
   },
   "outputs": [],
   "source": [
    "import arcpy"
   ]
  },
  {
   "cell_type": "markdown",
   "id": "acbd5838",
   "metadata": {
    "heading_collapsed": true,
    "hidden": true
   },
   "source": [
    "#### 2.  Define the location for a feature class"
   ]
  },
  {
   "cell_type": "markdown",
   "id": "aebcd82b",
   "metadata": {
    "hidden": true
   },
   "source": [
    "Now you'll define the path to a feature class.  In this case, the feature class should be in a sub-folder of the folder that this notebook is in.  Yous can use dot notation to describe the folder that we're starting in and path to the feature class from there.  This feature class is in a file geodatabase."
   ]
  },
  {
   "cell_type": "code",
   "execution_count": 1,
   "id": "fa94653f",
   "metadata": {
    "hidden": true
   },
   "outputs": [],
   "source": [
    "fc = './Chapter 02 Files/Chapter 02 - Working with Maps.gdb/Highways_Intersect'"
   ]
  },
  {
   "cell_type": "markdown",
   "id": "f871a6f9",
   "metadata": {
    "heading_collapsed": true,
    "hidden": true
   },
   "source": [
    "#### 3.  Confirm that the feature class exists"
   ]
  },
  {
   "cell_type": "markdown",
   "id": "32f16102",
   "metadata": {
    "hidden": true
   },
   "source": [
    "Now that you have a path to a feature class, there are a couple things we can do to get an idea of what the data in that feature class looks like without having to open the feature class in ArcGIS Pro or read all the data.  You can start by making sure that it exists."
   ]
  },
  {
   "cell_type": "code",
   "execution_count": 4,
   "id": "6458082a",
   "metadata": {
    "hidden": true,
    "scrolled": true
   },
   "outputs": [
    {
     "data": {
      "text/plain": [
       "True"
      ]
     },
     "execution_count": 4,
     "metadata": {},
     "output_type": "execute_result"
    }
   ],
   "source": [
    "arcpy.Exists(fc)"
   ]
  },
  {
   "cell_type": "markdown",
   "id": "f979c5e4",
   "metadata": {
    "heading_collapsed": true,
    "hidden": true
   },
   "source": [
    "#### 4.  Get the count of features in the feature class"
   ]
  },
  {
   "cell_type": "markdown",
   "id": "23cdabf2",
   "metadata": {
    "hidden": true
   },
   "source": [
    "Now that you know the feature class exists, you can start to inquire about the shape of the data.  You might be interested in how many records or features are in this feature class.  You can start by getting a count."
   ]
  },
  {
   "cell_type": "code",
   "execution_count": 5,
   "id": "417e1d3a",
   "metadata": {
    "hidden": true
   },
   "outputs": [
    {
     "data": {
      "text/html": [
       "<div class='gpresult'><h2>Messages</h2><div id='messages' data-messages='[\"Start Time: Monday, March 25, 2024 7:13:28 AM\",\"Row Count = 6191\",\"Succeeded at Monday, March 25, 2024 7:13:28 AM (Elapsed Time: 0.14 seconds)\"]' data-show='true'><div id = 'default' /></div></div>"
      ],
      "text/plain": [
       "<Result '6191'>"
      ]
     },
     "execution_count": 5,
     "metadata": {},
     "output_type": "execute_result"
    }
   ],
   "source": [
    "arcpy.management.GetCount(fc)"
   ]
  },
  {
   "cell_type": "markdown",
   "id": "59f04593",
   "metadata": {
    "hidden": true
   },
   "source": [
    "It's worth noting that arcpy returns a *results* object there instead of just returning a number.  If you want to actually use that number for anything, you can index into the *results* object. "
   ]
  },
  {
   "cell_type": "code",
   "execution_count": 8,
   "id": "cba6403d",
   "metadata": {
    "hidden": true,
    "scrolled": true
   },
   "outputs": [
    {
     "name": "stdout",
     "output_type": "stream",
     "text": [
      "<class 'arcpy.arcobjects.arcobjects.Result'>\n",
      "<class 'str'>\n"
     ]
    },
    {
     "data": {
      "text/plain": [
       "6191"
      ]
     },
     "execution_count": 8,
     "metadata": {},
     "output_type": "execute_result"
    }
   ],
   "source": [
    "results = arcpy.management.GetCount(fc)\n",
    "\n",
    "print(type(results))\n",
    "print(type(results[0]))\n",
    "int(results[0])"
   ]
  },
  {
   "cell_type": "markdown",
   "id": "fca594c8",
   "metadata": {
    "heading_collapsed": true,
    "hidden": true
   },
   "source": [
    "#### 5.  List the fields of the feature class"
   ]
  },
  {
   "cell_type": "markdown",
   "id": "86434e7c",
   "metadata": {
    "hidden": true
   },
   "source": [
    "Now that you've got an idea of how many features are in the feature class, you can also find out some information about the fields in the feature class.  Start by listing the fields in the feature class."
   ]
  },
  {
   "cell_type": "code",
   "execution_count": 6,
   "id": "e9597b5d",
   "metadata": {
    "hidden": true
   },
   "outputs": [
    {
     "data": {
      "text/plain": [
       "[<Field object at 0x15d58354e80[0x15d581c0a70]>,\n",
       " <Field object at 0x15d58354e20[0x15d59519e10]>,\n",
       " <Field object at 0x15d58354a00[0x15d59519fb0]>,\n",
       " <Field object at 0x15d583549a0[0x15d59519e90]>,\n",
       " <Field object at 0x15d58354940[0x15d59519470]>,\n",
       " <Field object at 0x15d583548e0[0x15d59519550]>,\n",
       " <Field object at 0x15d58354880[0x15d59519510]>,\n",
       " <Field object at 0x15d58354250[0x15d595194f0]>]"
      ]
     },
     "execution_count": 6,
     "metadata": {},
     "output_type": "execute_result"
    }
   ],
   "source": [
    "arcpy.ListFields(fc)"
   ]
  },
  {
   "cell_type": "markdown",
   "id": "41972d19",
   "metadata": {
    "hidden": true
   },
   "source": [
    "The list of **Field** objects isn't super useful as-is, but you can turn those into human readable information that will really tell you what's going on in this feature class."
   ]
  },
  {
   "cell_type": "code",
   "execution_count": 7,
   "id": "39610bc9",
   "metadata": {
    "hidden": true
   },
   "outputs": [
    {
     "name": "stdout",
     "output_type": "stream",
     "text": [
      "OBJECTID\tOID\n",
      "Shape\tGeometry\n",
      "NAMELSAD\tString\n",
      "NAME\tString\n",
      "HWY_NUM\tString\n",
      "TYPE\tString\n",
      "Shape_Length\tDouble\n",
      "HWY_NUM_INT\tSmallInteger\n"
     ]
    }
   ],
   "source": [
    "for field in arcpy.ListFields(fc):\n",
    "    print(field.name, field.type, sep='\\t')"
   ]
  },
  {
   "cell_type": "markdown",
   "id": "8be18d37",
   "metadata": {
    "heading_collapsed": true
   },
   "source": [
    "## Use a SearchCursor to identify unique values"
   ]
  },
  {
   "cell_type": "markdown",
   "id": "5607ec18",
   "metadata": {
    "hidden": true
   },
   "source": [
    "Now that we've got an idea of what the shape of our data is, let's take a look at some of the attribute data.  Since our task is to clean up the highway numbers, we should start by finding the field containing the highway numbers.  In our previous step, it looks like there's a field called *HWY_NUM*.  That's probably a pretty good place to start.  \n",
    "\n",
    "If you want to find out what's in that field pythonically, though, you'll need to access the attribute data using Python.  This is where you can use one of the most powerful tools arcpy has to offer, the **SearchCursor**.  The **SearchCursor** class is in arcpy's data access (da) module."
   ]
  },
  {
   "cell_type": "markdown",
   "id": "33373483",
   "metadata": {
    "hidden": true
   },
   "source": [
    "NOTE - There is a legacy version of SearchCursor that can be accessed by calling `arcpy.SearchCursor`.  We don't recommend using this class as it's older functionality and only remains in arcpy to support legacy scripts.  We always recommend using `arcpy.da.SearchCursor` going forward."
   ]
  },
  {
   "cell_type": "markdown",
   "id": "2a1da751",
   "metadata": {
    "heading_collapsed": true,
    "hidden": true
   },
   "source": [
    "#### 1.  Read all values in a field using a SearchCursor"
   ]
  },
  {
   "cell_type": "markdown",
   "id": "0dff66f4",
   "metadata": {
    "hidden": true
   },
   "source": [
    "In the following cell, you'll create an empty list.  Then you'll use a SearchCursor to read a field and put all the values from that field into your empty list"
   ]
  },
  {
   "cell_type": "code",
   "execution_count": 9,
   "id": "1f242ca2",
   "metadata": {
    "hidden": true
   },
   "outputs": [],
   "source": [
    "# create an empty list to add values to\n",
    "all_values = []\n",
    "\n",
    "# iterate through rows using a Search Cursor\n",
    "for row in arcpy.da.SearchCursor(fc, ['HWY_NUM']):\n",
    "    \n",
    "    # add each value into the list\n",
    "    all_values.append(row[0])"
   ]
  },
  {
   "cell_type": "code",
   "execution_count": 12,
   "id": "e34849f8",
   "metadata": {
    "hidden": true,
    "scrolled": true
   },
   "outputs": [
    {
     "data": {
      "text/plain": [
       "6191"
      ]
     },
     "execution_count": 12,
     "metadata": {},
     "output_type": "execute_result"
    }
   ],
   "source": [
    "len(all_values)"
   ]
  },
  {
   "cell_type": "markdown",
   "id": "529bbd58",
   "metadata": {
    "heading_collapsed": true,
    "hidden": true
   },
   "source": [
    "#### 2.  Get the unique values from a list"
   ]
  },
  {
   "cell_type": "markdown",
   "id": "452f7c2b",
   "metadata": {
    "hidden": true
   },
   "source": [
    "Now you have gathered all the values in the *HWY_NUM* field.  You can iterate through them, but it would probably be easier to remove any duplicates.  You can use a handy Python data type called a **set** to do this.  Sets are similar to lists or tuples but cannot contain duplicate values.  So if you turn your list into a set, it will drop any duplicates."
   ]
  },
  {
   "cell_type": "code",
   "execution_count": 10,
   "id": "ae347ad4",
   "metadata": {
    "hidden": true
   },
   "outputs": [
    {
     "data": {
      "text/plain": [
       "200"
      ]
     },
     "execution_count": 10,
     "metadata": {},
     "output_type": "execute_result"
    }
   ],
   "source": [
    "unique_set = set(all_values)\n",
    "len(unique_set)"
   ]
  },
  {
   "cell_type": "markdown",
   "id": "70bf450d",
   "metadata": {
    "hidden": true
   },
   "source": [
    "It's often easier to work with a list than a set though.  It's a pretty common pattern to turn a list into a set and then back into a list to remove duplicates."
   ]
  },
  {
   "cell_type": "code",
   "execution_count": 11,
   "id": "acf989f2",
   "metadata": {
    "hidden": true
   },
   "outputs": [
    {
     "name": "stdout",
     "output_type": "stream",
     "text": [
      "200\n"
     ]
    },
    {
     "data": {
      "text/plain": [
       "['144', '37', '170', '32', '243']"
      ]
     },
     "execution_count": 11,
     "metadata": {},
     "output_type": "execute_result"
    }
   ],
   "source": [
    "unique_values = list(set(all_values))\n",
    "print(len(unique_values))\n",
    "unique_values[0:5]"
   ]
  },
  {
   "cell_type": "markdown",
   "id": "12d3b540",
   "metadata": {
    "heading_collapsed": true
   },
   "source": [
    "## Convert string values to integers"
   ]
  },
  {
   "cell_type": "markdown",
   "id": "42d81db1",
   "metadata": {
    "hidden": true
   },
   "source": [
    "For the purposes of our use case, we need to convert those unique values to integers.  They're currently strings.  We can start by just trying to convert each value."
   ]
  },
  {
   "cell_type": "markdown",
   "id": "339eede4",
   "metadata": {
    "heading_collapsed": true,
    "hidden": true
   },
   "source": [
    "#### 1.  Try to convert all route numbers to integers"
   ]
  },
  {
   "cell_type": "markdown",
   "id": "b4415e9e",
   "metadata": {
    "hidden": true
   },
   "source": [
    "Now you'll create an empty list to store your integers.  Then you'll iterate through each of your unique values, convert them to integers, then put them in your new list."
   ]
  },
  {
   "cell_type": "code",
   "execution_count": 12,
   "id": "05379a99",
   "metadata": {
    "hidden": true
   },
   "outputs": [
    {
     "ename": "ValueError",
     "evalue": "invalid literal for int() with base 10: '86S'",
     "output_type": "error",
     "traceback": [
      "\u001b[1;31m---------------------------------------------------------------------------\u001b[0m",
      "\u001b[1;31mValueError\u001b[0m                                Traceback (most recent call last)",
      "\u001b[1;32m~\\AppData\\Local\\Temp\\1\\ipykernel_13564\\1404037455.py\u001b[0m in \u001b[0;36m<cell line: 5>\u001b[1;34m()\u001b[0m\n\u001b[0;32m      7\u001b[0m     \u001b[1;31m# convert to integer and append to list\u001b[0m\u001b[1;33m\u001b[0m\u001b[1;33m\u001b[0m\u001b[0m\n\u001b[0;32m      8\u001b[0m     unique_ints.append(\n\u001b[1;32m----> 9\u001b[1;33m         \u001b[0mint\u001b[0m\u001b[1;33m(\u001b[0m\u001b[0mstr_val\u001b[0m\u001b[1;33m)\u001b[0m\u001b[1;33m\u001b[0m\u001b[1;33m\u001b[0m\u001b[0m\n\u001b[0m\u001b[0;32m     10\u001b[0m     )\n",
      "\u001b[1;31mValueError\u001b[0m: invalid literal for int() with base 10: '86S'"
     ]
    }
   ],
   "source": [
    "# create an empty list\n",
    "unique_ints = []\n",
    "\n",
    "# iterate through unique values\n",
    "for str_val in unique_values:\n",
    "    \n",
    "    # convert to integer and append to list\n",
    "    unique_ints.append(\n",
    "        int(str_val)\n",
    "    )"
   ]
  },
  {
   "cell_type": "markdown",
   "id": "79c5a613",
   "metadata": {
    "hidden": true
   },
   "source": [
    "Looks like you hit a value that can't be converted to an integer.  Since you're dealing with highways, this is probably the southbound lane of an interstate or large highway.  For our purposes, we can just drop that.  "
   ]
  },
  {
   "cell_type": "markdown",
   "id": "f4726ba1",
   "metadata": {
    "heading_collapsed": true,
    "hidden": true
   },
   "source": [
    "#### 2.  Remove letter characters from route numbers"
   ]
  },
  {
   "cell_type": "markdown",
   "id": "7612cca0",
   "metadata": {
    "hidden": true
   },
   "source": [
    "We should probably help future-proof our code and take care of any \"N\" strings as well in case they show up.  You can use the Python string's built-in **replace** method to remove these letters.\n",
    "\n",
    "Now repeat the previous code and add a line to replace the characters \"N\" and \"S\""
   ]
  },
  {
   "cell_type": "code",
   "execution_count": 13,
   "id": "f29c557b",
   "metadata": {
    "hidden": true
   },
   "outputs": [
    {
     "ename": "ValueError",
     "evalue": "invalid literal for int() with base 10: ' '",
     "output_type": "error",
     "traceback": [
      "\u001b[1;31m---------------------------------------------------------------------------\u001b[0m",
      "\u001b[1;31mValueError\u001b[0m                                Traceback (most recent call last)",
      "\u001b[1;32m~\\AppData\\Local\\Temp\\1\\ipykernel_13564\\1531643279.py\u001b[0m in \u001b[0;36m<cell line: 5>\u001b[1;34m()\u001b[0m\n\u001b[0;32m     10\u001b[0m     \u001b[1;31m# convert to integer and append to list\u001b[0m\u001b[1;33m\u001b[0m\u001b[1;33m\u001b[0m\u001b[0m\n\u001b[0;32m     11\u001b[0m     unique_ints.append(\n\u001b[1;32m---> 12\u001b[1;33m         \u001b[0mint\u001b[0m\u001b[1;33m(\u001b[0m\u001b[0mstr_val\u001b[0m\u001b[1;33m)\u001b[0m\u001b[1;33m\u001b[0m\u001b[1;33m\u001b[0m\u001b[0m\n\u001b[0m\u001b[0;32m     13\u001b[0m     )\n",
      "\u001b[1;31mValueError\u001b[0m: invalid literal for int() with base 10: ' '"
     ]
    }
   ],
   "source": [
    "# create an empty list\n",
    "unique_ints = []\n",
    "\n",
    "# iterate through unique values\n",
    "for str_val in unique_values:\n",
    "    \n",
    "    # replace problem characters with nothing\n",
    "    str_val = str_val.replace(\"S\",\"\").replace(\"N\",\"\")\n",
    "    \n",
    "    # convert to integer and append to list\n",
    "    unique_ints.append(\n",
    "        int(str_val)\n",
    "    )"
   ]
  },
  {
   "cell_type": "markdown",
   "id": "b4ed2f0c",
   "metadata": {
    "heading_collapsed": true,
    "hidden": true
   },
   "source": [
    "#### 3.  Ignore blank values"
   ]
  },
  {
   "cell_type": "markdown",
   "id": "93af6b24",
   "metadata": {
    "hidden": true
   },
   "source": [
    "It looks like you got another error in your conversion.  This one is related to what should be empty values in your data.  It appears you have some records that have blank spaces (\" \") instead of actually being null.  You can modify our code to ignore those records."
   ]
  },
  {
   "cell_type": "code",
   "execution_count": 14,
   "id": "88cf6db9",
   "metadata": {
    "hidden": true
   },
   "outputs": [],
   "source": [
    "# create an empty list\n",
    "unique_ints = []\n",
    "\n",
    "# iterate through unique values\n",
    "for str_val in unique_values:\n",
    "    \n",
    "    # exclude any nulls or blank spaces\n",
    "    if str_val is not None and str_val != ' ':\n",
    "    \n",
    "        # replace problem characters with nothing\n",
    "        str_val = str_val.replace(\"S\",\"\").replace(\"N\",\"\")\n",
    "\n",
    "        # convert to integer and append to list\n",
    "        unique_ints.append(\n",
    "            int(str_val)\n",
    "        )"
   ]
  },
  {
   "cell_type": "markdown",
   "id": "cebdfa52",
   "metadata": {
    "hidden": true
   },
   "source": [
    "Now you can use Python's included **sorted** method to view the list of integers in order."
   ]
  },
  {
   "cell_type": "code",
   "execution_count": 22,
   "id": "bc40007f",
   "metadata": {
    "hidden": true
   },
   "outputs": [
    {
     "data": {
      "text/plain": [
       "[1,\n",
       " 2,\n",
       " 3,\n",
       " 4,\n",
       " 5,\n",
       " 6,\n",
       " 7,\n",
       " 8,\n",
       " 9,\n",
       " 10,\n",
       " 12,\n",
       " 13,\n",
       " 14,\n",
       " 15,\n",
       " 16,\n",
       " 17,\n",
       " 18,\n",
       " 19,\n",
       " 20,\n",
       " 22,\n",
       " 23,\n",
       " 24,\n",
       " 25,\n",
       " 26,\n",
       " 27,\n",
       " 29,\n",
       " 31,\n",
       " 32,\n",
       " 33,\n",
       " 34,\n",
       " 35,\n",
       " 36,\n",
       " 37,\n",
       " 38,\n",
       " 39,\n",
       " 40,\n",
       " 41,\n",
       " 42,\n",
       " 43,\n",
       " 44,\n",
       " 46,\n",
       " 47,\n",
       " 49,\n",
       " 50,\n",
       " 52,\n",
       " 53,\n",
       " 54,\n",
       " 55,\n",
       " 56,\n",
       " 57,\n",
       " 58,\n",
       " 59,\n",
       " 60,\n",
       " 61,\n",
       " 62,\n",
       " 63,\n",
       " 65,\n",
       " 66,\n",
       " 67,\n",
       " 68,\n",
       " 70,\n",
       " 71,\n",
       " 72,\n",
       " 73,\n",
       " 74,\n",
       " 75,\n",
       " 76,\n",
       " 77,\n",
       " 78,\n",
       " 79,\n",
       " 80,\n",
       " 82,\n",
       " 83,\n",
       " 84,\n",
       " 85,\n",
       " 86,\n",
       " 86,\n",
       " 87,\n",
       " 88,\n",
       " 89,\n",
       " 90,\n",
       " 91,\n",
       " 92,\n",
       " 94,\n",
       " 95,\n",
       " 97,\n",
       " 98,\n",
       " 99,\n",
       " 99,\n",
       " 101,\n",
       " 103,\n",
       " 105,\n",
       " 107,\n",
       " 108,\n",
       " 110,\n",
       " 111,\n",
       " 113,\n",
       " 114,\n",
       " 115,\n",
       " 116,\n",
       " 118,\n",
       " 119,\n",
       " 120,\n",
       " 121,\n",
       " 123,\n",
       " 125,\n",
       " 126,\n",
       " 128,\n",
       " 129,\n",
       " 130,\n",
       " 131,\n",
       " 132,\n",
       " 133,\n",
       " 134,\n",
       " 135,\n",
       " 137,\n",
       " 138,\n",
       " 139,\n",
       " 140,\n",
       " 142,\n",
       " 144,\n",
       " 145,\n",
       " 149,\n",
       " 150,\n",
       " 152,\n",
       " 154,\n",
       " 155,\n",
       " 156,\n",
       " 160,\n",
       " 162,\n",
       " 163,\n",
       " 165,\n",
       " 166,\n",
       " 168,\n",
       " 170,\n",
       " 174,\n",
       " 178,\n",
       " 180,\n",
       " 183,\n",
       " 184,\n",
       " 185,\n",
       " 186,\n",
       " 187,\n",
       " 188,\n",
       " 190,\n",
       " 191,\n",
       " 192,\n",
       " 198,\n",
       " 199,\n",
       " 200,\n",
       " 202,\n",
       " 204,\n",
       " 205,\n",
       " 209,\n",
       " 210,\n",
       " 213,\n",
       " 215,\n",
       " 216,\n",
       " 217,\n",
       " 221,\n",
       " 223,\n",
       " 225,\n",
       " 227,\n",
       " 232,\n",
       " 233,\n",
       " 237,\n",
       " 238,\n",
       " 241,\n",
       " 242,\n",
       " 243,\n",
       " 245,\n",
       " 246,\n",
       " 247,\n",
       " 255,\n",
       " 259,\n",
       " 260,\n",
       " 261,\n",
       " 262,\n",
       " 263,\n",
       " 273,\n",
       " 274,\n",
       " 275,\n",
       " 280,\n",
       " 282,\n",
       " 299,\n",
       " 330,\n",
       " 380,\n",
       " 395,\n",
       " 405,\n",
       " 505,\n",
       " 580,\n",
       " 605,\n",
       " 680,\n",
       " 710,\n",
       " 780,\n",
       " 805,\n",
       " 880,\n",
       " 905,\n",
       " 980]"
      ]
     },
     "execution_count": 22,
     "metadata": {},
     "output_type": "execute_result"
    }
   ],
   "source": [
    "sorted(unique_ints)"
   ]
  },
  {
   "cell_type": "markdown",
   "id": "65e549bf",
   "metadata": {
    "heading_collapsed": true
   },
   "source": [
    "##  Add a new field"
   ]
  },
  {
   "cell_type": "markdown",
   "id": "3bbb2348",
   "metadata": {
    "hidden": true
   },
   "source": [
    "Now that you've figured out the logic for converting your highway numbers to integers, you can add a new field to save those values in the feature class.  This way we can return the results of our processing to our colleagues.  You'll use an arcpy method called **AddField** in the *management* module."
   ]
  },
  {
   "cell_type": "markdown",
   "id": "a628e562",
   "metadata": {
    "hidden": true
   },
   "source": [
    "#### 1.  Use the arcpy AddField method to add a field"
   ]
  },
  {
   "cell_type": "markdown",
   "id": "63b689f9",
   "metadata": {
    "hidden": true
   },
   "source": [
    "Use the `arcpy.management.AddField` geoprocessing tool to add a field to the feature class"
   ]
  },
  {
   "cell_type": "code",
   "execution_count": 15,
   "id": "35af2283",
   "metadata": {
    "hidden": true
   },
   "outputs": [
    {
     "data": {
      "text/html": [
       "<div class='gpresult'><h2>Messages</h2><div id='messages' data-messages='[\"Start Time: Monday, March 25, 2024 7:30:17 AM\",\"WARNING 000012: HWY_NUM_INT already exists\",\"Succeeded at Monday, March 25, 2024 7:30:17 AM (Elapsed Time: 0.08 seconds)\"]' data-show='true'><div id = 'default' /></div></div>"
      ],
      "text/plain": [
       "<Result './Chapter 02 Files/Chapter 02 - Working with Maps.gdb/Highways_Intersect'>"
      ]
     },
     "execution_count": 15,
     "metadata": {},
     "output_type": "execute_result"
    }
   ],
   "source": [
    "arcpy.management.AddField(\n",
    "    in_table = fc,\n",
    "    field_name = 'HWY_NUM_INT',\n",
    "    field_type = 'SHORT' # short integer\n",
    ")"
   ]
  },
  {
   "cell_type": "markdown",
   "id": "79b26339",
   "metadata": {
    "heading_collapsed": true
   },
   "source": [
    "## Use UpdateCursor to calculate the new field"
   ]
  },
  {
   "cell_type": "markdown",
   "id": "23179746",
   "metadata": {
    "hidden": true
   },
   "source": [
    "Now that you've got your logic down for cleaning up our highway numbers, you can update our dataset with the cleaned integer values.  You'll use the **UpdateCursor** from the *data access (da)* module.  This is a really handy tool to use.  It's similar to a geoprocessing tool called \"Calculate Field\" that you might be familiar with, but this expands the logic you can include.  It can also be considerably faster than the geoprocessing tool."
   ]
  },
  {
   "cell_type": "markdown",
   "id": "eaef6954",
   "metadata": {
    "hidden": true
   },
   "source": [
    "NOTE - We're going to use the UpdateCursor as a **context manager** this is a helpful Python concept.  Basically we're going to add a line to our script that sets the context for everything that's to follow.  When the following logic is complete, the context manager cleans up and deletes any of the local variables within the logic.  This helps us avoid leaving our cursors active and locking up our datasets."
   ]
  },
  {
   "cell_type": "markdown",
   "id": "b580167f",
   "metadata": {
    "hidden": true
   },
   "source": [
    "The syntax and logic for the UpdateCursor is very similar to the SearchCursor.  With the UpdateCursor, though, you get the ability to update the row and save the data in our feature class.  In the code block below, you'll do the following:\n",
    "- set up your context with the UpdateCursor\n",
    "- iterate through each row of the cursor\n",
    "- use the logic you devleoped in a previous step to convert your string values to integers\n",
    "- use the **updateRow()** method on the cursor to write the integers to the *HWY_NUM_INT* field"
   ]
  },
  {
   "cell_type": "code",
   "execution_count": 16,
   "id": "279bcf25",
   "metadata": {
    "hidden": true
   },
   "outputs": [],
   "source": [
    "# using the UpdateCursor as a context manager\n",
    "with arcpy.da.UpdateCursor(fc, ['HWY_NUM', 'HWY_NUM_INT']) as cursor:\n",
    "    \n",
    "    # Iterate through each row.  Each row will have two values.  \n",
    "    # One for HWY_NUM and one for HWY_NUM_INT\n",
    "    for row in cursor:\n",
    "        \n",
    "        # exclude any nulls or blank spaces\n",
    "        if str_val is not None and str_val != ' ':\n",
    "    \n",
    "            # replace problem characters with nothing\n",
    "            str_val = str_val.replace(\"S\",\"\").replace(\"N\",\"\")\n",
    "            \n",
    "            # convert to integer\n",
    "            int_val = int(str_val)\n",
    "        \n",
    "        # handle the nulls\n",
    "        else:\n",
    "            int_val = None\n",
    "\n",
    "        # set the \"HWY_NUM_INT\" value to the converted integer\n",
    "        row[1] = int_val\n",
    "        \n",
    "        # use the cursor to update the row\n",
    "        cursor.updateRow(row)"
   ]
  },
  {
   "cell_type": "code",
   "execution_count": null,
   "id": "0cc92e05",
   "metadata": {
    "hidden": true
   },
   "outputs": [],
   "source": []
  }
 ],
 "metadata": {
  "kernelspec": {
   "display_name": "Python 3 (ipykernel)",
   "language": "python",
   "name": "python3"
  },
  "language_info": {
   "codemirror_mode": {
    "name": "ipython",
    "version": 3
   },
   "file_extension": ".py",
   "mimetype": "text/x-python",
   "name": "python",
   "nbconvert_exporter": "python",
   "pygments_lexer": "ipython3",
   "version": "3.9.18"
  }
 },
 "nbformat": 4,
 "nbformat_minor": 5
}
