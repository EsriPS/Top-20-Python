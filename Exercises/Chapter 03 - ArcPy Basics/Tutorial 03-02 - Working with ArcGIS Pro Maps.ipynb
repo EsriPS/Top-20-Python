{
 "cells": [
  {
   "cell_type": "markdown",
   "id": "99fb311f",
   "metadata": {},
   "source": [
    "# Tutorial 02-02 - Working with ArcGIS Pro Maps"
   ]
  },
  {
   "cell_type": "markdown",
   "id": "8c408229",
   "metadata": {},
   "source": [
    "Let's go back to our work with highway data for GeoNinjas PythonAnalytics.  Now that our data is cleaned, one of our colleagues has asked with help creating a number of maps.  Rather than use a map series in ArcGIS pro, they've asked if we can use a template layout they've created and use Python to modify the map and export to PDF."
   ]
  },
  {
   "cell_type": "markdown",
   "id": "5554a412",
   "metadata": {
    "heading_collapsed": true
   },
   "source": [
    "## Open the ArcGIS Pro Project"
   ]
  },
  {
   "cell_type": "markdown",
   "id": "1b0c051c",
   "metadata": {
    "hidden": true
   },
   "source": [
    "Although ArcGIS Pro projects can be comprised of a number of different files in a folder, when you reference them via arcpy we often will start with the **.aprx** file.  This is a good entry point that will let us access the data, maps, and layouts in the project.  You'll start this exercise by creating an **ArcGISProject** object using the .aprx file."
   ]
  },
  {
   "cell_type": "markdown",
   "id": "ec6f259c",
   "metadata": {
    "hidden": true
   },
   "source": [
    "#### 1.  Import arcpy"
   ]
  },
  {
   "cell_type": "code",
   "execution_count": null,
   "id": "53fd8e84",
   "metadata": {
    "hidden": true
   },
   "outputs": [],
   "source": [
    "import arcpy"
   ]
  },
  {
   "cell_type": "markdown",
   "id": "0cb597d9",
   "metadata": {
    "hidden": true
   },
   "source": [
    "#### 2.  Define the path to the project"
   ]
  },
  {
   "cell_type": "code",
   "execution_count": null,
   "id": "7ed3a745",
   "metadata": {
    "hidden": true
   },
   "outputs": [],
   "source": [
    "# relative path from this script to the project\n",
    "project_path = r\".\\Chapter 03 Files\\Chapter 02 - Working with Maps.aprx\""
   ]
  },
  {
   "cell_type": "markdown",
   "id": "fddde2d5",
   "metadata": {
    "hidden": true
   },
   "source": [
    "#### 3.  Create an arcpy project object"
   ]
  },
  {
   "cell_type": "code",
   "execution_count": null,
   "id": "f38f79aa",
   "metadata": {
    "hidden": true
   },
   "outputs": [],
   "source": [
    "# creating a project object\n",
    "project = arcpy.mp.ArcGISProject(project_path)"
   ]
  },
  {
   "cell_type": "markdown",
   "id": "fee970ea",
   "metadata": {
    "heading_collapsed": true
   },
   "source": [
    "## Access the layout and elements"
   ]
  },
  {
   "cell_type": "markdown",
   "id": "cc77182f",
   "metadata": {
    "heading_collapsed": true,
    "hidden": true
   },
   "source": [
    "#### 1.  Access the layout you want to export"
   ]
  },
  {
   "cell_type": "markdown",
   "id": "f58c4cc8",
   "metadata": {
    "hidden": true
   },
   "source": [
    "In this case, you happen to know that this project contains one layout that we want to modify.  Because of that, you can just accept the first layout returned from the `.listLayouts()` method.  If you had multiple layouts in the same project, we could use this method to search and/or iterate through the results."
   ]
  },
  {
   "cell_type": "code",
   "execution_count": null,
   "id": "fbc40b3e",
   "metadata": {
    "hidden": true
   },
   "outputs": [],
   "source": [
    "layout = project.listLayouts()[0]\n",
    "layout.name"
   ]
  },
  {
   "cell_type": "markdown",
   "id": "cbde588c",
   "metadata": {
    "heading_collapsed": true,
    "hidden": true
   },
   "source": [
    "#### 2.  List elements in the layout"
   ]
  },
  {
   "cell_type": "markdown",
   "id": "5f9a413e",
   "metadata": {
    "hidden": true
   },
   "source": [
    "To access individual elements in the layout, you can call the `listElements()` method.  This will return any elements in the layout including text boxes, map frames, North arrows, charts, and more.  "
   ]
  },
  {
   "cell_type": "code",
   "execution_count": null,
   "id": "eceb4254",
   "metadata": {
    "hidden": true,
    "scrolled": true
   },
   "outputs": [],
   "source": [
    "for element in layout.listElements():\n",
    "    print(element.name)"
   ]
  },
  {
   "cell_type": "markdown",
   "id": "4074c11c",
   "metadata": {
    "hidden": true
   },
   "source": [
    "#### 3.  Access specific elements in the layout"
   ]
  },
  {
   "cell_type": "markdown",
   "id": "14e7cad0",
   "metadata": {
    "hidden": true
   },
   "source": [
    "Since this is a fairly simple layout, you can just access the elements you want to modify by name.  In this case, you'll be doing some filtering in the *Map Frame* element and you'll change the text in the *Text* element.  You can access both of those by using list comprehensions.  Alternatively, you could just write a for-loop and iterate through all the elements until you find the one you want."
   ]
  },
  {
   "cell_type": "code",
   "execution_count": null,
   "id": "a350f0a7",
   "metadata": {
    "hidden": true
   },
   "outputs": [],
   "source": [
    "title = [e for e in layout.listElements() if e.name == 'Text'][0]\n",
    "map_frame = [e for e in layout.listElements() if e.name == 'Map Frame'][0]"
   ]
  },
  {
   "cell_type": "markdown",
   "id": "68bffb4b",
   "metadata": {
    "heading_collapsed": true
   },
   "source": [
    "## Fix Broken Layers"
   ]
  },
  {
   "cell_type": "markdown",
   "id": "4f3ecf3b",
   "metadata": {
    "heading_collapsed": true,
    "hidden": true
   },
   "source": [
    "#### 1.  Identify broken layers"
   ]
  },
  {
   "cell_type": "markdown",
   "id": "312c4566",
   "metadata": {
    "hidden": true
   },
   "source": [
    "If you've already opened the ArcGIS Pro project in this folder, you may have noticed that there are two \"broken\" layers.  The \"Counties\" and \"Highways\" layers in the Map are referencing data sources with bad paths.  This happens less often than it used to in the days of ArcMap, but it's still something we can look for using arcpy."
   ]
  },
  {
   "cell_type": "code",
   "execution_count": null,
   "id": "3dc02899",
   "metadata": {
    "hidden": true,
    "scrolled": true
   },
   "outputs": [],
   "source": [
    "for layer in map_frame.map.listLayers():\n",
    "    if layer.name in ['Highways_Intersect','Counties']:\n",
    "        print(layer.name, layer.isBroken)"
   ]
  },
  {
   "cell_type": "markdown",
   "id": "46f56a46",
   "metadata": {
    "heading_collapsed": true,
    "hidden": true
   },
   "source": [
    "#### 2.  Change the data source to fix the layers"
   ]
  },
  {
   "cell_type": "markdown",
   "id": "87595815",
   "metadata": {
    "hidden": true
   },
   "source": [
    "Not only can you identify this issue using arcpy, you can also fix it.  In this case, the data you need is in the project database.  You can iterate through each of the layers, get the connection properties, and modify those properties to read from the project database"
   ]
  },
  {
   "cell_type": "code",
   "execution_count": null,
   "id": "6723f0d9",
   "metadata": {
    "hidden": true
   },
   "outputs": [],
   "source": [
    "# iterate through each layer\n",
    "for layer in map_frame.map.listLayers():\n",
    "    \n",
    "    # check only the layers we think are broken\n",
    "    if layer.name in ['Highways_Intersect','Counties']:\n",
    "        \n",
    "        # get a copy the connection properties of the broken layer\n",
    "        layer_conn_props = layer.connectionProperties\n",
    "        \n",
    "        # replace the database path in the copy of the connection properties\n",
    "        layer_conn_props['connection_info']['database'] = project.databases[0]['databasePath']\n",
    "        \n",
    "        # use the copy we fixed to update the layer\n",
    "        layer.updateConnectionProperties(\n",
    "            layer.connectionProperties, layer_conn_props\n",
    "        )\n",
    "        print(layer.name, layer.isBroken)"
   ]
  },
  {
   "cell_type": "markdown",
   "id": "4ac57703",
   "metadata": {
    "hidden": true
   },
   "source": [
    "Now that we've fixed our project, you can save your changes and move on."
   ]
  },
  {
   "cell_type": "code",
   "execution_count": null,
   "id": "dfcdfcc4",
   "metadata": {
    "hidden": true
   },
   "outputs": [],
   "source": [
    "project.save()"
   ]
  },
  {
   "cell_type": "markdown",
   "id": "bcd03154",
   "metadata": {
    "heading_collapsed": true
   },
   "source": [
    "## Work with the layers in the map view"
   ]
  },
  {
   "cell_type": "markdown",
   "id": "dc0b71f8",
   "metadata": {
    "heading_collapsed": true,
    "hidden": true
   },
   "source": [
    "#### 1.  Identify specific layers to work with"
   ]
  },
  {
   "cell_type": "markdown",
   "id": "f3b41ed6",
   "metadata": {
    "hidden": true
   },
   "source": [
    "Use the `.listLayers()` method to search for specific layers"
   ]
  },
  {
   "cell_type": "code",
   "execution_count": null,
   "id": "ad269577",
   "metadata": {
    "hidden": true
   },
   "outputs": [],
   "source": [
    "# county layer\n",
    "counties_layer = map_frame.map.listLayers('Counties')[0]\n",
    "\n",
    "# identify the highways layer\n",
    "highways_layer = map_frame.map.listLayers(\"Highways_Intersect\")[0]"
   ]
  },
  {
   "cell_type": "markdown",
   "id": "c5f22287",
   "metadata": {
    "heading_collapsed": true,
    "hidden": true
   },
   "source": [
    "#### 2.  Filter the data in the map"
   ]
  },
  {
   "cell_type": "markdown",
   "id": "5f81cabb",
   "metadata": {
    "hidden": true
   },
   "source": [
    "Now that you've fixed the broken layers in the map, you can work on filtering the datasets.  In ArcGIS Pro, there's a concept of *definition queries* on layers.  These are SQL where clauses that can be used to filter the records or features that are shown in a layer.\n",
    "\n",
    "You can iterate through both our highways and counties layers and set the definition query to use the *NAMELSAD* field to your county of interest."
   ]
  },
  {
   "cell_type": "code",
   "execution_count": null,
   "id": "a1abe89c",
   "metadata": {
    "hidden": true
   },
   "outputs": [],
   "source": [
    "# pick a county to test with\n",
    "county = 'Alameda County'\n",
    "\n",
    "# set the definition query for the counties and highways layers\n",
    "counties_layer.definitionQuery = f\"NAMELSAD = '{county}'\"\n",
    "highways_layer.definitionQuery = f\"NAMELSAD = '{county}'\""
   ]
  },
  {
   "cell_type": "markdown",
   "id": "713ce969",
   "metadata": {
    "heading_collapsed": true,
    "hidden": true
   },
   "source": [
    "#### 3.  Change the zoom extent of the map"
   ]
  },
  {
   "cell_type": "markdown",
   "id": "1acbed93",
   "metadata": {
    "hidden": true
   },
   "source": [
    "You'll also want to set the extent of our map to the county of interest.  This way you're zoomed to just the data that you're concerned about and not viewing the entire state.  You can get that extent by calling the `.getLayerExtent()` method of the MapFrame object (map_frame).  You can then set the MapFrame's extent to that layer extent."
   ]
  },
  {
   "cell_type": "code",
   "execution_count": null,
   "id": "8b2a9a35",
   "metadata": {
    "hidden": true
   },
   "outputs": [],
   "source": [
    "# get the county extent\n",
    "county_extent = map_frame.getLayerExtent(counties_layer)\n",
    "\n",
    "# set the MapFrame's extent\n",
    "map_frame.camera.setExtent(county_extent)"
   ]
  },
  {
   "cell_type": "markdown",
   "id": "b5429731",
   "metadata": {
    "heading_collapsed": true
   },
   "source": [
    "## Modify layout and print to PDF"
   ]
  },
  {
   "cell_type": "markdown",
   "id": "eeb1364b",
   "metadata": {
    "hidden": true
   },
   "source": [
    "Now that you've filtered our data for a single county and set the extent for the map, you can export the map to a print-friendly PDF.  Before you do this, you can modify our map's title by working with the text element you identified in Step 2."
   ]
  },
  {
   "cell_type": "markdown",
   "id": "ba03cd7c",
   "metadata": {
    "hidden": true
   },
   "source": [
    "#### 1.  Set the title of the layout to the county name"
   ]
  },
  {
   "cell_type": "code",
   "execution_count": null,
   "id": "5a3aa947",
   "metadata": {
    "hidden": true
   },
   "outputs": [],
   "source": [
    "# set the title text\n",
    "title.text = county"
   ]
  },
  {
   "cell_type": "markdown",
   "id": "02277461",
   "metadata": {
    "hidden": true
   },
   "source": [
    "#### 2.  Export the layout to a PDF file"
   ]
  },
  {
   "cell_type": "markdown",
   "id": "b1fcf1cb",
   "metadata": {
    "hidden": true
   },
   "source": [
    "Now to export your layout to PDF, we can call the `.exportToPDF()` method on the layout object."
   ]
  },
  {
   "cell_type": "code",
   "execution_count": null,
   "id": "b1964614",
   "metadata": {
    "hidden": true
   },
   "outputs": [],
   "source": [
    "# export the PDF.  Name the file using the county name.\n",
    "layout.exportToPDF(f'./{county}.pdf')"
   ]
  },
  {
   "cell_type": "markdown",
   "id": "53ea3bb0",
   "metadata": {
    "heading_collapsed": true
   },
   "source": [
    "## Repeat the process for multiple counties"
   ]
  },
  {
   "cell_type": "markdown",
   "id": "65eed23c",
   "metadata": {
    "hidden": true
   },
   "source": [
    "Since you've worked out the logic for modifying the map and printing for one county, you can now reuse that code to export multiple counties.  "
   ]
  },
  {
   "cell_type": "markdown",
   "id": "0bed975d",
   "metadata": {
    "heading_collapsed": true,
    "hidden": true
   },
   "source": [
    "#### 1.  Define a list of counties to iterate through"
   ]
  },
  {
   "cell_type": "code",
   "execution_count": null,
   "id": "5c5ea395",
   "metadata": {
    "hidden": true
   },
   "outputs": [],
   "source": [
    "# list of counties to export\n",
    "counties = [\n",
    "    \"Alameda County\",\n",
    "    \"Marin County\",\n",
    "    \"Contra Costa County\",\n",
    "    \"San Francisco County\",\n",
    "    \"Santa Clara County\"\n",
    "]"
   ]
  },
  {
   "cell_type": "markdown",
   "id": "50cd85b6",
   "metadata": {
    "heading_collapsed": true,
    "hidden": true
   },
   "source": [
    "#### 2.  Repeat the export logic multiple times"
   ]
  },
  {
   "cell_type": "markdown",
   "id": "a9d5a32b",
   "metadata": {
    "hidden": true
   },
   "source": [
    "Now go back and grab the operative portions of the code you wrote.  Put it in a \"for\" loop and repeat the process for multiple counties.  You can even define the file name of your exported pdfs by the county name as well."
   ]
  },
  {
   "cell_type": "code",
   "execution_count": null,
   "id": "8b4bb158",
   "metadata": {
    "hidden": true
   },
   "outputs": [],
   "source": [
    "# iterate through the counties\n",
    "for county in counties:\n",
    "    # set the definition query for the counties and highways layers\n",
    "    counties_layer.definitionQuery = f\"NAMELSAD = '{county}'\"\n",
    "    highways_layer.definitionQuery = f\"NAMELSAD = '{county}'\"\n",
    "    \n",
    "    # get the county extent\n",
    "    county_extent = map_frame.getLayerExtent(counties_layer)\n",
    "\n",
    "    # set the MapFrame's extent\n",
    "    map_frame.camera.setExtent(county_extent)\n",
    "    \n",
    "    # set the title text\n",
    "    title.text = county\n",
    "    \n",
    "    # export the PDF.  Name the file using the county name.\n",
    "    layout.exportToPDF(f'./{county}.pdf')"
   ]
  },
  {
   "cell_type": "code",
   "execution_count": null,
   "id": "d097a072",
   "metadata": {
    "hidden": true
   },
   "outputs": [],
   "source": []
  }
 ],
 "metadata": {
  "kernelspec": {
   "display_name": "Python 3 (ipykernel)",
   "language": "python",
   "name": "python3"
  },
  "language_info": {
   "codemirror_mode": {
    "name": "ipython",
    "version": 3
   },
   "file_extension": ".py",
   "mimetype": "text/x-python",
   "name": "python",
   "nbconvert_exporter": "python",
   "pygments_lexer": "ipython3",
   "version": "3.9.18"
  }
 },
 "nbformat": 4,
 "nbformat_minor": 5
}
