{
 "cells": [
  {
   "cell_type": "markdown",
   "id": "063219f4",
   "metadata": {},
   "source": [
    "# Tutorial 14-01 - Gathering Raster Data"
   ]
  },
  {
   "cell_type": "markdown",
   "id": "1dedb1b3",
   "metadata": {},
   "source": [
    "One of the biggest challenges in performing raster analysis has always been obtaining quality input data.  There has been a great increase in recent years of publicly available satellite imagery that can be used for inputs in all sorts of analyses.  It may not be as granular or frequently collected as some of the paid sources, but it can answer many questions.\n",
    "\n",
    "In this tutorial and the next, we'll be gathering imagery data near Mountain House, CA.  Mountain House is a planned community that was approved in the 1990s.  Since then it's expanded quite a bit.  In these tutorials, we'll attempt to quantify how much a certain portion of it has been developed."
   ]
  },
  {
   "cell_type": "markdown",
   "id": "dcc20bdd",
   "metadata": {
    "heading_collapsed": true
   },
   "source": [
    "## Imports and Source Setup"
   ]
  },
  {
   "cell_type": "markdown",
   "id": "c15cbfc4",
   "metadata": {
    "heading_collapsed": true,
    "hidden": true
   },
   "source": [
    "#### 1.  Import necessary packages."
   ]
  },
  {
   "cell_type": "markdown",
   "id": "1551a706",
   "metadata": {
    "hidden": true
   },
   "source": [
    "We're going to gather data from Esri's Living Atlas, so we'll need to import the `arcgis` package.  We'll also need the `datetime` package for working with time enabled data.  We'll use `pandas` for manipulating and creating DataFrames.  We'll also be using the `IPython` package for looking at images in the Jupyter Notebook."
   ]
  },
  {
   "cell_type": "code",
   "execution_count": 1,
   "id": "e5a97087",
   "metadata": {
    "hidden": true
   },
   "outputs": [],
   "source": [
    "import arcgis\n",
    "import datetime\n",
    "import pandas as pd\n",
    "from IPython.display import Image"
   ]
  },
  {
   "cell_type": "markdown",
   "id": "574757e0",
   "metadata": {
    "heading_collapsed": true,
    "hidden": true
   },
   "source": [
    "#### 2. Log into ArcGIS Online."
   ]
  },
  {
   "cell_type": "markdown",
   "id": "3ab8bd1d",
   "metadata": {
    "hidden": true
   },
   "source": [
    "You'll need to set up a `GIS` object to access the Living Atlas data.  Since this data is publicly accessible, you should be able to use any ArcGIS Online login.  You can either use the login you use for ArcGIS Pro, or enter your own."
   ]
  },
  {
   "cell_type": "code",
   "execution_count": 3,
   "id": "235cbcfc",
   "metadata": {
    "hidden": true
   },
   "outputs": [
    {
     "ename": "Exception",
     "evalue": "A general error occurred: maximum recursion depth exceeded while calling a Python object",
     "output_type": "error",
     "traceback": [
      "\u001b[0;31m---------------------------------------------------------------------------\u001b[0m\n\u001b[0;31mException\u001b[0m                                 Traceback (most recent call last)",
      "In  \u001b[0;34m[3]\u001b[0m:\nLine \u001b[0;34m1\u001b[0m:     gis = arcgis.GIS()\u001b[37m\u001b[39;49;00m\n",
      "File \u001b[0;34mC:\\Users\\dav11274\\AppData\\Local\\ESRI\\conda\\envs\\top-20-tutorials\\Lib\\site-packages\\arcgis\\gis\\__init__.py\u001b[0m, in \u001b[0;32m__init__\u001b[0m:\nLine \u001b[0;34m637\u001b[0m:   \u001b[34mraise\u001b[39;49;00m e\u001b[37m\u001b[39;49;00m\n",
      "File \u001b[0;34mC:\\Users\\dav11274\\AppData\\Local\\ESRI\\conda\\envs\\top-20-tutorials\\Lib\\site-packages\\arcgis\\gis\\__init__.py\u001b[0m, in \u001b[0;32m__init__\u001b[0m:\nLine \u001b[0;34m576\u001b[0m:   \u001b[36mself\u001b[39;49;00m._portal = _portalpy.Portal(\u001b[37m\u001b[39;49;00m\n",
      "File \u001b[0;34mC:\\Users\\dav11274\\AppData\\Local\\ESRI\\conda\\envs\\top-20-tutorials\\Lib\\site-packages\\arcgis\\gis\\_impl\\_portalpy.py\u001b[0m, in \u001b[0;32m__init__\u001b[0m:\nLine \u001b[0;34m237\u001b[0m:   \u001b[36mself\u001b[39;49;00m.get_properties(\u001b[34mTrue\u001b[39;49;00m)\u001b[37m\u001b[39;49;00m\n",
      "File \u001b[0;34mC:\\Users\\dav11274\\AppData\\Local\\ESRI\\conda\\envs\\top-20-tutorials\\Lib\\site-packages\\arcgis\\gis\\_impl\\_portalpy.py\u001b[0m, in \u001b[0;32mget_properties\u001b[0m:\nLine \u001b[0;34m1312\u001b[0m:  \u001b[34mraise\u001b[39;49;00m e\u001b[37m\u001b[39;49;00m\n",
      "File \u001b[0;34mC:\\Users\\dav11274\\AppData\\Local\\ESRI\\conda\\envs\\top-20-tutorials\\Lib\\site-packages\\arcgis\\gis\\_impl\\_portalpy.py\u001b[0m, in \u001b[0;32mget_properties\u001b[0m:\nLine \u001b[0;34m1292\u001b[0m:  resp = \u001b[36mself\u001b[39;49;00m.con.post(path, \u001b[36mself\u001b[39;49;00m._postdata(), ssl=\u001b[34mTrue\u001b[39;49;00m)\u001b[37m\u001b[39;49;00m\n",
      "File \u001b[0;34mC:\\Users\\dav11274\\AppData\\Local\\ESRI\\conda\\envs\\top-20-tutorials\\Lib\\site-packages\\arcgis\\gis\\_impl\\_con\\_connection.py\u001b[0m, in \u001b[0;32mpost\u001b[0m:\nLine \u001b[0;34m1517\u001b[0m:  \u001b[34mraise\u001b[39;49;00m \u001b[36mException\u001b[39;49;00m(\u001b[33m\"\u001b[39;49;00m\u001b[33mA general error occurred: \u001b[39;49;00m\u001b[33m%s\u001b[39;49;00m\u001b[33m\"\u001b[39;49;00m % e)\u001b[37m\u001b[39;49;00m\n",
      "\u001b[0;31mException\u001b[0m: A general error occurred: maximum recursion depth exceeded while calling a Python object\n\u001b[0;31m---------------------------------------------------------------------------\u001b[0m"
     ]
    }
   ],
   "source": [
    "gis = arcgis.GIS()"
   ]
  },
  {
   "cell_type": "markdown",
   "id": "a006b3ce",
   "metadata": {
    "heading_collapsed": true,
    "hidden": true
   },
   "source": [
    "#### 3.  Access the NAIP layer."
   ]
  },
  {
   "cell_type": "markdown",
   "id": "1f8d8673",
   "metadata": {
    "hidden": true
   },
   "source": [
    "The USA NAIP Imagery layer is a Living Atlas layer that is publicly available.  It's collected biannually and is aggregated into one Imagery Layer.  There are a few ways to search for ArcGIS Online content, but the most repeatable and consistent way to access a specific item is by referencing its Item ID.  This is available in the URL of the item if you're looking at ArcGIS Online in a browser."
   ]
  },
  {
   "cell_type": "code",
   "execution_count": null,
   "id": "ce1db6bd",
   "metadata": {
    "hidden": true
   },
   "outputs": [],
   "source": [
    "naip_item = gis.content.get(\"3f8d2d3828f24c00ae279db4af26d566\")\n",
    "naip_item"
   ]
  },
  {
   "cell_type": "markdown",
   "id": "d7086881",
   "metadata": {
    "hidden": true
   },
   "source": [
    "Now you've created an `Item` object, but to do any analysis you'll need to access a specific layer in that item.  This item only contains one layer, so you can just grab the first one by using the `.layers` property of the `Item` object."
   ]
  },
  {
   "cell_type": "code",
   "execution_count": null,
   "id": "d2f31b39",
   "metadata": {
    "hidden": true
   },
   "outputs": [],
   "source": [
    "lyr_naip = naip_item.layers[0]"
   ]
  },
  {
   "cell_type": "markdown",
   "id": "a9d545aa",
   "metadata": {
    "heading_collapsed": true
   },
   "source": [
    "## View the NAIP data."
   ]
  },
  {
   "cell_type": "markdown",
   "id": "d31d4f71",
   "metadata": {
    "hidden": true
   },
   "source": [
    "You've created an `Item` and a `FeatureLayer` that represent the NAIP data.  Now you can view this data in a map."
   ]
  },
  {
   "cell_type": "markdown",
   "id": "aa321115",
   "metadata": {
    "heading_collapsed": true,
    "hidden": true
   },
   "source": [
    "#### 1.  Create a map view."
   ]
  },
  {
   "cell_type": "markdown",
   "id": "53de5671",
   "metadata": {
    "hidden": true
   },
   "source": [
    "You can start viewing this data by creating a map view.  Center your map view on Mountain House, CA so you can check out the available data in the area."
   ]
  },
  {
   "cell_type": "code",
   "execution_count": null,
   "id": "3c460db6",
   "metadata": {
    "hidden": true
   },
   "outputs": [],
   "source": [
    "map_view = gis.map(\"Mountain House, CA\")\n",
    "map_view"
   ]
  },
  {
   "cell_type": "markdown",
   "id": "b47b72a7",
   "metadata": {
    "heading_collapsed": true,
    "hidden": true
   },
   "source": [
    "#### 2.  Add the NAIP layer to the map."
   ]
  },
  {
   "cell_type": "markdown",
   "id": "7441570d",
   "metadata": {
    "hidden": true
   },
   "source": [
    "Now that you've created a map view, you can add the NAIP imagery layer to it."
   ]
  },
  {
   "cell_type": "code",
   "execution_count": null,
   "id": "4ec4078d",
   "metadata": {
    "hidden": true
   },
   "outputs": [],
   "source": [
    "map_view.add_layer(lyr_naip)"
   ]
  },
  {
   "cell_type": "markdown",
   "id": "4f95026a",
   "metadata": {
    "hidden": true
   },
   "source": [
    "Note that this didn't create a new map view, but added your layer to the one you created in the previous step."
   ]
  },
  {
   "cell_type": "markdown",
   "id": "d7351fb0",
   "metadata": {
    "heading_collapsed": true
   },
   "source": [
    "## Export an Image"
   ]
  },
  {
   "cell_type": "markdown",
   "id": "2e99d93e",
   "metadata": {
    "hidden": true
   },
   "source": [
    "Now that we can see the area around Mountain House, we can export the current imagery."
   ]
  },
  {
   "cell_type": "markdown",
   "id": "9805bda6",
   "metadata": {
    "heading_collapsed": true,
    "hidden": true
   },
   "source": [
    "#### 1.  Create a bounding box."
   ]
  },
  {
   "cell_type": "markdown",
   "id": "c36dd8ff",
   "metadata": {
    "hidden": true
   },
   "source": [
    "To export imagery, first you'll need to create a bounding box geometry.  We've set up a tuple that represents the extent of our area of interest.  You'll see this format fairly frequently as you work with bounding boxes and envelopes.  It usually contains four numbers that represent the xmin, ymin, xmax, and ymax.  We'll start by unpacking that."
   ]
  },
  {
   "cell_type": "code",
   "execution_count": null,
   "id": "9dc2e3e5",
   "metadata": {
    "hidden": true
   },
   "outputs": [],
   "source": [
    "# define extent by tuple\n",
    "in_extent = (-13530675.228816083, 4545237.670432766, -13528866.137925146, 4547533.238415405) \n",
    "\n",
    "# unpack the extent tuple into individual variables\n",
    "xmin, ymin, xmax, ymax = in_extent"
   ]
  },
  {
   "cell_type": "markdown",
   "id": "db53cc6a",
   "metadata": {
    "hidden": true
   },
   "source": [
    "Now you'll need to format those extent variables into a dictionary that can be turned into geometry."
   ]
  },
  {
   "cell_type": "code",
   "execution_count": null,
   "id": "19739311",
   "metadata": {
    "hidden": true
   },
   "outputs": [],
   "source": [
    "# create a dictionary for the envelope\n",
    "extent_dict = {'xmin': xmin,\n",
    "  'ymin': ymin,\n",
    "  'xmax': xmax,\n",
    "  'ymax': ymax,\n",
    "  'spatialReference': {'wkid': 3857}}\n",
    "\n",
    "# create an envelope geometry\n",
    "envelope = arcgis.geometry.Envelope(extent_dict) \n",
    "envelope"
   ]
  },
  {
   "cell_type": "markdown",
   "id": "39d676cd",
   "metadata": {
    "hidden": true
   },
   "source": [
    "This envelope will be useful for when we're exporting imagery later.  Unfortunately it won't render on a map because it represents an extent instead of an actual polygon.  If you want to see this on a map, you can create a `Polygon` object and add it to a DataFrame.  The map view can render that as a layer.  This is optional and won't affect any of our further processing."
   ]
  },
  {
   "cell_type": "code",
   "execution_count": null,
   "id": "171c33c5",
   "metadata": {
    "hidden": true
   },
   "outputs": [],
   "source": [
    "# create a polygon from the envelope\n",
    "p_dict = {'rings': [[\n",
    "    [xmin, ymin],\n",
    "    [xmin, ymax],\n",
    "    [xmax, ymax],\n",
    "    [xmax, ymin],\n",
    "    [xmin, ymin]\n",
    "]], 'spatialReference': {'wkid': 3857}}\n",
    "\n",
    "poly = arcgis.geometry.Polygon(p_dict)"
   ]
  },
  {
   "cell_type": "code",
   "execution_count": null,
   "id": "a3c9a505",
   "metadata": {
    "hidden": true
   },
   "outputs": [],
   "source": [
    "# create a DataFrame and add to map\n",
    "df = pd.DataFrame([{\"SHAPE\": poly}])\n",
    "df.spatial.set_geometry(\"SHAPE\")\n",
    "map_view.add_layer(df)"
   ]
  },
  {
   "cell_type": "markdown",
   "id": "567c6357",
   "metadata": {
    "heading_collapsed": true,
    "hidden": true
   },
   "source": [
    "#### 2.  Figure out the size of the image to export."
   ]
  },
  {
   "cell_type": "markdown",
   "id": "8764aabd",
   "metadata": {
    "hidden": true
   },
   "source": [
    "Because we've created this envelope in a projected coordinate system, we can use some basic math to determine the pixel size of our output based on the coordinates of our bounding box.  We'll determine the width by subtracting the minimum X value from the maximum, then multiplying that by the meters per unit in our spatial reference.  Then we'll divide all of that by the NAIP resolution, giving us the pixels per meter.\n",
    "\n",
    "$$\n",
    "w = \\left\\lfloor \\frac{(x_{\\text{max}} - x_{\\text{min}}) \\cdot \\text{Envelope Meters per Unit}}{\\text{NAIP Resolution}} \\right\\rfloor\n",
    "$$\n",
    "\n",
    "You can generate the height by performing the same equation but using the Y values instead of the X values.  In our case, the meters per unit is 1 as we're using Web Mercator.  The NAIP resolution also happens to be 1 in this case because we're using 1m resolution imagery."
   ]
  },
  {
   "cell_type": "code",
   "execution_count": null,
   "id": "e80d68c4",
   "metadata": {
    "hidden": true
   },
   "outputs": [],
   "source": [
    "# NAIP Resolution\n",
    "naip_res = 1 \n",
    "\n",
    "# Web Mercator meters per unit\n",
    "metersPerUnit = 1\n",
    "\n",
    "# calculate the width and height of our output in pixels\n",
    "w = int((xmax - xmin) * metersPerUnit / naip_res)\n",
    "h = int((ymax - ymin) * metersPerUnit / naip_res)\n",
    "\n",
    "[w,h]"
   ]
  },
  {
   "cell_type": "markdown",
   "id": "319b643b",
   "metadata": {
    "heading_collapsed": true,
    "hidden": true
   },
   "source": [
    "#### 3.  Determine the date of the imagery to export."
   ]
  },
  {
   "cell_type": "markdown",
   "id": "6c834d7e",
   "metadata": {
    "hidden": true
   },
   "source": [
    "The final thing that we'll need to determine before exporting our imagery is which date to export.  In a web browser, you'd be able to see the available dates by clicking on a point in the map.  A popup comes up and tells you which dates of imagery are available.  In this case, you'll do the same thing Pythonically.  You'll query the imagery layer in the same way you would a feature layer."
   ]
  },
  {
   "cell_type": "code",
   "execution_count": null,
   "id": "6aa7381a",
   "metadata": {
    "hidden": true
   },
   "outputs": [],
   "source": [
    "df_naip = lyr_naip.query(\n",
    "    where = \"AcquisitionDate IS NOT NULL\",\n",
    "    geometry_filter = arcgis.geometry.filters.intersects(\n",
    "        geometry=envelope, \n",
    "        sr=envelope.spatial_reference),\n",
    "    as_df=True,\n",
    "    )\n",
    "df_naip"
   ]
  },
  {
   "cell_type": "markdown",
   "id": "f134a8f1",
   "metadata": {
    "hidden": true
   },
   "source": [
    "Note that there is a \"Year\" column that shows the year as an integer.  There's also an \"AcquisitionDate\" column which shows the date of the imagery capture as an epoch timestamp."
   ]
  },
  {
   "cell_type": "code",
   "execution_count": null,
   "id": "b80c5c52",
   "metadata": {
    "hidden": true
   },
   "outputs": [],
   "source": [
    "df_naip[['Year','AcquisitionDate']]"
   ]
  },
  {
   "cell_type": "markdown",
   "id": "27f0aac5",
   "metadata": {
    "hidden": true
   },
   "source": [
    "The timestamp is very handy, because that's what we'll need to provide to export an image from the imagery layer.  Save the first acquisition date as a variable for later use.  We'll export the 2012 data first."
   ]
  },
  {
   "cell_type": "code",
   "execution_count": null,
   "id": "454b3136",
   "metadata": {
    "hidden": true
   },
   "outputs": [],
   "source": [
    "filter_date = df_naip['AcquisitionDate'][0]\n",
    "filter_date"
   ]
  },
  {
   "cell_type": "markdown",
   "id": "0aada57f",
   "metadata": {
    "heading_collapsed": true,
    "hidden": true
   },
   "source": [
    "#### 4.  Export an image from the imagery layer."
   ]
  },
  {
   "cell_type": "markdown",
   "id": "9264913e",
   "metadata": {
    "hidden": true
   },
   "source": [
    "We'll start by exporting the 2012 data as a jpeg file to visually inspect the change over time.  This is a lightweight way of allowing us to view this data without having to create large tiff files.  Also, jpeg files can be rendered within the browser in a Jupyter Notebook, so it makes for easy visual data review.\n",
    "\n",
    "We'll use a method on the NAIP layer called `export_image()` to export the image.  Review the documentation for the method first."
   ]
  },
  {
   "cell_type": "code",
   "execution_count": null,
   "id": "f41585ad",
   "metadata": {
    "hidden": true
   },
   "outputs": [],
   "source": [
    "lyr_naip.export_image?"
   ]
  },
  {
   "cell_type": "markdown",
   "id": "ca15cbcf",
   "metadata": {
    "hidden": true
   },
   "source": [
    "You won't need to populate all those parameters, but you will need to specify the bounding box, spatial references, export format, and the band that you want to export."
   ]
  },
  {
   "cell_type": "code",
   "execution_count": null,
   "id": "853b81cd",
   "metadata": {
    "hidden": true
   },
   "outputs": [],
   "source": [
    "mountain_house_2012 = lyr_naip.export_image(\n",
    "        bbox = envelope, # bounding box generated earlier\n",
    "        bbox_sr = 3857, # bounding box spatial reference (web mercator)\n",
    "        image_sr = 3857, # bounding box spatial reference (web mercator)\n",
    "        time = filter_date, # timestamp representing 2012 acquisition date\n",
    "        rendering_rule = {'rasterFunction': \"NaturalColor\"}, # which bands to include\n",
    "        f = \"image\", # specify image output\n",
    "        export_format='jpeg', # output image format\n",
    "        size = [w,h], # width and height that we generated earlier\n",
    "        save_folder = r\".\", # output folder - this is the one that the script is in\n",
    "        save_file = rf\"mountain_house_2012.jpg\", # file name\n",
    "        )\n",
    "\n",
    "Image(mountain_house_2012)"
   ]
  },
  {
   "cell_type": "markdown",
   "id": "2276b617",
   "metadata": {
    "hidden": true
   },
   "source": [
    "Note that there is a lot less development in the 2012 imagery."
   ]
  },
  {
   "cell_type": "markdown",
   "id": "02fba72c",
   "metadata": {
    "heading_collapsed": true
   },
   "source": [
    "## Export Multiple Images"
   ]
  },
  {
   "cell_type": "markdown",
   "id": "930b1775",
   "metadata": {
    "hidden": true
   },
   "source": [
    "Seeing the difference in development between 2012 and the current imagery in the map view is fairly striking.  That's a lot of development that occurred in a 10 year period.  Now let's look at all the years in between."
   ]
  },
  {
   "cell_type": "markdown",
   "id": "77d3144a",
   "metadata": {
    "heading_collapsed": true,
    "hidden": true
   },
   "source": [
    "#### 1.  Create a list of years and dates."
   ]
  },
  {
   "cell_type": "markdown",
   "id": "0c33af5c",
   "metadata": {
    "hidden": true
   },
   "source": [
    "To make the files you're creating more readable, it would help to put the year in the file name.  You can use the DataFrame you generated earlier to create a list of dictionaries"
   ]
  },
  {
   "cell_type": "code",
   "execution_count": null,
   "id": "85ee9062",
   "metadata": {
    "hidden": true
   },
   "outputs": [],
   "source": [
    "years_and_dates = df_naip[['Year','AcquisitionDate']].to_dict('records')\n",
    "years_and_dates[0]"
   ]
  },
  {
   "cell_type": "markdown",
   "id": "a082bcdb",
   "metadata": {
    "heading_collapsed": true,
    "hidden": true
   },
   "source": [
    "#### 2.  Iterate through the list of dates and export images."
   ]
  },
  {
   "cell_type": "code",
   "execution_count": null,
   "id": "702450d2",
   "metadata": {
    "hidden": true
   },
   "outputs": [],
   "source": [
    "for year_and_date in years_and_dates:\n",
    "    \n",
    "    # unpack the year\n",
    "    year = year_and_date['Year']\n",
    "    \n",
    "    # unpack the filter date\n",
    "    filter_date = year_and_date['AcquisitionDate']\n",
    "    \n",
    "    # export the image\n",
    "    export_image = lyr_naip.export_image(\n",
    "        bbox = envelope,\n",
    "        bbox_sr = 3857, \n",
    "        image_sr = 3857, \n",
    "        time = filter_date, # timestamp changed to iterating date\n",
    "        rendering_rule = {'rasterFunction': \"NaturalColor\"}, \n",
    "        f = \"image\", \n",
    "        export_format='jpeg', \n",
    "        size = [w,h], \n",
    "        save_folder = r\".\", \n",
    "        save_file = rf\"mountain_house_{year}.jpg\", # file name changed to include year\n",
    "        )\n",
    "    \n",
    "    print(year)\n",
    "    display(Image(export_image))"
   ]
  },
  {
   "cell_type": "markdown",
   "id": "c9fec978",
   "metadata": {
    "hidden": true
   },
   "source": [
    "Now that you've developed the script logic to export and view the imagery over Mountain House over time, you can visually see the development as the city expands.  In our next tutorial, we'll attempt to quantify that using imagery analysis."
   ]
  },
  {
   "cell_type": "code",
   "execution_count": null,
   "id": "608e84f1",
   "metadata": {
    "hidden": true
   },
   "outputs": [],
   "source": []
  }
 ],
 "metadata": {
  "kernelspec": {
   "display_name": "Python 3 (ipykernel)",
   "language": "python",
   "name": "python3"
  },
  "language_info": {
   "file_extension": ".py",
   "name": "python",
   "version": "3"
  }
 },
 "nbformat": 4,
 "nbformat_minor": 5
}
