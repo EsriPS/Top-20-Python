{
 "cells": [
  {
   "cell_type": "markdown",
   "id": "bc1cfccf",
   "metadata": {},
   "source": [
    "For this tutorial, we're going to begin the first stage of a data pipeline.  We're going to be working with the same data source that we used for our previous two chapters' tutorials, but this time we're going straight to the source.  We will pull data directly from San Francisco's Open Data API."
   ]
  },
  {
   "cell_type": "markdown",
   "id": "40f85588",
   "metadata": {
    "heading_collapsed": true
   },
   "source": [
    "#### 1. Import Packages"
   ]
  },
  {
   "cell_type": "markdown",
   "id": "1d6886e2",
   "metadata": {
    "hidden": true
   },
   "source": [
    "Let's start by importing the python packages that we'll need to extract our data.  We should be pretty familiar with pandas at this point (but if you need a refresher, check out Chapter 6 - Data Manipulation).  There are a couple new packages we're working with here though.  Let's go through them one by one.\n",
    "- **requests** - This is a package designed to interact with web APIs.  We're going to use it to retreive data from an open data portal\n",
    "- **json** - This package is super helpful for converting long JSON strings to Python data types like strings, numbers, dictionaries, and lists.\n",
    "- **datetime** - This package is going to help us work with (surprise) dates and times.  We're going to use it help choose which data we extract from our API."
   ]
  },
  {
   "cell_type": "code",
   "execution_count": 1,
   "id": "ed81a98d",
   "metadata": {
    "hidden": true
   },
   "outputs": [],
   "source": [
    "import pandas\n",
    "import requests\n",
    "import json\n",
    "import datetime"
   ]
  },
  {
   "cell_type": "markdown",
   "id": "4ad7eca4",
   "metadata": {
    "heading_collapsed": true
   },
   "source": [
    "#### 2. Get the date for yesterday"
   ]
  },
  {
   "cell_type": "markdown",
   "id": "f34f71f3",
   "metadata": {
    "hidden": true
   },
   "source": [
    "Now let's use our Python skills and a new package to get yesterday's date.  This is a really common pattern in Python automation workflows.  Rather than hard-code or input a date, we can use the **datetime** package to find out what the current date and time are when our process is being executed.  Then we can use the current date to find relative dates (in our case, yesterday).\n",
    "\n",
    "Let's start by finding today's date."
   ]
  },
  {
   "cell_type": "code",
   "execution_count": 4,
   "id": "64acfc48",
   "metadata": {
    "hidden": true,
    "scrolled": true
   },
   "outputs": [
    {
     "data": {
      "text/plain": [
       "datetime.datetime(2024, 1, 21, 8, 15, 55, 498535)"
      ]
     },
     "execution_count": 4,
     "metadata": {},
     "output_type": "execute_result"
    }
   ],
   "source": [
    "now = datetime.datetime.now()\n",
    "now"
   ]
  },
  {
   "cell_type": "markdown",
   "id": "ce5286e8",
   "metadata": {
    "hidden": true
   },
   "source": [
    "The resulting datetime object we get is comprised of all the components of the date and time that the object was created.  In order, it lists the year, month, day, hour, minute, second, and millisecond\n",
    "\n",
    "Now let's use a **timedelta** object to some math and subtract a day.  That will give us yesterday's date."
   ]
  },
  {
   "cell_type": "code",
   "execution_count": 6,
   "id": "94d5f32a",
   "metadata": {
    "hidden": true
   },
   "outputs": [
    {
     "data": {
      "text/plain": [
       "datetime.datetime(2024, 1, 20, 8, 15, 55, 498535)"
      ]
     },
     "execution_count": 6,
     "metadata": {},
     "output_type": "execute_result"
    }
   ],
   "source": [
    "yesterday = now - datetime.timedelta(days=1)\n",
    "yesterday"
   ]
  },
  {
   "cell_type": "markdown",
   "id": "0e86fde7",
   "metadata": {
    "hidden": true
   },
   "source": [
    "You might notice that in the resulting datetime object, the day has changed, but the hour, minute, second, and millisecond are still the same.  That might be fine for some use-cases, but for our use-case we'd like to get data for the entire previous day.  Let's set the time to midnight instead.\n",
    "\n",
    "We'll start by creating a **time** object with the default time (which happens to be midnight).  Then we'll combine the date and time to get an object that represents midnight yesterday."
   ]
  },
  {
   "cell_type": "code",
   "execution_count": 8,
   "id": "c3e5583d",
   "metadata": {
    "hidden": true
   },
   "outputs": [
    {
     "data": {
      "text/plain": [
       "datetime.datetime(2024, 1, 20, 0, 0)"
      ]
     },
     "execution_count": 8,
     "metadata": {},
     "output_type": "execute_result"
    }
   ],
   "source": [
    "# Set the time to midnight\n",
    "midnight = datetime.time()\n",
    "\n",
    "# Combine the date and time\n",
    "yesterday_midnight = datetime.datetime.combine(yesterday, midnight)\n",
    "\n",
    "yesterday_midnight"
   ]
  },
  {
   "cell_type": "markdown",
   "id": "aa17b0b5",
   "metadata": {
    "hidden": true
   },
   "source": [
    "Note that now, the hour and minute are set to 0 and there are no seconds or microseconds"
   ]
  },
  {
   "cell_type": "markdown",
   "id": "2dbc4b2a",
   "metadata": {
    "heading_collapsed": true
   },
   "source": [
    "#### 3. Format Our Request"
   ]
  },
  {
   "cell_type": "markdown",
   "id": "fa0998ab",
   "metadata": {
    "hidden": true
   },
   "source": [
    "One of the wonderful things about working with an API is that we can control some of the aspects of our data as we're ingesting it.  Every API is different, so it's worth reviewing API documentation (which is readily available in this case at [this link](https://dev.socrata.com/foundry/data.sfgov.org/vw6y-z8j6).  The parameters we'll use for our query are documented at [this page](https://dev.socrata.com/docs/queries/).\n",
    "\n",
    "Let's think about this in terms of the anatomy of a SQL statement.\n",
    "```\n",
    "SELECT\n",
    "    service_request_id,\n",
    "    requested_datetime,\n",
    "    status_notes,\n",
    "    lat,\n",
    "    long,\n",
    "    neighborhoods_sffind_boundaries,\n",
    "    source,\n",
    "    supervisor_district,\n",
    "    media_url,\n",
    "    point\n",
    "FROM\n",
    "    DATA_SOURCE\n",
    "WHERE\n",
    "    status_description = 'Open' AND requested_datetime > CURRENT_DAY - 1\n",
    "\n",
    "```\n",
    "\n"
   ]
  },
  {
   "cell_type": "markdown",
   "id": "110cf5c2",
   "metadata": {
    "hidden": true
   },
   "source": [
    "If we start from the top there, the first thing we see is a list of fields.  According to the documentation, we can format that as a comma separated list and pass it along with the URL we're going to."
   ]
  },
  {
   "cell_type": "code",
   "execution_count": 2,
   "id": "dd450591",
   "metadata": {
    "hidden": true
   },
   "outputs": [
    {
     "data": {
      "text/plain": [
       "'$select=service_request_id,requested_datetime,status_notes,lat,long,neighborhoods_sffind_boundaries,source,supervisor_district,media_url,point'"
      ]
     },
     "execution_count": 2,
     "metadata": {},
     "output_type": "execute_result"
    }
   ],
   "source": [
    "field_list = [\n",
    "    'service_request_id',\n",
    "    'requested_datetime',\n",
    "    'status_notes',\n",
    "    'lat',\n",
    "    'long',\n",
    "    'neighborhoods_sffind_boundaries',\n",
    "    'source',\n",
    "    'supervisor_district',\n",
    "    'media_url',\n",
    "    'point'\n",
    "]\n",
    "\n",
    "fields = \"$select=\" + \",\".join(field_list)\n",
    "fields"
   ]
  },
  {
   "cell_type": "markdown",
   "id": "442ef75d",
   "metadata": {
    "hidden": true
   },
   "source": [
    "TIP - the `.join` method is a method of a string object in Python.  When you pass a list into that method, it will use the string to concatenate all the items in that list and turn them into a string."
   ]
  },
  {
   "cell_type": "markdown",
   "id": "ce5ce20b",
   "metadata": {
    "hidden": true
   },
   "source": [
    "Moving down through the SQL query, the next component we see is the `FROM` clause.  That's pretty straightforward in our API.  It's just going to be the root URL of our dataset."
   ]
  },
  {
   "cell_type": "code",
   "execution_count": 3,
   "id": "4ef6368d",
   "metadata": {
    "hidden": true
   },
   "outputs": [],
   "source": [
    "url = \"https://data.sfgov.org/resource/vw6y-z8j6.json\""
   ]
  },
  {
   "cell_type": "markdown",
   "id": "debd1bee",
   "metadata": {
    "hidden": true
   },
   "source": [
    "The next thing we notice moving down the SQL statement is the `WHERE` clause.  The API documentation shows a where clause that we can format similarly.  The first portion, where we restrict the records returned to only records where `status_description = 'Open'` is pretty straightforward, but the latter portion involving the `CURRENT_DAY` isn't.  That's where our datetime work from Step 2 comes into play.\n",
    "\n",
    "We can format our datetime object into a string format that this API can use.  In this case, the API can read datetimes formatted like *YYYY-MM-DD T H:M:S*.  We'll use a method called **strftime** to return a string in this format."
   ]
  },
  {
   "cell_type": "code",
   "execution_count": 10,
   "id": "436c47f1",
   "metadata": {
    "hidden": true
   },
   "outputs": [
    {
     "data": {
      "text/plain": [
       "'2024-01-20T00:00:00.000000'"
      ]
     },
     "execution_count": 10,
     "metadata": {},
     "output_type": "execute_result"
    }
   ],
   "source": [
    "formatted_yesterday = yesterday_midnight.strftime('%Y-%m-%dT%H:%M:%S.%f') \n",
    "formatted_yesterday"
   ]
  },
  {
   "cell_type": "markdown",
   "id": "37bbe6d7",
   "metadata": {
    "hidden": true
   },
   "source": [
    "Now let's put that together with the rest of our `WHERE` clause."
   ]
  },
  {
   "cell_type": "code",
   "execution_count": 12,
   "id": "93c10f70",
   "metadata": {
    "hidden": true
   },
   "outputs": [
    {
     "data": {
      "text/plain": [
       "\"$where=status_description='Open' and requested_datetime > '2024-01-20T00:00:00.000000'\""
      ]
     },
     "execution_count": 12,
     "metadata": {},
     "output_type": "execute_result"
    }
   ],
   "source": [
    "where = f\"$where=status_description='Open' and requested_datetime > '{formatted_yesterday}'\"\n",
    "where"
   ]
  },
  {
   "cell_type": "markdown",
   "id": "695c6630",
   "metadata": {
    "hidden": true
   },
   "source": [
    "Now we can put the components of our request all together in one URL."
   ]
  },
  {
   "cell_type": "code",
   "execution_count": 14,
   "id": "86d96eb8",
   "metadata": {
    "hidden": true
   },
   "outputs": [
    {
     "data": {
      "text/plain": [
       "\"https://data.sfgov.org/resource/vw6y-z8j6.json?$select=service_request_id,requested_datetime,status_notes,lat,long,neighborhoods_sffind_boundaries,source,supervisor_district,media_url,point&$where=status_description='Open' and requested_datetime > '2024-01-20T00:00:00.000000'\""
      ]
     },
     "execution_count": 14,
     "metadata": {},
     "output_type": "execute_result"
    }
   ],
   "source": [
    "full_url = url+\"?\"+fields+\"&\"+where\n",
    "full_url"
   ]
  },
  {
   "cell_type": "markdown",
   "id": "31812e55",
   "metadata": {
    "heading_collapsed": true
   },
   "source": [
    "#### 4. Make a request to the API"
   ]
  },
  {
   "cell_type": "markdown",
   "id": "9c3a230d",
   "metadata": {
    "hidden": true
   },
   "source": [
    "Now that we've got our URL formatted, we can actually make our request to the API.  Note that if you were to take that URL represented by the `full_url` variable and put it into a browser, you'd get a response from the API.  We're going to use the **requests** package to do the same thing with Python."
   ]
  },
  {
   "cell_type": "code",
   "execution_count": 16,
   "id": "709e7948",
   "metadata": {
    "hidden": true
   },
   "outputs": [
    {
     "data": {
      "text/plain": [
       "<Response [200]>"
      ]
     },
     "execution_count": 16,
     "metadata": {},
     "output_type": "execute_result"
    }
   ],
   "source": [
    "response = requests.get(full_url)\n",
    "response"
   ]
  },
  {
   "cell_type": "markdown",
   "id": "0e3329a1",
   "metadata": {
    "hidden": true
   },
   "source": [
    "Note that we get a **response** object as a result showing its `status_code` property.  These codes tell us whether our request was successful.  Two of the most common responses include 200 (successful) and 404 (not found).  [This Link](https://en.wikipedia.org/wiki/List_of_HTTP_status_codes) contains a fairly comprehensive list of codes.\n",
    "\n",
    "As long as the response code is in the 200s, we're good to go.  In this case, we're expecting a response that containing JSON information.  We'll call the `text` property to retreive that data."
   ]
  },
  {
   "cell_type": "code",
   "execution_count": 21,
   "id": "8b1bc62d",
   "metadata": {
    "hidden": true
   },
   "outputs": [],
   "source": [
    "response_text = response.text"
   ]
  },
  {
   "cell_type": "markdown",
   "id": "9b323936",
   "metadata": {
    "hidden": true
   },
   "source": [
    "Let's take a look at our results.  Before printing the entire response, we should probably see what the type of the response is and how long it is.  Then we can take a look at the first 1000 characters of the data to get an idea of what it looks like."
   ]
  },
  {
   "cell_type": "code",
   "execution_count": 22,
   "id": "321df93b",
   "metadata": {
    "hidden": true
   },
   "outputs": [
    {
     "name": "stdout",
     "output_type": "stream",
     "text": [
      "<class 'str'>\n",
      "279299\n"
     ]
    },
    {
     "data": {
      "text/plain": [
       "'[{\"service_request_id\":\"17791220\",\"requested_datetime\":\"2024-01-20T00:04:55.000\",\"status_notes\":\"open\",\"lat\":\"37.79961\",\"long\":\"-122.436035\",\"neighborhoods_sffind_boundaries\":\"Union Street\",\"source\":\"Web\",\"supervisor_district\":\"2\",\"point\":{\"latitude\":\"37.79961\",\"longitude\":\"-122.436035\",\"human_address\":\"{\\\\\"address\\\\\": \\\\\"\\\\\", \\\\\"city\\\\\": \\\\\"\\\\\", \\\\\"state\\\\\": \\\\\"\\\\\", \\\\\"zip\\\\\": \\\\\"\\\\\"}\"}}\\n,{\"service_request_id\":\"17791233\",\"requested_datetime\":\"2024-01-20T00:13:00.000\",\"status_notes\":\"open\",\"lat\":\"37.805177813017\",\"long\":\"-122.438171046278\",\"neighborhoods_sffind_boundaries\":\"Marina\",\"source\":\"Mobile/Open311\",\"supervisor_district\":\"2\",\"point\":{\"latitude\":\"37.80517781\",\"longitude\":\"-122.43817105\",\"human_address\":\"{\\\\\"address\\\\\": \\\\\"\\\\\", \\\\\"city\\\\\": \\\\\"\\\\\", \\\\\"state\\\\\": \\\\\"\\\\\", \\\\\"zip\\\\\": \\\\\"\\\\\"}\"}}\\n,{\"service_request_id\":\"17791244\",\"requested_datetime\":\"2024-01-20T00:28:00.000\",\"status_notes\":\"open\",\"lat\":\"37.801254608387\",\"long\":\"-122.440450640663\",\"neighborhoods_sffind_boundaries\":\"Marina\",\"source\":\"Mobile/Open311\",\"s'"
      ]
     },
     "execution_count": 22,
     "metadata": {},
     "output_type": "execute_result"
    }
   ],
   "source": [
    "print(type(response_text))\n",
    "print(len(response_text))\n",
    "response_text[0:1000]"
   ]
  },
  {
   "cell_type": "markdown",
   "id": "afc3cd4f",
   "metadata": {
    "hidden": true
   },
   "source": [
    "This looks like we would expect for JSON data.  We can see it starts with a square bracket and then a curly bracket.  This tells me it's likely an array of objects.  The problem is that all that information is organized as a single string.  We'll need to change that into Python data types like lists and dictionaries to effectively work with it further."
   ]
  },
  {
   "cell_type": "markdown",
   "id": "c61ee1db",
   "metadata": {
    "heading_collapsed": true
   },
   "source": [
    "#### 5. Format the Results of the Request"
   ]
  },
  {
   "cell_type": "markdown",
   "id": "a2cc6a39",
   "metadata": {
    "hidden": true
   },
   "source": [
    "This is where our **json** package comes into play.  The json package can parse strings (or byte streams) and load our data into useful Python data types.  In this case, since our input is a string, we'll call the **loads** method."
   ]
  },
  {
   "cell_type": "code",
   "execution_count": 24,
   "id": "b2b43d7e",
   "metadata": {
    "hidden": true
   },
   "outputs": [
    {
     "data": {
      "text/plain": [
       "[{'service_request_id': '17791220',\n",
       "  'requested_datetime': '2024-01-20T00:04:55.000',\n",
       "  'status_notes': 'open',\n",
       "  'lat': '37.79961',\n",
       "  'long': '-122.436035',\n",
       "  'neighborhoods_sffind_boundaries': 'Union Street',\n",
       "  'source': 'Web',\n",
       "  'supervisor_district': '2',\n",
       "  'point': {'latitude': '37.79961',\n",
       "   'longitude': '-122.436035',\n",
       "   'human_address': '{\"address\": \"\", \"city\": \"\", \"state\": \"\", \"zip\": \"\"}'}},\n",
       " {'service_request_id': '17791233',\n",
       "  'requested_datetime': '2024-01-20T00:13:00.000',\n",
       "  'status_notes': 'open',\n",
       "  'lat': '37.805177813017',\n",
       "  'long': '-122.438171046278',\n",
       "  'neighborhoods_sffind_boundaries': 'Marina',\n",
       "  'source': 'Mobile/Open311',\n",
       "  'supervisor_district': '2',\n",
       "  'point': {'latitude': '37.80517781',\n",
       "   'longitude': '-122.43817105',\n",
       "   'human_address': '{\"address\": \"\", \"city\": \"\", \"state\": \"\", \"zip\": \"\"}'}}]"
      ]
     },
     "execution_count": 24,
     "metadata": {},
     "output_type": "execute_result"
    }
   ],
   "source": [
    "results_list = json.loads(response_text)\n",
    "results_list[0:2]"
   ]
  },
  {
   "cell_type": "markdown",
   "id": "0ab0ec63",
   "metadata": {
    "hidden": true
   },
   "source": [
    "Now our data is formatted nicely into recognizeable and accessible Python data structures.  The array of features is represented as a list.  Each feature in that array is represented by a dictionary.  Now we can index into the list and access key/value pairs for each field in a feature.\n",
    "\n",
    "That's useful, but it'd be way easier to manipulate that data if it was in a table.  So let's create a DataFrame out of the data."
   ]
  },
  {
   "cell_type": "code",
   "execution_count": 26,
   "id": "ac7767e0",
   "metadata": {
    "hidden": true,
    "scrolled": true
   },
   "outputs": [
    {
     "data": {
      "text/html": [
       "<div>\n",
       "<style scoped>\n",
       "    .dataframe tbody tr th:only-of-type {\n",
       "        vertical-align: middle;\n",
       "    }\n",
       "\n",
       "    .dataframe tbody tr th {\n",
       "        vertical-align: top;\n",
       "    }\n",
       "\n",
       "    .dataframe thead th {\n",
       "        text-align: right;\n",
       "    }\n",
       "</style>\n",
       "<table border=\"1\" class=\"dataframe\">\n",
       "  <thead>\n",
       "    <tr style=\"text-align: right;\">\n",
       "      <th></th>\n",
       "      <th>service_request_id</th>\n",
       "      <th>requested_datetime</th>\n",
       "      <th>status_notes</th>\n",
       "      <th>lat</th>\n",
       "      <th>long</th>\n",
       "      <th>neighborhoods_sffind_boundaries</th>\n",
       "      <th>source</th>\n",
       "      <th>supervisor_district</th>\n",
       "      <th>point</th>\n",
       "      <th>media_url</th>\n",
       "    </tr>\n",
       "  </thead>\n",
       "  <tbody>\n",
       "    <tr>\n",
       "      <th>0</th>\n",
       "      <td>17791220</td>\n",
       "      <td>2024-01-20T00:04:55.000</td>\n",
       "      <td>open</td>\n",
       "      <td>37.79961</td>\n",
       "      <td>-122.436035</td>\n",
       "      <td>Union Street</td>\n",
       "      <td>Web</td>\n",
       "      <td>2</td>\n",
       "      <td>{'latitude': '37.79961', 'longitude': '-122.43...</td>\n",
       "      <td>NaN</td>\n",
       "    </tr>\n",
       "    <tr>\n",
       "      <th>1</th>\n",
       "      <td>17791233</td>\n",
       "      <td>2024-01-20T00:13:00.000</td>\n",
       "      <td>open</td>\n",
       "      <td>37.805177813017</td>\n",
       "      <td>-122.438171046278</td>\n",
       "      <td>Marina</td>\n",
       "      <td>Mobile/Open311</td>\n",
       "      <td>2</td>\n",
       "      <td>{'latitude': '37.80517781', 'longitude': '-122...</td>\n",
       "      <td>NaN</td>\n",
       "    </tr>\n",
       "    <tr>\n",
       "      <th>2</th>\n",
       "      <td>17791244</td>\n",
       "      <td>2024-01-20T00:28:00.000</td>\n",
       "      <td>open</td>\n",
       "      <td>37.801254608387</td>\n",
       "      <td>-122.440450640663</td>\n",
       "      <td>Marina</td>\n",
       "      <td>Mobile/Open311</td>\n",
       "      <td>2</td>\n",
       "      <td>{'latitude': '37.80125461', 'longitude': '-122...</td>\n",
       "      <td>NaN</td>\n",
       "    </tr>\n",
       "    <tr>\n",
       "      <th>3</th>\n",
       "      <td>17791271</td>\n",
       "      <td>2024-01-20T01:24:00.000</td>\n",
       "      <td>open</td>\n",
       "      <td>0.000000000000</td>\n",
       "      <td>0.000000000000</td>\n",
       "      <td>South of Market</td>\n",
       "      <td>Integrated Agency</td>\n",
       "      <td>6</td>\n",
       "      <td>{'latitude': '0.0', 'longitude': '0.0', 'human...</td>\n",
       "      <td>NaN</td>\n",
       "    </tr>\n",
       "    <tr>\n",
       "      <th>4</th>\n",
       "      <td>17791272</td>\n",
       "      <td>2024-01-20T01:24:00.000</td>\n",
       "      <td>open</td>\n",
       "      <td>0.000000000000</td>\n",
       "      <td>0.000000000000</td>\n",
       "      <td>South of Market</td>\n",
       "      <td>Integrated Agency</td>\n",
       "      <td>6</td>\n",
       "      <td>{'latitude': '0.0', 'longitude': '0.0', 'human...</td>\n",
       "      <td>NaN</td>\n",
       "    </tr>\n",
       "  </tbody>\n",
       "</table>\n",
       "</div>"
      ],
      "text/plain": [
       "  service_request_id       requested_datetime status_notes              lat  \\\n",
       "0           17791220  2024-01-20T00:04:55.000         open         37.79961   \n",
       "1           17791233  2024-01-20T00:13:00.000         open  37.805177813017   \n",
       "2           17791244  2024-01-20T00:28:00.000         open  37.801254608387   \n",
       "3           17791271  2024-01-20T01:24:00.000         open   0.000000000000   \n",
       "4           17791272  2024-01-20T01:24:00.000         open   0.000000000000   \n",
       "\n",
       "                long neighborhoods_sffind_boundaries             source  \\\n",
       "0        -122.436035                    Union Street                Web   \n",
       "1  -122.438171046278                          Marina     Mobile/Open311   \n",
       "2  -122.440450640663                          Marina     Mobile/Open311   \n",
       "3     0.000000000000                 South of Market  Integrated Agency   \n",
       "4     0.000000000000                 South of Market  Integrated Agency   \n",
       "\n",
       "  supervisor_district                                              point  \\\n",
       "0                   2  {'latitude': '37.79961', 'longitude': '-122.43...   \n",
       "1                   2  {'latitude': '37.80517781', 'longitude': '-122...   \n",
       "2                   2  {'latitude': '37.80125461', 'longitude': '-122...   \n",
       "3                   6  {'latitude': '0.0', 'longitude': '0.0', 'human...   \n",
       "4                   6  {'latitude': '0.0', 'longitude': '0.0', 'human...   \n",
       "\n",
       "  media_url  \n",
       "0       NaN  \n",
       "1       NaN  \n",
       "2       NaN  \n",
       "3       NaN  \n",
       "4       NaN  "
      ]
     },
     "execution_count": 26,
     "metadata": {},
     "output_type": "execute_result"
    }
   ],
   "source": [
    "df = pandas.DataFrame(results_list)\n",
    "df.head()"
   ]
  },
  {
   "cell_type": "code",
   "execution_count": null,
   "id": "c9177f07",
   "metadata": {
    "hidden": true
   },
   "outputs": [],
   "source": []
  }
 ],
 "metadata": {
  "kernelspec": {
   "display_name": "Python 3 (ipykernel)",
   "language": "python",
   "name": "python3"
  },
  "language_info": {
   "codemirror_mode": {
    "name": "ipython",
    "version": 3
   },
   "file_extension": ".py",
   "mimetype": "text/x-python",
   "name": "python",
   "nbconvert_exporter": "python",
   "pygments_lexer": "ipython3",
   "version": "3.9.18"
  }
 },
 "nbformat": 4,
 "nbformat_minor": 5
}
