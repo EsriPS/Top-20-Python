{
 "cells": [
  {
   "cell_type": "markdown",
   "id": "41f6ccd9",
   "metadata": {
    "heading_collapsed": true
   },
   "source": [
    "### Import Data from CSV"
   ]
  },
  {
   "cell_type": "code",
   "execution_count": 1,
   "id": "80bf9665",
   "metadata": {
    "hidden": true
   },
   "outputs": [],
   "source": [
    "import pandas"
   ]
  },
  {
   "cell_type": "code",
   "execution_count": 2,
   "id": "340e6fd6",
   "metadata": {
    "hidden": true
   },
   "outputs": [],
   "source": [
    "df_311 = pandas.read_csv('./311_Cases.csv')"
   ]
  },
  {
   "cell_type": "code",
   "execution_count": 3,
   "id": "4ec910f6",
   "metadata": {
    "hidden": true,
    "scrolled": true
   },
   "outputs": [
    {
     "data": {
      "text/html": [
       "<div>\n",
       "<style scoped>\n",
       "    .dataframe tbody tr th:only-of-type {\n",
       "        vertical-align: middle;\n",
       "    }\n",
       "\n",
       "    .dataframe tbody tr th {\n",
       "        vertical-align: top;\n",
       "    }\n",
       "\n",
       "    .dataframe thead th {\n",
       "        text-align: right;\n",
       "    }\n",
       "</style>\n",
       "<table border=\"1\" class=\"dataframe\">\n",
       "  <thead>\n",
       "    <tr style=\"text-align: right;\">\n",
       "      <th></th>\n",
       "      <th>CaseID</th>\n",
       "      <th>Opened</th>\n",
       "      <th>Closed</th>\n",
       "      <th>Updated</th>\n",
       "      <th>Status</th>\n",
       "      <th>Status Notes</th>\n",
       "      <th>Responsible Agency</th>\n",
       "      <th>Category</th>\n",
       "      <th>Request Type</th>\n",
       "      <th>Request Details</th>\n",
       "      <th>...</th>\n",
       "      <th>DELETE - HSOC Zones</th>\n",
       "      <th>Fix It Zones as of 2018-02-07</th>\n",
       "      <th>CBD, BID and GBD Boundaries as of 2017</th>\n",
       "      <th>Central Market/Tenderloin Boundary</th>\n",
       "      <th>Areas of Vulnerability, 2016</th>\n",
       "      <th>Central Market/Tenderloin Boundary Polygon - Updated</th>\n",
       "      <th>HSOC Zones as of 2018-06-05</th>\n",
       "      <th>OWED Public Spaces</th>\n",
       "      <th>Parks Alliance CPSI (27+TL sites)</th>\n",
       "      <th>Neighborhoods</th>\n",
       "    </tr>\n",
       "  </thead>\n",
       "  <tbody>\n",
       "    <tr>\n",
       "      <th>0</th>\n",
       "      <td>17610753</td>\n",
       "      <td>11/30/2023 10:59:00 PM</td>\n",
       "      <td>12/01/2023 06:52:43 AM</td>\n",
       "      <td>12/01/2023 06:52:43 AM</td>\n",
       "      <td>Closed</td>\n",
       "      <td>Case Resolved</td>\n",
       "      <td>Recology_Abandoned</td>\n",
       "      <td>Street and Sidewalk Cleaning</td>\n",
       "      <td>Bulky Items</td>\n",
       "      <td>Furniture</td>\n",
       "      <td>...</td>\n",
       "      <td>1.0</td>\n",
       "      <td>6.0</td>\n",
       "      <td>NaN</td>\n",
       "      <td>NaN</td>\n",
       "      <td>2.0</td>\n",
       "      <td>NaN</td>\n",
       "      <td>1.0</td>\n",
       "      <td>NaN</td>\n",
       "      <td>NaN</td>\n",
       "      <td>32.0</td>\n",
       "    </tr>\n",
       "    <tr>\n",
       "      <th>1</th>\n",
       "      <td>17610752</td>\n",
       "      <td>11/30/2023 10:56:00 PM</td>\n",
       "      <td>12/15/2023 08:08:00 AM</td>\n",
       "      <td>12/15/2023 08:08:00 AM</td>\n",
       "      <td>Closed</td>\n",
       "      <td>Case is Invalid</td>\n",
       "      <td>311 Supervisor Queue</td>\n",
       "      <td>Noise Report</td>\n",
       "      <td>mechanical_equipment</td>\n",
       "      <td>Noise Report - mechanical_equipment</td>\n",
       "      <td>...</td>\n",
       "      <td>NaN</td>\n",
       "      <td>NaN</td>\n",
       "      <td>NaN</td>\n",
       "      <td>NaN</td>\n",
       "      <td>1.0</td>\n",
       "      <td>NaN</td>\n",
       "      <td>NaN</td>\n",
       "      <td>NaN</td>\n",
       "      <td>NaN</td>\n",
       "      <td>15.0</td>\n",
       "    </tr>\n",
       "    <tr>\n",
       "      <th>2</th>\n",
       "      <td>17610749</td>\n",
       "      <td>11/30/2023 10:44:00 PM</td>\n",
       "      <td>12/05/2023 03:23:00 PM</td>\n",
       "      <td>12/05/2023 03:23:00 PM</td>\n",
       "      <td>Closed</td>\n",
       "      <td>Case is a Duplicate - Case is a duplicate and ...</td>\n",
       "      <td>DPH - Environmental Health - Tobacco Queue</td>\n",
       "      <td>General Request - DPH</td>\n",
       "      <td>complaint</td>\n",
       "      <td>environmental_health_tobacco - complaint</td>\n",
       "      <td>...</td>\n",
       "      <td>NaN</td>\n",
       "      <td>NaN</td>\n",
       "      <td>NaN</td>\n",
       "      <td>NaN</td>\n",
       "      <td>NaN</td>\n",
       "      <td>NaN</td>\n",
       "      <td>NaN</td>\n",
       "      <td>NaN</td>\n",
       "      <td>NaN</td>\n",
       "      <td>NaN</td>\n",
       "    </tr>\n",
       "    <tr>\n",
       "      <th>3</th>\n",
       "      <td>17610745</td>\n",
       "      <td>11/30/2023 10:41:25 PM</td>\n",
       "      <td>12/01/2023 06:01:17 AM</td>\n",
       "      <td>12/01/2023 06:01:17 AM</td>\n",
       "      <td>Closed</td>\n",
       "      <td>Case Resolved</td>\n",
       "      <td>Recology_Overflowing</td>\n",
       "      <td>Street and Sidewalk Cleaning</td>\n",
       "      <td>City_garbage_can_overflowing</td>\n",
       "      <td>City_garbage_can_overflowing</td>\n",
       "      <td>...</td>\n",
       "      <td>NaN</td>\n",
       "      <td>5.0</td>\n",
       "      <td>NaN</td>\n",
       "      <td>NaN</td>\n",
       "      <td>2.0</td>\n",
       "      <td>NaN</td>\n",
       "      <td>NaN</td>\n",
       "      <td>NaN</td>\n",
       "      <td>NaN</td>\n",
       "      <td>104.0</td>\n",
       "    </tr>\n",
       "    <tr>\n",
       "      <th>4</th>\n",
       "      <td>17610743</td>\n",
       "      <td>11/30/2023 10:38:00 PM</td>\n",
       "      <td>12/01/2023 01:38:17 PM</td>\n",
       "      <td>12/01/2023 01:38:17 PM</td>\n",
       "      <td>Closed</td>\n",
       "      <td>Case Resolved</td>\n",
       "      <td>DPW Ops Queue</td>\n",
       "      <td>Street and Sidewalk Cleaning</td>\n",
       "      <td>General Cleaning</td>\n",
       "      <td>Other Loose Garbage</td>\n",
       "      <td>...</td>\n",
       "      <td>NaN</td>\n",
       "      <td>NaN</td>\n",
       "      <td>NaN</td>\n",
       "      <td>NaN</td>\n",
       "      <td>NaN</td>\n",
       "      <td>NaN</td>\n",
       "      <td>NaN</td>\n",
       "      <td>NaN</td>\n",
       "      <td>NaN</td>\n",
       "      <td>NaN</td>\n",
       "    </tr>\n",
       "  </tbody>\n",
       "</table>\n",
       "<p>5 rows × 48 columns</p>\n",
       "</div>"
      ],
      "text/plain": [
       "     CaseID                  Opened                  Closed  \\\n",
       "0  17610753  11/30/2023 10:59:00 PM  12/01/2023 06:52:43 AM   \n",
       "1  17610752  11/30/2023 10:56:00 PM  12/15/2023 08:08:00 AM   \n",
       "2  17610749  11/30/2023 10:44:00 PM  12/05/2023 03:23:00 PM   \n",
       "3  17610745  11/30/2023 10:41:25 PM  12/01/2023 06:01:17 AM   \n",
       "4  17610743  11/30/2023 10:38:00 PM  12/01/2023 01:38:17 PM   \n",
       "\n",
       "                  Updated  Status  \\\n",
       "0  12/01/2023 06:52:43 AM  Closed   \n",
       "1  12/15/2023 08:08:00 AM  Closed   \n",
       "2  12/05/2023 03:23:00 PM  Closed   \n",
       "3  12/01/2023 06:01:17 AM  Closed   \n",
       "4  12/01/2023 01:38:17 PM  Closed   \n",
       "\n",
       "                                        Status Notes  \\\n",
       "0                                      Case Resolved   \n",
       "1                                    Case is Invalid   \n",
       "2  Case is a Duplicate - Case is a duplicate and ...   \n",
       "3                                      Case Resolved   \n",
       "4                                      Case Resolved   \n",
       "\n",
       "                           Responsible Agency                      Category  \\\n",
       "0                          Recology_Abandoned  Street and Sidewalk Cleaning   \n",
       "1                        311 Supervisor Queue                  Noise Report   \n",
       "2  DPH - Environmental Health - Tobacco Queue         General Request - DPH   \n",
       "3                        Recology_Overflowing  Street and Sidewalk Cleaning   \n",
       "4                               DPW Ops Queue  Street and Sidewalk Cleaning   \n",
       "\n",
       "                   Request Type                           Request Details  \\\n",
       "0                   Bulky Items                                 Furniture   \n",
       "1          mechanical_equipment       Noise Report - mechanical_equipment   \n",
       "2                     complaint  environmental_health_tobacco - complaint   \n",
       "3  City_garbage_can_overflowing              City_garbage_can_overflowing   \n",
       "4              General Cleaning                       Other Loose Garbage   \n",
       "\n",
       "   ... DELETE - HSOC Zones Fix It Zones as of 2018-02-07  \\\n",
       "0  ...                 1.0                           6.0   \n",
       "1  ...                 NaN                           NaN   \n",
       "2  ...                 NaN                           NaN   \n",
       "3  ...                 NaN                           5.0   \n",
       "4  ...                 NaN                           NaN   \n",
       "\n",
       "   CBD, BID and GBD Boundaries as of 2017 Central Market/Tenderloin Boundary  \\\n",
       "0                                     NaN                                NaN   \n",
       "1                                     NaN                                NaN   \n",
       "2                                     NaN                                NaN   \n",
       "3                                     NaN                                NaN   \n",
       "4                                     NaN                                NaN   \n",
       "\n",
       "  Areas of Vulnerability, 2016  \\\n",
       "0                          2.0   \n",
       "1                          1.0   \n",
       "2                          NaN   \n",
       "3                          2.0   \n",
       "4                          NaN   \n",
       "\n",
       "   Central Market/Tenderloin Boundary Polygon - Updated  \\\n",
       "0                                                NaN      \n",
       "1                                                NaN      \n",
       "2                                                NaN      \n",
       "3                                                NaN      \n",
       "4                                                NaN      \n",
       "\n",
       "   HSOC Zones as of 2018-06-05 OWED Public Spaces  \\\n",
       "0                          1.0                NaN   \n",
       "1                          NaN                NaN   \n",
       "2                          NaN                NaN   \n",
       "3                          NaN                NaN   \n",
       "4                          NaN                NaN   \n",
       "\n",
       "  Parks Alliance CPSI (27+TL sites) Neighborhoods  \n",
       "0                               NaN          32.0  \n",
       "1                               NaN          15.0  \n",
       "2                               NaN           NaN  \n",
       "3                               NaN         104.0  \n",
       "4                               NaN           NaN  \n",
       "\n",
       "[5 rows x 48 columns]"
      ]
     },
     "execution_count": 3,
     "metadata": {},
     "output_type": "execute_result"
    }
   ],
   "source": [
    "df_311.head()"
   ]
  },
  {
   "cell_type": "markdown",
   "id": "c61560f9",
   "metadata": {
    "hidden": true
   },
   "source": [
    "We noticed as we were reviewing this data that there are some records with no Latitude or Longitude values, so let's exclude those."
   ]
  },
  {
   "cell_type": "code",
   "execution_count": 4,
   "id": "1727e61e",
   "metadata": {
    "hidden": true
   },
   "outputs": [],
   "source": [
    "df_311 = df_311.loc[df_311.Latitude >0]"
   ]
  },
  {
   "cell_type": "markdown",
   "id": "ec700080",
   "metadata": {
    "heading_collapsed": true
   },
   "source": [
    "### Create a Spatial Data Frame"
   ]
  },
  {
   "cell_type": "code",
   "execution_count": 5,
   "id": "78549882",
   "metadata": {
    "hidden": true
   },
   "outputs": [],
   "source": [
    "import arcgis"
   ]
  },
  {
   "cell_type": "markdown",
   "id": "b963863e",
   "metadata": {
    "hidden": true
   },
   "source": [
    "Let's create a spatially enabled DataFrame."
   ]
  },
  {
   "cell_type": "code",
   "execution_count": 6,
   "id": "b35a08a4",
   "metadata": {
    "hidden": true
   },
   "outputs": [],
   "source": [
    "df_311 = pandas.DataFrame.spatial.from_xy(df_311,\n",
    "                                         x_column = 'Longitude',\n",
    "                                         y_column = 'Latitude')"
   ]
  },
  {
   "cell_type": "markdown",
   "id": "cd96da89",
   "metadata": {
    "hidden": true
   },
   "source": [
    "Let's look at the DataFrame again.  Now there's a column called \"SHAPE\".  Now we can do some spatial analysis and display this in a map."
   ]
  },
  {
   "cell_type": "code",
   "execution_count": 7,
   "id": "b1299316",
   "metadata": {
    "hidden": true
   },
   "outputs": [
    {
     "data": {
      "text/html": [
       "<div>\n",
       "<style scoped>\n",
       "    .dataframe tbody tr th:only-of-type {\n",
       "        vertical-align: middle;\n",
       "    }\n",
       "\n",
       "    .dataframe tbody tr th {\n",
       "        vertical-align: top;\n",
       "    }\n",
       "\n",
       "    .dataframe thead th {\n",
       "        text-align: right;\n",
       "    }\n",
       "</style>\n",
       "<table border=\"1\" class=\"dataframe\">\n",
       "  <thead>\n",
       "    <tr style=\"text-align: right;\">\n",
       "      <th></th>\n",
       "      <th>CaseID</th>\n",
       "      <th>Opened</th>\n",
       "      <th>Closed</th>\n",
       "      <th>Updated</th>\n",
       "      <th>Status</th>\n",
       "      <th>Status Notes</th>\n",
       "      <th>Responsible Agency</th>\n",
       "      <th>Category</th>\n",
       "      <th>Request Type</th>\n",
       "      <th>Request Details</th>\n",
       "      <th>...</th>\n",
       "      <th>Fix It Zones as of 2018-02-07</th>\n",
       "      <th>CBD, BID and GBD Boundaries as of 2017</th>\n",
       "      <th>Central Market/Tenderloin Boundary</th>\n",
       "      <th>Areas of Vulnerability, 2016</th>\n",
       "      <th>Central Market/Tenderloin Boundary Polygon - Updated</th>\n",
       "      <th>HSOC Zones as of 2018-06-05</th>\n",
       "      <th>OWED Public Spaces</th>\n",
       "      <th>Parks Alliance CPSI (27+TL sites)</th>\n",
       "      <th>Neighborhoods</th>\n",
       "      <th>SHAPE</th>\n",
       "    </tr>\n",
       "  </thead>\n",
       "  <tbody>\n",
       "    <tr>\n",
       "      <th>0</th>\n",
       "      <td>17610753</td>\n",
       "      <td>11/30/2023 10:59:00 PM</td>\n",
       "      <td>12/01/2023 06:52:43 AM</td>\n",
       "      <td>12/01/2023 06:52:43 AM</td>\n",
       "      <td>Closed</td>\n",
       "      <td>Case Resolved</td>\n",
       "      <td>Recology_Abandoned</td>\n",
       "      <td>Street and Sidewalk Cleaning</td>\n",
       "      <td>Bulky Items</td>\n",
       "      <td>Furniture</td>\n",
       "      <td>...</td>\n",
       "      <td>6.0</td>\n",
       "      <td>NaN</td>\n",
       "      <td>NaN</td>\n",
       "      <td>2.0</td>\n",
       "      <td>NaN</td>\n",
       "      <td>1.0</td>\n",
       "      <td>NaN</td>\n",
       "      <td>NaN</td>\n",
       "      <td>32.0</td>\n",
       "      <td>{\"spatialReference\": {\"wkid\": 4326}, \"x\": -122...</td>\n",
       "    </tr>\n",
       "    <tr>\n",
       "      <th>1</th>\n",
       "      <td>17610752</td>\n",
       "      <td>11/30/2023 10:56:00 PM</td>\n",
       "      <td>12/15/2023 08:08:00 AM</td>\n",
       "      <td>12/15/2023 08:08:00 AM</td>\n",
       "      <td>Closed</td>\n",
       "      <td>Case is Invalid</td>\n",
       "      <td>311 Supervisor Queue</td>\n",
       "      <td>Noise Report</td>\n",
       "      <td>mechanical_equipment</td>\n",
       "      <td>Noise Report - mechanical_equipment</td>\n",
       "      <td>...</td>\n",
       "      <td>NaN</td>\n",
       "      <td>NaN</td>\n",
       "      <td>NaN</td>\n",
       "      <td>1.0</td>\n",
       "      <td>NaN</td>\n",
       "      <td>NaN</td>\n",
       "      <td>NaN</td>\n",
       "      <td>NaN</td>\n",
       "      <td>15.0</td>\n",
       "      <td>{\"spatialReference\": {\"wkid\": 4326}, \"x\": -122...</td>\n",
       "    </tr>\n",
       "    <tr>\n",
       "      <th>3</th>\n",
       "      <td>17610745</td>\n",
       "      <td>11/30/2023 10:41:25 PM</td>\n",
       "      <td>12/01/2023 06:01:17 AM</td>\n",
       "      <td>12/01/2023 06:01:17 AM</td>\n",
       "      <td>Closed</td>\n",
       "      <td>Case Resolved</td>\n",
       "      <td>Recology_Overflowing</td>\n",
       "      <td>Street and Sidewalk Cleaning</td>\n",
       "      <td>City_garbage_can_overflowing</td>\n",
       "      <td>City_garbage_can_overflowing</td>\n",
       "      <td>...</td>\n",
       "      <td>5.0</td>\n",
       "      <td>NaN</td>\n",
       "      <td>NaN</td>\n",
       "      <td>2.0</td>\n",
       "      <td>NaN</td>\n",
       "      <td>NaN</td>\n",
       "      <td>NaN</td>\n",
       "      <td>NaN</td>\n",
       "      <td>104.0</td>\n",
       "      <td>{\"spatialReference\": {\"wkid\": 4326}, \"x\": -122...</td>\n",
       "    </tr>\n",
       "    <tr>\n",
       "      <th>5</th>\n",
       "      <td>17610737</td>\n",
       "      <td>11/30/2023 10:36:57 PM</td>\n",
       "      <td>12/01/2023 06:01:10 AM</td>\n",
       "      <td>12/01/2023 06:01:10 AM</td>\n",
       "      <td>Closed</td>\n",
       "      <td>Case Resolved</td>\n",
       "      <td>Recology_Overflowing</td>\n",
       "      <td>Street and Sidewalk Cleaning</td>\n",
       "      <td>City_garbage_can_overflowing</td>\n",
       "      <td>City_garbage_can_overflowing</td>\n",
       "      <td>...</td>\n",
       "      <td>NaN</td>\n",
       "      <td>NaN</td>\n",
       "      <td>NaN</td>\n",
       "      <td>1.0</td>\n",
       "      <td>NaN</td>\n",
       "      <td>NaN</td>\n",
       "      <td>NaN</td>\n",
       "      <td>NaN</td>\n",
       "      <td>110.0</td>\n",
       "      <td>{\"spatialReference\": {\"wkid\": 4326}, \"x\": -122...</td>\n",
       "    </tr>\n",
       "    <tr>\n",
       "      <th>6</th>\n",
       "      <td>17610736</td>\n",
       "      <td>11/30/2023 10:35:00 PM</td>\n",
       "      <td>12/01/2023 08:19:00 AM</td>\n",
       "      <td>12/01/2023 08:19:00 AM</td>\n",
       "      <td>Closed</td>\n",
       "      <td>Case Resolved</td>\n",
       "      <td>DPW Ops Queue</td>\n",
       "      <td>Street and Sidewalk Cleaning</td>\n",
       "      <td>General Cleaning</td>\n",
       "      <td>Other Loose Garbage</td>\n",
       "      <td>...</td>\n",
       "      <td>NaN</td>\n",
       "      <td>NaN</td>\n",
       "      <td>NaN</td>\n",
       "      <td>2.0</td>\n",
       "      <td>NaN</td>\n",
       "      <td>3.0</td>\n",
       "      <td>NaN</td>\n",
       "      <td>NaN</td>\n",
       "      <td>53.0</td>\n",
       "      <td>{\"spatialReference\": {\"wkid\": 4326}, \"x\": -122...</td>\n",
       "    </tr>\n",
       "  </tbody>\n",
       "</table>\n",
       "<p>5 rows × 49 columns</p>\n",
       "</div>"
      ],
      "text/plain": [
       "     CaseID                  Opened                  Closed  \\\n",
       "0  17610753  11/30/2023 10:59:00 PM  12/01/2023 06:52:43 AM   \n",
       "1  17610752  11/30/2023 10:56:00 PM  12/15/2023 08:08:00 AM   \n",
       "3  17610745  11/30/2023 10:41:25 PM  12/01/2023 06:01:17 AM   \n",
       "5  17610737  11/30/2023 10:36:57 PM  12/01/2023 06:01:10 AM   \n",
       "6  17610736  11/30/2023 10:35:00 PM  12/01/2023 08:19:00 AM   \n",
       "\n",
       "                  Updated  Status     Status Notes    Responsible Agency  \\\n",
       "0  12/01/2023 06:52:43 AM  Closed    Case Resolved    Recology_Abandoned   \n",
       "1  12/15/2023 08:08:00 AM  Closed  Case is Invalid  311 Supervisor Queue   \n",
       "3  12/01/2023 06:01:17 AM  Closed    Case Resolved  Recology_Overflowing   \n",
       "5  12/01/2023 06:01:10 AM  Closed    Case Resolved  Recology_Overflowing   \n",
       "6  12/01/2023 08:19:00 AM  Closed    Case Resolved         DPW Ops Queue   \n",
       "\n",
       "                       Category                  Request Type  \\\n",
       "0  Street and Sidewalk Cleaning                   Bulky Items   \n",
       "1                  Noise Report          mechanical_equipment   \n",
       "3  Street and Sidewalk Cleaning  City_garbage_can_overflowing   \n",
       "5  Street and Sidewalk Cleaning  City_garbage_can_overflowing   \n",
       "6  Street and Sidewalk Cleaning              General Cleaning   \n",
       "\n",
       "                       Request Details  ... Fix It Zones as of 2018-02-07  \\\n",
       "0                            Furniture  ...                           6.0   \n",
       "1  Noise Report - mechanical_equipment  ...                           NaN   \n",
       "3         City_garbage_can_overflowing  ...                           5.0   \n",
       "5         City_garbage_can_overflowing  ...                           NaN   \n",
       "6                  Other Loose Garbage  ...                           NaN   \n",
       "\n",
       "  CBD, BID and GBD Boundaries as of 2017  Central Market/Tenderloin Boundary  \\\n",
       "0                                    NaN                                 NaN   \n",
       "1                                    NaN                                 NaN   \n",
       "3                                    NaN                                 NaN   \n",
       "5                                    NaN                                 NaN   \n",
       "6                                    NaN                                 NaN   \n",
       "\n",
       "  Areas of Vulnerability, 2016  \\\n",
       "0                          2.0   \n",
       "1                          1.0   \n",
       "3                          2.0   \n",
       "5                          1.0   \n",
       "6                          2.0   \n",
       "\n",
       "  Central Market/Tenderloin Boundary Polygon - Updated  \\\n",
       "0                                                NaN     \n",
       "1                                                NaN     \n",
       "3                                                NaN     \n",
       "5                                                NaN     \n",
       "6                                                NaN     \n",
       "\n",
       "   HSOC Zones as of 2018-06-05  OWED Public Spaces  \\\n",
       "0                          1.0                 NaN   \n",
       "1                          NaN                 NaN   \n",
       "3                          NaN                 NaN   \n",
       "5                          NaN                 NaN   \n",
       "6                          3.0                 NaN   \n",
       "\n",
       "  Parks Alliance CPSI (27+TL sites) Neighborhoods  \\\n",
       "0                               NaN          32.0   \n",
       "1                               NaN          15.0   \n",
       "3                               NaN         104.0   \n",
       "5                               NaN         110.0   \n",
       "6                               NaN          53.0   \n",
       "\n",
       "                                               SHAPE  \n",
       "0  {\"spatialReference\": {\"wkid\": 4326}, \"x\": -122...  \n",
       "1  {\"spatialReference\": {\"wkid\": 4326}, \"x\": -122...  \n",
       "3  {\"spatialReference\": {\"wkid\": 4326}, \"x\": -122...  \n",
       "5  {\"spatialReference\": {\"wkid\": 4326}, \"x\": -122...  \n",
       "6  {\"spatialReference\": {\"wkid\": 4326}, \"x\": -122...  \n",
       "\n",
       "[5 rows x 49 columns]"
      ]
     },
     "execution_count": 7,
     "metadata": {},
     "output_type": "execute_result"
    }
   ],
   "source": [
    "df_311.head()"
   ]
  },
  {
   "cell_type": "markdown",
   "id": "6383da24",
   "metadata": {},
   "source": [
    "### Display on a map"
   ]
  },
  {
   "cell_type": "markdown",
   "id": "86ee0451",
   "metadata": {},
   "source": [
    "https://developers.arcgis.com/python/guide/visualizing-data-with-the-spatially-enabled-dataframe/"
   ]
  },
  {
   "cell_type": "markdown",
   "id": "4834ad68",
   "metadata": {},
   "source": [
    "#### Unique Value Symbology"
   ]
  },
  {
   "cell_type": "code",
   "execution_count": 8,
   "id": "6f373533",
   "metadata": {},
   "outputs": [],
   "source": [
    "gis = arcgis.GIS()"
   ]
  },
  {
   "cell_type": "code",
   "execution_count": 9,
   "id": "397130b5",
   "metadata": {},
   "outputs": [],
   "source": [
    "map_view = gis.map(\"San Francisco, CA\")"
   ]
  },
  {
   "cell_type": "code",
   "execution_count": 10,
   "id": "893db1c8",
   "metadata": {},
   "outputs": [
    {
     "data": {
      "text/plain": [
       "True"
      ]
     },
     "execution_count": 10,
     "metadata": {},
     "output_type": "execute_result"
    }
   ],
   "source": [
    "df_311.spatial.plot(map_widget = map_view,\n",
    "                    renderer_type = 'u',\n",
    "                    col = 'Category'\n",
    "                )"
   ]
  },
  {
   "cell_type": "code",
   "execution_count": 11,
   "id": "29dcfcd5",
   "metadata": {},
   "outputs": [
    {
     "data": {
      "application/vnd.jupyter.widget-view+json": {
       "model_id": "c0acc9a5b9c9437daf6e8b2f26c5788d",
       "version_major": 2,
       "version_minor": 0
      },
      "text/plain": [
       "MapView(layout=Layout(height='400px', width='100%'))"
      ]
     },
     "metadata": {},
     "output_type": "display_data"
    },
    {
     "data": {
      "text/html": [
       "<div class=\"map-static-img-preview-7dbdb54c-1180-4693-8b79-266774420d37\"><img src=\"\"></img></div>"
      ],
      "text/plain": [
       "<IPython.core.display.HTML object>"
      ]
     },
     "metadata": {},
     "output_type": "display_data"
    },
    {
     "data": {
      "text/html": [
       "<div class=\"map-html-embed-preview-7dbdb54c-1180-4693-8b79-266774420d37\"></div>"
      ],
      "text/plain": [
       "<IPython.core.display.HTML object>"
      ]
     },
     "metadata": {},
     "output_type": "display_data"
    }
   ],
   "source": [
    "map_view"
   ]
  },
  {
   "cell_type": "code",
   "execution_count": 12,
   "id": "749e4ff9",
   "metadata": {},
   "outputs": [],
   "source": [
    "map_view.legend = True"
   ]
  },
  {
   "cell_type": "code",
   "execution_count": null,
   "id": "fafcb63e",
   "metadata": {},
   "outputs": [],
   "source": []
  }
 ],
 "metadata": {
  "kernelspec": {
   "display_name": "Python 3 (ipykernel)",
   "language": "python",
   "name": "python3"
  },
  "language_info": {
   "codemirror_mode": {
    "name": "ipython",
    "version": 3
   },
   "file_extension": ".py",
   "mimetype": "text/x-python",
   "name": "python",
   "nbconvert_exporter": "python",
   "pygments_lexer": "ipython3",
   "version": "3.9.18"
  }
 },
 "nbformat": 4,
 "nbformat_minor": 5
}
