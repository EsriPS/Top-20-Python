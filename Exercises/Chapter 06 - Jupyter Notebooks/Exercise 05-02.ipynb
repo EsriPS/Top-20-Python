{
 "cells": [
  {
   "cell_type": "markdown",
   "id": "8474d205",
   "metadata": {},
   "source": [
    "## Tutorial 06-02 - Creating a Map in a Notebook"
   ]
  },
  {
   "cell_type": "markdown",
   "id": "721d382b",
   "metadata": {},
   "source": [
    "Let’s go back to our GeoNinjas PythonAnalytics job.  Today, we’ve been tasked with some spatial analysis regarding public works data in San Francisco.  We’ve been given a CSV file of all the 311 calls for the month of November 2023.  A data scientist on the team noticed that this data has Latitude and Longitude columns and is wondering if we can display the data spatially for them."
   ]
  },
  {
   "cell_type": "markdown",
   "id": "41f6ccd9",
   "metadata": {
    "heading_collapsed": true
   },
   "source": [
    "### Import Data from CSV"
   ]
  },
  {
   "cell_type": "markdown",
   "id": "e98cbdb9",
   "metadata": {
    "heading_collapsed": true,
    "hidden": true
   },
   "source": [
    "#### 1.  Import the pandas package"
   ]
  },
  {
   "cell_type": "markdown",
   "id": "37b5c014",
   "metadata": {
    "hidden": true
   },
   "source": [
    "You’re going to use a package called pandas to read our csv.  If you’re not familiar with pandas or DataFrames in general, don’t worry too much.  We’ll go into more detail on DataFrames in another chapter.  In this case, you’re going to use pandas to read this csv with the intent to create a spatially enabled DataFrame.\n",
    "\n",
    "Start by executing the following code to import the pandas package."
   ]
  },
  {
   "cell_type": "code",
   "execution_count": 6,
   "id": "80bf9665",
   "metadata": {
    "hidden": true
   },
   "outputs": [],
   "source": [
    "import pandas"
   ]
  },
  {
   "cell_type": "markdown",
   "id": "52ec647f",
   "metadata": {
    "heading_collapsed": true,
    "hidden": true
   },
   "source": [
    "#### 2.  Use pandas to read the CSV data."
   ]
  },
  {
   "cell_type": "markdown",
   "id": "580aad7a",
   "metadata": {
    "hidden": true
   },
   "source": [
    "Now you can use the pandas package to read data from the CSV file.  If your Notebook isn’t in the same folder as your CSV, you may want to use the full path to your csv."
   ]
  },
  {
   "cell_type": "code",
   "execution_count": 7,
   "id": "340e6fd6",
   "metadata": {
    "hidden": true
   },
   "outputs": [],
   "source": [
    "df_311 = pandas.read_csv('./311_Cases.csv')"
   ]
  },
  {
   "cell_type": "markdown",
   "id": "7a0b853c",
   "metadata": {
    "hidden": true
   },
   "source": [
    "NOTE - The dot notation that you see in my file path is a relative path. This is a handy way to use file paths that aren’t specific to any one machine.  The dot at the beginning of the path means that the path starts in the folder that my Notebook is in.  If the csv is in the same folder as the Notebook you created, this format should work just fine."
   ]
  },
  {
   "cell_type": "markdown",
   "id": "dcdc40e6",
   "metadata": {
    "heading_collapsed": true,
    "hidden": true
   },
   "source": [
    "#### 3.  Explore the 311 data using pandas"
   ]
  },
  {
   "cell_type": "markdown",
   "id": "5a0b935b",
   "metadata": {
    "hidden": true
   },
   "source": [
    "Now that you’ve read the CSV, you have a DataFrame you can use.  There are three things you can do to get a good idea of what our data looks like.  The first thing is you can find out how many records and columns there are by using this line of code."
   ]
  },
  {
   "cell_type": "code",
   "execution_count": 8,
   "id": "f298ab63",
   "metadata": {
    "hidden": true
   },
   "outputs": [
    {
     "data": {
      "text/plain": [
       "(47540, 48)"
      ]
     },
     "execution_count": 8,
     "metadata": {},
     "output_type": "execute_result"
    }
   ],
   "source": [
    "df_311.shape"
   ]
  },
  {
   "cell_type": "markdown",
   "id": "6564f54b",
   "metadata": {
    "hidden": true
   },
   "source": [
    "Next, you can look at a description of the columns and what kinds of data are in the DataFrame using the following code."
   ]
  },
  {
   "cell_type": "code",
   "execution_count": 9,
   "id": "2a33ad90",
   "metadata": {
    "hidden": true
   },
   "outputs": [
    {
     "data": {
      "text/plain": [
       "CaseID                                                    int64\n",
       "Opened                                                   object\n",
       "Closed                                                   object\n",
       "Updated                                                  object\n",
       "Status                                                   object\n",
       "Status Notes                                             object\n",
       "Responsible Agency                                       object\n",
       "Category                                                 object\n",
       "Request Type                                             object\n",
       "Request Details                                          object\n",
       "Address                                                  object\n",
       "Street                                                   object\n",
       "Supervisor District                                     float64\n",
       "Neighborhood                                             object\n",
       "Police District                                          object\n",
       "Latitude                                                float64\n",
       "Longitude                                               float64\n",
       "Point                                                    object\n",
       "Source                                                   object\n",
       "Media URL                                                object\n",
       "BOS_2012                                                float64\n",
       "SF Find Neighborhoods                                   float64\n",
       "Current Police Districts                                float64\n",
       "Current Supervisor Districts                            float64\n",
       "Analysis Neighborhoods                                  float64\n",
       "DELETE - Supervisor Districts                           float64\n",
       "DELETE - Fire Prevention Districts                      float64\n",
       "DELETE - Current Police Districts                       float64\n",
       "DELETE - Zip Codes                                      float64\n",
       "DELETE - Police Districts                               float64\n",
       "DELETE - Neighborhoods                                  float64\n",
       "DELETE - Neighborhoods_from_fyvs_ahh9                   float64\n",
       "DELETE - 2017 Fix It Zones                              float64\n",
       "DELETE - SF Find Neighborhoods                          float64\n",
       "Civic Center Harm Reduction Project Boundary            float64\n",
       "DELETE - Current Supervisor Districts                   float64\n",
       "Fix It Zones as of 2017-11-06                           float64\n",
       "Invest In Neighborhoods (IIN) Areas                     float64\n",
       "DELETE - HSOC Zones                                     float64\n",
       "Fix It Zones as of 2018-02-07                           float64\n",
       "CBD, BID and GBD Boundaries as of 2017                  float64\n",
       "Central Market/Tenderloin Boundary                      float64\n",
       "Areas of Vulnerability, 2016                            float64\n",
       "Central Market/Tenderloin Boundary Polygon - Updated    float64\n",
       "HSOC Zones as of 2018-06-05                             float64\n",
       "OWED Public Spaces                                      float64\n",
       "Parks Alliance CPSI (27+TL sites)                       float64\n",
       "Neighborhoods                                           float64\n",
       "dtype: object"
      ]
     },
     "execution_count": 9,
     "metadata": {},
     "output_type": "execute_result"
    }
   ],
   "source": [
    "df_311.dtypes"
   ]
  },
  {
   "cell_type": "markdown",
   "id": "90595a0d",
   "metadata": {
    "hidden": true
   },
   "source": [
    "Finally, you can take a look at the first five rows of the DataFrame to get an idea of what you data really looks like using the following code:"
   ]
  },
  {
   "cell_type": "code",
   "execution_count": 3,
   "id": "4ec910f6",
   "metadata": {
    "hidden": true,
    "scrolled": true
   },
   "outputs": [
    {
     "data": {
      "text/html": [
       "<div>\n",
       "<style scoped>\n",
       "    .dataframe tbody tr th:only-of-type {\n",
       "        vertical-align: middle;\n",
       "    }\n",
       "\n",
       "    .dataframe tbody tr th {\n",
       "        vertical-align: top;\n",
       "    }\n",
       "\n",
       "    .dataframe thead th {\n",
       "        text-align: right;\n",
       "    }\n",
       "</style>\n",
       "<table border=\"1\" class=\"dataframe\">\n",
       "  <thead>\n",
       "    <tr style=\"text-align: right;\">\n",
       "      <th></th>\n",
       "      <th>CaseID</th>\n",
       "      <th>Opened</th>\n",
       "      <th>Closed</th>\n",
       "      <th>Updated</th>\n",
       "      <th>Status</th>\n",
       "      <th>Status Notes</th>\n",
       "      <th>Responsible Agency</th>\n",
       "      <th>Category</th>\n",
       "      <th>Request Type</th>\n",
       "      <th>Request Details</th>\n",
       "      <th>...</th>\n",
       "      <th>DELETE - HSOC Zones</th>\n",
       "      <th>Fix It Zones as of 2018-02-07</th>\n",
       "      <th>CBD, BID and GBD Boundaries as of 2017</th>\n",
       "      <th>Central Market/Tenderloin Boundary</th>\n",
       "      <th>Areas of Vulnerability, 2016</th>\n",
       "      <th>Central Market/Tenderloin Boundary Polygon - Updated</th>\n",
       "      <th>HSOC Zones as of 2018-06-05</th>\n",
       "      <th>OWED Public Spaces</th>\n",
       "      <th>Parks Alliance CPSI (27+TL sites)</th>\n",
       "      <th>Neighborhoods</th>\n",
       "    </tr>\n",
       "  </thead>\n",
       "  <tbody>\n",
       "    <tr>\n",
       "      <th>0</th>\n",
       "      <td>17610753</td>\n",
       "      <td>11/30/2023 10:59:00 PM</td>\n",
       "      <td>12/01/2023 06:52:43 AM</td>\n",
       "      <td>12/01/2023 06:52:43 AM</td>\n",
       "      <td>Closed</td>\n",
       "      <td>Case Resolved</td>\n",
       "      <td>Recology_Abandoned</td>\n",
       "      <td>Street and Sidewalk Cleaning</td>\n",
       "      <td>Bulky Items</td>\n",
       "      <td>Furniture</td>\n",
       "      <td>...</td>\n",
       "      <td>1.0</td>\n",
       "      <td>6.0</td>\n",
       "      <td>NaN</td>\n",
       "      <td>NaN</td>\n",
       "      <td>2.0</td>\n",
       "      <td>NaN</td>\n",
       "      <td>1.0</td>\n",
       "      <td>NaN</td>\n",
       "      <td>NaN</td>\n",
       "      <td>32.0</td>\n",
       "    </tr>\n",
       "    <tr>\n",
       "      <th>1</th>\n",
       "      <td>17610752</td>\n",
       "      <td>11/30/2023 10:56:00 PM</td>\n",
       "      <td>12/15/2023 08:08:00 AM</td>\n",
       "      <td>12/15/2023 08:08:00 AM</td>\n",
       "      <td>Closed</td>\n",
       "      <td>Case is Invalid</td>\n",
       "      <td>311 Supervisor Queue</td>\n",
       "      <td>Noise Report</td>\n",
       "      <td>mechanical_equipment</td>\n",
       "      <td>Noise Report - mechanical_equipment</td>\n",
       "      <td>...</td>\n",
       "      <td>NaN</td>\n",
       "      <td>NaN</td>\n",
       "      <td>NaN</td>\n",
       "      <td>NaN</td>\n",
       "      <td>1.0</td>\n",
       "      <td>NaN</td>\n",
       "      <td>NaN</td>\n",
       "      <td>NaN</td>\n",
       "      <td>NaN</td>\n",
       "      <td>15.0</td>\n",
       "    </tr>\n",
       "    <tr>\n",
       "      <th>2</th>\n",
       "      <td>17610749</td>\n",
       "      <td>11/30/2023 10:44:00 PM</td>\n",
       "      <td>12/05/2023 03:23:00 PM</td>\n",
       "      <td>12/05/2023 03:23:00 PM</td>\n",
       "      <td>Closed</td>\n",
       "      <td>Case is a Duplicate - Case is a duplicate and ...</td>\n",
       "      <td>DPH - Environmental Health - Tobacco Queue</td>\n",
       "      <td>General Request - DPH</td>\n",
       "      <td>complaint</td>\n",
       "      <td>environmental_health_tobacco - complaint</td>\n",
       "      <td>...</td>\n",
       "      <td>NaN</td>\n",
       "      <td>NaN</td>\n",
       "      <td>NaN</td>\n",
       "      <td>NaN</td>\n",
       "      <td>NaN</td>\n",
       "      <td>NaN</td>\n",
       "      <td>NaN</td>\n",
       "      <td>NaN</td>\n",
       "      <td>NaN</td>\n",
       "      <td>NaN</td>\n",
       "    </tr>\n",
       "    <tr>\n",
       "      <th>3</th>\n",
       "      <td>17610745</td>\n",
       "      <td>11/30/2023 10:41:25 PM</td>\n",
       "      <td>12/01/2023 06:01:17 AM</td>\n",
       "      <td>12/01/2023 06:01:17 AM</td>\n",
       "      <td>Closed</td>\n",
       "      <td>Case Resolved</td>\n",
       "      <td>Recology_Overflowing</td>\n",
       "      <td>Street and Sidewalk Cleaning</td>\n",
       "      <td>City_garbage_can_overflowing</td>\n",
       "      <td>City_garbage_can_overflowing</td>\n",
       "      <td>...</td>\n",
       "      <td>NaN</td>\n",
       "      <td>5.0</td>\n",
       "      <td>NaN</td>\n",
       "      <td>NaN</td>\n",
       "      <td>2.0</td>\n",
       "      <td>NaN</td>\n",
       "      <td>NaN</td>\n",
       "      <td>NaN</td>\n",
       "      <td>NaN</td>\n",
       "      <td>104.0</td>\n",
       "    </tr>\n",
       "    <tr>\n",
       "      <th>4</th>\n",
       "      <td>17610743</td>\n",
       "      <td>11/30/2023 10:38:00 PM</td>\n",
       "      <td>12/01/2023 01:38:17 PM</td>\n",
       "      <td>12/01/2023 01:38:17 PM</td>\n",
       "      <td>Closed</td>\n",
       "      <td>Case Resolved</td>\n",
       "      <td>DPW Ops Queue</td>\n",
       "      <td>Street and Sidewalk Cleaning</td>\n",
       "      <td>General Cleaning</td>\n",
       "      <td>Other Loose Garbage</td>\n",
       "      <td>...</td>\n",
       "      <td>NaN</td>\n",
       "      <td>NaN</td>\n",
       "      <td>NaN</td>\n",
       "      <td>NaN</td>\n",
       "      <td>NaN</td>\n",
       "      <td>NaN</td>\n",
       "      <td>NaN</td>\n",
       "      <td>NaN</td>\n",
       "      <td>NaN</td>\n",
       "      <td>NaN</td>\n",
       "    </tr>\n",
       "  </tbody>\n",
       "</table>\n",
       "<p>5 rows × 48 columns</p>\n",
       "</div>"
      ],
      "text/plain": [
       "     CaseID                  Opened                  Closed  \\\n",
       "0  17610753  11/30/2023 10:59:00 PM  12/01/2023 06:52:43 AM   \n",
       "1  17610752  11/30/2023 10:56:00 PM  12/15/2023 08:08:00 AM   \n",
       "2  17610749  11/30/2023 10:44:00 PM  12/05/2023 03:23:00 PM   \n",
       "3  17610745  11/30/2023 10:41:25 PM  12/01/2023 06:01:17 AM   \n",
       "4  17610743  11/30/2023 10:38:00 PM  12/01/2023 01:38:17 PM   \n",
       "\n",
       "                  Updated  Status  \\\n",
       "0  12/01/2023 06:52:43 AM  Closed   \n",
       "1  12/15/2023 08:08:00 AM  Closed   \n",
       "2  12/05/2023 03:23:00 PM  Closed   \n",
       "3  12/01/2023 06:01:17 AM  Closed   \n",
       "4  12/01/2023 01:38:17 PM  Closed   \n",
       "\n",
       "                                        Status Notes  \\\n",
       "0                                      Case Resolved   \n",
       "1                                    Case is Invalid   \n",
       "2  Case is a Duplicate - Case is a duplicate and ...   \n",
       "3                                      Case Resolved   \n",
       "4                                      Case Resolved   \n",
       "\n",
       "                           Responsible Agency                      Category  \\\n",
       "0                          Recology_Abandoned  Street and Sidewalk Cleaning   \n",
       "1                        311 Supervisor Queue                  Noise Report   \n",
       "2  DPH - Environmental Health - Tobacco Queue         General Request - DPH   \n",
       "3                        Recology_Overflowing  Street and Sidewalk Cleaning   \n",
       "4                               DPW Ops Queue  Street and Sidewalk Cleaning   \n",
       "\n",
       "                   Request Type                           Request Details  \\\n",
       "0                   Bulky Items                                 Furniture   \n",
       "1          mechanical_equipment       Noise Report - mechanical_equipment   \n",
       "2                     complaint  environmental_health_tobacco - complaint   \n",
       "3  City_garbage_can_overflowing              City_garbage_can_overflowing   \n",
       "4              General Cleaning                       Other Loose Garbage   \n",
       "\n",
       "   ... DELETE - HSOC Zones Fix It Zones as of 2018-02-07  \\\n",
       "0  ...                 1.0                           6.0   \n",
       "1  ...                 NaN                           NaN   \n",
       "2  ...                 NaN                           NaN   \n",
       "3  ...                 NaN                           5.0   \n",
       "4  ...                 NaN                           NaN   \n",
       "\n",
       "   CBD, BID and GBD Boundaries as of 2017 Central Market/Tenderloin Boundary  \\\n",
       "0                                     NaN                                NaN   \n",
       "1                                     NaN                                NaN   \n",
       "2                                     NaN                                NaN   \n",
       "3                                     NaN                                NaN   \n",
       "4                                     NaN                                NaN   \n",
       "\n",
       "  Areas of Vulnerability, 2016  \\\n",
       "0                          2.0   \n",
       "1                          1.0   \n",
       "2                          NaN   \n",
       "3                          2.0   \n",
       "4                          NaN   \n",
       "\n",
       "   Central Market/Tenderloin Boundary Polygon - Updated  \\\n",
       "0                                                NaN      \n",
       "1                                                NaN      \n",
       "2                                                NaN      \n",
       "3                                                NaN      \n",
       "4                                                NaN      \n",
       "\n",
       "   HSOC Zones as of 2018-06-05 OWED Public Spaces  \\\n",
       "0                          1.0                NaN   \n",
       "1                          NaN                NaN   \n",
       "2                          NaN                NaN   \n",
       "3                          NaN                NaN   \n",
       "4                          NaN                NaN   \n",
       "\n",
       "  Parks Alliance CPSI (27+TL sites) Neighborhoods  \n",
       "0                               NaN          32.0  \n",
       "1                               NaN          15.0  \n",
       "2                               NaN           NaN  \n",
       "3                               NaN         104.0  \n",
       "4                               NaN           NaN  \n",
       "\n",
       "[5 rows x 48 columns]"
      ]
     },
     "execution_count": 3,
     "metadata": {},
     "output_type": "execute_result"
    }
   ],
   "source": [
    "df_311.head()"
   ]
  },
  {
   "cell_type": "markdown",
   "id": "ec700080",
   "metadata": {
    "heading_collapsed": true
   },
   "source": [
    "### Create a Spatially Enabled Data Frame"
   ]
  },
  {
   "cell_type": "markdown",
   "id": "63412e21",
   "metadata": {
    "heading_collapsed": true,
    "hidden": true
   },
   "source": [
    "#### 1.  Import the ArcGIS API for Python"
   ]
  },
  {
   "cell_type": "markdown",
   "id": "377d99ac",
   "metadata": {
    "hidden": true
   },
   "source": [
    "First you’ll need to import the ArcGIS API for Python using the following code:"
   ]
  },
  {
   "cell_type": "code",
   "execution_count": 18,
   "id": "78549882",
   "metadata": {
    "hidden": true
   },
   "outputs": [],
   "source": [
    "import arcgis"
   ]
  },
  {
   "cell_type": "markdown",
   "id": "145902e0",
   "metadata": {
    "hidden": true
   },
   "source": [
    "#### 2.  Create a Spatially Enabled DataFrame"
   ]
  },
  {
   "cell_type": "markdown",
   "id": "b963863e",
   "metadata": {
    "hidden": true
   },
   "source": [
    "Next you’ll use the spatial accessor to turn our DataFrame into a spatially enabled DataFrame."
   ]
  },
  {
   "cell_type": "code",
   "execution_count": 11,
   "id": "b35a08a4",
   "metadata": {
    "hidden": true
   },
   "outputs": [],
   "source": [
    "df_311 = pandas.DataFrame.spatial.from_xy(df_311,\n",
    "                                         x_column = 'Longitude',\n",
    "                                         y_column = 'Latitude')"
   ]
  },
  {
   "cell_type": "markdown",
   "id": "cd96da89",
   "metadata": {
    "hidden": true
   },
   "source": [
    "Now if you look at the DataFrame, you’ll notice a new column called “SHAPE”.  This contains geometry that can be used for analysis and display."
   ]
  },
  {
   "cell_type": "code",
   "execution_count": 20,
   "id": "b1299316",
   "metadata": {
    "hidden": true
   },
   "outputs": [
    {
     "data": {
      "text/html": [
       "<div>\n",
       "<style scoped>\n",
       "    .dataframe tbody tr th:only-of-type {\n",
       "        vertical-align: middle;\n",
       "    }\n",
       "\n",
       "    .dataframe tbody tr th {\n",
       "        vertical-align: top;\n",
       "    }\n",
       "\n",
       "    .dataframe thead th {\n",
       "        text-align: right;\n",
       "    }\n",
       "</style>\n",
       "<table border=\"1\" class=\"dataframe\">\n",
       "  <thead>\n",
       "    <tr style=\"text-align: right;\">\n",
       "      <th></th>\n",
       "      <th>Category</th>\n",
       "      <th>Latitude</th>\n",
       "      <th>Longitude</th>\n",
       "      <th>SHAPE</th>\n",
       "    </tr>\n",
       "  </thead>\n",
       "  <tbody>\n",
       "    <tr>\n",
       "      <th>0</th>\n",
       "      <td>Street and Sidewalk Cleaning</td>\n",
       "      <td>37.776009</td>\n",
       "      <td>-122.410200</td>\n",
       "      <td>{\"spatialReference\": {\"wkid\": 4326}, \"x\": -122...</td>\n",
       "    </tr>\n",
       "    <tr>\n",
       "      <th>1</th>\n",
       "      <td>Noise Report</td>\n",
       "      <td>37.798813</td>\n",
       "      <td>-122.424171</td>\n",
       "      <td>{\"spatialReference\": {\"wkid\": 4326}, \"x\": -122...</td>\n",
       "    </tr>\n",
       "    <tr>\n",
       "      <th>2</th>\n",
       "      <td>General Request - DPH</td>\n",
       "      <td>0.000000</td>\n",
       "      <td>0.000000</td>\n",
       "      <td>{\"spatialReference\": {\"wkid\": 4326}, \"x\": 0.0,...</td>\n",
       "    </tr>\n",
       "    <tr>\n",
       "      <th>3</th>\n",
       "      <td>Street and Sidewalk Cleaning</td>\n",
       "      <td>37.793764</td>\n",
       "      <td>-122.407756</td>\n",
       "      <td>{\"spatialReference\": {\"wkid\": 4326}, \"x\": -122...</td>\n",
       "    </tr>\n",
       "    <tr>\n",
       "      <th>4</th>\n",
       "      <td>Street and Sidewalk Cleaning</td>\n",
       "      <td>0.000000</td>\n",
       "      <td>0.000000</td>\n",
       "      <td>{\"spatialReference\": {\"wkid\": 4326}, \"x\": 0.0,...</td>\n",
       "    </tr>\n",
       "  </tbody>\n",
       "</table>\n",
       "</div>"
      ],
      "text/plain": [
       "                       Category   Latitude   Longitude  \\\n",
       "0  Street and Sidewalk Cleaning  37.776009 -122.410200   \n",
       "1                  Noise Report  37.798813 -122.424171   \n",
       "2         General Request - DPH   0.000000    0.000000   \n",
       "3  Street and Sidewalk Cleaning  37.793764 -122.407756   \n",
       "4  Street and Sidewalk Cleaning   0.000000    0.000000   \n",
       "\n",
       "                                               SHAPE  \n",
       "0  {\"spatialReference\": {\"wkid\": 4326}, \"x\": -122...  \n",
       "1  {\"spatialReference\": {\"wkid\": 4326}, \"x\": -122...  \n",
       "2  {\"spatialReference\": {\"wkid\": 4326}, \"x\": 0.0,...  \n",
       "3  {\"spatialReference\": {\"wkid\": 4326}, \"x\": -122...  \n",
       "4  {\"spatialReference\": {\"wkid\": 4326}, \"x\": 0.0,...  "
      ]
     },
     "execution_count": 20,
     "metadata": {},
     "output_type": "execute_result"
    }
   ],
   "source": [
    "df_311[['Category','Latitude','Longitude','SHAPE']].head()"
   ]
  },
  {
   "cell_type": "markdown",
   "id": "6383da24",
   "metadata": {
    "heading_collapsed": true
   },
   "source": [
    "### Display Data on a Map"
   ]
  },
  {
   "cell_type": "markdown",
   "id": "4bf75655",
   "metadata": {
    "hidden": true
   },
   "source": [
    "When we imported the ArcGIS API for Python in our notebook, we also imported some extra functionality into our Notebook.  One of the extra pieces of functionality we imported was a “Map View” widget.  This will let us create a map inside our notebook and add our data to it."
   ]
  },
  {
   "cell_type": "markdown",
   "id": "86ee0451",
   "metadata": {
    "heading_collapsed": true,
    "hidden": true
   },
   "source": [
    "#### 1. Create a map widget object"
   ]
  },
  {
   "cell_type": "markdown",
   "id": "c02f45c9",
   "metadata": {
    "hidden": true
   },
   "source": [
    "You can start by creating a map view.  You’ll need to create a GIS object first.  Then you can use that GIS object to create a map centered on your area of interest (which is San Francisco in this case)."
   ]
  },
  {
   "cell_type": "code",
   "execution_count": 13,
   "id": "6f373533",
   "metadata": {
    "hidden": true
   },
   "outputs": [],
   "source": [
    "gis = arcgis.GIS()"
   ]
  },
  {
   "cell_type": "code",
   "execution_count": 14,
   "id": "397130b5",
   "metadata": {
    "hidden": true
   },
   "outputs": [],
   "source": [
    "map_view = gis.map(\"San Francisco, CA\")"
   ]
  },
  {
   "cell_type": "markdown",
   "id": "4834ad68",
   "metadata": {
    "hidden": true
   },
   "source": [
    "#### 2.  Add the Spatially Enabled DataFrame to the Map View"
   ]
  },
  {
   "cell_type": "markdown",
   "id": "305ec001",
   "metadata": {
    "hidden": true
   },
   "source": [
    "Now that you’ve instantiated a map view, you can add the DataFrame as a layer.  In this case, you can set some extra parameters for renderer_type and col to indicate that you’d like a unique values renderer (renderer_type = ‘u’) based on the “Category” column (col = ‘Category’)."
   ]
  },
  {
   "cell_type": "code",
   "execution_count": 15,
   "id": "893db1c8",
   "metadata": {
    "hidden": true
   },
   "outputs": [
    {
     "data": {
      "text/plain": [
       "True"
      ]
     },
     "execution_count": 15,
     "metadata": {},
     "output_type": "execute_result"
    }
   ],
   "source": [
    "df_311.spatial.plot(map_widget = map_view,\n",
    "                    renderer_type = 'u',\n",
    "                    col = 'Category'\n",
    "                )"
   ]
  },
  {
   "cell_type": "markdown",
   "id": "514ee70d",
   "metadata": {
    "hidden": true
   },
   "source": [
    "Now you’ve got your layer added to your map view, but you aren’t seeing a map.  you’ll need to return the map view to display it and interact with it.  Executing the following code will return the map view."
   ]
  },
  {
   "cell_type": "code",
   "execution_count": 16,
   "id": "29dcfcd5",
   "metadata": {
    "hidden": true
   },
   "outputs": [
    {
     "data": {
      "application/vnd.jupyter.widget-view+json": {
       "model_id": "5c483a3ccd1548199d09458b558aa082",
       "version_major": 2,
       "version_minor": 0
      },
      "text/plain": [
       "MapView(layout=Layout(height='400px', width='100%'))"
      ]
     },
     "metadata": {},
     "output_type": "display_data"
    },
    {
     "data": {
      "text/html": [
       "<div class=\"map-static-img-preview-5f8ae080-55b8-4bff-8201-44d6ff89693b\"><img src=\"\"></img></div>"
      ],
      "text/plain": [
       "<IPython.core.display.HTML object>"
      ]
     },
     "metadata": {},
     "output_type": "display_data"
    },
    {
     "data": {
      "text/html": [
       "<div class=\"map-html-embed-preview-5f8ae080-55b8-4bff-8201-44d6ff89693b\"></div>"
      ],
      "text/plain": [
       "<IPython.core.display.HTML object>"
      ]
     },
     "metadata": {},
     "output_type": "display_data"
    }
   ],
   "source": [
    "map_view"
   ]
  },
  {
   "cell_type": "code",
   "execution_count": 17,
   "id": "749e4ff9",
   "metadata": {
    "hidden": true
   },
   "outputs": [],
   "source": [
    "map_view.legend = True"
   ]
  },
  {
   "cell_type": "code",
   "execution_count": null,
   "id": "52443b0e",
   "metadata": {
    "hidden": true
   },
   "outputs": [],
   "source": []
  }
 ],
 "metadata": {
  "kernelspec": {
   "display_name": "Python 3 (ipykernel)",
   "language": "python",
   "name": "python3"
  },
  "language_info": {
   "codemirror_mode": {
    "name": "ipython",
    "version": 3
   },
   "file_extension": ".py",
   "mimetype": "text/x-python",
   "name": "python",
   "nbconvert_exporter": "python",
   "pygments_lexer": "ipython3",
   "version": "3.9.18"
  }
 },
 "nbformat": 4,
 "nbformat_minor": 5
}
